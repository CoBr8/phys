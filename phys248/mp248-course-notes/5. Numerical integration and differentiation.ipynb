{
 "cells": [
  {
   "cell_type": "markdown",
   "metadata": {},
   "source": [
    "# 5 Numerical integration, differentiation, ODEs"
   ]
  },
  {
   "cell_type": "markdown",
   "metadata": {},
   "source": [
    "## Integrate using a library\n",
    "\n",
    "We have already performed a simple integration using the Monte Carlo Method and the [Riemann sum](https://en.wikipedia.org/wiki/Riemann_sum) in Lab.4a. Now, let's \n",
    "\n",
    "Find the integral \n",
    "$$\n",
    "F(x) = \\int_{x'=0}^{x'=x} x'^2 dx'\n",
    "$$\n",
    "The analytical solution $F(10)$ is obviously "
   ]
  },
  {
   "cell_type": "code",
   "execution_count": 14,
   "metadata": {},
   "outputs": [
    {
     "name": "stdout",
     "output_type": "stream",
     "text": [
      "333.3333333333333\n"
     ]
    }
   ],
   "source": [
    "F_10 = (1./3)*10**3 \n",
    "print(F_10)"
   ]
  },
  {
   "cell_type": "code",
   "execution_count": 15,
   "metadata": {},
   "outputs": [
    {
     "name": "stdout",
     "output_type": "stream",
     "text": [
      "Populating the interactive namespace from numpy and matplotlib\n"
     ]
    }
   ],
   "source": [
    "#%pylab inline\n",
    "\n",
    "#%pylab nbagg\n",
    "%pylab ipympl"
   ]
  },
  {
   "cell_type": "code",
   "execution_count": 16,
   "metadata": {},
   "outputs": [
    {
     "data": {
      "application/vnd.jupyter.widget-view+json": {
       "model_id": "",
       "version_major": 2,
       "version_minor": 0
      },
      "text/plain": [
       "FigureCanvasNbAgg()"
      ]
     },
     "metadata": {},
     "output_type": "display_data"
    },
    {
     "data": {
      "text/plain": [
       "<matplotlib.legend.Legend at 0x7fe04aa1fdd8>"
      ]
     },
     "execution_count": 16,
     "metadata": {},
     "output_type": "execute_result"
    }
   ],
   "source": [
    "ifig=1; close(ifig); figure(ifig)\n",
    "def func1(x):\n",
    "    return x**2\n",
    "x=linspace(0,10)\n",
    "y=func1(x)\n",
    "plot(x,y,'o-',label='$f(x) = x^2$')\n",
    "xlabel('x'),ylabel('y');legend()"
   ]
  },
  {
   "cell_type": "code",
   "execution_count": 17,
   "metadata": {},
   "outputs": [],
   "source": [
    "from scipy import integrate\n",
    "#integrate.cumtrapz?"
   ]
  },
  {
   "cell_type": "code",
   "execution_count": 19,
   "metadata": {},
   "outputs": [],
   "source": [
    "F=integrate.cumtrapz(y,x)\n",
    "#print (len(x),len(F))"
   ]
  },
  {
   "cell_type": "code",
   "execution_count": 21,
   "metadata": {},
   "outputs": [
    {
     "data": {
      "text/plain": [
       "array([4.24992988e-03, 2.54995793e-02, 8.07486676e-02, 1.86996915e-01,\n",
       "       3.61244039e-01, 6.20489762e-01, 9.81733801e-01, 1.46197588e+00,\n",
       "       2.07821571e+00, 2.84745302e+00, 3.78668752e+00, 4.91291894e+00,\n",
       "       6.24314699e+00, 7.79437139e+00, 9.58359187e+00, 1.16278081e+01,\n",
       "       1.39440199e+01, 1.65492269e+01, 1.94604289e+01, 2.26946255e+01,\n",
       "       2.62688166e+01, 3.02000017e+01, 3.45051807e+01, 3.92013532e+01,\n",
       "       4.43055190e+01, 4.98346777e+01, 5.58058292e+01, 6.22359731e+01,\n",
       "       6.91421092e+01, 7.65412371e+01, 8.44503566e+01, 9.28864674e+01,\n",
       "       1.01866569e+02, 1.11407662e+02, 1.21526745e+02, 1.32240818e+02,\n",
       "       1.43566881e+02, 1.55521934e+02, 1.68122976e+02, 1.81387007e+02,\n",
       "       1.95331027e+02, 2.09972035e+02, 2.25327032e+02, 2.41413017e+02,\n",
       "       2.58246989e+02, 2.75845949e+02, 2.94226895e+02, 3.13406829e+02,\n",
       "       3.33402749e+02])"
      ]
     },
     "execution_count": 21,
     "metadata": {},
     "output_type": "execute_result"
    }
   ],
   "source": [
    "F"
   ]
  },
  {
   "cell_type": "code",
   "execution_count": 20,
   "metadata": {},
   "outputs": [
    {
     "name": "stdout",
     "output_type": "stream",
     "text": [
      "The integral with the scipy.integrate.cumtrapz method is: 333.4\n"
     ]
    }
   ],
   "source": [
    "plot(x[1:],F, label=\"integrate.cumtrapz(f(x),x)\")\n",
    "legend()\n",
    "print(\"The integral with the scipy.integrate.cumtrapz method is: %5.1f\" % F[-1])"
   ]
  },
  {
   "cell_type": "markdown",
   "metadata": {},
   "source": [
    "## Numerical derivatives \n",
    "\n",
    "In this section we will learn how we can calculate a derivative numerically. The fundamental idea involves replacing differentials with differences. An important aspect is to think about the types of errors that emerge when doing that, especially we have to introduce the important concepts of rounding error and truncation errors.\n",
    "\n",
    "**Literature:** Numerical Recipies, Ch. 5.7"
   ]
  },
  {
   "cell_type": "markdown",
   "metadata": {},
   "source": [
    "## Difference equations\n",
    "Function\n",
    "$$ y = f(x) $$ for example $$y = x^2$$ for $x \\in [1,5]$."
   ]
  },
  {
   "cell_type": "code",
   "execution_count": 22,
   "metadata": {},
   "outputs": [],
   "source": [
    "x=linspace(5,25,25)"
   ]
  },
  {
   "cell_type": "code",
   "execution_count": 23,
   "metadata": {},
   "outputs": [
    {
     "data": {
      "application/vnd.jupyter.widget-view+json": {
       "model_id": "",
       "version_major": 2,
       "version_minor": 0
      },
      "text/plain": [
       "FigureCanvasNbAgg()"
      ]
     },
     "metadata": {},
     "output_type": "display_data"
    }
   ],
   "source": [
    "figure(1)\n",
    "xl =  4; xr = 22\n",
    "f = lambda x: x**2    # function\n",
    "x0 = 15               # take derivative at x0\n",
    "ff = lambda x: 2*x0*x + f(x0) -2*x0**2   # derivative\n",
    "close(1);figure(1)\n",
    "plot(x,f(x)); xlabel('x'), ylabel('y = f(x)'); ylim(0,500)\n",
    "if True:\n",
    "    plot(x0,f(x0),'o')\n",
    "    plot(x[4:22],ff(x[4:22]),'-.',lw=2)\n",
    "if True:\n",
    "    x1=x[6];x2=x[18]\n",
    "    plot([x1,x2],[ff(x1),ff(x1)],'k--x',lw=1)\n",
    "    plot([x2,x2],[ff(x1),ff(x2)],'k--x',lw=1)\n",
    "    text(0.5*(x2+x1),1.1*ff(x1),'$ \\Delta x$')\n",
    "    text(1.02*x2,0.5*(ff(x1)+ff(x2)),'$ \\Delta y$')\n",
    "    text(x1,0.5*ff(x1),'$x_1$')\n",
    "    text(x2,0.5*ff(x1),'$x_2$')\n",
    "    text(1.02*x2,ff(x1),'$y_1$')\n",
    "    text(1.02*x2,0.9*ff(x2),'$y_2 = ff(x_2)$')"
   ]
  },
  {
   "cell_type": "markdown",
   "metadata": {},
   "source": [
    "### Slope\n",
    "$$\n",
    "\\frac{dy}{dx}  \\approx \\frac{\\Delta y}{\\Delta x} = \n",
    "\\frac{y_2 - y_1}{x_2 - x_1}\n",
    "$$"
   ]
  },
  {
   "cell_type": "markdown",
   "metadata": {},
   "source": [
    "## Derivative \n",
    "The derivative $\\frac{df}{dx}$ of a function $y=f(x)$ can be approximated by the difference equation \n",
    "$$ f'(x) \\approx \\frac{f(x+h) -f(x)}{h}.$$\n",
    "\n",
    "Why? Rearrange the Taylor expansion of $f(x)$\n",
    "$$\n",
    "f(x+h) = f(x) + hf^\\prime(x) + \\frac{1}{2}h^2f^{\\prime\\prime}(x)\n",
    " + \\frac{1}{6}h^3f^{\\prime\\prime\\prime}(x) + \\dots\n",
    "$$\n",
    "to solve for $f^\\prime(x)$ and discard order two and higher terms\n",
    "$$\n",
    "\\frac{1}{2}h^2f^{\\prime\\prime}(x)\n",
    " + \\frac{1}{6}h^3f^{\\prime\\prime\\prime}(x) + \\dots\n",
    "$$"
   ]
  },
  {
   "cell_type": "code",
   "execution_count": 25,
   "metadata": {},
   "outputs": [],
   "source": [
    "def deriv1(f,x,h):\n",
    "    dfdx = (f(x+h) - f(x)) / h\n",
    "    return dfdx"
   ]
  },
  {
   "cell_type": "code",
   "execution_count": 40,
   "metadata": {},
   "outputs": [
    {
     "data": {
      "text/plain": [
       "0.10000000000000187"
      ]
     },
     "execution_count": 40,
     "metadata": {},
     "output_type": "execute_result"
    }
   ],
   "source": [
    "deriv1(f,1,1.e-1) -2."
   ]
  },
  {
   "cell_type": "markdown",
   "metadata": {},
   "source": [
    "Note that the answer is not exactly `2.00000000` as we know the answer to be from the analytical approach. But smaller values of `h` give a better answer? _Right?_ well, let's see .... let's analyse the error in a bit more detail. The higher order terms that we discarded represent the truncation error. They represent the difference between the solution of the difference equation and the exact mathematical equation, no matter how _precisely_ the difference equation is solved. The truncation error limits the _accuracy_ of the method. Note the difference between _precision_ and _accuracy_ introducecd here!\n",
    "\n",
    "We can improve the accuracy by taking smaller $h$ for calculating the derivative. Can't we make the answer then arbitrarily exact? Let's try ..."
   ]
  },
  {
   "cell_type": "markdown",
   "metadata": {},
   "source": [
    "## Errors\n",
    "There are two basic sources of error! They have to do with accuracy and with precision.\n",
    "\n",
    "**Accuracy:** How well does the discretized equation represent the original mathematical equation?\n",
    "This is the truncation error. \n",
    "\n",
    "**Precision:** How well is the solution satisfying the discretized equation? This is limited by the roundoff error.\n",
    "\n",
    "### Convergence test\n",
    "In order to determine the accuracy of our solution scheme we study the behaviour of a particular solution scheme under grid (time and/or space) refinement. In our case this means we do a series of runs with decreasing `h`.\n",
    "\n",
    "We use a convenient technique for _vectorizing_ a function which allows to evaluate an arbitrary function for a _parameter vector_. This way of doing it will not help performance. See an example below of how to do true multi-tasking."
   ]
  },
  {
   "cell_type": "code",
   "execution_count": 35,
   "metadata": {},
   "outputs": [],
   "source": [
    "# in order to vectorize wrap the function to isolate the \n",
    "# variable over which we should loop turn a scalar function \n",
    "# into a vectorized function\n",
    "def hdev(h):\n",
    "    return deriv1(f,1.,h)\n",
    "vhdev = vectorize(hdev)\n",
    "h_pow = range(0,-14,-1)"
   ]
  },
  {
   "cell_type": "code",
   "execution_count": 36,
   "metadata": {},
   "outputs": [
    {
     "data": {
      "text/plain": [
       "range(0, -14, -1)"
      ]
     },
     "execution_count": 36,
     "metadata": {},
     "output_type": "execute_result"
    }
   ],
   "source": [
    "h_pow"
   ]
  },
  {
   "cell_type": "code",
   "execution_count": 37,
   "metadata": {},
   "outputs": [],
   "source": [
    "h = 10**array(h_pow, dtype=float)"
   ]
  },
  {
   "cell_type": "code",
   "execution_count": 43,
   "metadata": {},
   "outputs": [
    {
     "data": {
      "text/plain": [
       "array(1.99999999)"
      ]
     },
     "execution_count": 43,
     "metadata": {},
     "output_type": "execute_result"
    }
   ],
   "source": [
    "vhdev(1.e-8)"
   ]
  },
  {
   "cell_type": "code",
   "execution_count": 42,
   "metadata": {},
   "outputs": [
    {
     "name": "stderr",
     "output_type": "stream",
     "text": [
      "/usr/local/lib/python3.6/dist-packages/ipykernel_launcher.py:1: RuntimeWarning: invalid value encountered in log10\n",
      "  \"\"\"Entry point for launching an IPython kernel.\n"
     ]
    },
    {
     "data": {
      "text/plain": [
       "nan"
      ]
     },
     "execution_count": 42,
     "metadata": {},
     "output_type": "execute_result"
    }
   ],
   "source": [
    "log10(vhdev(1.e-8)-2.0)"
   ]
  },
  {
   "cell_type": "code",
   "execution_count": 39,
   "metadata": {},
   "outputs": [
    {
     "data": {
      "application/vnd.jupyter.widget-view+json": {
       "model_id": "",
       "version_major": 2,
       "version_minor": 0
      },
      "text/plain": [
       "FigureCanvasNbAgg()"
      ]
     },
     "metadata": {},
     "output_type": "display_data"
    },
    {
     "name": "stderr",
     "output_type": "stream",
     "text": [
      "/usr/local/lib/python3.6/dist-packages/ipykernel_launcher.py:2: RuntimeWarning: invalid value encountered in log10\n",
      "  \n"
     ]
    },
    {
     "data": {
      "text/plain": [
       "((0, -14), Text(0, 0.5, 'log10 (df/dx - 2.0)'), Text(0.5, 0, 'log h'))"
      ]
     },
     "execution_count": 39,
     "metadata": {},
     "output_type": "execute_result"
    }
   ],
   "source": [
    "close(2);figure(2)\n",
    "plot(h_pow, log10(vhdev(h)-2.0),'o')\n",
    "xlim(0,-14), ylabel('log10 (df/dx - 2.0)'), xlabel('log h')"
   ]
  },
  {
   "cell_type": "markdown",
   "metadata": {},
   "source": [
    "#### Bottom line\n",
    "You can reduce the truncation error by taking a smaller interval `h`. However, as you try minimizing the truncation error you will see that there is a limit. At too small `h` the `deriv1` function will try to perform the difference `(f(x+h) - f(x))` with too few or no significant digits and the roundoff error will become larger, and eventually dominate the result. \n"
   ]
  },
  {
   "cell_type": "markdown",
   "metadata": {},
   "source": [
    "## Ordinary differential equations\n",
    "\n",
    "Differential equations are often hard to solve on paper but in many cases become trivial on a computer. \n",
    "\n",
    "### Euler step\n",
    "Take the simplest, first order ODE\n",
    "$$\n",
    "y^\\prime = f(y,x)\n",
    "$$\n",
    "where the right-hand side (RHS) is the function $f(y,x)$ that specifies the derivative $y^\\prime = \\frac{dy}{dx}$. We are looking for the function $y(x)$, but here not the algebraic expression but the numerical values. For a time dependent problem $x = t$. "
   ]
  },
  {
   "cell_type": "markdown",
   "metadata": {},
   "source": [
    "Take for example $f (y,x) = 2x$, then we know that $y(x) = x^2$. Therefore \n",
    "the differential equation is\n",
    "\n",
    "$$\\frac{dy}{dx} = 2x $$ \n",
    "\n",
    "Let's pretend we do not know the answer, but the initial conditions $y(0) = 0$. How can we numerically calculate $y(x)$ for a series of discrete values $x_i$?\n",
    "\n",
    "\n",
    "#### Discretization\n",
    "\n",
    "We need to turn the ODE into a difference equation:\n",
    "\n",
    "$$\\frac{y_\\mathrm{n+1} - y_\\mathrm{n}}{x_\\mathrm{n+1} - x_\\mathrm{n}} = f(y_\\mathrm{n},x_\\mathrm{n}) $$\n",
    "\n",
    "which we solve for $y_\\mathrm{n+1}$:\n",
    "\n",
    "$$y_\\mathrm{n+1} = y_\\mathrm{n} +  h f(y_\\mathrm{n},x_\\mathrm{n})$$ where $h= x_\\mathrm{n+1} - x_\\mathrm{n}$"
   ]
  },
  {
   "cell_type": "markdown",
   "metadata": {},
   "source": [
    "Specifically then for our case the first few steps look like this:\n",
    "\n",
    "$$\n",
    " \\frac{y_2 - y_1}{h} = f(y_1,x_1) \\\\\n",
    " y_2  = y_1 + h 2 x_1\n",
    "$$\n",
    "\n",
    "This is the **explicit** discretization, or the **Euler** step, the right-hand side is evaluated for the known values $(y_\\mathrm{n},x_\\mathrm{n})$."
   ]
  },
  {
   "cell_type": "markdown",
   "metadata": {},
   "source": [
    "Therefore, we evaluate $f(x,y)$ at a sequence of chosen points `x = [x[1],x[2],x[3],...,x[n]]` and start according to $ y(0) = 0 $   with `y[1] = 0` and then proceed to \n",
    "```python\n",
    "y[2]  = y[1] + h*2*x[1]\n",
    "y[3]  = y[2] + h*2*x[2]\n",
    "...\n",
    "y[n]  = y[n-1] + h*2*x[n-1]\n",
    "```\n",
    "\n",
    "Let's implement this:"
   ]
  },
  {
   "cell_type": "code",
   "execution_count": 1,
   "metadata": {},
   "outputs": [
    {
     "name": "stdout",
     "output_type": "stream",
     "text": [
      "Populating the interactive namespace from numpy and matplotlib\n"
     ]
    }
   ],
   "source": [
    "%pylab ipympl"
   ]
  },
  {
   "cell_type": "code",
   "execution_count": 4,
   "metadata": {},
   "outputs": [],
   "source": [
    "y=[]; y.append(0)\n",
    "x=[]; x.append(0)\n",
    "\n",
    "rhs_f = lambda x: 2*x\n",
    "x_thing = x[0]; y_thing = y[0]\n",
    "dx=0.1; x_end = 4.\n",
    "while x_thing <= x_end+dx:\n",
    "    y_thing = y_thing + dx * rhs_f(x_thing)\n",
    "    x_thing += dx\n",
    "    #print(x_thing,y_thing)\n",
    "    x.append(x_thing); y.append(y_thing)"
   ]
  },
  {
   "cell_type": "code",
   "execution_count": 5,
   "metadata": {},
   "outputs": [
    {
     "data": {
      "application/vnd.jupyter.widget-view+json": {
       "model_id": "e3e4e811787841ee8abba4453a449b6c",
       "version_major": 2,
       "version_minor": 0
      },
      "text/plain": [
       "FigureCanvasNbAgg()"
      ]
     },
     "metadata": {},
     "output_type": "display_data"
    },
    {
     "data": {
      "text/plain": [
       "(Text(0.5, 0, '$x$'), Text(0, 0.5, '$y(x)$'))"
      ]
     },
     "execution_count": 5,
     "metadata": {},
     "output_type": "execute_result"
    }
   ],
   "source": [
    "close(4);figure(4)\n",
    "plot(x,y,'o-',label='numeric')\n",
    "plot(x,array(x)**2,'--',label='analytic')\n",
    "legend();xlabel('$x$'),ylabel('$y(x)$')"
   ]
  },
  {
   "cell_type": "markdown",
   "metadata": {},
   "source": [
    "The numerical answer does not agree very well with the analytic answer. By now you are familiar with the question: How can the accuracy be improved?"
   ]
  }
 ],
 "metadata": {
  "kernelspec": {
   "display_name": "Python 3",
   "language": "python",
   "name": "python3"
  },
  "language_info": {
   "codemirror_mode": {
    "name": "ipython",
    "version": 3
   },
   "file_extension": ".py",
   "mimetype": "text/x-python",
   "name": "python",
   "nbconvert_exporter": "python",
   "pygments_lexer": "ipython3",
   "version": "3.6.7"
  }
 },
 "nbformat": 4,
 "nbformat_minor": 2
}
