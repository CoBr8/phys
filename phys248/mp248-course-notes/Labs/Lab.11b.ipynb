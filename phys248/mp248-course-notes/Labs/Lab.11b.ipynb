{
 "cells": [
  {
   "cell_type": "markdown",
   "metadata": {},
   "source": [
    "# Lab 11b\n",
    "In this lab activities guide you to practice basic skills that were previously covered but can use some refreshing. Some of these are particularly useful for Assignment 3.\n",
    "\n",
    "\n",
    "## Activity 1\n",
    "In notebook 3 you have seen numpy's `loadtxt` function. Pull up the docstring again and study the arguments. Note the difference between required and optional arguments (the ones with equal signs). Specifically pay attention to the `unpack` option and the `usecols` options.\n",
    "\n",
    "In the `data` directory you find a data file with surface properties a model star with a mass 20 times that of the sun, as a function of time. The header describes that the colums are. Open the file and have a look. Recall that you can turn any code cell into a bash cell with the command `%%bash` in the first line. One-line bash commands, such as `cat` or `head` will be understood even without that in a regular python code cell.\n",
    "\n",
    "Use the `loadtxt` function to read the data in the file.\n",
    "\n",
    "Make a plot of \n",
    "1. The log10 stellar luminosity as a function of the log10 effective temperature. It is customary in astronomy to have the temperature decrease on the abscissa so that cooler, redder objects would be on the right of the diagram. \n",
    "2. log10 R as a function of time (star_age).\n",
    "Save each of these plots to a png image using the `savefig('filename.png')` command."
   ]
  },
  {
   "cell_type": "code",
   "execution_count": null,
   "metadata": {},
   "outputs": [],
   "source": []
  },
  {
   "cell_type": "markdown",
   "metadata": {},
   "source": [
    "## Activity 2\n",
    "Accordung to fundamental physics the surface temperature and luminosity should be related to the radius of the star according to the [Stefan-Boltzmann law](https://en.wikipedia.org/wiki/Stefan%E2%80%93Boltzmann_law). Specifically for stars it can be cast as\n",
    "$$\n",
    "L = 4 \\pi R^2  \\sigma T_\\mathrm{eff}^4\n",
    "$$\n",
    "where $\\sigma$ is the Stefan-Boltzmann constant, and $R$, $L$ and $T_\\mathrm{eff}$ are the star's radius, luminosity and _effective_ temperature. \n",
    "\n",
    "Use the radius and temperature read from the file, and the astropy constant and units package to calculate $L$. Compare that Stefan-Boltzmann L to the L from the file. They should be the same! Are they?\n",
    "\n",
    "Hint: The units package has solar radius etc as units, e.g. `units.Rsun`. Also remember that the `astropy.constants` package provides just that!"
   ]
  },
  {
   "cell_type": "code",
   "execution_count": null,
   "metadata": {},
   "outputs": [],
   "source": []
  },
  {
   "cell_type": "markdown",
   "metadata": {},
   "source": [
    "The difference is ..."
   ]
  },
  {
   "cell_type": "markdown",
   "metadata": {},
   "source": [
    "## Activity 3\n",
    "During the hydrogen burning phase the model temperature and lumunosity are within the following ranges: \n",
    "\n",
    "* `logTeff` in the range `[4.365,4.551]` and \n",
    "* `logL` is in range `[4.620, 5.089]`.\n",
    "\n",
    "Find the list of indices that refer to data points with Teff and L within these bounds.\n",
    "\n",
    "How many points are in that list?\n",
    "\n",
    "Create new short arrays `slogTeff` and `slogL` which contain Teff and L in the range just determined, but only every 50th data point. Use array slicing to accomplish that.\n",
    "\n",
    "Use the numpy function `savetxt` to write `slogTeff` and `slogL`  as columns into the file 'short-data.dat'. Remember that if `a` is an array, then `a.T` is the transpose. This may be useful here. Also, add a meaningful header with column heads."
   ]
  }
 ],
 "metadata": {
  "kernelspec": {
   "display_name": "Python 3",
   "language": "python",
   "name": "python3"
  },
  "language_info": {
   "codemirror_mode": {
    "name": "ipython",
    "version": 3
   },
   "file_extension": ".py",
   "mimetype": "text/x-python",
   "name": "python",
   "nbconvert_exporter": "python",
   "pygments_lexer": "ipython3",
   "version": "3.6.7"
  }
 },
 "nbformat": 4,
 "nbformat_minor": 2
}
