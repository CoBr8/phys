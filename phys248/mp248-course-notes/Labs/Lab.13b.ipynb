{
 "cells": [
  {
   "cell_type": "markdown",
   "metadata": {},
   "source": [
    "## Lab 13.b -- Crime Stats\n",
    "\n",
    "As before, our code below loads the data, and purges the \"clearly wrong\" records. Your lab tasks appear towards the end of the notebook.\n"
   ]
  },
  {
   "cell_type": "code",
   "execution_count": null,
   "metadata": {},
   "outputs": [],
   "source": [
    "import json\n",
    "import os\n",
    "  \n",
    "## please load the data from the mp248-course-notes repository.\n",
    "## It is a large file.  i.e. : Please **DO NOT** store in your personal repo, i.e.\n",
    "## please do not copy this file, nor move this file.\n",
    "\n",
    "## the code below should execute in your notebook -- if not, modify the directory\n",
    "## accordingly.\n",
    "\n",
    "with open(\"../data/Victoria (BC) Police Department.geojson\") as f:\n",
    "    data = json.loads(f.read())\n",
    "    "
   ]
  },
  {
   "cell_type": "code",
   "execution_count": null,
   "metadata": {},
   "outputs": [],
   "source": [
    "import collections as co\n",
    "import pprint as pp\n",
    "\n",
    "ctree = dict()\n",
    "\n",
    "for R in data['features']:\n",
    "    TopI = R['properties']['parent_incident_type']\n",
    "    BotI = R['properties']['incident_type_primary']\n",
    "    if TopI not in ctree.keys():\n",
    "        ctree[TopI] = co.defaultdict(int)\n",
    "    ctree[TopI][BotI] += 1\n",
    "    \n",
    "pp.pprint(ctree)\n"
   ]
  },
  {
   "cell_type": "code",
   "execution_count": null,
   "metadata": {},
   "outputs": [],
   "source": [
    "import datetime as dt\n",
    "\n",
    "clean_dat = list()\n",
    "incompl_dat = list()\n",
    "\n",
    "for x in data['features']:\n",
    "    if 'properties' not in x.keys():\n",
    "        continue ## why bother?\n",
    "\n",
    "    ## we have the properties, so let's start building the record.\n",
    "    newRec = dict()\n",
    "    incFlag = False # set to true if we discover missing data in x\n",
    "    \n",
    "    floatkeys = ['latitude', 'longitude']\n",
    "    strkeys = ['parent_incident_type', 'incident_type_primary', 'address_1', 'address_2']\n",
    "    intkeys = ['case_number', 'incident_id']\n",
    "    datekeys = ['created_at', 'updated_at', 'incident_datetime']\n",
    "    \n",
    "    for k in floatkeys:\n",
    "        if k in x['properties'].keys() and isinstance(x['properties'][k], str) and\\\n",
    "        len(x['properties'][k])>0:\n",
    "            newRec[k] = float(x['properties'][k])\n",
    "        else:\n",
    "            incFlag=True\n",
    "\n",
    "    ## anything to check?\n",
    "    for k in strkeys:\n",
    "        newRec[k] = x['properties'][k]\n",
    "        \n",
    "    for k in intkeys:\n",
    "        ## let's count non-numerical characters\n",
    "        non_ch_chars = []\n",
    "        digits = '0123456789'\n",
    "        for ch in x['properties'][k]:\n",
    "            if ch not in digits:\n",
    "                non_ch_chars.append(ch)\n",
    "\n",
    "        for ch in non_ch_chars:\n",
    "            if ch != '-':\n",
    "                x['properties'][k] = x['properties'][k].replace(ch, '-')\n",
    "            \n",
    "        if '-' in x['properties'][k]:\n",
    "            newRec[k] = [int(w) for w in x['properties'][k].split('-')]\n",
    "        else:\n",
    "            newRec[k] = int(x['properties'][k])\n",
    "            \n",
    "    for k in datekeys:\n",
    "        ## typical format: '2014-12-06T21:59:00.000'\n",
    "        newRec[k] = dt.datetime.strptime(x['properties'][k], '%Y-%m-%dT%H:%M:%S.000')\n",
    "        \n",
    "    if incFlag:\n",
    "        incompl_dat.append(newRec)\n",
    "    else:\n",
    "        clean_dat.append(newRec)"
   ]
  },
  {
   "cell_type": "code",
   "execution_count": null,
   "metadata": {},
   "outputs": [],
   "source": [
    "## Let's use the results from the lab earlier this week to fix or purge the clearly bad data from\n",
    "## clean_dat...\n",
    "\n",
    "bad_idx = []\n",
    "\n",
    "for i in range(len(clean_dat)):\n",
    "    x = clean_dat[i]\n",
    "    if x['latitude']>48.655 or x['latitude']<48:\n",
    "        bad_idx.append(i)\n",
    "        continue\n",
    "    if x['longitude']<-124 or x['longitude']>-123:\n",
    "        bad_idx.append(i)\n",
    "        continue\n",
    "    if x['incident_datetime'] > x['created_at']:\n",
    "        bad_idx.append(i)\n",
    "        continue\n",
    "    if x['updated_at'] < x['created_at']:\n",
    "        bad_idx.append(i)\n",
    "print(\"Original number of records in clean_dat: \", len(clean_dat))\n",
    "print(\"Bad records discovered: \", len(bad_idx))\n",
    "\n",
    "clean_dat = [clean_dat[i] for i in range(len(clean_dat)) if i not in bad_idx]\n",
    "print(\"Purged clean_dat: \", len(clean_dat))"
   ]
  },
  {
   "cell_type": "markdown",
   "metadata": {},
   "source": [
    "**Problem 1:** Write a Python function that uses spherical polar coordinates to determine the distance between any two points on the earth's surface.  The function will take as input two points, given in spherical polar coordinates, i.e. *longitude* and *latitude*. Assume your points are on the earth's surface, and that the earth is a sphere of radius **6378**km. \n",
    "\n",
    "As a sanity check, find the GPS coordinates of two points on the earth for which you know the distance \"as the crow flies\".  Compute their distance using your function, and compare."
   ]
  },
  {
   "cell_type": "code",
   "execution_count": null,
   "metadata": {},
   "outputs": [],
   "source": [
    " "
   ]
  },
  {
   "cell_type": "markdown",
   "metadata": {},
   "source": [
    "**Problem 2:** Find the longitude and latitude of *The Bay Centre* in downtown Victoria. *Hint:* If you zoom in on something in Google maps, the longitude and latitude should appear in the address bar.  If this does not happen in your browser, try the *share* option. "
   ]
  },
  {
   "cell_type": "code",
   "execution_count": null,
   "metadata": {},
   "outputs": [],
   "source": []
  },
  {
   "cell_type": "markdown",
   "metadata": {},
   "source": [
    "**Problem 3:** If we use the GPS coordinates of the Bay Centre as a proxy for the *centre of downtown Victoria*, what relation is there between the quantity of Victoria PD crime records and their distance to the centre of downtown?   One way to answer this problem would be to build a histogram where the x-axis is the distance to downtown, and the y-axis is the crime count.  Perhaps choose your bin size so that all your bins have equal area. \n"
   ]
  },
  {
   "cell_type": "code",
   "execution_count": null,
   "metadata": {},
   "outputs": [],
   "source": []
  },
  {
   "cell_type": "markdown",
   "metadata": {},
   "source": [
    "**Problem 4:** Compute the latitude and longitude of the average position of all the crimes in **clean_dat**. Look up that location in Google Maps.  How would you describe it, is it a store, or perhaps its in the middle of a street?\n",
    "    "
   ]
  },
  {
   "cell_type": "code",
   "execution_count": null,
   "metadata": {},
   "outputs": [],
   "source": []
  },
  {
   "cell_type": "code",
   "execution_count": null,
   "metadata": {},
   "outputs": [],
   "source": []
  },
  {
   "cell_type": "code",
   "execution_count": null,
   "metadata": {},
   "outputs": [],
   "source": []
  },
  {
   "cell_type": "code",
   "execution_count": null,
   "metadata": {},
   "outputs": [],
   "source": []
  },
  {
   "cell_type": "code",
   "execution_count": null,
   "metadata": {},
   "outputs": [],
   "source": []
  },
  {
   "cell_type": "code",
   "execution_count": null,
   "metadata": {},
   "outputs": [],
   "source": []
  }
 ],
 "metadata": {
  "kernelspec": {
   "display_name": "Python 3",
   "language": "python",
   "name": "python3"
  },
  "language_info": {
   "codemirror_mode": {
    "name": "ipython",
    "version": 3
   },
   "file_extension": ".py",
   "mimetype": "text/x-python",
   "name": "python",
   "nbconvert_exporter": "python",
   "pygments_lexer": "ipython3",
   "version": "3.6.7"
  }
 },
 "nbformat": 4,
 "nbformat_minor": 2
}
