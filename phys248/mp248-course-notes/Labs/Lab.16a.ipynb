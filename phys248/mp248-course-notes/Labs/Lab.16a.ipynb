{
 "cells": [
  {
   "cell_type": "markdown",
   "metadata": {},
   "source": [
    "# Lab 16"
   ]
  },
  {
   "cell_type": "markdown",
   "metadata": {},
   "source": [
    "## Exercise 1\n",
    "1. Read in the pickle file \"datacorrelation.pickle\" written in course notebook 16. It contains an x and a y array. Plot the data points.\n",
    "2. Write a function that returns mean, variance and skew for a given distribution of values. Calculate these quantities for the point distribution in the y array. Verify your results by using the appropriate numpy or scipy functions.\n",
    "3. Write a function that provides the _Pearson's r_ coefficient for a correlated set of data pairs.\n",
    "4. Fit the data set with a polynomial second order using the scipy curve_fit method. "
   ]
  },
  {
   "cell_type": "markdown",
   "metadata": {},
   "source": [
    "## Exercise 2\n",
    "1. Add 1 to he y componenent of the pickle data and make a histogram the shifted data set, using 10 bins.\n",
    "2. Overplot the data points of the PDF values of the histogram.\n",
    "3. Using scipy's curvefit fit a normal distribution. In order to do that normalize the binned data first as demonstrated in course notebook 16.\n",
    "4. Make a plot of the PDF values and the normal distribution fit. "
   ]
  }
 ],
 "metadata": {
  "kernelspec": {
   "display_name": "Python 3",
   "language": "python",
   "name": "python3"
  },
  "language_info": {
   "codemirror_mode": {
    "name": "ipython",
    "version": 3
   },
   "file_extension": ".py",
   "mimetype": "text/x-python",
   "name": "python",
   "nbconvert_exporter": "python",
   "pygments_lexer": "ipython3",
   "version": "3.6.7"
  }
 },
 "nbformat": 4,
 "nbformat_minor": 2
}
