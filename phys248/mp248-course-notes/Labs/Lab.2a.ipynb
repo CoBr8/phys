{
 "cells": [
  {
   "cell_type": "markdown",
   "metadata": {},
   "source": [
    "#### A note before we start\n",
    "Do close notebooks you do not need anymore. Each active notebook takes up some memory which adds up for 100 stuedents. You need to not just close the window but **shutdown** the window from the _Running_ tab. \n",
    "\n",
    "### Acticity 0: Restart your application\n",
    "Occasionally we will modify the Docker image that your Jupyter instances are based on. These could include adding software packages or making modifications to the default configuration. In order to activate these changes you have to _restart your application_. This is done in the following way:\n",
    "\n",
    "1. If you are in JupyterHub select the option _Control Panel_ in the _Hub_ menu. If you are in the Jupyter Notebook environment klick on the _Control Panel_ button at the top right. \n",
    "2. Klick on the red _Stop My Server_ button and wait until you only see one ble _Start My Server_ button. Then klick on it. \n",
    "3. On the _Spawner Options_ choose in the Jupyter option you prefer and for the second menu use the default. Then klick the orange _Spawn_ button.\n",
    "\n",
    "Make sure this works, and ask the TAs if you have any problems with this operation.\n"
   ]
  },
  {
   "cell_type": "markdown",
   "metadata": {},
   "source": [
    "# Lab 2a\n",
    "This laboratory is all about getting started with git, setting up a git repository properly, and how to pull/push the repo(sitory) to the Juptyer instance. It is **very important** that you master these skills, as this is how you are going to submit homework assignments, get the latest course notes and so on. We will use git pull and push also in the quizzes and exams, where time constraints will also be present."
   ]
  },
  {
   "cell_type": "markdown",
   "metadata": {},
   "source": [
    "## Git\n",
    "\n",
    "### Activity 1a: Create a project on your GitLab account\n",
    "Create your own course repository on our GitLab servers. On most Git implementations, a collection of files that make up a project (typically a software developement project) is called a _repository_. On GitLab it is called a _project_. We will use the words _repository_ and _project_ synonymously.  \n",
    "\n",
    "If you do not have any projects yet, the screen after logging-in will have a big and unmistakable _Create a project_ button. Use that to \n",
    "\n",
    "1. Create your first project. **Call it `mp248` - this time it is really important to get the name right**.\n",
    "2. Keep the repository permissions set to **private** by ticking that box. This is so other users can't see your work without your permission.\n",
    "3. Tick the box _Initialize repository with a README_ and then hit the _Create Project_ button.\n",
    "\n",
    "You will likely see two orange warning banners on the top, one about ssh keys and one about DevOps. You can dismiss the second one (about DevOps). We will get to the first one later in this lab.\n",
    "\n",
    "### Activity 1b: Share your mp248 repo with the instructors\n",
    "Add the instructors as members of the repo so that they can get your assignments and can also push your graded work (with feedback) back to your repo. \n",
    "\n",
    "* Navigate to your _mp248_ project on the GitLab server. \n",
    "* On the left enter the Settings/Members  screen. This is the cogwheel symbol at the bottom of the left menu bar.\n",
    "* Use the _Select members to invite_ field and add _Ryan Budney_ and _Falk Herwig_. \n",
    "* Use the _Choose a role permission_ field to select the option _Maintainer_\n",
    "* Finish by clicking the green _Add to project_ button.\n",
    "\n",
    "\n",
    "**At this point you should also have completed the first _small task: GitLab user ID small task_ which is posted for this week on the coursespaces page.**"
   ]
  },
  {
   "cell_type": "markdown",
   "metadata": {},
   "source": [
    "### Activity 2a: Configure your Jupyter instance\n",
    "\n",
    "In order to be able to easily interact with the repositories (=projects) on GitLab we need to do some configuration. The git program on your command line needs to know who you are. \n",
    "\n",
    "1. Start a terminal or bash notebook in your Jupyter server. \n",
    "2. Create your `.gitconfig` by using the the following two commands, and replacing Jon Doe's name and email with your name and email address! \n",
    "    ```bash\n",
    "    git config --global user.name \"John Doe\"\n",
    "    git config --global user.email johndoe@example.com\n",
    "    ```\n",
    "3. This information will be stored in `~/.gitconfig` (Reminder: The symbol `~` appearing in a path is expanded to the value of `$HOME` which is the environment variable that holds the path of your home directory, the command `echo $HOME` will print the value of the `HOME` environment variable. Recall that you can always change to the home directory with `cd` without arguments.)   Check the content of the  `~/.gitconfig` using a command line pager (such as `less` or the `cat` command) or a command line editor.\n",
    "\n",
    "The git command-line program in your Jupyter instance will authenticate with the GitLab server using the `ssh` (secure shell) program. In order to not have to always type in your username and password, you can create a local ssh key pair and save the public key into your GitLab account on the GitLab server. We will do that next.\n",
    "\n",
    "### Activity 2b: Configure your GitLab account\n",
    "You will now create an ssh key pair in your Jupyter instance using the command line, and then save that in your GitLab account.\n",
    "\n",
    "1. Create an ssh key with the command:\n",
    "    * `ssh-keygen` \n",
    "    * Press enter three times for default settings\n",
    "2. Copy/paste your ssh key into GitLab server\n",
    "    * On the GitLab server navigate to the Settings option in the user drop-down menu (top right of screen, it might be a geometric shape). On the menu bar appaearing on the left, select the key symbol option _SSH Keys_. \n",
    "    * On the terminal of your Jupyter instance enter \n",
    "    ```bash\n",
    "    cat ~/.ssh/id_rsa.pub\n",
    "    ```\n",
    "    * the file `id_rsa.pub` contains the public key. Copy and paste into the Key field in your GitLab server on the _Settings/SSH Keys_ page you just navigated to. Give the key a _Title_ such as _Jupyter mp248 key_. Hit the green _Add key_ button.\n",
    "    \n",
    "Note: There are so-called per-project deploy keys. Don't use those!\n",
    "    \n",
    " "
   ]
  },
  {
   "cell_type": "markdown",
   "metadata": {},
   "source": [
    "   \n",
    "### Activity 2c: Clone your course repository\n",
    "    \n",
    "Use your new superpowers to clone your course repository into your Jupyter instance. Use the following commands in the Jupyter terminal:\n",
    "\n",
    "```bash\n",
    "cd\n",
    "git clone git@206-12-89-142.cloud.computecanada.ca:username/mp248.git\n",
    "```\n",
    "where you have to replace, of course, `username` with your own GitLab username. \n",
    "\n",
    "After you type your git clone command, the terminal will ask `Are you sure you want to continue connecting (yes/no)?`\n",
    "Type `yes` before you enter, otherwise the command will fail.\n",
    "\n",
    "### Activity 2d: Delete and pull course repository with ssh adress\n",
    "In order to be able to pull updates to the course repository `mp248-course-notes` as well without password and user name remove the course repository in your home directory and clone it again using the ssh clone address from the gitlab server. **If you have done the previous configuration steps correctly this should now work without entering user name and password!**"
   ]
  },
  {
   "cell_type": "markdown",
   "metadata": {},
   "source": [
    "### Exercise 1 \n",
    "_Add the Lab1a work to your repo:_ In `Lab1a` you have created some outputs in Exercise 1 and 2. Now add these to your course repository and push them to your GitLab account.\n",
    "\n",
    "* `cd ~/mp248` \n",
    "* Create in your repository a directory called `Lab1`.\n",
    "* Add to this directory the following files (use the terminal commands `cp` or `mv`):\n",
    "    - from Ex 1: `history.txt`\n",
    "    - from Ex 2: `modify_ex1.sh`, `ex1.txt`, `ex2.txt`, `modify_ex1.out`\n",
    "*. Add and commit the directory `Lab1` to your repository and push to GitLab (check that the files are indeed on GitLab).\n",
    "\n",
    "This exercise covers a key skill that we will test in the quiz on Monday. The key skill is to create content in your own course repo in the Jupyter instance, to add it to the course repository using the correct git commands, and to push your new content to our GitLab server. You should practice this a few times so that it works smoothly. If you don't want to mess up your course repo with lots of training commits (although there is no harm in doing so) you can also create a separate training repo."
   ]
  }
 ],
 "metadata": {
  "anaconda-cloud": {},
  "kernelspec": {
   "display_name": "Python 3",
   "language": "python",
   "name": "python3"
  },
  "language_info": {
   "codemirror_mode": {
    "name": "ipython",
    "version": 3
   },
   "file_extension": ".py",
   "mimetype": "text/x-python",
   "name": "python",
   "nbconvert_exporter": "python",
   "pygments_lexer": "ipython3",
   "version": "3.6.7"
  }
 },
 "nbformat": 4,
 "nbformat_minor": 2
}
