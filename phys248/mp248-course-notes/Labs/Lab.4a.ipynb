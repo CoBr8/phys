{
 "cells": [
  {
   "cell_type": "markdown",
   "metadata": {},
   "source": [
    "# Lab 4a \n",
    "\n",
    "#### Activity 1:\n",
    "* Create an array `y` that contains 20 random numbers in the range $[-5,5]$.\n",
    "* Create an float array `x` with 20 elements, equal in distance in the range $[0,10]$.\n",
    "* Create a plot of $y + \\sin{x}$ against $x$. "
   ]
  },
  {
   "cell_type": "markdown",
   "metadata": {},
   "source": [
    "#### Activity 2a:\n",
    "Plot\n",
    "$$ z(x,y) = x^4 \\sin y$$\n",
    "using a surface plot."
   ]
  },
  {
   "cell_type": "markdown",
   "metadata": {},
   "source": [
    "#### Activity 2b:\n",
    "Create a plot of the two-dimensional Gaussian function\n",
    "$$\n",
    "h(x,y) = \\exp{-(x^2 + y^2)}\n",
    "$$\n",
    "for $x \\in [-1,1.2]$ and $y \\in [-1,1.5]$. \n",
    "Do both a \n",
    "* 3D surface plot, and a\n",
    "* contour plot with labels."
   ]
  },
  {
   "cell_type": "markdown",
   "metadata": {},
   "source": [
    "#### Activity 3:\n",
    "The [Gaussian function](https://en.wikipedia.org/wiki/Gaussian_function) is given by \n",
    "$$\n",
    "f(x) = a e^{-\\frac{(x-b)^2}{2c^2}}\n",
    "$$\n",
    "\n",
    "Make a plot of the Gaussian function for $x \\in [-3,5]$ for the default values `a=c=1` and `b=0`. Then add lines for the default but changing in turn\n",
    "1. $a=0.5$\n",
    "2. $b=1$\n",
    "3. $c=0.5$\n",
    "\n",
    "Provide a legend for each line, and of course axis labels as well. Use a different line style for each line. Briefly describe the meaning of each parameter."
   ]
  },
  {
   "cell_type": "markdown",
   "metadata": {},
   "source": [
    "#### Activity 4:\n",
    "* Size of Sonoran desert: 260,000 square kilometers\n",
    "* Power of solar radiation per unit area on earth: 1,368 W/m2\n",
    "* In 2017, the average annual electricity consumption for a U.S. residential utility customer was 10,399 kilowatthours (kWh).\n",
    "* Estimated efficiency of solar thermal power plant: 20%\n",
    "\n",
    "Using a units package, such as astropy or sympy, find out what fraction of the Sonoran desert needs to be covered with solar thermal power plants to provide the energy consumption of 50 million residential utility customers?"
   ]
  },
  {
   "cell_type": "markdown",
   "metadata": {},
   "source": [
    "[Renewable Energy Will Be Consistently Cheaper Than Fossil Fuels By 2020, Report Claims](https://www.forbes.com/sites/dominicdudley/2018/01/13/renewable-energy-cost-effective-fossil-fuels-2020/#1b850e7b4ff2)"
   ]
  }
 ],
 "metadata": {
  "anaconda-cloud": {},
  "kernelspec": {
   "display_name": "Python 3",
   "language": "python",
   "name": "python3"
  },
  "language_info": {
   "codemirror_mode": {
    "name": "ipython",
    "version": 3
   },
   "file_extension": ".py",
   "mimetype": "text/x-python",
   "name": "python",
   "nbconvert_exporter": "python",
   "pygments_lexer": "ipython3",
   "version": "3.6.7"
  }
 },
 "nbformat": 4,
 "nbformat_minor": 2
}
