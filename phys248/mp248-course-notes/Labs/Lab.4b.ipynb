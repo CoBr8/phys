{
 "cells": [
  {
   "cell_type": "markdown",
   "metadata": {},
   "source": [
    "# Lab 4b"
   ]
  },
  {
   "cell_type": "markdown",
   "metadata": {},
   "source": [
    "## The Ludolphine project\n",
    "\n",
    "Write your first program. The goal is to determine the [Ludolphine](https://en.wikipedia.org/wiki/Ludolph_van_Ceulen) number $\\pi$. There are many ways it can be done. We want to implement two simple methods that are easy to do with a computer but hard and tedious without."
   ]
  },
  {
   "cell_type": "markdown",
   "metadata": {},
   "source": [
    "### Exercise 1: \n",
    "Numerically integrate the area of a circle by approximating it with vertical rectangles. The side length is $\\Delta x$, while $\\Delta y$ follows from the formula for the circumference."
   ]
  },
  {
   "cell_type": "markdown",
   "metadata": {},
   "source": [
    "* Calculate only a quarter.\n",
    "* Circumference is at $y = \\sqrt{r^2 - x^2}$, and $r=1$.\n",
    "* Make a plot that shows the quarter circle (right top quadrant) and rectangles approximating the area of the quarter circle. You can use the `bar` plot for that. \n",
    "\n",
    "The plot should look like this:\n",
    "![quarter image](../images/quarter.png)\n",
    "* Write the algorithm and generate results. You do not need a for loop for this program!!!\n",
    "* Test the program carefully. What can you do to convince yourself that your algorithm is working correctly?\n",
    "* Test convergence, i.e. does the answer converge to the correct solution with a finer grid?"
   ]
  },
  {
   "cell_type": "code",
   "execution_count": 4,
   "metadata": {},
   "outputs": [
    {
     "name": "stdout",
     "output_type": "stream",
     "text": [
      "Populating the interactive namespace from numpy and matplotlib\n"
     ]
    }
   ],
   "source": [
    "%pylab inline"
   ]
  },
  {
   "cell_type": "code",
   "execution_count": null,
   "metadata": {},
   "outputs": [],
   "source": []
  },
  {
   "cell_type": "markdown",
   "metadata": {},
   "source": [
    "* divide interval [0,1] into n sections\n",
    "* calculate y(x) at each left boundary\n",
    "* calculate rectangle\n",
    "* add all rectangles\n",
    "\n",
    "#### Algorithm"
   ]
  },
  {
   "cell_type": "code",
   "execution_count": null,
   "metadata": {},
   "outputs": [],
   "source": []
  },
  {
   "cell_type": "markdown",
   "metadata": {},
   "source": [
    "#### Convergence"
   ]
  },
  {
   "cell_type": "code",
   "execution_count": null,
   "metadata": {},
   "outputs": [],
   "source": []
  },
  {
   "cell_type": "markdown",
   "metadata": {},
   "source": [
    "\n",
    "### Exercise 2: \n",
    "Now, use the Monte Carlo method to caculate $\\pi$. How can that be done? \n",
    "\n",
    "#### Sketch\n",
    "* Generate random points in a square.\n",
    "* Decide if point is in circle with the same diameter as the side of the square.\n",
    "* The ratio of the area of the circle to the area of the square is proportional to the ratio of the points in the circle to the points in the square."
   ]
  },
  {
   "cell_type": "code",
   "execution_count": null,
   "metadata": {
    "collapsed": true
   },
   "outputs": [],
   "source": []
  },
  {
   "cell_type": "code",
   "execution_count": null,
   "metadata": {},
   "outputs": [],
   "source": []
  }
 ],
 "metadata": {
  "kernelspec": {
   "display_name": "Python 3",
   "language": "python",
   "name": "python3"
  },
  "language_info": {
   "codemirror_mode": {
    "name": "ipython",
    "version": 3
   },
   "file_extension": ".py",
   "mimetype": "text/x-python",
   "name": "python",
   "nbconvert_exporter": "python",
   "pygments_lexer": "ipython3",
   "version": "3.6.7"
  }
 },
 "nbformat": 4,
 "nbformat_minor": 2
}
