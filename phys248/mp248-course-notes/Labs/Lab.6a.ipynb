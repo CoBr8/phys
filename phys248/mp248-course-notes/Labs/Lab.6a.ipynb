{
 "cells": [
  {
   "cell_type": "markdown",
   "metadata": {},
   "source": [
    "## Lab 6a\n",
    "\n",
    "### Exercise 1: \n",
    "\n",
    "As a variant of this morning's lecture, write a function that takes as input a directory.  The function will search through that directory and its full subdirectory tree, building a count of the files by their extensions.  As in the lecture, use a dictionary to keep track of the counts. The return-value of this function will be a dictionary of (key,value) pairs where the key will be the file extension and the value will be the number of files with that extension.\n",
    "\n",
    "For example, for the file \"script.py\", the extension is \".py\".  The return value of your function will be a dictionary of the form **{ \".py\" : 50, \".exe\" : 15, etc }** provided there are 50 python scripts and 15 exe files in the subdirectory tree. If a file has no extension (eg: the file named \"README\") store the extension as \"<NONE>\".  We consider the extension to be the information after the rightmost period in the file name.\n",
    "\n",
    "Apply your script to the directory \"/\".  It might fail due to a variety of issues.  How can you fix your script to ensure it does not fail?  \n",
    "\n",
    " a) What is the most common file extension on the computer you are working on? \n",
    "\n",
    " b) What is the most common file extension in your GitLab repository? \n",
    "\n",
    "Build a stand-alone python script from your procedure that can be executed with a command \"python typescript.py dirname\". "
   ]
  },
  {
   "cell_type": "code",
   "execution_count": null,
   "metadata": {},
   "outputs": [],
   "source": []
  },
  {
   "cell_type": "markdown",
   "metadata": {},
   "source": [
    "### Exercise 2:\n",
    "\n",
    "Build another such Python function. This time, count files by their **owner**. i.e. this function will take as input a directory, and return a dictionary of pairs (\"owner name\" : number of files owned by this owner). \n",
    "\n",
    "There is a two-step process to access user IDs, and there are two relevant libraries:\n",
    "\n",
    " 1) From a file you can access the **user ID number** or via [**os.stat**](https://docs.python.org/3/library/os.html).  \n",
    " \n",
    " 2) The [**pwd**](https://docs.python.org/3.7/library/pwd.html) library has the function **getpwuid** which gives access to the user ID as a string, from the user ID number. \n",
    "\n",
    "Once you have setup this function, you should be able to answer the two questions:\n",
    "\n",
    " a) Who is the most common file owner on the system you are working on?\n",
    "\n",
    " b) Who is the most common file owner on your GitLab account?\n",
    " "
   ]
  },
  {
   "cell_type": "code",
   "execution_count": 15,
   "metadata": {},
   "outputs": [],
   "source": []
  },
  {
   "cell_type": "markdown",
   "metadata": {},
   "source": [
    "### Exercise 3: \n",
    "\n",
    "Build another such Python function, but count files by the **group** they belong to.  \n",
    "\n",
    " 1) From a file you can acces the **group ID number** via **os.stat**, much the same as in Exercise (2).\n",
    " \n",
    " 2) From the group ID number you can recover the group name (a string) via the [**grp**](https://docs.python.org/3.7/library/grp.html) library **getgrgid** call. \n",
    " \n",
    " a) Among all the files on the server you are working on, which is the most common group membership?\n",
    " \n",
    " b) In your personal GitLab repo, what is the most common group?\n",
    " "
   ]
  },
  {
   "cell_type": "code",
   "execution_count": null,
   "metadata": {},
   "outputs": [],
   "source": []
  }
 ],
 "metadata": {
  "kernelspec": {
   "display_name": "Python 3",
   "language": "python",
   "name": "python3"
  },
  "language_info": {
   "codemirror_mode": {
    "name": "ipython",
    "version": 3
   },
   "file_extension": ".py",
   "mimetype": "text/x-python",
   "name": "python",
   "nbconvert_exporter": "python",
   "pygments_lexer": "ipython3",
   "version": "3.6.7"
  }
 },
 "nbformat": 4,
 "nbformat_minor": 2
}
