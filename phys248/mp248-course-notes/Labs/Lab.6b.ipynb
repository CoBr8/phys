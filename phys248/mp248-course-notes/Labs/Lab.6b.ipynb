{
 "cells": [
  {
   "cell_type": "markdown",
   "metadata": {},
   "source": [
    "## Lab 6b\n",
    "\n",
    "**Start with review of quiz 2**\n",
    "\n",
    "Exercise 4: **Write a stand-alone python script, based on Lab.6a Ex. 1**\n",
    "\n",
    "Make a stand-alone script like in the end of **6. Files and OS.ipynb**.  The script will be executed with the command **python3 lab6b.py [dirname]** where **[dirname]** is the name of the directory you wish the script to explore (the subdirectory tree of).  Thus the name of your script should be **lab6b.py**.\n",
    "\n",
    "The script will output the 20 most common file extensions it finds in the subdirectory tree.  Output the extension name in green, and the number of files with that extension in red.\n"
   ]
  },
  {
   "cell_type": "code",
   "execution_count": 10,
   "metadata": {},
   "outputs": [],
   "source": []
  },
  {
   "cell_type": "code",
   "execution_count": null,
   "metadata": {},
   "outputs": [],
   "source": []
  },
  {
   "cell_type": "code",
   "execution_count": null,
   "metadata": {},
   "outputs": [],
   "source": []
  }
 ],
 "metadata": {
  "kernelspec": {
   "display_name": "Python 3",
   "language": "python",
   "name": "python3"
  },
  "language_info": {
   "codemirror_mode": {
    "name": "ipython",
    "version": 3
   },
   "file_extension": ".py",
   "mimetype": "text/x-python",
   "name": "python",
   "nbconvert_exporter": "python",
   "pygments_lexer": "ipython3",
   "version": "3.6.7"
  }
 },
 "nbformat": 4,
 "nbformat_minor": 2
}
