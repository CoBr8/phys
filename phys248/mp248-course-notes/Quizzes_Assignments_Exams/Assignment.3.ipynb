{
 "cells": [
  {
   "cell_type": "markdown",
   "metadata": {},
   "source": [
    "# Assignment 3\n",
    "\n",
    "Due March 20th at **10am**.  Pre-grading will be posted on CourseSpaces once the script is running.  Please save your assignment notebook in your `mp248` repo as `mp248/Assignment.3/Assignment.3.ipynb`. Please keep all output and data files in that  `mp248/Assignment.3` notebook. Add all files that you are asked to generate to your git commit, except the nuclear data files.\n",
    "\n",
    "For each plot that you are asked to make create a `.png` image and add it to your commit. Put the problem number and sub-number in the file name, such as `P1.4.png`.\n",
    "\n",
    "Problem 1 leans heavily on material done in Course Notebook 11 and Lab 11.a and 11.b. In the week March 11 -15 we will provide all the usual help in the labs regarding questions concerning Lab 11.a and 11.b and  Course Notebook 11. However, in the lab March 18th we will not be answering any questions concerning those labs or the assignment to treat students in the Monday and Wednesday lab the same. \n",
    "\n",
    "As a tip, it is strongly recommended to completely finish the labs 11.a and 11.b, as this will be of great help. "
   ]
  },
  {
   "cell_type": "code",
   "execution_count": null,
   "metadata": {},
   "outputs": [],
   "source": [
    "pwd\n"
   ]
  },
  {
   "cell_type": "markdown",
   "metadata": {},
   "source": [
    "## 1 Temperature-dependent network solution\n",
    "\n",
    "The goal of this problem is to extend the network solution from Course Notebook 11 to allow the network integration to follow a time-dependent temperature evolution (trajectory). Different T mean different rates in the RHS. \n",
    "\n",
    "#### 1.1 Network with constant rates\n",
    "- Collect the **essential** code components that are required to solve the nuclear network as described in Course Notbook 11, using the `integrate.odeint`, using the rates for $T9=0.09$ and initial abundances as in the course notebook. \n",
    "- Make a plot of the evolution of the mass fractions (`Y*A`) as a function of time in the time interval `[0,1.e6]`s. Make sure all lines have different linestyle and color, as well as a legend. \n",
    "- Open a  new file called `results.txt` using `open` (check the docstring for the right `mode` option) and write the mass fraction of $^{15}N$ (`n15`) at $t=10,000s$  and $10^6$ in the first two lines of the file, at the end of a formatted statement which each say: `The N15 abundance at t=xxx is: ...` (replace the three dots `...` with the mass fraction value and `xxx` with time in s). "
   ]
  },
  {
   "cell_type": "markdown",
   "metadata": {},
   "source": [
    "#### 1.2 Trajectory file\n",
    "- Read file `T-evol.dat` using numpy's `loadtxt` method and combine all data read from the file into one dictionary `traj_data`, so that you can access it like this: `traj_data['T9']` and likewise for key `'time'`. \n",
    "- Plot temperature as a function of time. Use log scale when appropriate. \n",
    "- Using python commands (don't copy and paste!) open again the file `results.txt` (assuming you have closed it previously) and add as the third line the first values of time and temperature contained in the file `T-evol.dat` using the dictionary `traj_data`. Again, check the docstring of the `write` method what `mode=` option is needed to append, and recall that the sting `'\\n'` is interpreted as a newline. "
   ]
  },
  {
   "cell_type": "markdown",
   "metadata": {},
   "source": [
    "#### 1.3 Trajectory interpolation\n",
    "For the integration we need the temperature at any time the solver decides to request it. \n",
    "- Use scipy's `interpolate.interp1d` to set up an interpolation function called `T9int`  for `T9` that returns for any time within the limits of the trajectory the  temperature, using the linear interpolation option. Make sure your interpolation function has the extrapolation option turned on.\n",
    "- Add the output of that function for `t=1.5e+4` and `t=2.9e+7` to the file `results.txt`. \n",
    "    "
   ]
  },
  {
   "cell_type": "markdown",
   "metadata": {},
   "source": [
    "#### 1.4 Nuclear data `get_rates` function\n",
    "- Collect the essential code from Lab 11.a that reads the T-dependent reaction rate data and provides the function `get_rates()` to provide for a given input temperature the `rate` list required in the solution above. \n",
    "- Write the output of `str(get_rates(traj_data['T9'][0]))` as another line to the `results.txt` file. "
   ]
  },
  {
   "cell_type": "markdown",
   "metadata": {},
   "source": [
    "#### 1.5 Time-dependent temperature network solution\n",
    "Now integrate the network for the temperature evolution of the trajectory. Using the function `T9int(time)` and we can get the list `rate` for any temperature. Therefore we can get the rates as a function of time when calculating the RHS. Therefore we will actually use the previously ignored time arguments `t` in `f_rhs(y,t)`. \n",
    "- Identify the code cell from part 1 of this problem that needs to be changed to allow a solution for variable `T9` and therefore variable `rate`. Copy that cell below, and make the required changes. \n",
    "- Use again `odeint` to solve the network ODE for time-dependent rates, making the necessary change to the function call.\n",
    "- Plot all abundances in terms of mass fractions for the time-dependent rates solution.\n",
    "- Add the final abundance of all species in one row as the last line to the `results.txt`.\n",
    "- Bonus question: You may find that some abundances are showing erratic behaviour that you may suspect to be the result of lack of accuracy during that particular time of the integration. Study the docstring of the `odeint` method and identify a remedy for this problem, implement it and show the resulting improvement. "
   ]
  },
  {
   "cell_type": "markdown",
   "metadata": {},
   "source": [
    "## 2 Higher-order derivative"
   ]
  },
  {
   "cell_type": "markdown",
   "metadata": {},
   "source": [
    "In course notebook 5 we introduced a first-order accurate numerical derivative. Review that course notebook material.\n",
    "It is very easy to increase the order of the difference equation to second order, and thereby improve the accuracy. The idea is to take into account one more term of the Taylor expansion, then solve again for $f^\\prime(x)$ as shown below:\n",
    "\n",
    "$$\n",
    "f(x+h) = f(x) + hf^\\prime(x) + \\frac{1}{2}h^2f^{\\prime\\prime}(x)\n",
    "$$\n",
    " and solve for $f^\\prime(x)$ \n",
    "$$\n",
    "f^\\prime(x)  = \\frac{f(x+h) - f(x)}{h}  - \\frac{1}{2}hf^{\\prime\\prime}(x) \n",
    "$$\n",
    "\n",
    "with the second order derivative being approximated to first order by\n",
    "$$\n",
    "f^{\\prime\\prime}(x) \\approx \\frac{f'(x+h) -f'(x)}{h}\n",
    "$$\n",
    "\n",
    "* Implement a function `deriv2` which takes the same arguments as `deriv1` introduced in notebook 5, but implements the first derivative in second-order accurate discretization described above. Test it for the third-order polynomial $f(x) = x^3$ for $x=1$.\n",
    "* Create a convergence test plot as in Figure 2 in notebook 5 that shows the dependence of the residual `log10 (df/dx - 3.0)` as a function of `log10(h)` where `h = 10**npow` and `npow=[0, -1, ..., -10]` for both the first-order and second-order accurate functions `derv1` and `deriv2`.\n",
    "\n",
    "Finally, add to the `results.txt` file the line \n",
    "\n",
    "`Residual first- and second-order for npow=-2: ...` \n",
    "\n",
    "replacing the dots `...` with the two numbers at that value of h for both derivatives."
   ]
  }
 ],
 "metadata": {
  "kernelspec": {
   "display_name": "Python 3",
   "language": "python",
   "name": "python3"
  },
  "language_info": {
   "codemirror_mode": {
    "name": "ipython",
    "version": 3
   },
   "file_extension": ".py",
   "mimetype": "text/x-python",
   "name": "python",
   "nbconvert_exporter": "python",
   "pygments_lexer": "ipython3",
   "version": "3.6.7"
  }
 },
 "nbformat": 4,
 "nbformat_minor": 2
}
