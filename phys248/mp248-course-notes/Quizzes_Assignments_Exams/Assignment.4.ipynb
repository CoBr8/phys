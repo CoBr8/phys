{
 "cells": [
  {
   "cell_type": "markdown",
   "metadata": {},
   "source": [
    "## Homework Assignment 4 -- Due April 1st at 10am.\n",
    "\n",
    "This assignment primarily concerns the material in notebooks **8, 12, 13** and the associated labs.\n",
    "\n",
    "Save your completed homework file in your repository, as **mp248/Assignment.4/Assignment.4.ipynb**.\n",
    "\n",
    "Ensure you do **not** copy any of the weather data (.csv files) or crime data (the big .jeojson file) into your personal repo.  If such files are discovered in your repo you will lose one point on this assignment.\n",
    "\n",
    "The pre-grading script will start grading by Saturday March 23rd, uploading feedback to **Task 8**. See the relevant CourseSpaces thread for details on what the pre-grading script is looking for.\n",
    "\n",
    "In your labs **March 25th--29th** we will ask you to move all the code you need from notebooks **8, 12, 13** and the relevant labs into a library that you will import into this notebook, i.e. we ask you to minimize (in this notebook) the amount of recycled code from class and previous labs, to make your work easier to grade.\n",
    "\n",
    "* * *"
   ]
  },
  {
   "cell_type": "markdown",
   "metadata": {},
   "source": [
    "## P1: Weather data\n",
    "\n",
    "Load the common weather data for the four cities as we did in **Lecture Notebook 12**.  \n",
    "\n",
    "a) For each city, and each month, compute the average of: daily max, min and mean temperatures for that month.  In more concrete detail: for Edmonton January max temperatures, you would take the average of all the maximum temperatures for every day in January, for all years in which we have data, for the city of Edmonton.  You would do the same for every month, and all three temperature readings (daily max, min, mean).  Output your answer as four $12 \\times 3$ numpy matrices. \n",
    "\n",
    "b) For every city, and every weather reading (daily max, min, mean), find the weather record where that daily temperature recording differs from the monthly average by the largest amount. i.e. your answer to part (b) will consist of **12** weather records. Please format your answer so that you have your **12=4*3** answers on one line each. For example, one line would be:\n",
    "\n",
    "    Edmonton, Mean Temp (°C), avg: AVG, Temp: TMP, Dev: DEV, Date: YYYY-MM-DD\n",
    "    \n",
    "This would be the answer for Edmonton's Mean temperature readings.  YYYY-MM-DD would be the date of the maximum deviation from the average of all temperatures in the month MM.  TMP is the temperature reading on that day (in this case, the daily mean temp).  AVG is the average of the temperature readings for month MM.  DEV is the difference between TMP and AVG, i.e. DEV = TMP-AVG. "
   ]
  },
  {
   "cell_type": "code",
   "execution_count": null,
   "metadata": {},
   "outputs": [],
   "source": []
  },
  {
   "cell_type": "code",
   "execution_count": null,
   "metadata": {},
   "outputs": [],
   "source": []
  },
  {
   "cell_type": "code",
   "execution_count": null,
   "metadata": {},
   "outputs": [],
   "source": []
  },
  {
   "cell_type": "markdown",
   "metadata": {},
   "source": [
    "## P2: Crime data\n",
    "\n",
    "Which crimes (use **parent_incident_type**) are more common in proximitiy to The Bay Centre, and which are more common far from the Bay Centre?  Start your analysis with a histogram using the distance function as in **Lab 13.b** problem 3. I suggest starting your analysis using bin endpoints that are integer multiples of $500m$.\n",
    "\n",
    "Please put any further analysis (by crime) in a text field in your plot.  After your histograms, list the **parent_incident_types** by their from *most commonly* to *least commonly* happening in the vicinity of the Bay Centre."
   ]
  },
  {
   "cell_type": "code",
   "execution_count": null,
   "metadata": {},
   "outputs": [],
   "source": []
  },
  {
   "cell_type": "code",
   "execution_count": null,
   "metadata": {},
   "outputs": [],
   "source": []
  },
  {
   "cell_type": "code",
   "execution_count": null,
   "metadata": {},
   "outputs": [],
   "source": []
  },
  {
   "cell_type": "code",
   "execution_count": null,
   "metadata": {},
   "outputs": [],
   "source": []
  },
  {
   "cell_type": "code",
   "execution_count": null,
   "metadata": {},
   "outputs": [],
   "source": []
  },
  {
   "cell_type": "markdown",
   "metadata": {},
   "source": [
    "## P3: Crime and Weather data\n",
    "\n",
    "This problem asks you to compare the Victoria PD Traffic Collision data, on *typical* days vs. on days when it *snows*, also accidents near *hills*.\n",
    "\n",
    "(a) For how many days do we have both crime data (from **Notebook 13**) and weather data (see **Notebook 8**) for Victoria? **Comment:** Regarding Notebook 8, please use the dates from the **coml** variable. For how many of our crime records do we have weather data?\n",
    "\n",
    "(b) Compute the average number of **COLLISION** records (under **Traffic** -- see the **ctree** variable from Notebook 13) per day (on all days) vs. the average number on days where it snowed.\n",
    "\n",
    "(c) Repeat (b) but where you restrict yourself to car crashes near major hills in town.  Let's say the major hills are (1) near Trafalgar Park, (2) the corner of Burdett and Blanshard, and (3) one hill of your choice.  Find the GPS coordinates of these locations using Google Maps, and restrict yourself to accidents within a **200m** radius of those coordinates.\n"
   ]
  },
  {
   "cell_type": "code",
   "execution_count": null,
   "metadata": {},
   "outputs": [],
   "source": []
  },
  {
   "cell_type": "code",
   "execution_count": null,
   "metadata": {},
   "outputs": [],
   "source": []
  },
  {
   "cell_type": "code",
   "execution_count": null,
   "metadata": {},
   "outputs": [],
   "source": []
  },
  {
   "cell_type": "code",
   "execution_count": null,
   "metadata": {},
   "outputs": [],
   "source": []
  },
  {
   "cell_type": "code",
   "execution_count": null,
   "metadata": {},
   "outputs": [],
   "source": []
  },
  {
   "cell_type": "code",
   "execution_count": null,
   "metadata": {},
   "outputs": [],
   "source": []
  },
  {
   "cell_type": "markdown",
   "metadata": {},
   "source": [
    "## P4: Quiz.3 revisited\n",
    "\n",
    "Let's revisit **Quiz 3**.  Write a Python function\n",
    "\n",
    "**collisionPlot(va,vb,ma,mb)**\n",
    "\n",
    "that not only counts all the collisions between the billiards and the wall, but it also plots them.  i.e. the output of **collisionPlot** will be a matplotlib figure similar to\n",
    "\n",
    "<img src=\"F.Q1.Context.png\">\n",
    "\n",
    "i.e. it will show the paths of the billiards.  Thus to solve this problem you will need to compute both the collision times and their locations; not just the velocity sequence.\n",
    "\n",
    "Include the plots for **va=0, vb=-1, ma=1, mb=10, 100**.  Set your figsize to **(8,8)** so that the plots are reasonably-large.\n"
   ]
  },
  {
   "cell_type": "code",
   "execution_count": null,
   "metadata": {},
   "outputs": [],
   "source": []
  },
  {
   "cell_type": "code",
   "execution_count": null,
   "metadata": {},
   "outputs": [],
   "source": []
  },
  {
   "cell_type": "code",
   "execution_count": null,
   "metadata": {},
   "outputs": [],
   "source": []
  },
  {
   "cell_type": "code",
   "execution_count": null,
   "metadata": {},
   "outputs": [],
   "source": []
  },
  {
   "cell_type": "code",
   "execution_count": null,
   "metadata": {},
   "outputs": [],
   "source": []
  }
 ],
 "metadata": {
  "kernelspec": {
   "display_name": "Python 3",
   "language": "python",
   "name": "python3"
  },
  "language_info": {
   "codemirror_mode": {
    "name": "ipython",
    "version": 3
   },
   "file_extension": ".py",
   "mimetype": "text/x-python",
   "name": "python",
   "nbconvert_exporter": "python",
   "pygments_lexer": "ipython3",
   "version": "3.6.7"
  }
 },
 "nbformat": 4,
 "nbformat_minor": 2
}
