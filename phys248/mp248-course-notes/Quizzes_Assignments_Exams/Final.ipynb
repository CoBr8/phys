{
 "cells": [
  {
   "cell_type": "markdown",
   "metadata": {},
   "source": [
    "## Final exam PHYS 248 [CRN 22465] / MATH 248 [CRN 22053]\n",
    "\n",
    "* April 12th, 2019\n",
    "* 7pm-10pm\n",
    "\n",
    "* * *"
   ]
  },
  {
   "cell_type": "markdown",
   "metadata": {},
   "source": [
    "Create in your **GitLab** repository a directory `mp248/Exams/Final` and copy this notebook into that directory. Answer all questions in your copy of `Final.ipynb` located in your `mp248/Exams/Final` directory. Add any additional files your asked to create to the  `mp248/Exams/Final` directory.\n",
    "\n",
    "Ensure you push your partial work to your repository *early* and *often*. Check your commit push on the mp248 Git server.\n",
    "\n",
    "**Notes**: \n",
    "* Invigilators will only offer help with **Git** issues until 20 minutes before the end of the exam.  Students that receive help on Git issues will be deducted **10%** from their exam grade.\n",
    "* Electronic devices are not permitted. To have an electronic device of any kind (other than your laptop) in the exam setting, including a smartwatch or other wearable device, violates the [Policy on Academic Integrity](https://web.uvic.ca/calendar2019-01/undergrad/info/regulations/academic-integrity.html#) and will be reported. Students found communicating with one another in any way or having unauthorized books, papers, notes or electronic devices in their possession during a test or examination will be considered to be in violation of this policy. Similarly, having any active messenger apps is a violation of this policy.\n",
    "\n",
    "* Specifically for this final exam:\n",
    "    - You are required to use your own laptop, and access the course repository and your own repository via the abacus jupyter server.\n",
    "    - You are allowed to access any Python related resources on the internet, such as Stack Overflow or the SciPy and Numpy web pages.\n",
    "    - You are prohibited to have any communications during the exam with anybody through any means, except invigilators.\n",
    "    - You must not make any commits to your repository after the end of the exams.\n",
    "    \n",
    "* Students must sign the sign-up sheet before leaving the exam. Students must sign out and in when using the bathroom. \n",
    "\n",
    "***"
   ]
  },
  {
   "cell_type": "markdown",
   "metadata": {},
   "source": [
    "## Problem 1:\n",
    "\n",
    "### 1.a [15%]\n",
    "A mass is attached to a spring and can move in the vertical direction according to the upward directed restoring spring force and the downward directed force of gravity. The velocity and vertical position are described by the following differential equations. \n",
    "$$ \\frac{dy}{dt} = v_\\mathrm{y} \\\\\n",
    "\\frac{dv_\\mathrm{y}}{dt} = -qy -g \n",
    "$$\n",
    "\n",
    "Solve this system of ODEs using a scipy library for $g = 9.81$ and $q_\\mathrm{y} = 1$ and $y_0 = -2$ ($y=0$ is the _ceiling_ where the spring is attached), for $t\\in[0,50]$ with time steps $dt=0.01$. \n",
    "\n",
    "Make a plot of the vertical $y$ position as a function of time $t$. "
   ]
  },
  {
   "cell_type": "code",
   "execution_count": null,
   "metadata": {},
   "outputs": [],
   "source": []
  },
  {
   "cell_type": "markdown",
   "metadata": {},
   "source": [
    "### 1.b [10%]\n",
    "\n",
    "Save the $y$, $v_\\mathrm{y}$ solution in a dictionary using the keys  `y` and `v_y` and make that dictionary the first element of a list with the name `spring`. Do the calculation again for $q_\\mathrm{y} = 2$ using the same `t` array as in _1.a_. Save the results as a dictionary as well in the same way, as the second element of the list `spring`.\n",
    "\n",
    "Make a plot of the y position for the case $q = 1$ against the position of the $q = 2$ case."
   ]
  },
  {
   "cell_type": "code",
   "execution_count": null,
   "metadata": {},
   "outputs": [],
   "source": []
  },
  {
   "cell_type": "markdown",
   "metadata": {},
   "source": [
    "### 1.c [15%]\n",
    "\n",
    "To the mass in the previous problem there are now two additional _magic_ springs attached. The springs only pull horizontally, no matter what the vertical position is, and their restoring force is only acting when the mass is displaced to the side where the spring is attached, and opposite to that diplacement. (This last feature is easily accommodated if the horizontal rest position is chosen to be at $x=0$.) The horizontal spring constant is $q_\\mathrm{x}=0.5$. There is another additional right-hand side term $-r {\\bf v}^2 $ with $r = 0.1$, ${\\bf v} = (v_\\mathrm{x},v_\\mathrm{y})$, which represents friction (e.g. air). \n",
    "\n",
    "* Write a function for the right-hand side, and solve for the same time interval as in _1.b_ for $r=0.1$, $q_\\mathrm{x} = 0.5$ and $q_\\mathrm{y} = 2.5$ and initial conditions $(x,y) = (1,-2)$ and $(v_\\mathrm{x},v_\\mathrm{y}) = (0,0)$.\n",
    "* Make a plot of the $y$ vs $x$ position (trajectory) of the resulting motion.\n",
    "\n",
    "[Possibly helpful: `sign(x)` is returning `+1` for `x>0` and `-1` for `x<0`.]"
   ]
  },
  {
   "cell_type": "code",
   "execution_count": null,
   "metadata": {},
   "outputs": [],
   "source": []
  },
  {
   "cell_type": "markdown",
   "metadata": {},
   "source": [
    "* * *\n",
    "\n",
    "## Problem 2:\n",
    "\n",
    "In the `SW.dat` subdirectory, you will find several `.json` files containing summary data from the *Star Wars* movies.  \n",
    "\n",
    "The block of code below uses the **json** library to load these files into a dictionary object. \n",
    "\n",
    "The parts of this question will ask you to do some basic analysis of this data. First, spend a little time exploring your dictionary to see what kind of data it contains."
   ]
  },
  {
   "cell_type": "code",
   "execution_count": null,
   "metadata": {},
   "outputs": [],
   "source": [
    "import fnmatch as fn  \n",
    "import json\n",
    "import os\n",
    "## Build the list of directories of the weather files.\n",
    "json_files = fn.filter(os.listdir('SW.dat'), \"*.json\")\n",
    "print(json_files)\n",
    "swdat = dict()\n",
    "for w in json_files:\n",
    "    with open('SW.dat/'+w) as f:\n",
    "        data = json.loads(f.read())\n",
    "        swdat[w.split('.')[0]] = data"
   ]
  },
  {
   "cell_type": "markdown",
   "metadata": {},
   "source": [
    "### Part (a) [20%]\n",
    "\n",
    "Using the above dictionary, compute and list the five **shortest** and the five **tallest** characters in the Star Wars movies.  Similarly, compute and list the five **heaviest** and the five **lightest**."
   ]
  },
  {
   "cell_type": "code",
   "execution_count": null,
   "metadata": {},
   "outputs": [],
   "source": []
  },
  {
   "cell_type": "markdown",
   "metadata": {},
   "source": [
    "### Part (b) [20%]\n",
    "\n",
    "Make a matplotlib plot of character height vs. mass for all Star Wars characters. \n",
    "\n",
    "* Put height on the x-axis, and weight on the y-axis.  \n",
    "* Include both a linear and quadratic least-squares approximation in your plot.  \n",
    "\n",
    "After your plot, list the five characters whose mass deviates from the linear least squares interpolation by the largest amount.  Include the deviation in your answer."
   ]
  },
  {
   "cell_type": "code",
   "execution_count": null,
   "metadata": {},
   "outputs": [],
   "source": []
  },
  {
   "cell_type": "markdown",
   "metadata": {},
   "source": [
    "### Part (c) [10%]\n",
    "\n",
    "* Create a Sympy expression for the function \n",
    "$$f_{\\mu,\\sigma}(x) = e^{-\\frac{(x-\\mu)^2}{2\\sigma^2}}$$\n",
    "\n",
    "* Plot the sum\n",
    "$$\\sum_h f_{h,\\sigma}(x)$$\n",
    "where $h$ ranges over the heights of all Star Wars characters. Include in your plot the case $\\sigma=5$ and $\\sigma=10$. Have $x$ range between the minimum and maximum heights of Star Wars characters.\n",
    "\n",
    "**Note:** You will either need to convert $f$ into a callable Python function using Sympy's`lambdify` call, or you will need to use `subs` and `evalf` commands to evaluate to floats."
   ]
  },
  {
   "cell_type": "code",
   "execution_count": null,
   "metadata": {},
   "outputs": [],
   "source": []
  },
  {
   "cell_type": "markdown",
   "metadata": {},
   "source": [
    "* * *\n",
    "\n",
    "## Problem 3 [10%]:\n",
    "\n",
    "Write an executable shell script in a file with the name `shell_final.sh` which does the following. \n",
    "\n",
    "1. Change the present working directory to the root of the course repository.\n",
    "1. Make a listing that shows all files in the course repository and save that listing in a file called `listing.short`.\n",
    "2. Make a listing of the course repository and all sub directories and write that into a file called `listing.long`.\n",
    "3. Add a command that outputs how many ipython notebook files are listed in `listing.long` and have the answer written into a file called `shell_answers.txt`.\n",
    "4. Add a command that changes in `listing.long` all file endings `.ipynb` into `.newsuffix` and save the changed content into file `listing.changed`.\n",
    "5. Move all the files that this script created back into your `Final` exam directory.\n"
   ]
  },
  {
   "cell_type": "code",
   "execution_count": null,
   "metadata": {},
   "outputs": [],
   "source": []
  }
 ],
 "metadata": {
  "kernelspec": {
   "display_name": "Python 3",
   "language": "python",
   "name": "python3"
  },
  "language_info": {
   "codemirror_mode": {
    "name": "ipython",
    "version": 3
   },
   "file_extension": ".py",
   "mimetype": "text/x-python",
   "name": "python",
   "nbconvert_exporter": "python",
   "pygments_lexer": "ipython3",
   "version": "3.6.7"
  }
 },
 "nbformat": 4,
 "nbformat_minor": 2
}
