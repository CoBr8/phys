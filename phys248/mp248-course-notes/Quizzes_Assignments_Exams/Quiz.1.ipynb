{
 "cells": [
  {
   "cell_type": "markdown",
   "metadata": {},
   "source": [
    "# Quiz 1\n",
    "January 17, 2019\n",
    "\n",
    "\n",
    "* Beginning of exam:  10:05am\n",
    "* End of exam: 10:15am\n",
    "\n",
    "At the start of the exam pull the course repository (when the instructor tells you to do so). You will find a new directory in the course repository called `Quizzes_Assignments_Exams` and in there this notebook called `quiz.ipynb`."
   ]
  },
  {
   "cell_type": "markdown",
   "metadata": {},
   "source": [
    "### Activity 1\n",
    "1. Use the terminal to\n",
    "    * Create a new directory in your own `mp248` repository directory called `Quizzes`.\n",
    "    * Copy the `Quiz.1.ipynb` notebook from the course repository to the `Quizzes` directory in your own repository. \n",
    "2. Add/commit the `Quizzes` directory and push to the remote, check on the GitLab server that the new directory and the quiz notebook is avaialble there.\n",
    "3. Execute the following cell to create the file `poem.txt`."
   ]
  },
  {
   "cell_type": "code",
   "execution_count": 7,
   "metadata": {},
   "outputs": [],
   "source": [
    "cat > poem.txt << %%\n",
    "Learning From Mistakes\n",
    "\n",
    "I have finally come to the place\n",
    "Where things can come off the shelf\n",
    "So I can try to learn from mistakes\n",
    "And not be so hard on myself.\n",
    "\n",
    "I no longer need to be opaque\n",
    "It's time for me to see\n",
    "That my failures and past mistakes\n",
    "Do not label me.\n",
    "\n",
    "No longer trusting what used to assure\n",
    "Sorting out things that will last\n",
    "Mistakes filter out what really endures\n",
    "Permitting to learn from the past.\n",
    "\n",
    "I know life has its ups and downs\n",
    "I can't help things don't go to plan\n",
    "But mistakes no longer bring 'that frown'\n",
    "Now that I know who I am.\n",
    "\n",
    "Peter Hall\n",
    "\n",
    "https://www.poemhunter.com/poem/learning-from-mistakes-2\n",
    "%%"
   ]
  },
  {
   "cell_type": "markdown",
   "metadata": {},
   "source": [
    "### Activity 2\n",
    "In the following bash cell write a command that will search for all occurrences of the word _mistakes_, count the number of occurrences and redirect the output of that counting into the file `answer.txt`. Check that the file `answer.txt` contains exactly only one number.  "
   ]
  },
  {
   "cell_type": "code",
   "execution_count": 12,
   "metadata": {},
   "outputs": [],
   "source": []
  },
  {
   "cell_type": "code",
   "execution_count": null,
   "metadata": {},
   "outputs": [],
   "source": []
  },
  {
   "cell_type": "markdown",
   "metadata": {},
   "source": [
    "**Save this notebook. Add, commit and then push this quiz1 notebook and the file answer.txt**"
   ]
  }
 ],
 "metadata": {
  "kernelspec": {
   "display_name": "Bash",
   "language": "bash",
   "name": "bash"
  },
  "language_info": {
   "codemirror_mode": "shell",
   "file_extension": ".sh",
   "mimetype": "text/x-sh",
   "name": "bash"
  }
 },
 "nbformat": 4,
 "nbformat_minor": 2
}
