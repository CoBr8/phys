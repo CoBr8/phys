{
 "cells": [
  {
   "cell_type": "markdown",
   "metadata": {},
   "source": [
    "# Essential Markdown \n",
    "_emph_, __bold__\n",
    "\n",
    "## Latex\n",
    "\n",
    "In Markdown cells you can do math type setting using $\\LaTeX$. Tutorials can be found online, such as [this one](https://www.latex-tutorial.com/tutorials/beginners/latex-amsmath).\n",
    "\n",
    "### Examples:\n",
    "\n",
    "This is in line formula, $\\nu = \\sum x_i$ in a floating text, while this is a set out formula:\n",
    "$$\\mu = \\int x_i$$\n",
    "This is a matrix:\n",
    "$$\n",
    "\\begin{matrix}\n",
    "a_{11} & a_{12}\\\\\n",
    "a_{21} & a_{22}\n",
    "\\end{matrix}\n",
    "$$"
   ]
  },
  {
   "cell_type": "markdown",
   "metadata": {},
   "source": [
    "## Links \n",
    "![example figure](../images/fig_circle_pi.jpg)\n",
    "\n",
    "[This is a link](http://csa.phys.uvic.ca)\n",
    "\n",
    "## Type setting code\n",
    "Here is the type setting for code: `for i in range(5):` and now follows some code block:\n",
    "```\n",
    "list = [1,2,3,4,5,6,7]\n",
    "for i in range(5):\n",
    "    print(i,list[i])\n",
    "```"
   ]
  },
  {
   "cell_type": "markdown",
   "metadata": {},
   "source": [
    "## Lists and tables\n",
    "Here is a list:\n",
    "\n",
    "* item 1\n",
    "* item 2\n",
    "    - item 2.1\n",
    "    - item 2.2\n",
    "* item 3\n",
    "\n",
    "Here is a table:\n",
    "\n",
    "Name | Age | Town\n",
    "-----|-----|-----\n",
    "Emma | 23  | Frankfurt\n",
    "Marco| 12  | Milano"
   ]
  },
  {
   "cell_type": "code",
   "execution_count": null,
   "metadata": {},
   "outputs": [],
   "source": []
  }
 ],
 "metadata": {
  "kernelspec": {
   "display_name": "Python 3",
   "language": "python",
   "name": "python3"
  },
  "language_info": {
   "codemirror_mode": {
    "name": "ipython",
    "version": 3
   },
   "file_extension": ".py",
   "mimetype": "text/x-python",
   "name": "python",
   "nbconvert_exporter": "python",
   "pygments_lexer": "ipython3",
   "version": "3.6.7"
  }
 },
 "nbformat": 4,
 "nbformat_minor": 2
}
