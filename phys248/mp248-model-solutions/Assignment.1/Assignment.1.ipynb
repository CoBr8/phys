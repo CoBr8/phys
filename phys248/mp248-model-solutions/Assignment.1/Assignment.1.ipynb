{
 "cells": [
  {
   "cell_type": "markdown",
   "metadata": {},
   "source": [
    "# Assignment 1\n",
    "\n",
    "* **The deadline for this assignment is due on 28 Mon, 10am.**\n",
    "* Create a new directory called `Assignment.1` in your **mp248** repository.\n",
    "* Refer to the **grading key** for guidance for what is expected. \n",
    "* Copy this notebook to the `Assignment.1` folder in your mp248 repository. \n",
    "* For Problem 3 & 4 create a Python 3 notebook with the name `Assignment-python.ipnb` and make sure that it is located in the `Assignment.1` folder in your `mp248` repository.\n",
    "* Make sure that you add this notebook, the `Assignment-python.ipynb` notebook and any other files indicated below to the final commit of your homework. It is advised that you start committing and pushing once you have partial results."
   ]
  },
  {
   "cell_type": "markdown",
   "metadata": {},
   "source": [
    "## Problem 1\n",
    "\n",
    "### 1.1\n",
    "In a bash cell below download the textfile from the following url: `http://www.textfiles.com/etext/AUTHORS/SHAKESPEARE/shakespeare-midsummer-16.txt` containing _SHAKESPEARE: A Midsummer Night's Dream_ using a shell command. \n",
    "\n",
    "Using the command line editor write a shell script called `shake_analysis.sh` that analyses the file and writes out one answer per line to the following questions:\n",
    "* How many lines contain the word _Lysander_? \n",
    "* How many lines contain the word _Lysander_ and the word _love_? (case sensitive search)\n",
    "* How many words are in the lines that contain the words _Lysander_ and the word _love_?\n",
    "* How large is the file `shakespeare-midsummer-16.txt` in `kB` (kilobyte)? The script should output only the integer number of kB.\n",
    "\n",
    "### 1.2\n",
    "Further add shell script code that generates the answers to the following questions\n",
    "* What is the 6th word in the line that contains both the words _passion_ and _dear_?\n",
    "* How long is that word?\n",
    "\n",
    "Finally, the script should create a file `midsummer_dad.txt` in which all instances of _EGEUS_ and _Egeus_ are replaced with _dad_, and then report the number of times 'dad' appears in `midsummer_dad.txt`.\n",
    "\n",
    "Add the script `shake_analysis.sh` and the file `midsummer_dad.txt` to the `Assignment.1` folder."
   ]
  },
  {
   "cell_type": "markdown",
   "metadata": {},
   "source": [
    "#### Solution"
   ]
  },
  {
   "cell_type": "code",
   "execution_count": null,
   "metadata": {},
   "outputs": [],
   "source": [
    "%%bash \n",
    "wget http://www.textfiles.com/etext/AUTHORS/SHAKESPEARE/shakespeare-midsummer-16.txt"
   ]
  },
  {
   "cell_type": "markdown",
   "metadata": {},
   "source": [
    "The `shake_analysis.sh` script contains the model solution. When executed the output of the shell script should give these results:\n",
    "```\n",
    "40\n",
    "4\n",
    "34\n",
    "100\n",
    "death\n",
    "5\n",
    "17\n",
    "```\n"
   ]
  },
  {
   "cell_type": "markdown",
   "metadata": {},
   "source": [
    "Note, that echo adds a newline character which would lead to a character count too long by one. The  `-n` switch suppresses the newline, and the code would be\n",
    "```bash\n",
    "set -- `grep passion ./shakespeare-midsummer-16.txt|grep dear`\n",
    "echo -n $6|wc -m\n",
    "```\n",
    "\n",
    "An alternative is the bash `#` variable length operator (which we did not cover in class):\n",
    "```bash\n",
    "echo ${#6}\n",
    "```\n",
    "\n",
    "Then, on the command line commit:\n",
    "```bash\n",
    "git add shake_analysis.sh midsummer_dad.txt\n",
    "git commit -m 'soln Assign 1 problem 1'\n",
    "```\n"
   ]
  },
  {
   "cell_type": "markdown",
   "metadata": {},
   "source": [
    "## Problem 2\n",
    "\n",
    "## 2.1\n",
    "Briefly describe the workflow of modifying files in your git repository and adding them  as a new commit. What command is used to transfer your latest git changes to the GitLab repository. "
   ]
  },
  {
   "cell_type": "markdown",
   "metadata": {},
   "source": [
    "### Answer:"
   ]
  },
  {
   "cell_type": "markdown",
   "metadata": {},
   "source": [
    "## 2.2\n",
    "1. Create a branch on your repository called `assign1p2`, switch to that branch and add a file called `this_is_a_file_on_my_branch.txt` with the content `Hello World!`. Make sure your branch is pushed to the remote so that it is available on the GitLab server. Once you are done switch back to the master branch and continue there. \n",
    "2. At this point you should still be in the `Assignment.1` folder and you should be on the master branch. Redirect the output of the `git status` command into the file `git_status_A1P2.txt` and add that file to the repository."
   ]
  },
  {
   "cell_type": "markdown",
   "metadata": {},
   "source": [
    "#### Solution"
   ]
  },
  {
   "cell_type": "markdown",
   "metadata": {},
   "source": [
    "**P2.1:**  \n",
    "```bash\n",
    "git add files\n",
    "git commit -m \"commit message\"\n",
    "git push\n",
    "```"
   ]
  },
  {
   "cell_type": "markdown",
   "metadata": {},
   "source": [
    "**P2.2:**\n",
    "```bash\n",
    "git branch assign1p2\n",
    "git checkout assign1p2\n",
    "cat > this_is_a_file_on_my_branch.txt << %%\n",
    "Hellow World!\n",
    "%%\n",
    "git add this_is_a_file_on_my_branch.txt\n",
    "git commit -m 'add this_is_a_file_on_my_branch.txt file'\n",
    "git push --set-upstream origin assign1p2\n",
    "```"
   ]
  },
  {
   "cell_type": "markdown",
   "metadata": {},
   "source": [
    "## Problem 3\n",
    "### 3.1\n",
    "There are some [really long place names](https://www.worldatlas.com/articles/the-10-longest-place-names-in-the-world.html) out there!\n",
    "* Create variables that store the following strings: \n",
    "    - `Llanfairpwllgwyngyllgogerychwyrndrobwllllantysiliogogogoch` \n",
    "    - `Pekwachnamaykoskwaskwaypinwanik`\n",
    "* Describe the slicing and string addition (concatenation) operations needed to create out of these two string variables a new variable that contains the string `airkoskwa`. This is about slicing string variables. You don't need to automatically find the slicing indices, you can just determine them manually by counting.\n",
    "* Create a three-element list that contains the above three strings. Call this list **strlist**. \n",
    "* Create yet another list. Build this list starting from an empty list. Iterating over **strlist**, append the 5th character from each string to this new list.\n",
    "* Print the new list. "
   ]
  },
  {
   "cell_type": "code",
   "execution_count": null,
   "metadata": {},
   "outputs": [],
   "source": [
    "q=\"Llanfairpwllgwyngyllgogerychwyrndrobwllllantysiliogogogoch\"\n",
    "w=\"Pekwachnamaykoskwaskwaypinwanik\"\n",
    "u=q[5:8]+w[12:18]; print(u)"
   ]
  },
  {
   "cell_type": "code",
   "execution_count": null,
   "metadata": {},
   "outputs": [],
   "source": [
    "slist = [q,w,u]\n",
    "nlist = []\n",
    "for thing in slist:\n",
    "    nlist.append(thing[4])\n",
    "print(nlist)"
   ]
  },
  {
   "cell_type": "markdown",
   "metadata": {},
   "source": [
    "### 3.2\n",
    "* Create a list of integers called `ilist`  starting with 4, ending with 28, in steps of 6 (without manually typing the numbers, use some form of list generator)."
   ]
  },
  {
   "cell_type": "code",
   "execution_count": null,
   "metadata": {},
   "outputs": [],
   "source": [
    "ilist = list(range(4,29,6))"
   ]
  },
  {
   "cell_type": "code",
   "execution_count": null,
   "metadata": {},
   "outputs": [],
   "source": [
    "ilist"
   ]
  },
  {
   "cell_type": "markdown",
   "metadata": {},
   "source": [
    "* Turn that list into a numpy array with name `alist` and then create a new array with name `slist` that contains the square of values in `alist`."
   ]
  },
  {
   "cell_type": "code",
   "execution_count": null,
   "metadata": {},
   "outputs": [],
   "source": [
    "alist = array(ilist)\n",
    "slist = alist**2\n",
    "slist"
   ]
  },
  {
   "cell_type": "markdown",
   "metadata": {},
   "source": [
    "* Open a file `P3.2-data.txt` and write a formatted columns of rows that contain pairwise the `alist` and `slist` elements. Make sure that there are exactly two spaces between the columns. Check the content of the `P3.2-data.txt` file and add it to the commit for this assignment. (Don't close the file yet, we will add more to it.)"
   ]
  },
  {
   "cell_type": "code",
   "execution_count": null,
   "metadata": {},
   "outputs": [],
   "source": [
    "f=open('P3.2-data.txt','w')\n",
    "for i,s in zip(alist,slist):\n",
    "    print(\"%2i  %3i\" % (i,s))\n",
    "    f.write(\"%2i  %3i \\n\" % (i,s))"
   ]
  },
  {
   "cell_type": "markdown",
   "metadata": {},
   "source": [
    "* Write a function called `fa` that takes an array of numbers and a parameter `q` as an input and returns an array that contains the elements $q \\log a_\\mathrm{i} + q$ where $a_\\mathrm{i}$ are the elements of input array. Write the sum of the array that `fa` returns with `alist` and `q=0.5` as input in a formatted output statement into the file `P3.2-data.txt`. The formatted statement should look exactly like this:\n",
    "    ```txt\n",
    "    The sum of the output array is: i.iii\n",
    "    ```\n",
    "with 3 digits after the decimal point."
   ]
  },
  {
   "cell_type": "code",
   "execution_count": null,
   "metadata": {},
   "outputs": [],
   "source": [
    "fa = lambda a,q: q*log10(a)+q"
   ]
  },
  {
   "cell_type": "code",
   "execution_count": null,
   "metadata": {},
   "outputs": [],
   "source": [
    "soutput = \"The sum of the output array is: %5.3f\"%fa(alist,0.5).sum()\n",
    "print(soutput)"
   ]
  },
  {
   "cell_type": "code",
   "execution_count": null,
   "metadata": {},
   "outputs": [],
   "source": [
    "f.write(soutput)\n",
    "f.close()"
   ]
  },
  {
   "cell_type": "code",
   "execution_count": null,
   "metadata": {},
   "outputs": [],
   "source": [
    "%%bash\n",
    "cat P3.2-data.txt"
   ]
  },
  {
   "cell_type": "markdown",
   "metadata": {},
   "source": [
    "## 3.3"
   ]
  },
  {
   "cell_type": "markdown",
   "metadata": {},
   "source": [
    "* You are given a list of fruit. \n",
    "    ```python\n",
    "    list_of_fruit = ['apple', 'banana', 'orange', 'tomato']\n",
    "    ```\n",
    "    Create a Python cell with loop in which the user will be asked for each fruit type how many fruits there are (say, for example, in storage), and how much each fruit costs. Save these numbers as tuples in a dictionary called `fruit_db`. Use the `input` function to implement this. The fruit names are the dictionary keys.\n",
    "* Execute that loop cell and provide some reasonable input.\n",
    "* Then print the fruit database with columns for fruit name, number and cost in a formatted table."
   ]
  },
  {
   "cell_type": "code",
   "execution_count": null,
   "metadata": {},
   "outputs": [],
   "source": [
    "list_of_fruit = ['apple', 'banana', 'orange', 'tomato']\n",
    "fruit_db = {}\n",
    "for fruit in list_of_fruit:\n",
    "    ui1 = input(\"How many \"+fruit+\"? \")\n",
    "    ui2 = input(\"Price per \"+fruit+\"? \")\n",
    "    fruit_db[fruit]=(float(ui1),float(ui2))"
   ]
  },
  {
   "cell_type": "code",
   "execution_count": null,
   "metadata": {},
   "outputs": [],
   "source": [
    "fruit_db"
   ]
  },
  {
   "cell_type": "code",
   "execution_count": null,
   "metadata": {},
   "outputs": [],
   "source": [
    "for item in fruit_purchase:\n",
    "    print(\" %7s %2i %5.2f\" % (item,fruit_db[item][0],fruit_db[item][1]))"
   ]
  },
  {
   "cell_type": "markdown",
   "metadata": {},
   "source": [
    "## Problem 4\n",
    "An ellipse is defined by the equation\n",
    "$$\n",
    "\\frac{x^2}{a^2} + \\frac{y^2}{b^2} = 1\n",
    "$$\n",
    "which is solved for $y$ to give a function $y(x)$ for the ellipse."
   ]
  },
  {
   "cell_type": "markdown",
   "metadata": {},
   "source": [
    "$$\n",
    "y = \\sqrt{1  - x^2\\frac{b^2}{a^2}}\n",
    "$$"
   ]
  },
  {
   "cell_type": "markdown",
   "metadata": {},
   "source": [
    "### 4.1 \n",
    "* Define a function that takes `x`, `a`, `b` as input and returns `y`.\n",
    "* Make a plot of the full ellipse including all four quadrants using `a=2` and `b=1`. Use a blue, dashed line. "
   ]
  },
  {
   "cell_type": "code",
   "execution_count": null,
   "metadata": {},
   "outputs": [],
   "source": [
    "%pylab ipympl"
   ]
  },
  {
   "cell_type": "code",
   "execution_count": null,
   "metadata": {},
   "outputs": [],
   "source": [
    "a=2\n",
    "b=1\n",
    "def ellipse(x,a=1,b=1):\n",
    "    y = sqrt(1 - x**2*b**2/a**2)\n",
    "    return y\n",
    "x=linspace(-a,a,100)\n",
    "close(1);figure(1)\n",
    "plot(x,ellipse(x,a,b),'b--')\n",
    "plot(x,-ellipse(x,a,b),'b--')\n"
   ]
  },
  {
   "cell_type": "markdown",
   "metadata": {},
   "source": [
    "### 4.2\n",
    "Calculate the area under a quarter of the ellipse, use the top-right quadrant by approximating the quarter ellipse with vertical rectangles. The side length of each rectangle is $\\Delta x$, while $\\Delta y$ follows from the formula for the circumference. Make sure that you calculate $\\Delta y$ for each rectangle for the `x` value centered in the x direction in each $\\Delta x$.\n",
    "\n",
    "1. Make a `bar` plot of the rectangles and overplot the line of the ellipse to show this situation exactly. Hint: part of each rectangle should be outside the ellipse, and small areas inside the ellipse are not covered by rectangles.\n",
    "2. Now calculate the area. Do not use a `for` loop but instead use only vector operations. Verify that you have the right answer by comparing it with the value computed from the formula for the area of the ellipse $A_\\mathrm{ellipse} = \\pi a b$.\n",
    "3. Calculate the difference between the sum of the rectangles and the value from the formula for 10 and 30 rectangles and save these differences in the variables `dA10` and `dA30`.\n",
    "4. Open a file called `ellipse.dat` and write two rows with two columns. The columns are the number of rectangles and the differences `dA` calculated in 3. Use formatted output: 2 digits for the integer, one space, 7 digits for the float, with 5 after the decimal point. Close the file, check the output and add it to your assignment commit. \n",
    "5. Comment on the values `dA10` and `dA30`. Why are they different?"
   ]
  },
  {
   "cell_type": "code",
   "execution_count": null,
   "metadata": {},
   "outputs": [],
   "source": [
    "n=10\n",
    "x=linspace(0,a,n+1)\n",
    "x10=linspace(0,a,10*n) # just for plotting the ellipse function"
   ]
  },
  {
   "cell_type": "code",
   "execution_count": null,
   "metadata": {},
   "outputs": [],
   "source": [
    "dx = diff(x)[0]\n",
    "close(5);figure(5)\n",
    "bar(x[:-1]+0.5*dx,ellipse(x[:-1]+0.5*dx,a,b),a/n)\n",
    "plot(x10,ellipse(x10,a,b),'r-')\n",
    "xlim(0,1.1*a)"
   ]
  },
  {
   "cell_type": "code",
   "execution_count": null,
   "metadata": {},
   "outputs": [],
   "source": [
    "Area_ellipse = sum(dx*ellipse(x[1:]-0.5*dx,a,b))"
   ]
  },
  {
   "cell_type": "code",
   "execution_count": null,
   "metadata": {},
   "outputs": [],
   "source": [
    "dA10 = Area_ellipse - pi*a*b/4."
   ]
  },
  {
   "cell_type": "code",
   "execution_count": null,
   "metadata": {},
   "outputs": [],
   "source": [
    "n=30\n",
    "x=linspace(0,a,n+1)\n",
    "dx = diff(x)[0]\n",
    "Area_ellipse = sum(dx*ellipse(x[1:]-0.5*dx,a,b)) \n",
    "dA30 = Area_ellipse - pi*a*b/4."
   ]
  },
  {
   "cell_type": "code",
   "execution_count": null,
   "metadata": {},
   "outputs": [],
   "source": [
    "f=open(\"ellipse.dat\",mode='w')\n",
    "f.write(\"%2i %7.5f \\n\"%(10 ,dA10 ))\n",
    "f.write(\"%2i %7.5f \\n\"%(30,dA30))\n",
    "f.close()"
   ]
  },
  {
   "cell_type": "code",
   "execution_count": null,
   "metadata": {},
   "outputs": [],
   "source": [
    "%%bash \n",
    "cat ellipse.dat"
   ]
  },
  {
   "cell_type": "markdown",
   "metadata": {},
   "source": [
    "#### Answer 4.2.5\n",
    "As the size of the rectangles becomes smaller the approximation of the quarter ellipse area becomes better. The accuracy of the calculation increases."
   ]
  },
  {
   "cell_type": "markdown",
   "metadata": {},
   "source": [
    "### 4.3\n",
    "This part is a bit more advanced, and being able to complete it to the fullest extend is above expectation. \n",
    "\n",
    "* Explore the convergence properties of the algorithm with different precisions for float variables. In order to perform these experiments set up a cell in which two variables are defined at the top:\n",
    "    ```python\n",
    "    npow_max = 4 \n",
    "    precision = 'float64'\n",
    "    ```\n",
    "* Then, write a `for` loop in which the ellipse area difference `dA` (as defined in part 3.2) is calculated in sequence for `10**npow` rectangles where `npow =1, 2, ... npow_max`. Save the corresponding value $dA$ into an array called `dAs`.  \n",
    "* Make a plot of `log10(dAs)` vs `npow`.\n",
    "* Explore the behaviour for a range of values of `npow_max` and `precision`. Be careful -- for larger `npow_max` and higher precision your python cell execution will hang. Why? If that happens restart the kernel and do a smaller combination of `npow_max` and precision.\n",
    "* There are four options for the value of `precision` -- what are they? Try out all four precisions and make a `log10(dAs)` vs `npow` plot for each case.  \n",
    "* What is a possible remedy of the inability to calculate the area very accurately by using high `npow_max` with high precision? Hint: Consider how the computational constraints would change if you devise an algorithm for calculating the ellipse area that does not use a single vector operation but a `for` loop instead. What is the computational limitation in this case?"
   ]
  },
  {
   "cell_type": "code",
   "execution_count": null,
   "metadata": {},
   "outputs": [],
   "source": [
    "ifig = 1"
   ]
  },
  {
   "cell_type": "code",
   "execution_count": null,
   "metadata": {},
   "outputs": [],
   "source": [
    "a=2;b=1\n",
    "npow_max = 7\n",
    "precision = 'float64'\n",
    "nn=list(range(1,npow_max+1))\n",
    "dAs=[]\n",
    "for n in nn:\n",
    "    x=linspace(0,a,int(10**n)+1,dtype=precision)\n",
    "    dx = diff(x)[0]\n",
    "    Area_ellipse = sum(dx*ellipse(x[1:]-0.5*dx,a,b))*4.\n",
    "    dAs.append(abs(Area_ellipse - pi*a*b))\n",
    "x=[]  # Q: Why did I put this line here?\n",
    "      # A: Because I want to free up the memory used\n",
    "ifig += 1"
   ]
  },
  {
   "cell_type": "markdown",
   "metadata": {},
   "source": [
    "### Note\n",
    "It is key that you use the `precision` variable to define variable with that `dtype` before the key algebraic operation is performed. Performing the operations with different precision variables means that the will have according precision. The result can only have the precision of the lowest precision that any of the involved quantities has."
   ]
  },
  {
   "cell_type": "code",
   "execution_count": null,
   "metadata": {},
   "outputs": [],
   "source": [
    "# this is the plotting cell, I execute the above cell for different parameters of npow and precision\n",
    "# I save a figure for each case in this cell and add them to the repo\n",
    "close(ifig),figure(ifig)\n",
    "plot(nn,log10(array(dAs)),'o-')\n",
    "title(\"Precision: \"+precision)\n",
    "ylabel(\"dA: analytic - simulation\")\n",
    "xlabel(\"number of rectangles $\\log_\\mathrm{10} N_\\mathrm{r}$\")\n",
    "savefig(\"Assign1P4.3_precision-\"+precision+\".png\")"
   ]
  },
  {
   "cell_type": "markdown",
   "metadata": {},
   "source": [
    "### Results\n",
    "* For low precision, such as `float16` the rounding errors dominate if more than $\\approx 100$ rectangles are used.\n",
    "* For medium precision, such as `float32` the rounding errors dominate if more than $\\approx 10^4$ rectangles are used.\n",
    "*  With `float64` truncation errors are decreasing down to very small rectangle sizes with $\\Delta x \\approx 10^{-7}$\n",
    "* Using `npow_max = 8` with `float64` will crash the kernel because the amount of memory for this vectorized calculation is exceeded. In the model solution above the array `x=linspace(0,a,int(10**n)+1,dtype=precision)` uses the following amount of memory (for `npow_max = 8` with `float64`)"
   ]
  },
  {
   "cell_type": "code",
   "execution_count": null,
   "metadata": {},
   "outputs": [],
   "source": [
    "bytes_per_word = 64/8.\n",
    "x_size = bytes_per_word * 10**8 / 10**9\n",
    "print(\"Giga-byte size of array x: %5.3f\"% x_size)"
   ]
  },
  {
   "cell_type": "markdown",
   "metadata": {},
   "source": [
    "* We need two of these, which exceeds the docker container memory quota of 1.47GB.\n",
    "\n",
    "Before moving on to see how this can be improved, here is a way to make a nice overview plot:"
   ]
  },
  {
   "cell_type": "code",
   "execution_count": null,
   "metadata": {},
   "outputs": [],
   "source": [
    "from nugridpy import utils as ut  # add linestyles"
   ]
  },
  {
   "cell_type": "code",
   "execution_count": null,
   "metadata": {},
   "outputs": [],
   "source": [
    "# loop over a list of precisions and plot each\n",
    "close(11),figure(11)\n",
    "a=2;b=1\n",
    "npow_max = 7   # 7 is max that can be done with the mem quota on containers\n",
    "nn=list(range(1,npow_max+1))\n",
    "precisions = ['float16','float32','float64','float128']\n",
    "#precisions = ['float16','float32','float64']\n",
    "\n",
    "dAs=[]\n",
    "for i,preci in enumerate(precisions):\n",
    "    dAs=[]\n",
    "    for n in nn:\n",
    "        x=linspace(0,a,int(10**n)+1,dtype=preci)\n",
    "        dx = diff(x)[0]\n",
    "        Area_ellipse = sum(dx*ellipse(x[1:]-0.5*dx,a,b))*4. \n",
    "        dAs.append(abs(Area_ellipse - pi*a*b))\n",
    "    plot(nn,log10(array(dAs)),ut.linestylecb(i)[0]+ut.linestylecb(i)[1],color=ut.linestylecb(i)[2])\n",
    "x=[]  # Why did I put this line here?\n",
    "ylabel(\"dA: analytic - simulation\")\n",
    "xlabel(\"number of rectangles $\\log_\\mathrm{10} N_\\mathrm{r}$\")\n",
    "savefig(\"Assign1P4.3_all_precisions.png\")"
   ]
  },
  {
   "cell_type": "markdown",
   "metadata": {},
   "source": [
    "#### Alternative approach\n",
    "If higher accuracy has to be obtained the vector operation is replaced by a loop. Then the memory requirements remain very low, but now a sequential loop has to be executed many times. The new limitation now is computing time. A further improvement could be a combination of both approaches, making a loop of vector operations with vectors reasonably large."
   ]
  },
  {
   "cell_type": "code",
   "execution_count": null,
   "metadata": {},
   "outputs": [],
   "source": [
    "dAs   = []\n",
    "npows = []\n",
    "# run the cell below repeatedly with increasing npow_min to build up data array"
   ]
  },
  {
   "cell_type": "code",
   "execution_count": null,
   "metadata": {},
   "outputs": [],
   "source": [
    "# for loop integration\n",
    "npow_min = 1\n",
    "npow_max = 9\n",
    "precision = 'float128'\n",
    "a=array(2, dtype=precision)\n",
    "b=array(1, dtype=precision)\n",
    "nn=list(range(npow_min,npow_max+1))\n",
    "for n in nn:\n",
    "    nrect = int(10**n)\n",
    "    dx = a/nrect\n",
    "    Area_ellipse = 0\n",
    "    for i in range(0,nrect): Area_ellipse += dx*ellipse(i*dx+0.5*dx,a,b) \n",
    "    dAs.append(abs(4*Area_ellipse - pi*a*b))\n",
    "    npows.append(int(n))\n",
    "#x=[]\n"
   ]
  },
  {
   "cell_type": "code",
   "execution_count": null,
   "metadata": {},
   "outputs": [],
   "source": [
    "print(c_[npows, dAs])"
   ]
  },
  {
   "cell_type": "code",
   "execution_count": null,
   "metadata": {},
   "outputs": [],
   "source": [
    "close(9),figure(9)\n",
    "plot(npows,log10(array(dAs)),ut.linestylecb(2)[0]+ut.linestylecb(2)[1],color=ut.linestylecb(2)[2])"
   ]
  }
 ],
 "metadata": {
  "kernelspec": {
   "display_name": "Python 3",
   "language": "python",
   "name": "python3"
  },
  "language_info": {
   "codemirror_mode": {
    "name": "ipython",
    "version": 3
   },
   "file_extension": ".py",
   "mimetype": "text/x-python",
   "name": "python",
   "nbconvert_exporter": "python",
   "pygments_lexer": "ipython3",
   "version": "3.6.7"
  }
 },
 "nbformat": 4,
 "nbformat_minor": 2
}
