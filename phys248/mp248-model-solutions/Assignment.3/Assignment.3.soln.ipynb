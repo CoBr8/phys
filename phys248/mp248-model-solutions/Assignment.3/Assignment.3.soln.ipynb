{
 "cells": [
  {
   "cell_type": "markdown",
   "metadata": {},
   "source": [
    "# Assignment 3\n",
    "\n",
    "Due March 20th at **10am**.  Pre-grading will be posted on CourseSpaces once the script is running.  Please save your assignment notebook in your `mp248` repo as `mp248/Assignment.3/Assignment.3.ipynb`. Please keep all output and data files in that  `mp248/Assignment.3` notebook.\n",
    "\n",
    "This assignment leans heavily on material done in Course Notebook 11 and Lab 11.a and 11.b. In the week March 11 -15 we will provide all the usual help in the labs regarding questions concerning Lab 11.a and 11.b and  Course Notebook 11, including discussion possible solutions to the lab problems etc. However, in the lab March 18th we will not be answering any questions concerning those labs or the assignment to treat students in the Monday and Wednesday lab the same. \n"
   ]
  },
  {
   "cell_type": "markdown",
   "metadata": {},
   "source": [
    "## 1 Temperature-dependent network solution\n",
    "\n",
    "1. Collect the **essential** code components that are required to solve the nuclear network as described in Course Notbook 11, using the `integrate.odeint`, using the rates (for $T9=0.09$, $\\rho$ and initial abundances as in the course notebook. Make a plot of the evolution of the mass fractions (`Y*A`) as a function of time in the time interval `[0,1.e6]`s. Make sure all lines have different linestyle and color, as well as a legend. Finally, open a  new file called `results.txt` using `open` (check the docstring for the right `mode` option) and write the mass fraction of $^{15}N$ (`n15`) at $t=10,000s$  and $10^6$ in the first two lines of the file, at the end of a formatted statement which says: `The N15 abundance at t=10000s is: ...` (replace the three dots `...` with the mass fraction value). "
   ]
  },
  {
   "cell_type": "code",
   "execution_count": null,
   "metadata": {},
   "outputs": [],
   "source": [
    "%pylab ipympl\n",
    "from scipy import integrate\n",
    "from scipy import interpolate"
   ]
  },
  {
   "cell_type": "code",
   "execution_count": null,
   "metadata": {},
   "outputs": [],
   "source": [
    "# intial conditions\n",
    "ini_solar_abu_file = '/home/user/mp248-course-notes/data/iniab1.4E-02As09.ppn'\n",
    "Z,A,X = loadtxt(ini_solar_abu_file,unpack=True,usecols=(0,2,3))           # select columns with floats and read those\n",
    "elem = loadtxt(ini_solar_abu_file,unpack=True,usecols=(1),dtype='str')    # select column with character and read that separately. \n",
    "X0=array(X,float)\n",
    "A=array(A,float)\n",
    "Y0 = X0/A"
   ]
  },
  {
   "cell_type": "code",
   "execution_count": null,
   "metadata": {},
   "outputs": [],
   "source": [
    "global rate\n",
    "\n",
    "rate=[7.36E-06]       # C12(p,g)\n",
    "rate.append(3.52E-05) # C13(p,g)\n",
    "rate.append(2.36E-07) # N14(p,g)\n",
    "rate.append(2.03E-02) # N15(p,a)\n",
    "\n",
    "rate = array(rate)\n",
    "def react_terms(y,rate):\n",
    "    '''Provide RHS proction terms\n",
    "    '''\n",
    "    terms=[]\n",
    "    terms.append(rate[0]*y[2]*y[0]) # 0 C12(p,g)\n",
    "    terms.append(rate[1]*y[3]*y[0]) # 1 C13(p,g)\n",
    "    terms.append(rate[2]*y[4]*y[0]) # 2 N14(p,g)\n",
    "    terms.append(rate[3]*y[5]*y[0]) # 3 N15(p,a)\n",
    "    return array(terms)"
   ]
  },
  {
   "cell_type": "code",
   "execution_count": null,
   "metadata": {
    "collapsed": true
   },
   "outputs": [],
   "source": [
    "def f_rhs(y,t):\n",
    "    '''Provide RHS for CN network equations''' \n",
    "\n",
    "    terms = react_terms(y,rate)\n",
    "\n",
    "    dh1_dt  =  -terms.sum()\n",
    "    dhe4_dt =   terms[3]\n",
    "    dc12_dt =  -terms[0] + terms[3]\n",
    "    dc13_dt =  -terms[1] + terms[0]\n",
    "    dn14_dt =  -terms[2] + terms[1]\n",
    "    dn15_dt =  -terms[3] + terms[2]\n",
    "    \n",
    "    return array([dh1_dt,dhe4_dt,dc12_dt,dc13_dt,dn14_dt,dn15_dt])"
   ]
  },
  {
   "cell_type": "code",
   "execution_count": null,
   "metadata": {},
   "outputs": [],
   "source": [
    "# provide list of lines and markers for plotting in loop\n",
    "from matplotlib import lines\n",
    "lstyles = list(lines.lineStyles.keys())[0:4]"
   ]
  },
  {
   "cell_type": "code",
   "execution_count": null,
   "metadata": {},
   "outputs": [],
   "source": [
    "dt        = 50.\n",
    "t         = arange(0,1.e6+0.5*dt,dt)  \n",
    "markevery = int(100000/dt)"
   ]
  },
  {
   "cell_type": "code",
   "execution_count": null,
   "metadata": {},
   "outputs": [],
   "source": [
    "Y=integrate.odeint(f_rhs,Y0,t)"
   ]
  },
  {
   "cell_type": "code",
   "execution_count": null,
   "metadata": {},
   "outputs": [],
   "source": [
    "close(2);figure(2)\n",
    "for i in range(len(A)):\n",
    "    plot(t,log10(Y.T[i]*A[i]),label=elem[i]+str(int(A[i])),fillstyle='none',\\\n",
    "         linestyle=lstyles[mod(i,4)],marker=i+5,markevery=markevery)\n",
    "legend(loc=4)\n",
    "ylabel('mass fraction');xlabel('time/s')\n",
    "#ylim(-2e-6,2e-6)"
   ]
  },
  {
   "cell_type": "code",
   "execution_count": null,
   "metadata": {},
   "outputs": [],
   "source": [
    "fout=open('results.txt',mode='w')\n",
    "fout.write('The N15 abundance at t=10000s is: %10e \\n'%(Y.T[-1][200]*A[-1]))\n",
    "fout.write('The N15 abundance at t=10**6s is: %10e \\n'%(Y.T[-1][-1]*A[-1]))\n",
    "fout.close()"
   ]
  },
  {
   "cell_type": "code",
   "execution_count": null,
   "metadata": {},
   "outputs": [],
   "source": [
    "cat results.txt"
   ]
  },
  {
   "cell_type": "markdown",
   "metadata": {},
   "source": [
    "2. Trajectory file \n",
    "    - Read file `T-evol.dat` using numpy's `loadtxt` method and combine all data read from the file into one dictionary `traj_data`, so that you can access it like this: `traj_data['T9']` and likewise for key `'time'`. \n",
    "    - Plot temperature as a function of time. Use log scale when appropriate. \n",
    "    - Using python commands (don't copy and paste!) open again the file `results.txt` (assuming you have closed it previously) and add as the third line the first values of time and temperature contained in the file `T-evol.dat` using the dictionary `traj_data`. Again, check the docstring of the `write` method what `mode=` option is needed to append, and recall that the sting `'\\n'` is interpreted as a newline. "
   ]
  },
  {
   "cell_type": "code",
   "execution_count": null,
   "metadata": {},
   "outputs": [],
   "source": [
    "time,temperature =loadtxt('T-evol.dat',unpack=True)"
   ]
  },
  {
   "cell_type": "code",
   "execution_count": null,
   "metadata": {},
   "outputs": [],
   "source": [
    "time"
   ]
  },
  {
   "cell_type": "code",
   "execution_count": null,
   "metadata": {},
   "outputs": [],
   "source": [
    "close(116),figure(116)\n",
    "plot(log10(time),temperature,'--o',markevery=5,fillstyle='none',label='temperature/[K]')\n",
    "legend(loc=0);xlabel('time')"
   ]
  },
  {
   "cell_type": "code",
   "execution_count": null,
   "metadata": {},
   "outputs": [],
   "source": [
    "fout=open('results.txt',mode='a')\n",
    "fout.write(str(time[0])+' '+str(temperature[0])+'\\n')\n",
    "fout.close()"
   ]
  },
  {
   "cell_type": "code",
   "execution_count": null,
   "metadata": {},
   "outputs": [],
   "source": [
    "str(time[0])+' '+str(temperature[0])"
   ]
  },
  {
   "cell_type": "code",
   "execution_count": null,
   "metadata": {},
   "outputs": [],
   "source": [
    "!cat results.txt"
   ]
  },
  {
   "cell_type": "code",
   "execution_count": null,
   "metadata": {},
   "outputs": [],
   "source": [
    "traj_data = {}\n",
    "traj_data['T9']  = temperature    # units T9 = 10^9K\n",
    "traj_data['time'] = time          # units s"
   ]
  },
  {
   "cell_type": "code",
   "execution_count": null,
   "metadata": {},
   "outputs": [],
   "source": [
    "traj_data['time']"
   ]
  },
  {
   "cell_type": "code",
   "execution_count": null,
   "metadata": {},
   "outputs": [],
   "source": [
    "traj_data['T9']"
   ]
  },
  {
   "cell_type": "markdown",
   "metadata": {},
   "source": [
    "3. Trajectory interpolation: For the integration we need the temperature at any time the solver decides to need. \n",
    "    - Use scipy's `interpolate.interp1d` to set up an interpolation function called `T9int`  for `T9` that returns for any time within the limits of the trajectory the  temperature and density, using the linear interpolation option. Make sure your interpolation function has the extrapolation option turned on.\n",
    "    - Add the output of that function for `t=1.5e+4` and `t=2.9e+7` to the file `results.txt`. \n",
    "    "
   ]
  },
  {
   "cell_type": "code",
   "execution_count": null,
   "metadata": {},
   "outputs": [],
   "source": [
    "T9int = interpolate.interp1d(traj_data['time'],traj_data['T9'],\\\n",
    "                 kind='linear',fill_value='extrapolate')"
   ]
  },
  {
   "cell_type": "code",
   "execution_count": null,
   "metadata": {},
   "outputs": [],
   "source": [
    "# write this to results file:\n",
    "tout=[1.5e+4,2.9e+7]\n",
    "fout=open('results.txt',mode='a')\n",
    "fout.write(str(T9int(tout[0]))+' '+str(T9int(tout[1]))+'\\n')\n",
    "fout.close()"
   ]
  },
  {
   "cell_type": "code",
   "execution_count": null,
   "metadata": {},
   "outputs": [],
   "source": [
    "cat results.txt"
   ]
  },
  {
   "cell_type": "markdown",
   "metadata": {},
   "source": [
    "4. Nuclear data `get_rates` function. \n",
    "    - Collect the essential code from Lab 11.a that reads the T-dependent reaction rate data and provides the function `get_rates()` to provide for a given input temperature the `rate` list required in the solution above. Be careful what unit the temperature is in. In the trajectory, as indicated in the header, the unit is plain Kelvin, but in the reaction rate files it is in units of $10^9$K, also referred to as `T9`. \n",
    "    - Write the output of `str(get_rates(traj_data['T9'][0]))` as another line to the `results.txt` file. "
   ]
  },
  {
   "cell_type": "code",
   "execution_count": null,
   "metadata": {},
   "outputs": [],
   "source": [
    "from urllib import request"
   ]
  },
  {
   "cell_type": "code",
   "execution_count": null,
   "metadata": {},
   "outputs": [],
   "source": [
    "# let's use a dictionary to create a simple callable data base structure\n",
    "nucdata={}\n",
    "rows = ['T9','adopted','low','high']\n",
    "files=['12cpg13n.dat','13cpg14n.dat','14npg15o.dat','15npa12c.dat']"
   ]
  },
  {
   "cell_type": "code",
   "execution_count": null,
   "metadata": {},
   "outputs": [],
   "source": [
    "for file in files:\n",
    "    request.urlretrieve(\"http://www.astro.ulb.ac.be/nacreii/data/\"+file,file)\n",
    "    nucdata[file]={}\n",
    "    for i,row in enumerate(rows): nucdata[file][row] = \\\n",
    "        loadtxt(file,unpack=True)[i]"
   ]
  },
  {
   "cell_type": "code",
   "execution_count": null,
   "metadata": {},
   "outputs": [],
   "source": [
    "fints = {}\n",
    "for file in files:\n",
    "    fints[file]=interpolate.interp1d(nucdata[file]['T9'],log10(nucdata[file]['adopted']),kind='cubic')"
   ]
  },
  {
   "cell_type": "code",
   "execution_count": null,
   "metadata": {},
   "outputs": [],
   "source": [
    "def get_rates(T, files=files, fints=fints):\n",
    "    '''Get rates from files for given temperature\n",
    "    T : float\n",
    "      temperature in T9, unit 10^9K\n",
    "      '''\n",
    "    rate=[]\n",
    "    for file in files: rate.append(10**(fints[file](T)))\n",
    "    return rate"
   ]
  },
  {
   "cell_type": "code",
   "execution_count": null,
   "metadata": {},
   "outputs": [],
   "source": [
    "str(get_rates(traj_data['T9'][0]))"
   ]
  },
  {
   "cell_type": "code",
   "execution_count": null,
   "metadata": {},
   "outputs": [],
   "source": [
    "# write to results.txt\n",
    "fout=open('results.txt',mode='a')\n",
    "fout.write(str(get_rates(traj_data['T9'][0]))+'\\n')\n",
    "fout.close()"
   ]
  },
  {
   "cell_type": "code",
   "execution_count": null,
   "metadata": {},
   "outputs": [],
   "source": [
    "!cat results.txt"
   ]
  },
  {
   "cell_type": "markdown",
   "metadata": {},
   "source": [
    "4. Time-dependent temperature network solution. We now have the temperature evolution in function `T9int(time)` and we can get the list `rate` for any temperature. Therefore we can get the rates as a function of time when calculating the RHS. Therefore we will actually use the previously ignored time arguments `t` in `f_rhs(y,t)`. \n",
    "    - Identify the code cell from part 1 of this problem that needs to be changed to allow a solution for variable `T9` and therefore variable `rate`. Copy that cell below, and make the required changes. \n",
    "    - Use again `odeint` to solve the network ODE, making the necessary change to the function call.\n",
    "    - Plot all abundances in terms of mass fractions, once more.\n",
    "    - Add the final abundance of all species in one row as the last line to the `results.txt`.\n",
    "    - Bonus question: You may find that some abundances are showing erratic behaviour that you may suspect to be the result of lack of accuracy during that particular time of the integration. Study the docstring of the `odeint` method and identify a remedy for this problem, implement it and show the resulting improvement. "
   ]
  },
  {
   "cell_type": "code",
   "execution_count": null,
   "metadata": {
    "collapsed": true
   },
   "outputs": [],
   "source": [
    "def f_rhs(y,t):\n",
    "    '''Provide RHS for CN network equations\n",
    "    ''' \n",
    "\n",
    "    try: \n",
    "        T9 = T9int(t)\n",
    "    except:\n",
    "        print(\"Error in f_rhs: %10.3e\"%t)\n",
    "    rate = get_rates(T9)\n",
    "    terms = react_terms(y,rate)\n",
    "\n",
    "    dh1_dt  =  -terms.sum()\n",
    "    dhe4_dt =   terms[3]\n",
    "    dc12_dt =  -terms[0] + terms[3]\n",
    "    dc13_dt =  -terms[1] + terms[0]\n",
    "    dn14_dt =  -terms[2] + terms[1]\n",
    "    dn15_dt =  -terms[3] + terms[2]\n",
    "    \n",
    "    return array([dh1_dt,dhe4_dt,dc12_dt,dc13_dt,dn14_dt,dn15_dt])"
   ]
  },
  {
   "cell_type": "code",
   "execution_count": null,
   "metadata": {},
   "outputs": [],
   "source": [
    "# tester\n",
    "T9=T9int(t[50])\n",
    "rate=get_rates(T9)\n",
    "print(T9)\n",
    "react_terms(Y0,rate)"
   ]
  },
  {
   "cell_type": "code",
   "execution_count": null,
   "metadata": {},
   "outputs": [],
   "source": [
    "# tester\n",
    "Y0 = X0/A\n",
    "f_rhs(Y0,t[1])"
   ]
  },
  {
   "cell_type": "code",
   "execution_count": null,
   "metadata": {},
   "outputs": [],
   "source": [
    "# recall:\n",
    "# traj_data['time'],traj_data['T9'] are the trajectory data points\n",
    "# data_int['T9'](time) is the interpolation function that returns T9 for time\n",
    "\n",
    "# normal solution\n",
    "#Y=integrate.odeint(f_rhs,Y0,traj_data['time'])\n",
    "\n",
    "# solution with added attention to a critical period early on in the evolution, soln to bonus question\n",
    "Y=integrate.odeint(f_rhs,Y0,traj_data['time'],tcrit=traj_data['time'][5:8])"
   ]
  },
  {
   "cell_type": "code",
   "execution_count": null,
   "metadata": {},
   "outputs": [],
   "source": [
    "close(25);figure(25)\n",
    "for i in range(len(A)):\n",
    "    plot(log10(traj_data['time'][1:]),log10(Y.T[i][1:]*A[i]),label=elem[i]+str(int(A[i])),fillstyle='none',\\\n",
    "         linestyle=lstyles[mod(i,4)],marker=i+5,markevery=markevery)\n",
    "legend(loc=4)\n",
    "ylabel('mass fraction');xlabel('time/s')\n",
    "#ylim(-2e-6,2e-6)"
   ]
  },
  {
   "cell_type": "code",
   "execution_count": null,
   "metadata": {},
   "outputs": [],
   "source": [
    "# last abundances in mass fraction:\n",
    "Y[-1]*A"
   ]
  },
  {
   "cell_type": "code",
   "execution_count": null,
   "metadata": {},
   "outputs": [],
   "source": [
    "# write to results.txt\n",
    "fout=open('results.txt',mode='a')\n",
    "fout.write(str(Y[-1]*A)+str('\\n'))\n",
    "fout.close()"
   ]
  },
  {
   "cell_type": "code",
   "execution_count": null,
   "metadata": {},
   "outputs": [],
   "source": [
    "! cat results.txt"
   ]
  },
  {
   "cell_type": "markdown",
   "metadata": {},
   "source": [
    "## 2 Higher-order derivative"
   ]
  },
  {
   "cell_type": "markdown",
   "metadata": {},
   "source": [
    "In course notebook 5 we introduced a first-order accurate numerical derivative:\n",
    "\n",
    "### First-order derivative \n",
    "The derivative $\\frac{df}{dx}$ of a function $y=f(x)$ can be approximated by the difference equation \n",
    "$$ f'(x) \\approx \\frac{f(x+h) -f(x)}{h}.$$\n",
    "\n",
    "Why? Rearrange the Taylor expansion of $f(x)$\n",
    "$$\n",
    "f(x+h) = f(x) + hf^\\prime(x) + \\frac{1}{2}h^2f^{\\prime\\prime}(x)\n",
    " + \\frac{1}{6}h^3f^{\\prime\\prime\\prime}(x) + \\dots\n",
    "$$\n",
    "to solve for $f^\\prime(x)$ and discard order two and higher terms\n",
    "$$\n",
    "\\frac{1}{2}h^2f^{\\prime\\prime}(x)\n",
    " + \\frac{1}{6}h^3f^{\\prime\\prime\\prime}(x) + \\dots\n",
    "$$"
   ]
  },
  {
   "cell_type": "markdown",
   "metadata": {},
   "source": [
    "### Second-order derivative \n",
    "It is very easy to increase the order of the difference equation to second order, and thereby improve the accuracy. The idea is to take into account one more term of the Taylor expansion, then solve again for $f^\\prime(x)$ as shown below:\n",
    "\n",
    "$$\n",
    "f(x+h) = f(x) + hf^\\prime(x) + \\frac{1}{2}h^2f^{\\prime\\prime}(x)\n",
    "$$\n",
    " and solve for $f^\\prime(x)$ \n",
    "$$\n",
    "f^\\prime(x)  = \\frac{f(x+h) - f(x)}{h}  - \\frac{1}{2}hf^{\\prime\\prime}(x) \n",
    "$$\n",
    "\n",
    "with the second order derivative being approximate to first order by\n",
    "$$\n",
    "f^{\\prime\\prime}(x) \\approx \\frac{f'(x+h) -f'(x)}{h}\n",
    "$$\n",
    "\n",
    "* Implement a function `deriv2` which takes the same arguments as `deriv1` introduced in notebook 5, and test it for the third-order polynomial $f(x) = x^3$.\n",
    "* Create a convergence test plot as in Figure 2 in notebook 5 that shows the dependence of the residual 'log10 (df/dx - 3.0)' as a function of `log10(h)` where $h = 10^{n_{pow}}$ and `npow=[0, -1, ..., -10]`.\n",
    "* Add to the `results.txt` file the line `Residual first- and second-order for npow=-2: ...` replacing the dots `...` with the two numbers at that value of h for both derivatives."
   ]
  },
  {
   "cell_type": "code",
   "execution_count": null,
   "metadata": {},
   "outputs": [],
   "source": [
    "deriv1 = lambda f,x,h: (f(x+h) - f(x)) / h\n",
    "def deriv2(f,x,h):\n",
    "    deriv1 = lambda f,x,h: (f(x+h) - f(x)) / h\n",
    "    f2p = (deriv1(f,x+h,h) - deriv1(f,x,h))/h\n",
    "    fp  = deriv1(f,x,h) - (h/2.)*f2p\n",
    "    return fp"
   ]
  },
  {
   "cell_type": "code",
   "execution_count": null,
   "metadata": {},
   "outputs": [],
   "source": [
    "f = lambda x: x**3    # function"
   ]
  },
  {
   "cell_type": "code",
   "execution_count": null,
   "metadata": {},
   "outputs": [],
   "source": [
    "deriv2(f,1,1.e-1) -3."
   ]
  },
  {
   "cell_type": "code",
   "execution_count": null,
   "metadata": {},
   "outputs": [],
   "source": [
    "deriv1(f,1,1.e-1) -3."
   ]
  },
  {
   "cell_type": "code",
   "execution_count": null,
   "metadata": {},
   "outputs": [],
   "source": [
    "# in order to vectorize wrap the function to isolate the \n",
    "# variable over which we should loop turn a scalar function \n",
    "# into a vectorized function\n",
    "# second-order\n",
    "def hdev(h):\n",
    "    return deriv2(f,1.,h)\n",
    "vhdev = vectorize(hdev)"
   ]
  },
  {
   "cell_type": "code",
   "execution_count": null,
   "metadata": {},
   "outputs": [],
   "source": [
    "# first-order\n",
    "\n",
    "def hdev1(h):\n",
    "    return deriv1(f,1.,h)\n",
    "vhdev1 = vectorize(hdev1)"
   ]
  },
  {
   "cell_type": "code",
   "execution_count": null,
   "metadata": {},
   "outputs": [],
   "source": [
    "h_pow = range(0,-11,-1)\n",
    "h = 10**array(h_pow, dtype=float)"
   ]
  },
  {
   "cell_type": "code",
   "execution_count": null,
   "metadata": {},
   "outputs": [],
   "source": [
    "d2=log10(abs(vhdev(h)-3.0))"
   ]
  },
  {
   "cell_type": "code",
   "execution_count": null,
   "metadata": {},
   "outputs": [],
   "source": [
    "d1=log10(abs(vhdev1(h)-3.0))"
   ]
  },
  {
   "cell_type": "code",
   "execution_count": null,
   "metadata": {},
   "outputs": [],
   "source": [
    "d1"
   ]
  },
  {
   "cell_type": "code",
   "execution_count": null,
   "metadata": {},
   "outputs": [],
   "source": [
    "d2"
   ]
  },
  {
   "cell_type": "code",
   "execution_count": null,
   "metadata": {},
   "outputs": [],
   "source": [
    "close(2);figure(2)\n",
    "plot(h_pow,d1 ,'o:',label='1st order')\n",
    "plot(h_pow,d2 ,'*--',label='2nd order')\n",
    "xlim(0,-10.5), ylabel('log10 (df/dx - 3.0)'), xlabel('log h')\n",
    "legend()"
   ]
  },
  {
   "cell_type": "code",
   "execution_count": null,
   "metadata": {},
   "outputs": [],
   "source": [
    "# write to results.txt\n",
    "fout=open('results.txt',mode='a')\n",
    "fout.write(\"Residual first- and second-order for npow=-2: %10.4e %10.4e\"%(10**d1[2],10**d2[2]))\n",
    "fout.close()"
   ]
  },
  {
   "cell_type": "code",
   "execution_count": null,
   "metadata": {},
   "outputs": [],
   "source": [
    "cat results.txt"
   ]
  },
  {
   "cell_type": "markdown",
   "metadata": {},
   "source": [
    "## Notes not part of Assignment solution\n",
    "### For the record: how I wrote the trajectory\n",
    "For this problem I am inventing a trajectory that has appropriate time scales for a linearly decreasing temperature from 400MK to 80MK. The time scale for the reactions is proportional to 1/rate. Starting with the highest T and then proceeding to the lowest T means that we start with small time steps which are then increasing, and when plotting the results we can conveniently use a log scale for the x axis. \n",
    "\n",
    "In order to create the artificial trajectory below the gunction `get_rates` needs to be defined below first."
   ]
  },
  {
   "cell_type": "code",
   "execution_count": null,
   "metadata": {},
   "outputs": [],
   "source": [
    "TT=linspace(0.4,0.08)"
   ]
  },
  {
   "cell_type": "code",
   "execution_count": null,
   "metadata": {},
   "outputs": [],
   "source": [
    "thung=0\n",
    "tt = []\n",
    "tt.append(thung)\n",
    "for T in TT[1:]:\n",
    "    thung = thung + 1./get_rates(T)[2]\n",
    "    tt.append(thung)"
   ]
  },
  {
   "cell_type": "code",
   "execution_count": null,
   "metadata": {},
   "outputs": [],
   "source": [
    "header=\"A trajectory with a range of temperature characteristic for \\n\\\n",
    "H burning from the hottest conditions found in nova (400MK) to the \\n\\\n",
    "coolest conditions found in low-mass main-sequence burning stars. The \\n\\\n",
    "time scale for the reactions is scales with 1/rate. Starting with the \\n\\\n",
    "highest T and then proceeding to the lowest T means that we start with \\n\\\n",
    "small time steps which are then increasing, and when plotting the \\n\\\n",
    "results we can conveniently use a log scale for the x axis. \\n\\\n",
    "In this way the trajectory demonstrates the network behaviour for \\n\\\n",
    "a range of conditions encountered in real stars. \\n\\\n",
    "\\n\\\n",
    " Columns: time / [s], T9 / [10**9 K] \"\n",
    "writedata=array([tt,TT])"
   ]
  },
  {
   "cell_type": "code",
   "execution_count": null,
   "metadata": {},
   "outputs": [],
   "source": [
    "savetxt('T-evol.dat',writedata.T,header=header)"
   ]
  },
  {
   "cell_type": "code",
   "execution_count": null,
   "metadata": {},
   "outputs": [],
   "source": [
    "#cat T-evol.dat"
   ]
  },
  {
   "cell_type": "code",
   "execution_count": null,
   "metadata": {},
   "outputs": [],
   "source": [
    "\n",
    "traj_data = {}\n",
    "traj_data['T9']  = TT\n",
    "traj_data['time'] = tt\n",
    "data_int = {}\n",
    "data_int['T9'] = interpolate.interp1d(traj_data['time'],traj_data['T9'],\\\n",
    "                 kind='linear',fill_value='extrapolate')"
   ]
  },
  {
   "cell_type": "code",
   "execution_count": null,
   "metadata": {},
   "outputs": [],
   "source": [
    "close(2754);figure(2754)\n",
    "plot(log10(traj_data['time']),traj_data['T9'] )\n",
    "xlabel('$log_{10} (time/[s])$');ylabel('$T_9 / [10^9K]$')"
   ]
  },
  {
   "cell_type": "code",
   "execution_count": null,
   "metadata": {},
   "outputs": [],
   "source": []
  },
  {
   "cell_type": "code",
   "execution_count": null,
   "metadata": {},
   "outputs": [],
   "source": []
  }
 ],
 "metadata": {
  "kernelspec": {
   "display_name": "Python 3",
   "language": "python",
   "name": "python3"
  },
  "language_info": {
   "codemirror_mode": {
    "name": "ipython",
    "version": 3
   },
   "file_extension": ".py",
   "mimetype": "text/x-python",
   "name": "python",
   "nbconvert_exporter": "python",
   "pygments_lexer": "ipython3",
   "version": "3.6.7"
  }
 },
 "nbformat": 4,
 "nbformat_minor": 2
}
