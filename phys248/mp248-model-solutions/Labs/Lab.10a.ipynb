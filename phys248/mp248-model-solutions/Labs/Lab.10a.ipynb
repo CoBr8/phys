{
 "cells": [
  {
   "cell_type": "markdown",
   "metadata": {},
   "source": [
    "# Lab 10a"
   ]
  },
  {
   "cell_type": "markdown",
   "metadata": {
    "deletable": true,
    "editable": true
   },
   "source": [
    "## Exercise 1\n",
    "The [Lotka–Volterra equations](https://en.wikipedia.org/wiki/Lotka%E2%80%93Volterra_equations), also known as the predator–prey equations, represent a model for an interacting predator and a prey population:\n",
    " \n",
    " $$ \\frac{dx}{dt} = \\alpha x - \\beta x y$$ \n",
    " \n",
    " $$\\frac{dy}{dt} = \\delta xy -\\gamma y$$ \n",
    " \n",
    " where:\n",
    " * $x$ number of prey\n",
    " * $y$ number of predetors\n",
    " * and $\\alpha$, $\\beta$, $\\delta$ and $\\gamma$ are parameters that describe the interaction between the two species.\n",
    " \n",
    "1. Write the code to solve the Lotka–Volterra equations equations using first the `scipy.integrate.odeint` and  then the `integrate.solve_ivp` method. \n",
    "2. Create a plot with the evolution of prey and predetor for the parameters $\\alpha=2/3$, $\\beta=4/3$, $\\delta=1$ and $\\gamma=1/2$ for the time interval $[0,35]$ for each solution. Make a plot that shows the prey population which shows both solutions. Are you satisfied with the agreement?\n",
    "3. Integrate the ODE with both solvers to $t=350$ and plot the prey population. Also zoom in to view in detail just the last 35 time units. Are you still satisfied? What is the solver you prefer for this problem, and why?\n",
    "\n",
    "Note: make sure that you are using for each line a different compination of linestyle and color to make distinguishing the lines very easy."
   ]
  },
  {
   "cell_type": "code",
   "execution_count": 1,
   "metadata": {
    "collapsed": true,
    "deletable": true,
    "editable": true
   },
   "outputs": [
    {
     "name": "stdout",
     "output_type": "stream",
     "text": [
      "Populating the interactive namespace from numpy and matplotlib\n"
     ]
    }
   ],
   "source": [
    "%pylab ipympl\n",
    "from scipy.integrate import odeint"
   ]
  },
  {
   "cell_type": "code",
   "execution_count": 2,
   "metadata": {
    "collapsed": false,
    "deletable": true,
    "editable": true
   },
   "outputs": [],
   "source": [
    "# parameters and initial conditions\n",
    "a=4/3; b=4/3; d=1.0; g=1/2\n",
    "state0 = [0.2, 0.5]\n",
    "tmin,tmax = (0,350)"
   ]
  },
  {
   "cell_type": "markdown",
   "metadata": {},
   "source": [
    "### odeint solution"
   ]
  },
  {
   "cell_type": "code",
   "execution_count": 3,
   "metadata": {},
   "outputs": [
    {
     "data": {
      "application/vnd.jupyter.widget-view+json": {
       "model_id": "cfe1bd0e52e643a5b8ef20c356977a5b",
       "version_major": 2,
       "version_minor": 0
      },
      "text/plain": [
       "FigureCanvasNbAgg()"
      ]
     },
     "metadata": {},
     "output_type": "display_data"
    },
    {
     "data": {
      "text/plain": [
       "<Figure size 640x480 with 0 Axes>"
      ]
     },
     "execution_count": 3,
     "metadata": {},
     "output_type": "execute_result"
    }
   ],
   "source": [
    "ifig = 7; close(ifig); figure(ifig)"
   ]
  },
  {
   "cell_type": "code",
   "execution_count": 4,
   "metadata": {
    "collapsed": false,
    "deletable": true,
    "editable": true
   },
   "outputs": [
    {
     "data": {
      "text/plain": [
       "Text(0, 0.5, 'population')"
      ]
     },
     "execution_count": 4,
     "metadata": {},
     "output_type": "execute_result"
    }
   ],
   "source": [
    "def fl(state, t):\n",
    "    x, y = state  # unpack the state vector\n",
    "    return a*x - b*x*y, d*x*y - g*y\n",
    "\n",
    "\n",
    "t = arange(tmin, tmax, 0.001)\n",
    "\n",
    "states = odeint(fl, state0, t)\n",
    "\n",
    "plot(t,states[:,0],label='odeint, prey')\n",
    "plot(t,states[:,1],'-.',label='odeint, predator')\n",
    "legend(loc=0); xlabel('time'); ylabel('population')"
   ]
  },
  {
   "cell_type": "markdown",
   "metadata": {},
   "source": [
    "### solve_ivp solution"
   ]
  },
  {
   "cell_type": "code",
   "execution_count": 5,
   "metadata": {
    "collapsed": false,
    "editable": true
   },
   "outputs": [],
   "source": [
    "from scipy.integrate import solve_ivp\n",
    "def fl_sivp(t,state,parms):\n",
    "    a,b,d,g = parms  # unpack parameter vector\n",
    "    x, y = state     # unpack the state vector\n",
    "    return (a*x - b*x*y, d*x*y - g*y)\n",
    "\n",
    "state0 = array([0.2, 0.5])\n",
    "parms=(a,b,d,g)\n",
    "t_eval = arange(tmin, tmax, 0.01)"
   ]
  },
  {
   "cell_type": "code",
   "execution_count": 6,
   "metadata": {
    "collapsed": false,
    "editable": true
   },
   "outputs": [],
   "source": [
    "rhs = lambda t,y: fl_sivp(t,y,parms)\n",
    "sol = solve_ivp(rhs,[tmin,tmax],state0,t_eval=t_eval)"
   ]
  },
  {
   "cell_type": "code",
   "execution_count": 7,
   "metadata": {},
   "outputs": [
    {
     "data": {
      "text/plain": [
       "  message: 'The solver successfully reached the end of the integration interval.'\n",
       "     nfev: 3104\n",
       "     njev: 0\n",
       "      nlu: 0\n",
       "      sol: None\n",
       "   status: 0\n",
       "  success: True\n",
       "        t: array([0.0000e+00, 1.0000e-02, 2.0000e-02, ..., 3.4997e+02, 3.4998e+02,\n",
       "       3.4999e+02])\n",
       " t_events: None\n",
       "        y: array([[0.2       , 0.2013398 , 0.20269259, ..., 0.05621678, 0.05636696,\n",
       "        0.05652021],\n",
       "       [0.5       , 0.49850558, 0.49702232, ..., 0.80168098, 0.79813176,\n",
       "        0.79459945]])"
      ]
     },
     "execution_count": 7,
     "metadata": {},
     "output_type": "execute_result"
    }
   ],
   "source": [
    "sol"
   ]
  },
  {
   "cell_type": "code",
   "execution_count": 8,
   "metadata": {
    "collapsed": false,
    "editable": true
   },
   "outputs": [
    {
     "data": {
      "application/vnd.jupyter.widget-view+json": {
       "model_id": "ccb73687e8b049b1a36d6812789655cd",
       "version_major": 2,
       "version_minor": 0
      },
      "text/plain": [
       "FigureCanvasNbAgg()"
      ]
     },
     "metadata": {},
     "output_type": "display_data"
    },
    {
     "data": {
      "text/plain": [
       "Text(0.5, 1.0, 'solve_ivp')"
      ]
     },
     "execution_count": 8,
     "metadata": {},
     "output_type": "execute_result"
    }
   ],
   "source": [
    "ifig = 3; close(ifig); figure(ifig)\n",
    "plot(t_eval,sol.y[0],label='prey')\n",
    "plot(t_eval,sol.y[1],label='predator')\n",
    "legend(loc=0); xlabel('time'); ylabel('population')\n",
    "title('solve_ivp')"
   ]
  },
  {
   "cell_type": "markdown",
   "metadata": {},
   "source": [
    "### Observation\n",
    "The solution fluctuates with this solver in an irregular pattern. Is this correct?"
   ]
  },
  {
   "cell_type": "code",
   "execution_count": 9,
   "metadata": {},
   "outputs": [
    {
     "data": {
      "application/vnd.jupyter.widget-view+json": {
       "model_id": "8857ea7d7da5478596c7685442053d33",
       "version_major": 2,
       "version_minor": 0
      },
      "text/plain": [
       "FigureCanvasNbAgg()"
      ]
     },
     "metadata": {},
     "output_type": "display_data"
    },
    {
     "data": {
      "text/plain": [
       "<matplotlib.legend.Legend at 0x7f0ffdc7ef98>"
      ]
     },
     "execution_count": 9,
     "metadata": {},
     "output_type": "execute_result"
    }
   ],
   "source": [
    "figure(8)\n",
    "plot(t,states[:,0],label='odeint, prey')\n",
    "plot(t_eval,sol.y[0],'--',label='solve_ivp, prey')\n",
    "legend()\n"
   ]
  },
  {
   "cell_type": "markdown",
   "metadata": {},
   "source": [
    "The comparison between the two solvers shows this to be a substantial effect. Could the `solve_ivp` be correct? I the predetor-prey model maybe chaotic? No! [The Poincaré–Bendixson theorem states that a two-dimensional differential equation has very regular behavior.](https://en.wikipedia.org/wiki/Chaos_theory). The `solve_ivp` solver with the default methods and parameters simply does not do a very good job for this problem. This becomes clear when we compare the evolution of prey at the end of a longer run. Not only the amplitude differs by >10%.  The phase has shifted as well."
   ]
  },
  {
   "cell_type": "code",
   "execution_count": 10,
   "metadata": {},
   "outputs": [
    {
     "data": {
      "application/vnd.jupyter.widget-view+json": {
       "model_id": "55754899b41345acab9f8555fbd240e6",
       "version_major": 2,
       "version_minor": 0
      },
      "text/plain": [
       "FigureCanvasNbAgg()"
      ]
     },
     "metadata": {},
     "output_type": "display_data"
    },
    {
     "data": {
      "text/plain": [
       "(315.0, 350)"
      ]
     },
     "execution_count": 10,
     "metadata": {},
     "output_type": "execute_result"
    }
   ],
   "source": [
    "figure(9)\n",
    "plot(t,states[:,0],label='odeint, prey')\n",
    "plot(t_eval,sol.y[0],'--',label='solve_ivp, prey')\n",
    "legend()\n",
    "xlim(0.9*tmax,tmax)"
   ]
  },
  {
   "cell_type": "code",
   "execution_count": null,
   "metadata": {},
   "outputs": [],
   "source": []
  },
  {
   "cell_type": "code",
   "execution_count": null,
   "metadata": {},
   "outputs": [],
   "source": []
  }
 ],
 "metadata": {
  "kernelspec": {
   "display_name": "Python 3",
   "language": "python",
   "name": "python3"
  },
  "language_info": {
   "codemirror_mode": {
    "name": "ipython",
    "version": 3
   },
   "file_extension": ".py",
   "mimetype": "text/x-python",
   "name": "python",
   "nbconvert_exporter": "python",
   "pygments_lexer": "ipython3",
   "version": "3.6.7"
  }
 },
 "nbformat": 4,
 "nbformat_minor": 2
}
