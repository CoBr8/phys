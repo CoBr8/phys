{
 "cells": [
  {
   "cell_type": "markdown",
   "metadata": {},
   "source": [
    "# Lab 11a\n",
    "In this lab you are going to use tools covered in course notebooks 3 and 4, so you should review those before you start, especially the part on interpolation in course notebook 4 and on how to read a file with a number of columns using, for example, numpy's `loadtxt` method in course notebook number 3. \n",
    "\n",
    "In notebook 11 we are using reaction rate coefficients to determine the species production and destruction terms on the right-hand side of the set of ODEs. There, for simplcity we have just populated one list called `rate`  with the four values needed for a particular temperature. This means that we can only solve the equations for one constant temperature, which is quite limiting and not very realistic. We wish to expand on this by reading in the complete T-dependent data table for each reaction and assign it to a suitable variable type and creating a function that takes the temperature as an argument and returns a `rate` list for all four reactions for that temperature. This will allow is in a next step to solve the network for a so-called trajectory, in which the temperature changes as a function of time according to the changing conditions in a star or supernova explosion.\n",
    "\n",
    "Specifically, to the following:\n",
    "\n",
    "* Devise a code cell that will download (look into the `urllib.request.urlretrieve` method) the required files from the NACRE web page, the URLs are typically something like `http://www.astro.ulb.ac.be/nacreii/data/12cpg13n.dat` - check the details on their web page linked from the course notebook.\n",
    "* Make a plot of all four rates in the T range `(0.004,0.05)`. Plot the `log10` of the reaction rate. Make sure that you use different markers, linestyles and colors. Plot the column `adopted` from the data file.\n",
    "* Use `interpolate.interp1d` to interpolate the data table for a given temperature T.\n",
    "* Combine everyting into a function that can be called as follows:\n",
    "\n",
    "```python\n",
    "rate = get_rates(0.09)\n",
    "```\n",
    "yields the output\n",
    "```python\n",
    "print(rate)\n",
    "[7.359999999999993e-06, 3.520000000000005e-05, 2.3599999999999936e-07, 0.020300000000000016]\n",
    "```\n",
    "\n",
    "This code may be useful to provide lists of markers and linestyles that can be used in a loop that plots all four lines:\n",
    "```python\n",
    "from matplotlib import markers\n",
    "mstyles = markers.MarkerStyle.filled_markers\n",
    "from matplotlib import lines\n",
    "lstyles = list(lines.lineStyles.keys())[0:4]\n",
    "```"
   ]
  },
  {
   "cell_type": "code",
   "execution_count": 1,
   "metadata": {},
   "outputs": [
    {
     "name": "stdout",
     "output_type": "stream",
     "text": [
      "Populating the interactive namespace from numpy and matplotlib\n"
     ]
    }
   ],
   "source": [
    "%pylab ipympl\n",
    "from urllib import request"
   ]
  },
  {
   "cell_type": "code",
   "execution_count": 2,
   "metadata": {},
   "outputs": [],
   "source": [
    "# let's use a dictionary to create a simple callable data base structure\n",
    "nucdata={}\n",
    "rows = ['T9','adopted','low','high']\n",
    "files=['12cpg13n.dat','13cpg14n.dat','14npg15o.dat','15npa12c.dat']\n"
   ]
  },
  {
   "cell_type": "code",
   "execution_count": 3,
   "metadata": {},
   "outputs": [],
   "source": [
    "for file in files:\n",
    "    #request.urlretrieve(\"http://www.astro.ulb.ac.be/nacreii/data/\"+file,file)\n",
    "    nucdata[file]={}\n",
    "    for i,row in enumerate(rows): nucdata[file][row] = \\\n",
    "        loadtxt(file,unpack=True)[i]"
   ]
  },
  {
   "cell_type": "code",
   "execution_count": 4,
   "metadata": {},
   "outputs": [],
   "source": [
    "from matplotlib import markers\n",
    "mstyles = markers.MarkerStyle.filled_markers\n",
    "from matplotlib import lines\n",
    "lstyles = list(lines.lineStyles.keys())[0:4]"
   ]
  },
  {
   "cell_type": "code",
   "execution_count": 5,
   "metadata": {},
   "outputs": [
    {
     "data": {
      "application/vnd.jupyter.widget-view+json": {
       "model_id": "1739605c850148838e60a54b0bf12ad5",
       "version_major": 2,
       "version_minor": 0
      },
      "text/plain": [
       "FigureCanvasNbAgg()"
      ]
     },
     "metadata": {},
     "output_type": "display_data"
    },
    {
     "data": {
      "text/plain": [
       "<matplotlib.legend.Legend at 0x7f55283b5f98>"
      ]
     },
     "execution_count": 5,
     "metadata": {},
     "output_type": "execute_result"
    }
   ],
   "source": [
    "close(12);figure(12)\n",
    "for i,file in enumerate(files):\n",
    "    plot(nucdata[file]['T9'],log10(nucdata[file]['adopted']),\\\n",
    "         label=file,linestyle=lstyles[i],marker=mstyles[i],fillstyle='none')\n",
    "xlim(0.004,0.05),ylim(-24,-4);legend()"
   ]
  },
  {
   "cell_type": "code",
   "execution_count": 6,
   "metadata": {},
   "outputs": [],
   "source": [
    "# now we setup  a function to get a four-vector of \n",
    "# rates for a given temperature\n",
    "# nucdata[file]['T9'],log10(nucdata[file]['adopted']"
   ]
  },
  {
   "cell_type": "code",
   "execution_count": 22,
   "metadata": {},
   "outputs": [],
   "source": [
    "from scipy import interpolate\n",
    "fints = {}\n",
    "for file in files:\n",
    "    fints[file]=interpolate.interp1d(nucdata[file]['T9'],log10(nucdata[file]['adopted']),kind='cubic')"
   ]
  },
  {
   "cell_type": "code",
   "execution_count": 23,
   "metadata": {},
   "outputs": [
    {
     "data": {
      "text/plain": [
       "<matplotlib.legend.Legend at 0x7ff7b6f13d30>"
      ]
     },
     "execution_count": 23,
     "metadata": {},
     "output_type": "execute_result"
    }
   ],
   "source": [
    "TT=linspace(0.01,0.05,100)\n",
    "figure(12)\n",
    "plot(TT,fints[file](TT),label=file+' interp')\n",
    "legend()"
   ]
  },
  {
   "cell_type": "code",
   "execution_count": 24,
   "metadata": {},
   "outputs": [],
   "source": [
    "def get_rates(T, files=files, fints=fints):\n",
    "    '''Get rates from files for given temperature\n",
    "    T : float\n",
    "      temperature in T9, unit 10^9K\n",
    "      '''\n",
    "    rate=[]\n",
    "    for file in files: rate.append(10**(fints[file](T)))\n",
    "    return rate"
   ]
  },
  {
   "cell_type": "code",
   "execution_count": 35,
   "metadata": {},
   "outputs": [],
   "source": [
    "rate = get_rates(0.09)"
   ]
  },
  {
   "cell_type": "code",
   "execution_count": 37,
   "metadata": {},
   "outputs": [
    {
     "name": "stdout",
     "output_type": "stream",
     "text": [
      "[7.359999999999993e-06, 3.520000000000005e-05, 2.3599999999999936e-07, 0.020300000000000016]\n"
     ]
    }
   ],
   "source": [
    "print(rate)"
   ]
  },
  {
   "cell_type": "code",
   "execution_count": 34,
   "metadata": {},
   "outputs": [
    {
     "data": {
      "text/plain": [
       "5.7e-07"
      ]
     },
     "execution_count": 34,
     "metadata": {},
     "output_type": "execute_result"
    }
   ],
   "source": [
    "nucdata['12cpg13n.dat']['adopted'][where(nucdata['12cpg13n.dat']['T9']==0.07)[0][0]]"
   ]
  },
  {
   "cell_type": "code",
   "execution_count": 40,
   "metadata": {},
   "outputs": [
    {
     "data": {
      "text/plain": [
       "['12cpg13n.dat', '13cpg14n.dat', '14npg15o.dat', '15npa12c.dat']"
      ]
     },
     "execution_count": 40,
     "metadata": {},
     "output_type": "execute_result"
    }
   ],
   "source": [
    "files[]"
   ]
  },
  {
   "cell_type": "code",
   "execution_count": null,
   "metadata": {},
   "outputs": [],
   "source": []
  }
 ],
 "metadata": {
  "kernelspec": {
   "display_name": "Python 3",
   "language": "python",
   "name": "python3"
  },
  "language_info": {
   "codemirror_mode": {
    "name": "ipython",
    "version": 3
   },
   "file_extension": ".py",
   "mimetype": "text/x-python",
   "name": "python",
   "nbconvert_exporter": "python",
   "pygments_lexer": "ipython3",
   "version": "3.6.7"
  }
 },
 "nbformat": 4,
 "nbformat_minor": 2
}
