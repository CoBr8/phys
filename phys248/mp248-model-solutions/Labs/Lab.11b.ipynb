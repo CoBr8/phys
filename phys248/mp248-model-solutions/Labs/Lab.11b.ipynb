{
 "cells": [
  {
   "cell_type": "markdown",
   "metadata": {},
   "source": [
    "# Lab 11b\n",
    "In this lab activities guide you to practice basic skills that were previously covered but can use some refreshing. Some of these are particularly useful for Assignment 3.\n",
    "\n",
    "\n",
    "## Activity 1\n",
    "In notebook 3 you have seen numpy's `loadtxt` function. Pull up the docstring again and study the arguments. Note the difference between required and optional arguments (the ones with equal signs). Specifically pay attention to the `unpack` option and the `usecols` options.\n",
    "\n",
    "In the `data` directory you find a data file with surface properties a model star with a mass 20 times that of the sun, as a function of time. The header describes that the colums are. Open the file and have a look. Recall that you can turn any code cell into a bash cell with the command `%%bash` in the first line. One-line bash commands, such as `cat` or `head` will be understood even without that in a regular python code cell.\n",
    "\n",
    "Use the `loadtxt` function to read the data in the file.\n",
    "\n",
    "Make a plot of \n",
    "1. The log10 stellar luminosity as a function of the log10 effective temperature. It is customary in astronomy to have the temperature decrease on the abscissa so that cooler, redder objects would be on the right of the diagram. \n",
    "2. log10 R as a function of time (star_age).\n",
    "Save each of these plots to a png image using the `savefig('filename.png')` command."
   ]
  },
  {
   "cell_type": "code",
   "execution_count": 1,
   "metadata": {},
   "outputs": [
    {
     "name": "stdout",
     "output_type": "stream",
     "text": [
      "# 20Msun surface properties as a function of time; \n",
      "# Created with notebook \"20Msun-surfacedata.ipynb\" on \n",
      "# NuGrid server http://wendi1.phys.uvic.ca\n",
      "# Cols:   star_age [yr], log_L [log10 L/Lsun],    log_Teff [log10 T/K],    log_R [log10 R/Rsun],    log_g [log g [cgs]]\n",
      "6.250000000000001682e-11 4.190689950571043099e+00 3.502630060967596215e+00 2.613343689802956948e+00 5.122319694711924276e-01\n",
      "1.125000000000000122e-10 4.201859950931701171e+00 3.505438802160207867e+00 2.613311207598062680e+00 5.122969338809815198e-01\n",
      "1.632832422125913382e-10 4.201845966017196510e+00 3.505434574592834807e+00 2.613312670275556027e+00 5.122940085259944931e-01\n",
      "2.242231328677009345e-10 4.201830559252612396e+00 3.505431514088626965e+00 2.613311087901679652e+00 5.122971732737475747e-01\n",
      "2.973510016538324708e-10 4.201817920746989010e+00 3.505428314856145811e+00 2.613311167113830269e+00 5.122970148494456755e-01\n",
      "3.851044441971902420e-10 4.201803894054688016e+00 3.505424779181427475e+00 2.613311225117116887e+00 5.122968988428727721e-01\n"
     ]
    }
   ],
   "source": [
    "!head ../data/M20star-surface.dat"
   ]
  },
  {
   "cell_type": "code",
   "execution_count": 2,
   "metadata": {},
   "outputs": [
    {
     "name": "stdout",
     "output_type": "stream",
     "text": [
      "Populating the interactive namespace from numpy and matplotlib\n"
     ]
    }
   ],
   "source": [
    "%pylab ipympl"
   ]
  },
  {
   "cell_type": "code",
   "execution_count": 3,
   "metadata": {},
   "outputs": [],
   "source": [
    "star_age,log_L,log_Teff,log_R,log_g = loadtxt('../data/M20star-surface.dat',unpack=True)"
   ]
  },
  {
   "cell_type": "code",
   "execution_count": 4,
   "metadata": {},
   "outputs": [
    {
     "data": {
      "application/vnd.jupyter.widget-view+json": {
       "model_id": "",
       "version_major": 2,
       "version_minor": 0
      },
      "text/plain": [
       "FigureCanvasNbAgg()"
      ]
     },
     "metadata": {},
     "output_type": "display_data"
    },
    {
     "ename": "TypeError",
     "evalue": "'tuple' object is not callable",
     "output_type": "error",
     "traceback": [
      "\u001b[0;31m---------------------------------------------------------------------------\u001b[0m",
      "\u001b[0;31mTypeError\u001b[0m                                 Traceback (most recent call last)",
      "\u001b[0;32m<ipython-input-4-bf450d8d5618>\u001b[0m in \u001b[0;36m<module>\u001b[0;34m\u001b[0m\n\u001b[1;32m      1\u001b[0m \u001b[0mfigure\u001b[0m\u001b[0;34m(\u001b[0m\u001b[0;36m115\u001b[0m\u001b[0;34m)\u001b[0m\u001b[0;34m\u001b[0m\u001b[0;34m\u001b[0m\u001b[0m\n\u001b[0;32m----> 2\u001b[0;31m \u001b[0;34m(\u001b[0m\u001b[0;36m4.551\u001b[0m\u001b[0;34m,\u001b[0m \u001b[0;36m4.365\u001b[0m\u001b[0;34m)\u001b[0m\u001b[0;34m(\u001b[0m\u001b[0;36m4.620\u001b[0m\u001b[0;34m,\u001b[0m \u001b[0;36m5.089\u001b[0m\u001b[0;34m)\u001b[0m\u001b[0;34m\u001b[0m\u001b[0;34m\u001b[0m\u001b[0m\n\u001b[0m",
      "\u001b[0;31mTypeError\u001b[0m: 'tuple' object is not callable"
     ]
    }
   ],
   "source": [
    "figure(115)\n",
    "(4.551, 4.365)(4.620, 5.089)"
   ]
  },
  {
   "cell_type": "code",
   "execution_count": 5,
   "metadata": {},
   "outputs": [
    {
     "data": {
      "application/vnd.jupyter.widget-view+json": {
       "model_id": "d3784561daf34cbe83782d774089afc0",
       "version_major": 2,
       "version_minor": 0
      },
      "text/plain": [
       "FigureCanvasNbAgg()"
      ]
     },
     "metadata": {},
     "output_type": "display_data"
    }
   ],
   "source": [
    "close(115),figure(115)\n",
    "plot(log_Teff,log_L)\n",
    "xlim(1.05*max(log_Teff),0.95*min(log_Teff))\n",
    "xlabel('log Teff');ylabel('log L')\n",
    "savefig('hrd.png')"
   ]
  },
  {
   "cell_type": "code",
   "execution_count": 6,
   "metadata": {},
   "outputs": [
    {
     "data": {
      "application/vnd.jupyter.widget-view+json": {
       "model_id": "1f55abff72dc4ec1ab873afaa0f6bf32",
       "version_major": 2,
       "version_minor": 0
      },
      "text/plain": [
       "FigureCanvasNbAgg()"
      ]
     },
     "metadata": {},
     "output_type": "display_data"
    },
    {
     "data": {
      "text/plain": [
       "Text(0, 0.5, 'log R')"
      ]
     },
     "execution_count": 6,
     "metadata": {},
     "output_type": "execute_result"
    }
   ],
   "source": [
    "close(116),figure(116)\n",
    "plot(star_age,log_R)\n",
    "xlabel('star_age');ylabel('log R')"
   ]
  },
  {
   "cell_type": "markdown",
   "metadata": {},
   "source": [
    "## Activity 2\n",
    "Accordung to fundamental physics the surface temperature and luminosity should be related to the radius of the star according to the [Stefan-Boltzmann law](https://en.wikipedia.org/wiki/Stefan%E2%80%93Boltzmann_law). Specifically for stars it can be cast as\n",
    "$$\n",
    "L = 4 \\pi R^2  \\sigma T_\\mathrm{eff}^4\n",
    "$$\n",
    "where $\\sigma$ is the Stefan-Boltzmann constant, and $R$, $L$ and $T_\\mathrm{eff}$ are the star's radius, luminosity and _effective_ temperature. \n",
    "\n",
    "Use the radius and temperature read from the file, and the astropy constant and units package to calculate $L$. Compare that Stefan-Boltzmann L to the L from the file. They should be the same! Are they?\n",
    "\n",
    "Hint: The units package has solar radius etc as units, e.g. `units.Rsun`. Also remember that the `astropy.constants` package provides just that!"
   ]
  },
  {
   "cell_type": "code",
   "execution_count": 7,
   "metadata": {},
   "outputs": [],
   "source": [
    "from astropy import constants as const\n",
    "from astropy import units as units"
   ]
  },
  {
   "cell_type": "code",
   "execution_count": 8,
   "metadata": {},
   "outputs": [],
   "source": [
    "L_sb = lambda R,Teff: 4.*pi*const.sigma_sb * R**2 * Teff**4"
   ]
  },
  {
   "cell_type": "code",
   "execution_count": 9,
   "metadata": {},
   "outputs": [],
   "source": [
    "R    = 10**log_R * units.Rsun\n",
    "Teff = 10**log_Teff * units.K"
   ]
  },
  {
   "cell_type": "code",
   "execution_count": 10,
   "metadata": {},
   "outputs": [],
   "source": [
    "log_diff = log10(L_sb(R,Teff).to('Lsun').value)-log_L"
   ]
  },
  {
   "cell_type": "code",
   "execution_count": 11,
   "metadata": {},
   "outputs": [
    {
     "data": {
      "text/plain": [
       "array([0.00121078, 0.00121078, 0.00121078, ..., 0.00121078, 0.00121078,\n",
       "       0.00121078])"
      ]
     },
     "execution_count": 11,
     "metadata": {},
     "output_type": "execute_result"
    }
   ],
   "source": [
    "log_diff"
   ]
  },
  {
   "cell_type": "markdown",
   "metadata": {},
   "source": [
    "The difference is minimal, and a constant offset. Maybe the stellar data uses a different constant? "
   ]
  },
  {
   "cell_type": "markdown",
   "metadata": {},
   "source": [
    "## Activity 3\n",
    "During the hydrogen burning phase the model temperature and lumunosity are within the following ranges: \n",
    "\n",
    "* `logTeff` in the range `[4.365,4.551]` and \n",
    "* `logL` is in range `[4.620, 5.089]`.\n",
    "\n",
    "Find the list of indices that refer to data points with Teff and L within these bounds.\n",
    "\n",
    "How many points are in that list?\n",
    "\n",
    "Create new short arrays `slogTeff` and `slogL` which contain Teff and L in the range just determined, but only every 50th data point. Use array slicing to accomplish that.\n",
    "\n",
    "Use the numpy function `savetxt` to write `slogTeff` and `slogL`  as columns into the file 'short-data.dat'. Remember that if `a` is an array, then `a.T` is the transpose. This may be useful here. Also, add a meaningful header with column heads."
   ]
  },
  {
   "cell_type": "code",
   "execution_count": 12,
   "metadata": {},
   "outputs": [],
   "source": [
    "ind_bool = (log_L<5.089)*(log_L>4.620)*(log_Teff>4.365)*(log_Teff<4.551)"
   ]
  },
  {
   "cell_type": "code",
   "execution_count": 13,
   "metadata": {},
   "outputs": [],
   "source": [
    "ind = where(log_L)*ind_bool"
   ]
  },
  {
   "cell_type": "code",
   "execution_count": 14,
   "metadata": {},
   "outputs": [
    {
     "data": {
      "text/plain": [
       "1003"
      ]
     },
     "execution_count": 14,
     "metadata": {},
     "output_type": "execute_result"
    }
   ],
   "source": [
    "ind = where(ind[0]>0)[0]\n",
    "len(ind)"
   ]
  },
  {
   "cell_type": "code",
   "execution_count": 15,
   "metadata": {},
   "outputs": [],
   "source": [
    "slogTeff = log_Teff[ind][::50]\n",
    "slogL    = log_L[ind][::50]"
   ]
  },
  {
   "cell_type": "code",
   "execution_count": 16,
   "metadata": {},
   "outputs": [],
   "source": [
    "savetxt('short-data.dat',array([slogTeff,slogL]).T,\\\n",
    "        header='Short output every 50th data point for\\n\\\n",
    "`logTeff` in the range `[4.365,4.551]` and  \\n\\\n",
    "`logL` is in range `[4.620, 5.089]`\\n\\\n",
    "logTeff                logL')"
   ]
  },
  {
   "cell_type": "code",
   "execution_count": 17,
   "metadata": {},
   "outputs": [
    {
     "name": "stdout",
     "output_type": "stream",
     "text": [
      "# Short output every 50th data point for\n",
      "# `logTeff` in the range `[4.365,4.551]` and  \n",
      "# `logL` is in range `[4.620, 5.089]`\n",
      "# logTeff                logL\n",
      "4.365895352044131705e+00 4.778872797578517684e+00\n",
      "4.440417873856842057e+00 4.791107055461132802e+00\n",
      "4.504649130691265491e+00 4.750145213160442914e+00\n",
      "4.546822860339725381e+00 4.635673814006468163e+00\n",
      "4.540056114354413808e+00 4.645491048763978448e+00\n",
      "4.533677922994431064e+00 4.676020933621453324e+00\n",
      "4.528547465961421992e+00 4.711178253622526846e+00\n",
      "4.523318735366378185e+00 4.743515954076496399e+00\n",
      "4.517283062051287601e+00 4.774034642027519482e+00\n",
      "4.510313748377282828e+00 4.802403968062966655e+00\n",
      "4.502054731238749774e+00 4.829617935346174562e+00\n",
      "4.491318724430080955e+00 4.858250794315693177e+00\n",
      "4.478074635867191233e+00 4.886561235481562626e+00\n",
      "4.461306607538522151e+00 4.915069061036878573e+00\n",
      "4.439728870745694778e+00 4.943996736785328139e+00\n",
      "4.406968542893594076e+00 4.976111293404159142e+00\n",
      "4.391632169386393336e+00 4.985699828275063084e+00\n",
      "4.377214672164702058e+00 4.995099026294985478e+00\n",
      "4.366342445401598660e+00 5.006376157635053836e+00\n",
      "4.404850798458846306e+00 5.043061781132777810e+00\n",
      "4.369903395107668231e+00 5.061241016652719971e+00\n"
     ]
    }
   ],
   "source": [
    "cat short-data.dat\n"
   ]
  },
  {
   "cell_type": "code",
   "execution_count": 18,
   "metadata": {},
   "outputs": [
    {
     "data": {
      "application/vnd.jupyter.widget-view+json": {
       "model_id": "0089de5aeb674e0597e0240a89c60e5b",
       "version_major": 2,
       "version_minor": 0
      },
      "text/plain": [
       "FigureCanvasNbAgg()"
      ]
     },
     "metadata": {},
     "output_type": "display_data"
    },
    {
     "data": {
      "text/plain": [
       "[<matplotlib.lines.Line2D at 0x7fdf485cc860>]"
      ]
     },
     "execution_count": 18,
     "metadata": {},
     "output_type": "execute_result"
    }
   ],
   "source": [
    "close(178);figure(178)\n",
    "plot(log_Teff[ind],log_L[ind],'-')\n",
    "plot(slogTeff,slogL,'--')"
   ]
  },
  {
   "cell_type": "code",
   "execution_count": null,
   "metadata": {},
   "outputs": [],
   "source": []
  },
  {
   "cell_type": "code",
   "execution_count": null,
   "metadata": {},
   "outputs": [],
   "source": []
  }
 ],
 "metadata": {
  "kernelspec": {
   "display_name": "Python 3",
   "language": "python",
   "name": "python3"
  },
  "language_info": {
   "codemirror_mode": {
    "name": "ipython",
    "version": 3
   },
   "file_extension": ".py",
   "mimetype": "text/x-python",
   "name": "python",
   "nbconvert_exporter": "python",
   "pygments_lexer": "ipython3",
   "version": "3.6.7"
  }
 },
 "nbformat": 4,
 "nbformat_minor": 2
}
