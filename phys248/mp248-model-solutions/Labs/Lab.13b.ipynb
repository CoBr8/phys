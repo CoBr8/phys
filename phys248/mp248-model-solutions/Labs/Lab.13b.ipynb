{
 "cells": [
  {
   "cell_type": "markdown",
   "metadata": {},
   "source": [
    "## Lab 13.b -- Crime Stats\n",
    "\n"
   ]
  },
  {
   "cell_type": "code",
   "execution_count": 2,
   "metadata": {},
   "outputs": [
    {
     "name": "stdout",
     "output_type": "stream",
     "text": [
      "/home/rybu/teaching/math248/mp248-planning/Labs\n"
     ]
    }
   ],
   "source": [
    "import json\n",
    "import os\n",
    "\n",
    "print(os.getcwd())\n",
    "\n",
    "##\n",
    "with open(\"../data/Victoria (BC) Police Department.geojson\") as f:\n",
    "    data = json.loads(f.read())\n",
    "    "
   ]
  },
  {
   "cell_type": "code",
   "execution_count": 3,
   "metadata": {},
   "outputs": [
    {
     "name": "stdout",
     "output_type": "stream",
     "text": [
      "{'Alarm': defaultdict(<class 'int'>, {'FALSE ALARMS': 1447}),\n",
      " 'Arson': defaultdict(<class 'int'>,\n",
      "                      {'ARSON-DISREGARD FOR HUMAN LIFE': 22,\n",
      "                       'ARSON-PROPERTY': 260}),\n",
      " 'Assault': defaultdict(<class 'int'>,\n",
      "                        {'ASSAULT AGAINST POLICE OFFICER': 417,\n",
      "                         'ASSAULT-COMMON OR TRESPASS': 2065,\n",
      "                         'ASSAULTS-OTHER': 473}),\n",
      " 'Assault with Deadly Weapon': defaultdict(<class 'int'>,\n",
      "                                           {'ASSAULT OT P/O-W/WPN OR CBH': 38,\n",
      "                                            'ASSAULT POLICE-W/WEAPON OR CBH': 75,\n",
      "                                            'ASSAULT-AGGRAVATED': 98,\n",
      "                                            'ASSAULT-OTHER PEACE OFFICER': 125,\n",
      "                                            'ASSAULT-W/WEAPON OR CBH': 1552}),\n",
      " 'Breaking & Entering': defaultdict(<class 'int'>,\n",
      "                                    {'BREAK & ENTER-BUSINESS': 1691,\n",
      "                                     'BREAK & ENTER-OTHER': 1452,\n",
      "                                     'BREAK & ENTER-RESIDENCE': 2202}),\n",
      " 'Community Policing': defaultdict(<class 'int'>,\n",
      "                                   {'BUSINESS': 46,\n",
      "                                    'CITIZEN ASSIST': 1}),\n",
      " 'Disorder': defaultdict(<class 'int'>, {'CAUSE A DISTURBANCE': 3786}),\n",
      " 'Drugs': defaultdict(<class 'int'>,\n",
      "                      {'POSSESS-OTH SCHED I DRUGS/SUBS': 291,\n",
      "                       'POSSESS-OTH SCHED III DRUG/SUB': 30,\n",
      "                       'POSSESSION-CANNABIS 30G & UNDR': 919,\n",
      "                       'POSSESSION-CANNABIS OVER 30G': 38,\n",
      "                       'POSSESSION-COCAINE': 769,\n",
      "                       'POSSESSION-HEROIN': 273,\n",
      "                       'POSSESSION-MDMA (ECSTASY)': 14,\n",
      "                       'POSSESSION-METHAMPHETAMINE': 367,\n",
      "                       'TRAFFICK-CANNABIS 3000G & UNDR': 126,\n",
      "                       'TRAFFICK-CANNABIS OVER 3000G': 7,\n",
      "                       'TRAFFICKING-AMPHETAMINE': 9,\n",
      "                       'TRAFFICKING-COCAINE': 483,\n",
      "                       'TRAFFICKING-HEROIN': 118,\n",
      "                       'TRAFFICKING-METHAMPHETAMINE': 68,\n",
      "                       'TRAFFICKING-MORPHINE': 5,\n",
      "                       'TRAFFICKING-OTH SCHED IV CDSA': 3,\n",
      "                       'TRAFFICKING-OTHER CDSA': 35}),\n",
      " 'Liquor': defaultdict(<class 'int'>,\n",
      "                       {'LIQUOR (LCLA) ACT-OTHER': 442,\n",
      "                        'LIQUOR-CONSUME IN PUBLIC PLACE': 734,\n",
      "                        'LIQUOR-INTOX IN PUBLIC PLACE': 9292,\n",
      "                        'LIQUOR-SEIZURE': 21}),\n",
      " 'Other': defaultdict(<class 'int'>,\n",
      "                      {'ANIMAL CALLS': 869,\n",
      "                       'BYLAW-NOISE': 6089,\n",
      "                       'OBSTRUCT PEACE/PUBLIC OFFICER': 451,\n",
      "                       'SUSPICIOUS PERS/VEH/OCCURRENCE': 17445}),\n",
      " 'Property Crime': defaultdict(<class 'int'>,\n",
      "                               {'FRAUD-CHEQUE': 61,\n",
      "                                'FRAUD-CREDIT/DEBIT CARD': 72,\n",
      "                                'MISCHIEF $5000 OR UNDER': 8894,\n",
      "                                'MISCHIEF OVER $5000': 90,\n",
      "                                'POSSESS STLN PROPERTY O/$5000': 1,\n",
      "                                'POSSESS STLN PROPERTY U/$5000': 12}),\n",
      " 'Robbery': defaultdict(<class 'int'>,\n",
      "                        {'ROBBERY W/OTHER OFFENSIVE WPN': 246,\n",
      "                         'ROBBERY-OTHER': 536}),\n",
      " 'Theft': defaultdict(<class 'int'>,\n",
      "                      {'THEFT BICYCLE OVER $5000': 53,\n",
      "                       'THEFT BICYCLE UNDER $5000': 5083,\n",
      "                       'THEFT-ELEC/GAS/TEL UNDER $5000': 19,\n",
      "                       'THEFT-OTHER OVER $5000': 205,\n",
      "                       'THEFT-OTHER UNDER $5000': 9430,\n",
      "                       'THEFT-SHOPLIFTING OVER $5000': 18,\n",
      "                       'THEFT-SHOPLIFTING UNDER $5000': 7392}),\n",
      " 'Theft from Vehicle': defaultdict(<class 'int'>,\n",
      "                                   {'THEFT FROM MV OVER $5000': 165,\n",
      "                                    'THEFT FROM MV UNDER $5000': 10906}),\n",
      " 'Theft of Vehicle': defaultdict(<class 'int'>,\n",
      "                                 {'TAKE AUTO W/O CONSENT U/$5000': 42,\n",
      "                                  'THEFT MOTORCYCLE UNDER $5000': 304,\n",
      "                                  'THEFT OF AUTO OVER $5000': 270,\n",
      "                                  'THEFT OF AUTO UNDER $5000': 508,\n",
      "                                  'THEFT OF TRUCK OVER $5000': 110,\n",
      "                                  'THEFT OF TRUCK UNDER $5000': 178,\n",
      "                                  'THEFT OTHER VEHICLE U/$5000': 26}),\n",
      " 'Traffic': defaultdict(<class 'int'>,\n",
      "                        {'215 ALCOH-24HR': 429,\n",
      "                         '215 DRUG': 461,\n",
      "                         '215ALCOH IRP WARN-30DAY': 24,\n",
      "                         '215ALCOH IRP WARN-3DAY': 532,\n",
      "                         '215ALCOH IRP WARN-7DAY': 33,\n",
      "                         'COLLISION-DAMAGE OVER $1000': 3218,\n",
      "                         'COLLISION-DAMAGE UNDER $1000': 2292,\n",
      "                         'COLLISION-NON-FATAL INJURY': 1650,\n",
      "                         'DRIVING COMPLAINTS': 3701,\n",
      "                         'EXCESSIVE SPEED-OVER 40KM': 19,\n",
      "                         'IMPAIRED OP MOTOR VEH (ALCOH)': 2024,\n",
      "                         'TRAFFIC-INSURANCE VIOLATION': 3424,\n",
      "                         'TRAFFIC-OTHER FEDERAL': 41,\n",
      "                         'TRAFFIC-OTHER MOVING PROV': 3527,\n",
      "                         'TRAFFIC-OTHER MUNICIPAL': 438,\n",
      "                         'TRAFFIC-OTHER NON-MOVE PROV': 1343,\n",
      "                         'TRAFFIC-WRITTEN WARNING': 52}),\n",
      " 'Vehicle Stop': defaultdict(<class 'int'>,\n",
      "                             {'CYCLIST': 1345,\n",
      "                              'VEHICLE': 4186,\n",
      "                              'VI-VEHICLE IMPOUNDMENT': 81}),\n",
      " 'Weapons Offense': defaultdict(<class 'int'>,\n",
      "                                {'FIREARM-POINTING': 12,\n",
      "                                 'WEAPONS POSS-CONTRARY TO ORDER': 28,\n",
      "                                 'WEAPONS-POSSESSION': 966})}\n"
     ]
    }
   ],
   "source": [
    "import collections as co\n",
    "import pprint as pp\n",
    "\n",
    "ctree = dict()\n",
    "\n",
    "for R in data['features']:\n",
    "    TopI = R['properties']['parent_incident_type']\n",
    "    BotI = R['properties']['incident_type_primary']\n",
    "    if TopI not in ctree.keys():\n",
    "        ctree[TopI] = co.defaultdict(int)\n",
    "    ctree[TopI][BotI] += 1\n",
    "    \n",
    "pp.pprint(ctree)\n"
   ]
  },
  {
   "cell_type": "code",
   "execution_count": 4,
   "metadata": {},
   "outputs": [],
   "source": [
    "import datetime as dt\n",
    "\n",
    "clean_dat = list()\n",
    "incompl_dat = list()\n",
    "\n",
    "for x in data['features']:\n",
    "    if 'properties' not in x.keys():\n",
    "        continue ## why bother?\n",
    "\n",
    "    ## we have the properties, so let's start building the record.\n",
    "    newRec = dict()\n",
    "    incFlag = False # set to true if we discover missing data in x\n",
    "    \n",
    "    floatkeys = ['latitude', 'longitude']\n",
    "    strkeys = ['parent_incident_type', 'incident_type_primary', 'address_1', 'address_2']\n",
    "    intkeys = ['case_number', 'incident_id']\n",
    "    datekeys = ['created_at', 'updated_at', 'incident_datetime']\n",
    "    \n",
    "    for k in floatkeys:\n",
    "        if k in x['properties'].keys() and isinstance(x['properties'][k], str) and\\\n",
    "        len(x['properties'][k])>0:\n",
    "            newRec[k] = float(x['properties'][k])\n",
    "        else:\n",
    "            incFlag=True\n",
    "\n",
    "    ## anything to check?\n",
    "    for k in strkeys:\n",
    "        newRec[k] = x['properties'][k]\n",
    "        \n",
    "    for k in intkeys:\n",
    "        ## let's count non-numerical characters\n",
    "        non_ch_chars = []\n",
    "        digits = '0123456789'\n",
    "        for ch in x['properties'][k]:\n",
    "            if ch not in digits:\n",
    "                non_ch_chars.append(ch)\n",
    "\n",
    "        for ch in non_ch_chars:\n",
    "            if ch != '-':\n",
    "                x['properties'][k] = x['properties'][k].replace(ch, '-')\n",
    "            \n",
    "        if '-' in x['properties'][k]:\n",
    "            newRec[k] = [int(w) for w in x['properties'][k].split('-')]\n",
    "        else:\n",
    "            newRec[k] = int(x['properties'][k])\n",
    "            \n",
    "    for k in datekeys:\n",
    "        ## typical format: '2014-12-06T21:59:00.000'\n",
    "        newRec[k] = dt.datetime.strptime(x['properties'][k], '%Y-%m-%dT%H:%M:%S.000')\n",
    "        \n",
    "    if incFlag:\n",
    "        incompl_dat.append(newRec)\n",
    "    else:\n",
    "        clean_dat.append(newRec)"
   ]
  },
  {
   "cell_type": "code",
   "execution_count": 5,
   "metadata": {},
   "outputs": [
    {
     "name": "stdout",
     "output_type": "stream",
     "text": [
      "Original number of records in clean_dat:  129094\n",
      "Bad records discovered:  1426\n",
      "Purged clean_dat:  127668\n"
     ]
    }
   ],
   "source": [
    "## Let's use the results from the lab earlier this week to fix or purge the clearly bad data from\n",
    "## clean_dat...\n",
    "\n",
    "bad_idx = []\n",
    "\n",
    "for i in range(len(clean_dat)):\n",
    "    x = clean_dat[i]\n",
    "    if x['latitude']>48.655 or x['latitude']<48:\n",
    "        bad_idx.append(i)\n",
    "        continue\n",
    "    if x['longitude']<-124 or x['longitude']>-123:\n",
    "        bad_idx.append(i)\n",
    "        continue\n",
    "    if x['incident_datetime'] > x['created_at']:\n",
    "        bad_idx.append(i)\n",
    "        continue\n",
    "    if x['updated_at'] < x['created_at']:\n",
    "        bad_idx.append(i)\n",
    "print(\"Original number of records in clean_dat: \", len(clean_dat))\n",
    "print(\"Bad records discovered: \", len(bad_idx))\n",
    "\n",
    "clean_dat = [clean_dat[i] for i in range(len(clean_dat)) if i not in bad_idx]\n",
    "print(\"Purged clean_dat: \", len(clean_dat))"
   ]
  },
  {
   "cell_type": "markdown",
   "metadata": {},
   "source": [
    "**Problem 1:** Write a Python function that uses spherical polar coordinates to determine the distance \"as the crow flies\" between any two points on the earth's surface.  The function will take as input two points, given in spherical polar coordinates, i.e. *longitude* and *latitude*. Assume your points are on the earth's surface, and that the earth is a sphere of radius **6378**km. \n",
    "\n",
    "As a sanity check, find the GPS coordinates of two points on the earth for which you know the distance \"as the crow flies\".  Compute their distance using your function, and compare."
   ]
  },
  {
   "cell_type": "code",
   "execution_count": 6,
   "metadata": {},
   "outputs": [
    {
     "name": "stdout",
     "output_type": "stream",
     "text": [
      "7670.053653805334\n"
     ]
    }
   ],
   "source": [
    "import numpy as np\n",
    "\n",
    "Re = 6378000 ## let's use metres.\n",
    "\n",
    "def PC(lat, long):\n",
    "    return np.array([np.cos(long)*np.cos(lat), np.sin(long)*np.cos(lat), np.sin(lat)])\n",
    "\n",
    "## this will be our distance function\n",
    "## it takes the two coordinates, finds the corresponding points on the surface of the earth (at ocean level)\n",
    "## then finds the angle between them, i.e. arccos(v1.v2) and multiplies by the radius Re.\n",
    "def dA(lat1, long1, lat2, long2):\n",
    "    lat1 *= np.pi/180\n",
    "    lat2 *= np.pi/180\n",
    "    long1 *= np.pi/180\n",
    "    long2 *= np.pi/180\n",
    "    \n",
    "    p1 = PC(lat1, long1)\n",
    "    p2 = PC(lat2, long2)\n",
    "    cosang = sum(p1*p2)\n",
    "    \n",
    "    return(Re*np.arccos(cosang))\n",
    "    \n",
    "## lat, long for London England 51.52, -0.24\n",
    "## lat, long for Victoria BC    48.43, -123.38 \n",
    "print(dA(51.52, -0.24, 48.43, -123.38)/1000)\n",
    "## This is essentially what Google tells us. "
   ]
  },
  {
   "cell_type": "markdown",
   "metadata": {},
   "source": [
    "**Problem 2:** Find the longitude and latitude of *The Bay Centre* in downtown Victoria. *Hint:* If you zoom in on something in Google maps, the longitude and latitude should appear in the address bar.  If this does not happen in your browser, try the *share* option. "
   ]
  },
  {
   "cell_type": "code",
   "execution_count": 7,
   "metadata": {},
   "outputs": [],
   "source": [
    "## Appears to be 48.42505, -123.36647\n",
    "BClat = 48.42505\n",
    "BClong = -123.36647\n"
   ]
  },
  {
   "cell_type": "markdown",
   "metadata": {},
   "source": [
    "**Problem 3:** If we use the GPS coordinates of the Bay Centre as a proxy for the *centre of downtown Victoria*, what relation is there between the quantity of Victoria PD crime records and their distance to the centre of downtown?   One way to answer this problem would be to build a histogram where the x-axis is the distance to downtown, and the y-axis is the crime count.  Perhaps choose your bin size so that all your bins have equal area. \n"
   ]
  },
  {
   "cell_type": "code",
   "execution_count": 13,
   "metadata": {},
   "outputs": [
    {
     "data": {
      "image/png": "[encoded data removed]",
      "text/plain": [
       "<Figure size 432x288 with 1 Axes>"
      ]
     },
     "metadata": {},
     "output_type": "display_data"
    }
   ],
   "source": [
    "import matplotlib.pyplot as plt\n",
    "%matplotlib inline\n",
    "\n",
    "X = [dA(BClat, BClong, x['latitude'], x['longitude']) for x in clean_dat]\n",
    "A = plt.hist(X, bins=[100*np.sqrt(k) for k in range(80)])\n",
    "## it appears the \"crime centre\" is about 100m from the Bay Centre, but otherwise things are\n",
    "## mostly close to downtown."
   ]
  },
  {
   "cell_type": "markdown",
   "metadata": {},
   "source": [
    "**Problem 4:** Compute the latitude and longitude of the average position of all the crimes in **clean_dat**. Look up that location in Google Maps.  How would you describe it, is it a store, or perhaps its in the middle of a street?\n",
    "    "
   ]
  },
  {
   "cell_type": "code",
   "execution_count": 9,
   "metadata": {},
   "outputs": [
    {
     "name": "stdout",
     "output_type": "stream",
     "text": [
      "[-0.36493434 -0.55415623  0.7481536 ]\n"
     ]
    }
   ],
   "source": [
    "V = sum([PC(x['latitude']*np.pi/180, x['longitude']*np.pi/180) for x in clean_dat])\n",
    "V = V/np.linalg.norm(V)\n",
    "print(V)"
   ]
  },
  {
   "cell_type": "code",
   "execution_count": 14,
   "metadata": {},
   "outputs": [
    {
     "name": "stdout",
     "output_type": "stream",
     "text": [
      "Latitude:  48.430688823698354\n",
      "Longitude:  -123.36652404549156\n"
     ]
    }
   ],
   "source": [
    "clat = 180*np.arcsin(V[2])/np.pi\n",
    "planar = np.array([V[0], V[1], 0])\n",
    "planar = planar/np.linalg.norm(planar)\n",
    "clong = -180*np.arccos(sum(planar*np.array([1,0,0])))/np.pi\n",
    "\n",
    "print(\"Latitude: \", clat)\n",
    "print(\"Longitude: \", clong )"
   ]
  },
  {
   "cell_type": "code",
   "execution_count": 15,
   "metadata": {},
   "outputs": [],
   "source": [
    "## This appears to be right in the centre of the Fountain Tire shop on Herald st. "
   ]
  },
  {
   "cell_type": "markdown",
   "metadata": {},
   "source": [
    "**Problem 5:** Repeat Problem 3, but using the answer to Problem 4 as your centre."
   ]
  },
  {
   "cell_type": "code",
   "execution_count": 18,
   "metadata": {},
   "outputs": [
    {
     "data": {
      "image/png": "[encoded data removed]",
      "text/plain": [
       "<Figure size 432x288 with 1 Axes>"
      ]
     },
     "metadata": {},
     "output_type": "display_data"
    }
   ],
   "source": [
    "X = [dA(clat, clong, x['latitude'], x['longitude']) for x in clean_dat]\n",
    "A = plt.hist(X, bins=[100*np.sqrt(k) for k in range(80)])"
   ]
  },
  {
   "cell_type": "markdown",
   "metadata": {},
   "source": [
    "So while it appears the rough vicinity of the Bay Centre is where the bulk of crimes occur, it is displaced significantly from the average location of crimes.  "
   ]
  },
  {
   "cell_type": "code",
   "execution_count": null,
   "metadata": {},
   "outputs": [],
   "source": []
  }
 ],
 "metadata": {
  "kernelspec": {
   "display_name": "Python 3",
   "language": "python",
   "name": "python3"
  },
  "language_info": {
   "codemirror_mode": {
    "name": "ipython",
    "version": 3
   },
   "file_extension": ".py",
   "mimetype": "text/x-python",
   "name": "python",
   "nbconvert_exporter": "python",
   "pygments_lexer": "ipython3",
   "version": "3.6.7"
  }
 },
 "nbformat": 4,
 "nbformat_minor": 2
}
