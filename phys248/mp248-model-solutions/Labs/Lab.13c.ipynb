{
 "cells": [
  {
   "cell_type": "markdown",
   "metadata": {},
   "source": [
    "## Lab 13c - Crime Lab using library\n",
    "\n",
    "For this lab, we ask you to find the Victoria crime **most heavily linked to temperature**.\n",
    "\n",
    "Create a count of the average amount of crimes in the crime database (for every crime type), indexed by the daily temperature reading.\n",
    "\n",
    "i.e. given a **crime type** $\\alpha$ (a **incident_type_primary** key to **clean_dat**) the quantity\n",
    "\n",
    "$$D_\\alpha(\\tau)$$\n",
    "\n",
    "will be the **average** number of crimes on the days with temperature reading $\\tau$.\n"
   ]
  },
  {
   "cell_type": "markdown",
   "metadata": {},
   "source": [
    " * * *"
   ]
  },
  {
   "cell_type": "markdown",
   "metadata": {},
   "source": [
    "First we *suppose* there is some linear relationship \n",
    "\n",
    "$$D_\\alpha(\\tau) = M_{\\alpha} \\tau + C_{\\alpha}$$\n",
    "\n",
    "where $\\tau$ is the temperature reading for the day. As you will see, this relationship is not true, but we ask you to find a *best-fit* for $M$ and $C$ using least squares. \n",
    "\n",
    "Once you have solved for $M_{\\alpha}$ for all crime types $\\alpha$, sort the list of pairs: $$[ (M_{\\alpha}, \\alpha) \\ \\ for \\ \\ \\alpha \\text{ a crime type } ]$$\n",
    "\n",
    "on the absolute value of $M_\\alpha$ from smallest to largest, and print out the last four elements of this sorted list. i.e. we want to know the four crime types which have the largest $|M_{\\alpha}|$, and we want to know the value of $M_{\\alpha}$ for those crime types.  \n",
    "\n",
    "Do this lab for all three temperature readings: daily max temp, daily min temp, and daily mean temp.  There will be grading script that will search for your answers in the file **mp248/Labs/Lab.13c.ipynb**. The feedback will appear in the **Commentary 2** field on CourseSpaces, i.e. this lab will not count towards your course grade. \n",
    "\n",
    "Due to the limited amount of data we have, please round the temperature readings from **datlib.vicdict** (see Notebook 13b) to the nearest degree.\n",
    "\n",
    "* * *\n",
    "\n",
    "*Hint:* (1) Perhaps make some plots as a *sanity check* to see how useful your least-squares approximations are.\n",
    "\n",
    "   (2) There will be some crime types for which there is not enough data to perform least-squares. Skip those crime types, but also print out their names."
   ]
  },
  {
   "cell_type": "code",
   "execution_count": 45,
   "metadata": {},
   "outputs": [],
   "source": [
    "import os\n",
    "import collections as co\n",
    "from datlib import clean_dat, ctree, ncl, vicdict, coml\n",
    "import pprint as pp\n",
    "import datetime as dt"
   ]
  },
  {
   "cell_type": "code",
   "execution_count": 133,
   "metadata": {},
   "outputs": [],
   "source": [
    "## this function returns a list of pairs (temp, crime count)\n",
    "## itp is the incident_type_primary for the crime type\n",
    "## k is the index to ncl, i.e. the temperature reading\n",
    "def count_crime_temp(itp, k):\n",
    "    ## indexed by temperature (rounded to int)\n",
    "    totcrimes = co.defaultdict(int)\n",
    "    \n",
    "    ## we will run through all crimes, search for itp==k\n",
    "    ## form count for all days -- using defaultdict\n",
    "    ## then collect the temperatures for those days.\n",
    "    dayct = co.defaultdict(int)\n",
    "    for x in clean_dat:\n",
    "        if x['incident_type_primary']==itp and\\\n",
    "           x['incident_datetime'].replace(hour=0, minute=0, second=0, microsecond=0) in coml:\n",
    "            dayct[x['incident_datetime']]+=1\n",
    "\n",
    "    ## now run through vicdict\n",
    "    for i,v in dayct.items():\n",
    "        totcrimes[ int(round(vicdict[i.replace(hour=0, minute=0, second=0, microsecond=0)][ncl[k]])) ] += v\n",
    "\n",
    "    ## let's find the total number of days with these temperature readings.\n",
    "    ## number of days with a given temperature reading.\n",
    "    totdays = co.defaultdict(int)\n",
    "    for i in totcrimes.keys():\n",
    "        ## i is a temperature reading\n",
    "        for a in coml:\n",
    "            if int(round(vicdict[a][ncl[k]]))==i:\n",
    "                totdays[i]+=1\n",
    "    for i in totcrimes.keys():\n",
    "        totcrimes[i]/=totdays[i]\n",
    "        \n",
    "    return(totcrimes)\n",
    "\n"
   ]
  },
  {
   "cell_type": "code",
   "execution_count": 134,
   "metadata": {},
   "outputs": [],
   "source": [
    "import matplotlib.pyplot as plt\n",
    "%matplotlib inline"
   ]
  },
  {
   "cell_type": "code",
   "execution_count": 135,
   "metadata": {},
   "outputs": [],
   "source": [
    "import numpy as np\n",
    "\n",
    "def lsq_cof(i):\n",
    "    retval = dict()\n",
    "    #print(\"Computing for: \", end='')\n",
    "    for k,v in ctree.items():\n",
    "        for w in v.keys():\n",
    "            #print(w, ' ', end='')\n",
    "            if w in ['FRAUD-CREDIT/DEBIT CARD', 'FRAUD-CHEQUE', 'POSSESS STLN PROPERTY O/$5000',\\\n",
    "                 'POSSESS STLN PROPERTY U/$5000', 'TRAFFICKING-OTH SCHED IV CDSA', 'TRAFFICKING-MORPHINE',\\\n",
    "                 'ASSAULT-COMMON OR TRESPASS', 'CITIZEN ASSIST']:\n",
    "                continue\n",
    "            X = count_crime_temp(w, i)\n",
    "            ## least squares on X\n",
    "            A = np.matrix([[1.0, x[0]] for x in X.items()]).T\n",
    "            y = np.matrix([x[1] for x in X.items()]).T\n",
    "            c = np.linalg.inv(A*A.T)*A*y \n",
    "            retval[(k,w)] = [c[0,0], c[1,0]]\n",
    "            ## put coeff in lsq_cof.\n",
    "    return(retval)\n"
   ]
  },
  {
   "cell_type": "code",
   "execution_count": 138,
   "metadata": {},
   "outputs": [
    {
     "name": "stdout",
     "output_type": "stream",
     "text": [
      "Max Temp (°C)  [(('Other', 'BYLAW-NOISE'), 0.05588234847256847, 0.05588234847256847),\n",
      " (('Theft', 'THEFT BICYCLE UNDER $5000'),\n",
      "  0.0696708912998867,\n",
      "  0.0696708912998867),\n",
      " (('Liquor', 'LIQUOR-INTOX IN PUBLIC PLACE'),\n",
      "  0.0854710859564018,\n",
      "  0.0854710859564018),\n",
      " (('Other', 'SUSPICIOUS PERS/VEH/OCCURRENCE'),\n",
      "  0.17723588649532754,\n",
      "  0.17723588649532754)]\n",
      "Min Temp (°C)  [(('Other', 'BYLAW-NOISE'), 0.06733589491097552, 0.06733589491097552),\n",
      " (('Theft', 'THEFT BICYCLE UNDER $5000'),\n",
      "  0.08966904496571158,\n",
      "  0.08966904496571158),\n",
      " (('Theft', 'THEFT-OTHER UNDER $5000'),\n",
      "  0.09580518535760048,\n",
      "  0.09580518535760048),\n",
      " (('Other', 'SUSPICIOUS PERS/VEH/OCCURRENCE'),\n",
      "  0.2000846405822861,\n",
      "  0.2000846405822861)]\n",
      "Mean Temp (°C)  [(('Liquor', 'LIQUOR-INTOX IN PUBLIC PLACE'),\n",
      "  0.07380196369052848,\n",
      "  0.07380196369052848),\n",
      " (('Theft', 'THEFT BICYCLE UNDER $5000'),\n",
      "  0.07773771340488556,\n",
      "  0.07773771340488556),\n",
      " (('Theft', 'THEFT-OTHER UNDER $5000'),\n",
      "  0.08354645397468002,\n",
      "  0.08354645397468002),\n",
      " (('Other', 'SUSPICIOUS PERS/VEH/OCCURRENCE'),\n",
      "  0.18285208175065282,\n",
      "  0.18285208175065282)]\n"
     ]
    }
   ],
   "source": [
    "import operator as op\n",
    "\n",
    "for i in [0,1,2]:\n",
    "    print(ncl[i], ' ', end='')\n",
    "    X = lsq_cof(i)\n",
    "    Xs = [(k, v[1], abs(v[1])) for k,v in X.items()]\n",
    "    XS = sorted(Xs, key=op.itemgetter(2) )\n",
    "    pp.pprint(XS[-4:])"
   ]
  },
  {
   "cell_type": "code",
   "execution_count": null,
   "metadata": {},
   "outputs": [],
   "source": [
    "## Suspicious person/veh/occ has the most temperature dependence. "
   ]
  },
  {
   "cell_type": "code",
   "execution_count": 139,
   "metadata": {},
   "outputs": [],
   "source": [
    "d1 = {1:2, 2:3, 3:4}"
   ]
  },
  {
   "cell_type": "code",
   "execution_count": 140,
   "metadata": {},
   "outputs": [
    {
     "name": "stdout",
     "output_type": "stream",
     "text": [
      "3\n"
     ]
    }
   ],
   "source": [
    "print(len(d1))"
   ]
  },
  {
   "cell_type": "code",
   "execution_count": null,
   "metadata": {},
   "outputs": [],
   "source": []
  }
 ],
 "metadata": {
  "kernelspec": {
   "display_name": "Python 3",
   "language": "python",
   "name": "python3"
  },
  "language_info": {
   "codemirror_mode": {
    "name": "ipython",
    "version": 3
   },
   "file_extension": ".py",
   "mimetype": "text/x-python",
   "name": "python",
   "nbconvert_exporter": "python",
   "pygments_lexer": "ipython3",
   "version": "3.6.7"
  }
 },
 "nbformat": 4,
 "nbformat_minor": 2
}
