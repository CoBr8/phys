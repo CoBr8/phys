{
 "cells": [
  {
   "cell_type": "markdown",
   "metadata": {},
   "source": [
    "# Lab 5a\n"
   ]
  },
  {
   "cell_type": "markdown",
   "metadata": {},
   "source": [
    "## Activity 1\n",
    "Using scipy's `integrate.cumtrapz` integrate one more time the area under a quadrant of a circle to determine $\\pi$.\n"
   ]
  },
  {
   "cell_type": "code",
   "execution_count": 1,
   "metadata": {},
   "outputs": [
    {
     "name": "stdout",
     "output_type": "stream",
     "text": [
      "Populating the interactive namespace from numpy and matplotlib\n"
     ]
    },
    {
     "data": {
      "text/plain": [
       "[<matplotlib.lines.Line2D at 0x7fa43f28e128>]"
      ]
     },
     "execution_count": 1,
     "metadata": {},
     "output_type": "execute_result"
    },
    {
     "data": {
      "image/png": "[encoded data removed]",
      "text/plain": [
       "<Figure size 432x288 with 1 Axes>"
      ]
     },
     "metadata": {
      "needs_background": "light"
     },
     "output_type": "display_data"
    }
   ],
   "source": [
    "%pylab inline\n",
    "def func1(x):\n",
    "    return sqrt(1-x**2)\n",
    "x=linspace(0,1,200)\n",
    "y=func1(x)\n",
    "plot(x,y)"
   ]
  },
  {
   "cell_type": "code",
   "execution_count": 2,
   "metadata": {},
   "outputs": [
    {
     "name": "stdout",
     "output_type": "stream",
     "text": [
      "-0.00041884584410700754\n"
     ]
    }
   ],
   "source": [
    "from scipy import integrate\n",
    "F=integrate.cumtrapz(y,x)\n",
    "print (F[-1]*4.-pi)"
   ]
  },
  {
   "cell_type": "markdown",
   "metadata": {},
   "source": [
    "## Exercise1: waves"
   ]
  },
  {
   "cell_type": "markdown",
   "metadata": {},
   "source": [
    "Download the [wave buoy data for Station 46204 - West Sea Otter (off West Coast of VI)](https://www.ndbc.noaa.gov/station_page.php?station=46204). Use the _Real time standard meteorological data_ option. Before you start have a quick look at the _description_ - what kind of data is this? \n",
    "\n",
    "Download the data using a shell command. Read the data for the most recent 24 hours and store the first 10 columns into the variables `YY , MM, DD ,hh, mm, WDIR, WSPD, GST,  WVHT, DPD`."
   ]
  },
  {
   "cell_type": "code",
   "execution_count": 3,
   "metadata": {},
   "outputs": [
    {
     "name": "stdout",
     "output_type": "stream",
     "text": [
      "Populating the interactive namespace from numpy and matplotlib\n"
     ]
    }
   ],
   "source": [
    "%pylab ipympl"
   ]
  },
  {
   "cell_type": "code",
   "execution_count": 4,
   "metadata": {},
   "outputs": [
    {
     "name": "stderr",
     "output_type": "stream",
     "text": [
      "--2019-02-15 01:30:20--  https://www.ndbc.noaa.gov/data/realtime2/46204.txt\n",
      "Resolving www.ndbc.noaa.gov (www.ndbc.noaa.gov)... 13.33.151.117, 13.33.151.197, 13.33.151.5, ...\n",
      "Connecting to www.ndbc.noaa.gov (www.ndbc.noaa.gov)|13.33.151.117|:443... connected.\n",
      "HTTP request sent, awaiting response... 200 OK\n",
      "Length: 2538 (2.5K) [text/plain]\n",
      "Saving to: '46204.txt.2'\n",
      "\n",
      "     0K ..                                                    100%  293M=0s\n",
      "\n",
      "2019-02-15 01:30:20 (293 MB/s) - '46204.txt.2' saved [2538/2538]\n",
      "\n"
     ]
    }
   ],
   "source": [
    "%%bash\n",
    "wget https://www.ndbc.noaa.gov/data/realtime2/46204.txt"
   ]
  },
  {
   "cell_type": "code",
   "execution_count": 5,
   "metadata": {},
   "outputs": [
    {
     "name": "stdout",
     "output_type": "stream",
     "text": [
      "#YY  MM DD hh mm WDIR WSPD GST  WVHT   DPD   APD MWD   PRES  ATMP  WTMP  DEWP  VIS PTDY  TIDE\n",
      "#yr  mo dy hr mn degT m/s  m/s     m   sec   sec degT   hPa  degC  degC  degC  nmi  hPa    ft\n",
      "2019 01 24 07 00 350  2.0  4.0   3.2    13    MM  MM 1032.6   6.9   8.9    MM   MM +1.4    MM\n",
      "2019 01 24 06 00 300  4.0  6.0   2.8    13    MM  MM 1032.4   7.0   8.9    MM   MM +1.4    MM\n",
      "2019 01 24 05 00 360  2.0  3.0   2.9    13    MM  MM 1031.5   7.5   8.9    MM   MM +0.2    MM\n",
      "2019 01 24 04 00  70  2.0  4.0   2.7    14    MM  MM 1031.2   7.7   8.9    MM   MM +0.9    MM\n",
      "2019 01 24 03 00  30  1.0  2.0   2.8    14    MM  MM 1031.0   7.5   8.9    MM   MM +1.4    MM\n",
      "2019 01 24 02 00 330  3.0  4.0   2.7    14    MM  MM 1031.3   7.3   8.9    MM   MM +1.9    MM\n",
      "2019 01 24 01 00 330  2.0  3.0   2.7    14    MM  MM 1030.3   7.3   8.9    MM   MM +1.2    MM\n",
      "2019 01 24 00 00 360  2.0  3.0   2.5    12    MM  MM 1029.6   7.7   8.9    MM   MM +1.0    MM\n",
      "2019 01 23 23 00  40  1.0  3.0   2.5    14    MM  MM 1029.4   7.7   8.9    MM   MM +1.1    MM\n",
      "2019 01 23 22 00  10  2.0  4.0   2.7    11    MM  MM 1029.1   7.8   8.9    MM   MM +1.2    MM\n",
      "2019 01 23 21 00  10  6.0  7.0   2.8    14    MM  MM 1028.6   8.1   8.9    MM   MM +1.6    MM\n",
      "2019 01 23 20 00 350  5.0  7.0   3.0    11    MM  MM 1028.3   8.3   8.9    MM   MM +2.3    MM\n",
      "2019 01 23 19 00 340  4.0  5.0   2.7    14    MM  MM 1027.9   8.4   8.9    MM   MM +3.0    MM\n",
      "2019 01 23 18 00 330  6.0  7.0   3.0    13    MM  MM 1027.0   8.5   8.9    MM   MM +3.3    MM\n",
      "2019 01 23 17 00 340  5.0  6.0   2.8    15    MM  MM 1026.0   8.6   8.9    MM   MM +3.5    MM\n",
      "2019 01 23 16 00 340  6.0  7.0   2.5    14    MM  MM 1024.9   8.5   8.9    MM   MM +3.9    MM\n",
      "2019 01 23 15 00 330  6.0  8.0   2.4    10    MM  MM 1023.7   8.8   8.9    MM   MM +3.5    MM\n",
      "2019 01 23 14 00 330  7.0  9.0   2.4    14    MM  MM 1022.5   8.8   9.0    MM   MM +3.1    MM\n",
      "2019 01 23 13 00 340  6.0  8.0   2.6    14    MM  MM 1021.0   8.8   9.0    MM   MM +2.1    MM\n",
      "2019 01 23 12 00 330  7.0  8.0   2.5    15    MM  MM 1020.2   8.9   8.9    MM   MM +2.5    MM\n",
      "2019 01 23 11 00 330  7.0  9.0   2.7    15    MM  MM 1019.4   9.0   9.0    MM   MM +2.5    MM\n",
      "2019 01 23 10 00 310  8.0  9.0   2.5    14    MM  MM 1018.9   8.8   8.7    MM   MM +3.7    MM\n",
      "2019 01 23 09 00 310  6.0  8.0   2.6    16    MM  MM 1017.7   8.6   8.7    MM   MM +3.2    MM\n",
      "2019 01 23 08 00 310  7.0  9.0   2.5    15    MM  MM 1016.9   8.3   8.7    MM   MM +3.4    MM\n",
      "2019 01 23 07 00  10  5.0  6.0   2.7    10    MM  MM 1015.2   8.6   8.7    MM   MM +2.4    MM\n"
     ]
    }
   ],
   "source": [
    "cat 46204.txt"
   ]
  },
  {
   "cell_type": "markdown",
   "metadata": {},
   "source": [
    "### Option 1 to read file\n",
    "This is the easiest way to read the file:"
   ]
  },
  {
   "cell_type": "code",
   "execution_count": 6,
   "metadata": {},
   "outputs": [],
   "source": [
    "YY , MM, DD ,hh, mm, WDIR, WSPD, GST, WVHT, DPD=loadtxt('46204.txt',unpack=True,usecols=(0,1,2,3,4,5,6,7,8,9))"
   ]
  },
  {
   "cell_type": "markdown",
   "metadata": {},
   "source": [
    "### Option 2 to read file\n",
    "This is more clunky, but also works:"
   ]
  },
  {
   "cell_type": "code",
   "execution_count": 7,
   "metadata": {},
   "outputs": [],
   "source": [
    "f = open('46204.txt')"
   ]
  },
  {
   "cell_type": "code",
   "execution_count": 8,
   "metadata": {},
   "outputs": [],
   "source": [
    "lines=f.readlines()\n",
    "f.close()"
   ]
  },
  {
   "cell_type": "code",
   "execution_count": 9,
   "metadata": {},
   "outputs": [],
   "source": [
    "dlines = lines[2:]"
   ]
  },
  {
   "cell_type": "code",
   "execution_count": 10,
   "metadata": {},
   "outputs": [
    {
     "data": {
      "text/plain": [
       "25"
      ]
     },
     "execution_count": 10,
     "metadata": {},
     "output_type": "execute_result"
    }
   ],
   "source": [
    "# how many data point?\n",
    "len(dlines)"
   ]
  },
  {
   "cell_type": "code",
   "execution_count": 11,
   "metadata": {},
   "outputs": [],
   "source": [
    "# make sure nhrs < len(dlines)\n",
    "nhrs = 24"
   ]
  },
  {
   "cell_type": "code",
   "execution_count": 12,
   "metadata": {},
   "outputs": [
    {
     "data": {
      "text/plain": [
       "['2019', '01', '24', '07', '00', '350', '2.0', '4.0', '3.2', '13']"
      ]
     },
     "execution_count": 12,
     "metadata": {},
     "output_type": "execute_result"
    }
   ],
   "source": [
    "dlines[0].split()[0:10]"
   ]
  },
  {
   "cell_type": "code",
   "execution_count": 13,
   "metadata": {},
   "outputs": [],
   "source": [
    "# YY  MM DD hh mm WDIR WSPD GST  WVHT   DPD\n",
    "data=[]\n",
    "for i in range(nhrs):\n",
    "    data.append(array(dlines[i].split()[0:10],dtype=float))"
   ]
  },
  {
   "cell_type": "code",
   "execution_count": 14,
   "metadata": {},
   "outputs": [],
   "source": [
    "data = array(data)"
   ]
  },
  {
   "cell_type": "code",
   "execution_count": 15,
   "metadata": {},
   "outputs": [],
   "source": [
    "YY , MM, DD ,hh, mm, WDIR, WSPD, GST,  WVHT, DPD = data.T[0:10]"
   ]
  },
  {
   "cell_type": "markdown",
   "metadata": {},
   "source": [
    "### In any case: \n",
    "Check and plot what we got ..."
   ]
  },
  {
   "cell_type": "code",
   "execution_count": 16,
   "metadata": {},
   "outputs": [
    {
     "data": {
      "text/plain": [
       "array([ 7.,  6.,  5.,  4.,  3.,  2.,  1.,  0., 23., 22., 21., 20., 19.,\n",
       "       18., 17., 16., 15., 14., 13., 12., 11., 10.,  9.,  8.])"
      ]
     },
     "execution_count": 16,
     "metadata": {},
     "output_type": "execute_result"
    }
   ],
   "source": [
    "hh"
   ]
  },
  {
   "cell_type": "markdown",
   "metadata": {},
   "source": [
    "Create a time variable that starts at `t=0 hrs` with the earliest time and goes forward in hours. Plot the wind speed as a function of this time variable."
   ]
  },
  {
   "cell_type": "code",
   "execution_count": 17,
   "metadata": {},
   "outputs": [],
   "source": [
    "time_hr = DD*24+hh; time_hr = time_hr[::-1]-time_hr[-1]"
   ]
  },
  {
   "cell_type": "code",
   "execution_count": 18,
   "metadata": {},
   "outputs": [
    {
     "data": {
      "application/vnd.jupyter.widget-view+json": {
       "model_id": "",
       "version_major": 2,
       "version_minor": 0
      },
      "text/plain": [
       "FigureCanvasNbAgg()"
      ]
     },
     "metadata": {},
     "output_type": "display_data"
    },
    {
     "data": {
      "text/plain": [
       "Text(0, 0.5, 'wind speed / knots')"
      ]
     },
     "execution_count": 18,
     "metadata": {},
     "output_type": "execute_result"
    },
    {
     "data": {
      "image/png": "[encoded data removed]",
      "text/plain": [
       "<Figure size 432x288 with 1 Axes>"
      ]
     },
     "metadata": {
      "needs_background": "light"
     },
     "output_type": "display_data"
    }
   ],
   "source": [
    "plot(time_hr,WSPD,'o')\n",
    "xlabel('hours'); ylabel('wind speed / knots')"
   ]
  },
  {
   "cell_type": "markdown",
   "metadata": {},
   "source": [
    "Smooth the data by forming a centered moving average (CMA), where each value is replaced by the average of the value and the neighboring value on each side. Plot this smoothed data along with the original data. "
   ]
  },
  {
   "cell_type": "code",
   "execution_count": 19,
   "metadata": {},
   "outputs": [
    {
     "data": {
      "text/plain": [
       "24"
      ]
     },
     "execution_count": 19,
     "metadata": {},
     "output_type": "execute_result"
    }
   ],
   "source": [
    "# centered moving average\n",
    "n=1\n",
    "WSPD_cma = [ average([WSPD[i-n:i+n+1]]) for i in range(0+n,nhrs-n)]\n",
    "WVHT_cma = [ average([WVHT[i-n:i+n+1]]) for i in range(0+n,nhrs-n)]\n",
    "len(WSPD_cma)\n",
    "len(time_hr)"
   ]
  },
  {
   "cell_type": "code",
   "execution_count": 20,
   "metadata": {},
   "outputs": [
    {
     "data": {
      "application/vnd.jupyter.widget-view+json": {
       "model_id": "",
       "version_major": 2,
       "version_minor": 0
      },
      "text/plain": [
       "FigureCanvasNbAgg()"
      ]
     },
     "metadata": {},
     "output_type": "display_data"
    },
    {
     "data": {
      "text/plain": [
       "Text(0, 0.5, 'wind speed / [m/s]')"
      ]
     },
     "execution_count": 20,
     "metadata": {},
     "output_type": "execute_result"
    },
    {
     "data": {
      "image/png": "[encoded data removed]",
      "text/plain": [
       "<Figure size 432x288 with 1 Axes>"
      ]
     },
     "metadata": {
      "needs_background": "light"
     },
     "output_type": "display_data"
    }
   ],
   "source": [
    "close(5);figure(5)\n",
    "plot(time_hr,WSPD,'o')\n",
    "plot(time_hr[1:-(2*n-1)],WSPD_cma,label='centered average n='+str(n))\n",
    "legend(loc=0)\n",
    "xlabel('hours'); ylabel('wind speed / [m/s]')"
   ]
  },
  {
   "cell_type": "markdown",
   "metadata": {},
   "source": [
    "Create a spline fit, using sympy's splrep/splev function. Adjust the smoothing parameter so that the spline fit looks similar to the CMA line. Overplot into the same figure."
   ]
  },
  {
   "cell_type": "code",
   "execution_count": 21,
   "metadata": {},
   "outputs": [],
   "source": [
    "from scipy import interpolate\n",
    "s=50.\n",
    "f_spl = interpolate.splrep(time_hr,WSPD, s=s) "
   ]
  },
  {
   "cell_type": "code",
   "execution_count": 22,
   "metadata": {},
   "outputs": [
    {
     "data": {
      "application/vnd.jupyter.widget-view+json": {
       "model_id": "",
       "version_major": 2,
       "version_minor": 0
      },
      "text/plain": [
       "FigureCanvasNbAgg()"
      ]
     },
     "metadata": {},
     "output_type": "display_data"
    },
    {
     "data": {
      "text/plain": [
       "Text(0, 0.5, 'wind speed / [m/s]')"
      ]
     },
     "execution_count": 22,
     "metadata": {},
     "output_type": "execute_result"
    },
    {
     "data": {
      "image/png": "[encoded data removed]",
      "text/plain": [
       "<Figure size 432x288 with 1 Axes>"
      ]
     },
     "metadata": {
      "needs_background": "light"
     },
     "output_type": "display_data"
    }
   ],
   "source": [
    "xgrid=linspace(time_hr[0],time_hr[-1],200)\n",
    "plot(time_hr,WSPD,'o')\n",
    "plot(time_hr[1:-(2*n-1)],WSPD_cma,label='centered average n=1')\n",
    "plot(xgrid,interpolate.splev(xgrid, f_spl, der=0),label='spline interp, s='+str(s))\n",
    "legend(loc=0)\n",
    "xlabel('hours'); ylabel('wind speed / [m/s]')"
   ]
  },
  {
   "cell_type": "markdown",
   "metadata": {},
   "source": [
    "Make a plot of wave height agains wind speed using smoothed data."
   ]
  },
  {
   "cell_type": "code",
   "execution_count": 23,
   "metadata": {},
   "outputs": [
    {
     "data": {
      "application/vnd.jupyter.widget-view+json": {
       "model_id": "",
       "version_major": 2,
       "version_minor": 0
      },
      "text/plain": [
       "FigureCanvasNbAgg()"
      ]
     },
     "metadata": {},
     "output_type": "display_data"
    },
    {
     "data": {
      "text/plain": [
       "Text(0.5, 0, 'wind speed / [m/s]')"
      ]
     },
     "execution_count": 23,
     "metadata": {},
     "output_type": "execute_result"
    },
    {
     "data": {
      "image/png": "[encoded data removed]",
      "text/plain": [
       "<Figure size 432x288 with 1 Axes>"
      ]
     },
     "metadata": {
      "needs_background": "light"
     },
     "output_type": "display_data"
    }
   ],
   "source": [
    "close(7),figure(7)\n",
    "plot(WSPD_cma,WVHT_cma,'o-')\n",
    "ylabel('wave height / [m]'); xlabel('wind speed / [m/s]')"
   ]
  },
  {
   "cell_type": "code",
   "execution_count": null,
   "metadata": {},
   "outputs": [],
   "source": []
  }
 ],
 "metadata": {
  "kernelspec": {
   "display_name": "Python 3",
   "language": "python",
   "name": "python3"
  },
  "language_info": {
   "codemirror_mode": {
    "name": "ipython",
    "version": 3
   },
   "file_extension": ".py",
   "mimetype": "text/x-python",
   "name": "python",
   "nbconvert_exporter": "python",
   "pygments_lexer": "ipython3",
   "version": "3.6.7"
  }
 },
 "nbformat": 4,
 "nbformat_minor": 2
}
