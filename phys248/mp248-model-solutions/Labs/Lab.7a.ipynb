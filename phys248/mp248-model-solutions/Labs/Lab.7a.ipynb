{
 "cells": [
  {
   "cell_type": "markdown",
   "metadata": {},
   "source": [
    "## Lab 7.a\n",
    "\n",
    "Brief diversion, solutions to **Assignment 1** and **Quiz 1**.\n",
    "\n",
    "### The remainder of this lab will be a sequence of introductory Sympy exercises\n",
    "\n",
    "**Exercise 1**: In class we saw the equality expression \"==\" in Sympy sometimes gives *false negatives*, i.e. it might say two expressions are not equal, when they are. \n",
    "\n",
    "Find a way to use Sympy's [**simplify**](https://docs.sympy.org/latest/tutorial/simplification.html) command to verify the two expressions\n",
    "\n",
    "$$\\frac{1}{\\sqrt{2}-1} \\text{ and } \\sqrt{2} + 1$$\n",
    "\n",
    "are equal."
   ]
  },
  {
   "cell_type": "code",
   "execution_count": 11,
   "metadata": {},
   "outputs": [
    {
     "name": "stdout",
     "output_type": "stream",
     "text": [
      "We will ask Sympy to simplify the expression: \n",
      "             1   \n",
      "-√2 - 1 + ───────\n",
      "          -1 + √2\n"
     ]
    },
    {
     "data": {
      "text/plain": [
       "0"
      ]
     },
     "execution_count": 11,
     "metadata": {},
     "output_type": "execute_result"
    }
   ],
   "source": [
    "import sympy as sp\n",
    "print(\"We will ask Sympy to simplify the expression: \")\n",
    "SPE =  1/(sp.sqrt(2)-1) - sp.sqrt(2) -1\n",
    "sp.pprint(SPE)\n",
    "sp.simplify( SPE )\n",
    "## equal! "
   ]
  },
  {
   "cell_type": "markdown",
   "metadata": {},
   "source": [
    "**Exercise 2**: Write a function $f(n)$ that returns a Sympy polynomial that is the degree $2n$ Taylor expansion of the $\\cos x$ function.\n",
    "\n",
    "$$T^{2n}(x) = 1 - \\frac{x^2}{2!}x^2 + \\frac{x^4}{4!}x^4 + \\cdots + (-1)^n\\frac{x^{2n}}{(2n)!}x^{2n}$$\n",
    "\n",
    "Print out these polynomials for $n=1,2,3,4,5$ and use Sympy to compute the\n",
    "derivative of these polynomials.\n"
   ]
  },
  {
   "cell_type": "code",
   "execution_count": 82,
   "metadata": {},
   "outputs": [
    {
     "name": "stdout",
     "output_type": "stream",
     "text": [
      "   2    \n",
      "  x     \n",
      "- ── + 1\n",
      "  2     \n",
      "diff\n",
      "-x\n",
      " * * * * * * * \n",
      " 4    2    \n",
      "x    x     \n",
      "── - ── + 1\n",
      "24   2     \n",
      "diff\n",
      " 3    \n",
      "x     \n",
      "── - x\n",
      "6     \n",
      " * * * * * * * \n",
      "    6    4    2    \n",
      "   x    x    x     \n",
      "- ─── + ── - ── + 1\n",
      "  720   24   2     \n",
      "diff\n",
      "    5    3    \n",
      "   x    x     \n",
      "- ─── + ── - x\n",
      "  120   6     \n",
      " * * * * * * * \n",
      "   8      6    4    2    \n",
      "  x      x    x    x     \n",
      "───── - ─── + ── - ── + 1\n",
      "40320   720   24   2     \n",
      "diff\n",
      "  7      5    3    \n",
      " x      x    x     \n",
      "──── - ─── + ── - x\n",
      "5040   120   6     \n",
      " * * * * * * * \n",
      "     10        8      6    4    2    \n",
      "    x         x      x    x    x     \n",
      "- ─────── + ───── - ─── + ── - ── + 1\n",
      "  3628800   40320   720   24   2     \n",
      "diff\n",
      "     9       7      5    3    \n",
      "    x       x      x    x     \n",
      "- ────── + ──── - ─── + ── - x\n",
      "  362880   5040   120   6     \n",
      " * * * * * * * \n"
     ]
    }
   ],
   "source": [
    "import fractions as fr\n",
    "import math as ma\n",
    "\n",
    "x = sp.Symbol('x')\n",
    "\n",
    "def f(n):\n",
    "    cof = [(-1)**k*fr.Fraction(1, ma.factorial(2*k) )*x**(2*k) for k in range(n+1)]\n",
    "    return(sum(cof))\n",
    "    \n",
    "for n in [1,2,3,4,5]:\n",
    "    sp.pprint(f(n))\n",
    "    print(\"diff\")\n",
    "    sp.pprint(sp.diff(f(n), x))\n",
    "    print(\" * * * * * * * \")"
   ]
  },
  {
   "cell_type": "markdown",
   "metadata": {},
   "source": [
    "**Exercise 3**: Compute the composite of the Taylor polynomial from Ex.2 with the function $x^2$, i.e. $T^{2n}(x^2)$ for $n=1,2,3,4,5$.\n",
    "\n",
    "From Calculus, this is a Taylor polynomial (of the appropriate order) for the function $\\cos(x^2)$.\n",
    "\n",
    "Use Sympy to compute the integrals:\n",
    "$$\\int_0^x \\cos(x^2) dx$$ \n",
    "$$\\int_0^x T^{2n}(x^2) dx \\text{  for  } n=1,2,3,4,5.$$\n",
    "\n",
    "**Advice**: You can replace a variable with another in a Sympy expression with the [subs](https://docs.sympy.org/latest/tutorial/basic_operations.html) (substitute) command.\n",
    "\n",
    "Put the plots of these functions in one common matplotlib plot, so that they can be compared.  Make the domain of the plot $x = [-2\\pi,2\\pi]$. \n",
    "\n",
    "**Advice**: You might find that due to the polynomials being extremely large towards the ends of the integration, it will help to set the **y-limits** of your plot to reasonable numbers such as $-2.0$ and $2.0$. Otherwise your plot's y-scale could be so large that it distorts the most interesting features of your functions.  Look up the [ylim](https://matplotlib.org/api/_as_gen/matplotlib.pyplot.ylim.html) command for *pyplot*.\n"
   ]
  },
  {
   "cell_type": "code",
   "execution_count": 83,
   "metadata": {},
   "outputs": [],
   "source": [
    "pollist = [f(n).subs(x, x**2) for n in [1,2,3,4,5]]\n",
    "\n",
    "intlist = [sp.integrate(p,x) for p in pollist]\n",
    "\n",
    "F = sp.integrate(sp.cos(x**2), x)\n"
   ]
  },
  {
   "cell_type": "code",
   "execution_count": 87,
   "metadata": {},
   "outputs": [
    {
     "data": {
      "image/png": "[encoded data removed]",
      "text/plain": [
       "<Figure size 432x288 with 1 Axes>"
      ]
     },
     "metadata": {},
     "output_type": "display_data"
    }
   ],
   "source": [
    "import matplotlib.pyplot as plt\n",
    "%matplotlib inline\n",
    "\n",
    "import numpy as np\n",
    "plt.close()\n",
    "\n",
    "X = np.linspace(-2*np.pi, 2*np.pi, 1000)\n",
    "\n",
    "plt.ylim((-1.5, 1.5))\n",
    "plt.grid()\n",
    "\n",
    "for p in intlist:\n",
    "    plt.plot(X, [p.evalf(subs={x:q}) for q in X])\n",
    "\n",
    "plt.plot(X, [F.evalf(subs={x:q}) for q in X])\n",
    "\n",
    "plt.show()"
   ]
  },
  {
   "cell_type": "markdown",
   "metadata": {},
   "source": [
    "\n"
   ]
  },
  {
   "cell_type": "code",
   "execution_count": null,
   "metadata": {},
   "outputs": [],
   "source": []
  }
 ],
 "metadata": {
  "kernelspec": {
   "display_name": "Python 3",
   "language": "python",
   "name": "python3"
  },
  "language_info": {
   "codemirror_mode": {
    "name": "ipython",
    "version": 3
   },
   "file_extension": ".py",
   "mimetype": "text/x-python",
   "name": "python",
   "nbconvert_exporter": "python",
   "pygments_lexer": "ipython3",
   "version": "3.6.7"
  }
 },
 "nbformat": 4,
 "nbformat_minor": 2
}
