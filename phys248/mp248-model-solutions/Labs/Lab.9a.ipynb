{
 "cells": [
  {
   "cell_type": "markdown",
   "metadata": {},
   "source": [
    "## Exercise 1\n",
    "* Using scipy's `integrate.cumtrapz` integrate one more time the area under a quadrant of a circle to determine $\\pi$.\n",
    "* Which parameter controls the accuracy in this case? \n",
    "* Make a plot of the difference of your integration and the `nunmpy.pi` answer as a function of that parameter, for reasonable values of that parameter. What are reasonable parameters?\n"
   ]
  },
  {
   "cell_type": "code",
   "execution_count": 1,
   "metadata": {},
   "outputs": [
    {
     "name": "stdout",
     "output_type": "stream",
     "text": [
      "Populating the interactive namespace from numpy and matplotlib\n"
     ]
    },
    {
     "data": {
      "application/vnd.jupyter.widget-view+json": {
       "model_id": "33e7e3b4679548fc9ff41d14d9421333",
       "version_major": 2,
       "version_minor": 0
      },
      "text/plain": [
       "FigureCanvasNbAgg()"
      ]
     },
     "metadata": {},
     "output_type": "display_data"
    },
    {
     "data": {
      "text/plain": [
       "[<matplotlib.lines.Line2D at 0x7f019e46b400>]"
      ]
     },
     "execution_count": 1,
     "metadata": {},
     "output_type": "execute_result"
    }
   ],
   "source": [
    "%pylab ipympl\n",
    "npara = 200\n",
    "def func1(x):\n",
    "    return sqrt(1-x**2)\n",
    "x=linspace(0,1,npara)\n",
    "y=func1(x)\n",
    "plot(x,y)"
   ]
  },
  {
   "cell_type": "code",
   "execution_count": 2,
   "metadata": {},
   "outputs": [
    {
     "name": "stdout",
     "output_type": "stream",
     "text": [
      "3.141173807745686\n"
     ]
    }
   ],
   "source": [
    "from scipy import integrate\n",
    "npara = 200\n",
    "x=linspace(0,1,npara)\n",
    "y=func1(x)\n",
    "F=integrate.cumtrapz(y,x)\n",
    "print (F[-1]*4)"
   ]
  },
  {
   "cell_type": "code",
   "execution_count": 3,
   "metadata": {},
   "outputs": [
    {
     "name": "stdout",
     "output_type": "stream",
     "text": [
      "0.3333375419812631\n"
     ]
    }
   ],
   "source": [
    "f = lambda x: x**2\n",
    "npara = 200\n",
    "x=linspace(0,1,npara)\n",
    "y=f(x)\n",
    "F=integrate.cumtrapz(y,x)\n",
    "print (F[-1])"
   ]
  },
  {
   "cell_type": "code",
   "execution_count": 4,
   "metadata": {},
   "outputs": [
    {
     "data": {
      "text/plain": [
       "0.3333375419812631"
      ]
     },
     "execution_count": 4,
     "metadata": {},
     "output_type": "execute_result"
    }
   ],
   "source": [
    "integrate.cumtrapz(y,x)[-1]"
   ]
  },
  {
   "cell_type": "markdown",
   "metadata": {},
   "source": [
    "The `cumtrapz` method numerically integrates aling the array `x`. The higher the resolution of x (larger parameter `npara`) the more accurate is your integratrion."
   ]
  },
  {
   "cell_type": "code",
   "execution_count": 5,
   "metadata": {},
   "outputs": [],
   "source": [
    "nparas = []; Fs = []\n",
    "for lognpara in range(1,5):\n",
    "    npara = 10**lognpara\n",
    "    nparas.append(npara)\n",
    "    x=linspace(0,1,npara)\n",
    "    y=func1(x)\n",
    "    Fs.append(integrate.cumtrapz(y,x)[-1])\n",
    "aF = array(Fs)*4-pi\n",
    "logaF = log10(abs(aF))"
   ]
  },
  {
   "cell_type": "code",
   "execution_count": 11,
   "metadata": {},
   "outputs": [
    {
     "data": {
      "application/vnd.jupyter.widget-view+json": {
       "model_id": "e3eccb8341c045b6bde1f7e5e2ca3b9a",
       "version_major": 2,
       "version_minor": 0
      },
      "text/plain": [
       "FigureCanvasNbAgg()"
      ]
     },
     "metadata": {},
     "output_type": "display_data"
    },
    {
     "data": {
      "text/plain": [
       "Text(0.5, 0, 'npara')"
      ]
     },
     "execution_count": 11,
     "metadata": {},
     "output_type": "execute_result"
    }
   ],
   "source": [
    "close(116),figure(116)\n",
    "plot(log10(nparas),logaF,'o')\n",
    "ylabel('log(cumtrapz integral - numpy.py)')\n",
    "xlabel('npara')"
   ]
  },
  {
   "cell_type": "markdown",
   "metadata": {},
   "source": [
    "## Exercise 2\n",
    "* Make a line plot of the function $f(x) = 2x^2 + 3\\sin(5x)$, for $x \\in [-2,7]$."
   ]
  },
  {
   "cell_type": "code",
   "execution_count": 115,
   "metadata": {},
   "outputs": [],
   "source": [
    "f = lambda x: 2*x**2 + 3*sin(5*x)"
   ]
  },
  {
   "cell_type": "code",
   "execution_count": 116,
   "metadata": {},
   "outputs": [],
   "source": [
    "x=linspace(-2,7,100)"
   ]
  },
  {
   "cell_type": "code",
   "execution_count": 117,
   "metadata": {},
   "outputs": [
    {
     "data": {
      "application/vnd.jupyter.widget-view+json": {
       "model_id": "1373aef1fe484b4799e8c516c770187c",
       "version_major": 2,
       "version_minor": 0
      },
      "text/plain": [
       "FigureCanvasNbAgg()"
      ]
     },
     "metadata": {},
     "output_type": "display_data"
    },
    {
     "data": {
      "text/plain": [
       "[<matplotlib.lines.Line2D at 0x7f01dc962978>]"
      ]
     },
     "execution_count": 117,
     "metadata": {},
     "output_type": "execute_result"
    }
   ],
   "source": [
    "close(117),figure(117)\n",
    "plot(x,f(x))"
   ]
  },
  {
   "cell_type": "markdown",
   "metadata": {},
   "source": [
    "* Use sympy to determine the analytic expression of the derivative $f' = \\frac{df}{dx}$. Create a lambda function called `dfdxlam` out of the sympy expression using `sympy.lambdify`."
   ]
  },
  {
   "cell_type": "code",
   "execution_count": 78,
   "metadata": {},
   "outputs": [],
   "source": [
    "import sympy as sp\n",
    "xx, yy, zz = sp.symbols('x y z')\n",
    "sp.init_printing(use_unicode=True)"
   ]
  },
  {
   "cell_type": "code",
   "execution_count": 79,
   "metadata": {},
   "outputs": [],
   "source": [
    "fsymp = 2*xx**2 + 3*sp.sin(5*xx)"
   ]
  },
  {
   "cell_type": "code",
   "execution_count": 80,
   "metadata": {},
   "outputs": [],
   "source": [
    "fsymplam=sp.lambdify(xx,fsymp)"
   ]
  },
  {
   "cell_type": "code",
   "execution_count": 81,
   "metadata": {},
   "outputs": [
    {
     "data": {
      "image/png": "[encoded data removed]",
      "text/latex": [
       "$$69.03590512772142$$"
      ],
      "text/plain": [
       "69.03590512772142"
      ]
     },
     "execution_count": 81,
     "metadata": {},
     "output_type": "execute_result"
    }
   ],
   "source": [
    "fsymplam(6)"
   ]
  },
  {
   "cell_type": "code",
   "execution_count": 82,
   "metadata": {},
   "outputs": [],
   "source": [
    "dfdx = sp.diff(fsymp,xx)"
   ]
  },
  {
   "cell_type": "code",
   "execution_count": 83,
   "metadata": {},
   "outputs": [],
   "source": [
    "dfdxlam = sp.lambdify(xx,dfdx)"
   ]
  },
  {
   "cell_type": "code",
   "execution_count": 84,
   "metadata": {},
   "outputs": [
    {
     "data": {
      "text/plain": [
       "[<matplotlib.lines.Line2D at 0x7f01dcf1ce80>]"
      ]
     },
     "execution_count": 84,
     "metadata": {},
     "output_type": "execute_result"
    }
   ],
   "source": [
    "figure(117)\n",
    "plot(x,dfdxlam(x),label='dfdxlam')"
   ]
  },
  {
   "cell_type": "markdown",
   "metadata": {},
   "source": [
    "* In course notebook 6 we introduced a numerical derivative. Use this numerical derivative to determine \n",
    "$f'(3)$. Compare that with the result of `dfdxlam(3)`. What is your conclusion for how large, small `h` should be?"
   ]
  },
  {
   "cell_type": "code",
   "execution_count": 94,
   "metadata": {},
   "outputs": [],
   "source": [
    "\n",
    "if x is array: print('g')"
   ]
  },
  {
   "cell_type": "code",
   "execution_count": 95,
   "metadata": {},
   "outputs": [],
   "source": [
    "def deriv1(f,x,h):  # note - the function as in course notebook does not vectorize correctly\n",
    "    if not isinstance(x, np.ndarray): x=array([x])   # make sure I can hand over both array and float\n",
    "    dfdx = [(f(x1+h) - f(x1)) / h for x1 in x]\n",
    "    return dfdx"
   ]
  },
  {
   "cell_type": "code",
   "execution_count": 141,
   "metadata": {},
   "outputs": [],
   "source": [
    "## try these values\n",
    "h=0.1; x = 0.51   # this should be not too bad\n",
    "h=0.1; x = 0.31   # this as even different signs\n"
   ]
  },
  {
   "cell_type": "code",
   "execution_count": 142,
   "metadata": {},
   "outputs": [
    {
     "name": "stdout",
     "output_type": "stream",
     "text": [
      "1.5519224170463863 [-1.9326418666794565]\n"
     ]
    }
   ],
   "source": [
    "print(dfdxlam(x),deriv1(f,x,h))"
   ]
  },
  {
   "cell_type": "markdown",
   "metadata": {},
   "source": [
    "* Overplot the numerical derivative for different values of `h` with the derivative from `dfdxlam`. What is the result of too large `h` values? Can you rationalize your observation?"
   ]
  },
  {
   "cell_type": "code",
   "execution_count": 106,
   "metadata": {},
   "outputs": [
    {
     "data": {
      "application/vnd.jupyter.widget-view+json": {
       "model_id": "97e74f9100684034a6777c5c296f9ab7",
       "version_major": 2,
       "version_minor": 0
      },
      "text/plain": [
       "FigureCanvasNbAgg()"
      ]
     },
     "metadata": {},
     "output_type": "display_data"
    },
    {
     "data": {
      "text/plain": [
       "[<matplotlib.lines.Line2D at 0x7f01dca58e80>]"
      ]
     },
     "execution_count": 106,
     "metadata": {},
     "output_type": "execute_result"
    }
   ],
   "source": [
    "x=linspace(-2,7,200)\n",
    "close(1115);figure(1115)\n",
    "h=0.1\n",
    "y=deriv1(f,x,h)\n",
    "plot(x,deriv1(f,x,h),'--',label='h=0.1')"
   ]
  },
  {
   "cell_type": "code",
   "execution_count": 107,
   "metadata": {},
   "outputs": [
    {
     "data": {
      "text/plain": [
       "[<matplotlib.lines.Line2D at 0x7f01dca08390>]"
      ]
     },
     "execution_count": 107,
     "metadata": {},
     "output_type": "execute_result"
    }
   ],
   "source": [
    "figure(1115)\n",
    "h=0.001\n",
    "plot(x,deriv1(f,x,h),'-.',label='h=0.001')"
   ]
  },
  {
   "cell_type": "code",
   "execution_count": 108,
   "metadata": {},
   "outputs": [
    {
     "data": {
      "text/plain": [
       "[<matplotlib.lines.Line2D at 0x7f01dca08e48>]"
      ]
     },
     "execution_count": 108,
     "metadata": {},
     "output_type": "execute_result"
    }
   ],
   "source": [
    "figure(1115)\n",
    "plot(x,dfdxlam(x),':',label='exact')"
   ]
  },
  {
   "cell_type": "code",
   "execution_count": 109,
   "metadata": {},
   "outputs": [
    {
     "data": {
      "text/plain": [
       "<matplotlib.legend.Legend at 0x7f01dca6db70>"
      ]
     },
     "execution_count": 109,
     "metadata": {},
     "output_type": "execute_result"
    }
   ],
   "source": [
    "legend()"
   ]
  },
  {
   "cell_type": "code",
   "execution_count": null,
   "metadata": {},
   "outputs": [],
   "source": []
  }
 ],
 "metadata": {
  "kernelspec": {
   "display_name": "Python 3",
   "language": "python",
   "name": "python3"
  },
  "language_info": {
   "codemirror_mode": {
    "name": "ipython",
    "version": 3
   },
   "file_extension": ".py",
   "mimetype": "text/x-python",
   "name": "python",
   "nbconvert_exporter": "python",
   "pygments_lexer": "ipython3",
   "version": "3.6.7"
  }
 },
 "nbformat": 4,
 "nbformat_minor": 2
}
