{
 "cells": [
  {
   "cell_type": "code",
   "execution_count": 12,
   "metadata": {},
   "outputs": [
    {
     "name": "stdout",
     "output_type": "stream",
     "text": [
      "Populating the interactive namespace from numpy and matplotlib\n"
     ]
    }
   ],
   "source": [
    "%pylab ipympl"
   ]
  },
  {
   "cell_type": "markdown",
   "metadata": {},
   "source": [
    "## Solution "
   ]
  },
  {
   "cell_type": "code",
   "execution_count": 13,
   "metadata": {},
   "outputs": [],
   "source": [
    "import astropy.units as u"
   ]
  },
  {
   "cell_type": "code",
   "execution_count": 14,
   "metadata": {},
   "outputs": [],
   "source": [
    "Cd  = 0.3\n",
    "rho = 1.225 *u.kg/u.m**3\n",
    "A   = 1 * u.m**2\n",
    "m = 80 * u.kg\n",
    "k = 0.5*Cd*rho*A/m"
   ]
  },
  {
   "cell_type": "code",
   "execution_count": 15,
   "metadata": {},
   "outputs": [
    {
     "name": "stdout",
     "output_type": "stream",
     "text": [
      "0.002296875 1 / m\n"
     ]
    }
   ],
   "source": [
    "print(k.to('1/m'))"
   ]
  },
  {
   "cell_type": "code",
   "execution_count": 16,
   "metadata": {},
   "outputs": [],
   "source": [
    "k = k.value\n",
    "g = 9.8          # m/s^2 "
   ]
  },
  {
   "cell_type": "code",
   "execution_count": 17,
   "metadata": {},
   "outputs": [],
   "source": [
    "global k,g, dt"
   ]
  },
  {
   "cell_type": "code",
   "execution_count": 18,
   "metadata": {},
   "outputs": [],
   "source": [
    "h0   = 2000   # jump-off height [m]\n",
    "h_p = 300    # end of free flight, pull parachute height [m]"
   ]
  },
  {
   "cell_type": "markdown",
   "metadata": {},
   "source": [
    "We must integrate both the velocity as well as the distance according to \n",
    "$$\n",
    "\\frac{dh}{dt} = v\n",
    "$$\n"
   ]
  },
  {
   "cell_type": "code",
   "execution_count": 19,
   "metadata": {},
   "outputs": [],
   "source": [
    "def rhs_sdiver(x,dt):\n",
    "    'Evaluate RHS for skydiver problem, advance one time step'\n",
    "    h = x[0] + dt*x[1]\n",
    "    v = x[1] + dt*(k*x[1]**2 - g)\n",
    "    return [h,v]"
   ]
  },
  {
   "cell_type": "markdown",
   "metadata": {},
   "source": [
    "We must also estimate a reasonable time step. "
   ]
  },
  {
   "cell_type": "code",
   "execution_count": 20,
   "metadata": {},
   "outputs": [
    {
     "name": "stdout",
     "output_type": "stream",
     "text": [
      "0.153 s\n"
     ]
    }
   ],
   "source": [
    "dh = 10  # typical spatial step at terminal velocity [m]\n",
    "v_t = sqrt(g/k)\n",
    "dt = dh / v_t\n",
    "print('%5.3f'%dt,'s')"
   ]
  },
  {
   "cell_type": "code",
   "execution_count": 21,
   "metadata": {},
   "outputs": [],
   "source": [
    "hv_all = []\n",
    "hv = array([h0,0])\n",
    "while hv[0] > h_p:\n",
    "    hv = rhs_sdiver(hv,dt)\n",
    "    hv_all.append(hv)"
   ]
  },
  {
   "cell_type": "code",
   "execution_count": 22,
   "metadata": {},
   "outputs": [],
   "source": [
    "hv_10=array(hv_all)"
   ]
  },
  {
   "cell_type": "code",
   "execution_count": 23,
   "metadata": {},
   "outputs": [
    {
     "data": {
      "text/plain": [
       "65.31972647421809"
      ]
     },
     "execution_count": 23,
     "metadata": {},
     "output_type": "execute_result"
    }
   ],
   "source": [
    "v_t"
   ]
  },
  {
   "cell_type": "code",
   "execution_count": 24,
   "metadata": {},
   "outputs": [
    {
     "data": {
      "application/vnd.jupyter.widget-view+json": {
       "model_id": "c116983c372144ed9b2139fa533a190e",
       "version_major": 2,
       "version_minor": 0
      },
      "text/plain": [
       "FigureCanvasNbAgg()"
      ]
     },
     "metadata": {},
     "output_type": "display_data"
    },
    {
     "data": {
      "text/plain": [
       "(2100, 250)"
      ]
     },
     "execution_count": 24,
     "metadata": {},
     "output_type": "execute_result"
    }
   ],
   "source": [
    "hv_plot_10=hv_10.T\n",
    "close(1),figure(1)\n",
    "plot(hv_plot_10[0],hv_plot_10[1],label='dh= 10m')\n",
    "plot((hv_plot_10[0][0],hv_plot_10[0][-1]),(-v_t,-v_t),'k-')\n",
    "xlabel('h / [m]')\n",
    "ylabel('v / [km/s]')\n",
    "legend(loc=1)\n",
    "xlim(2100,250)"
   ]
  },
  {
   "cell_type": "markdown",
   "metadata": {},
   "source": [
    "## Convergence test"
   ]
  },
  {
   "cell_type": "code",
   "execution_count": 25,
   "metadata": {},
   "outputs": [
    {
     "data": {
      "application/vnd.jupyter.widget-view+json": {
       "model_id": "",
       "version_major": 2,
       "version_minor": 0
      },
      "text/plain": [
       "FigureCanvasNbAgg()"
      ]
     },
     "metadata": {},
     "output_type": "display_data"
    },
    {
     "data": {
      "text/plain": [
       "<matplotlib.legend.Legend at 0x7f8351b577f0>"
      ]
     },
     "execution_count": 25,
     "metadata": {},
     "output_type": "execute_result"
    }
   ],
   "source": [
    "t_max = 15\n",
    "\n",
    "dh = [10,100, 300]\n",
    "close(2)\n",
    "figure(2)\n",
    "for this_dh in dh:\n",
    "    dt = this_dh / v_t\n",
    "    tv_all = [[0,0]] # each element is [t, v]\n",
    "    hv = array([0,0]); t = 0\n",
    "    while t < t_max:\n",
    "        hv = rhs_sdiver(hv,dt)\n",
    "        t += dt\n",
    "        tv_all.append([t,hv[1]])\n",
    "    tv = array(tv_all).T\n",
    "    plot(tv[0],tv[1],'.-',label='dh='+str(this_dh)+'m')\n",
    "xlabel('t / [s]')\n",
    "ylabel('v / [m/s]')\n",
    "legend(loc=1)\n"
   ]
  },
  {
   "cell_type": "code",
   "execution_count": 26,
   "metadata": {},
   "outputs": [
    {
     "data": {
      "application/vnd.jupyter.widget-view+json": {
       "model_id": "ab8040175e7c44af9187a4738beb16ba",
       "version_major": 2,
       "version_minor": 0
      },
      "text/plain": [
       "FigureCanvasNbAgg()"
      ]
     },
     "metadata": {},
     "output_type": "display_data"
    },
    {
     "name": "stdout",
     "output_type": "stream",
     "text": [
      "time step 2.449 s\n",
      "time step 1.225 s\n",
      "time step 0.612 s\n",
      "time step 0.306 s\n",
      "time step 0.153 s\n",
      "time step 0.077 s\n"
     ]
    },
    {
     "data": {
      "text/plain": [
       "(2100, 250)"
      ]
     },
     "execution_count": 26,
     "metadata": {},
     "output_type": "execute_result"
    }
   ],
   "source": [
    "close(2);figure(2)\n",
    "dh_range = [5,10,20,40,80,160]\n",
    "#dh_range = [2,100]\n",
    "for dh in dh_range[::-1]:\n",
    "    dt = dh / v_t\n",
    "    print('time step %5.3f'%dt,'s')\n",
    "    hv_all = []\n",
    "    hv = array([2000,0])\n",
    "    while hv[0] > h_p:\n",
    "        hv = rhs_sdiver(hv,dt)\n",
    "        hv_all.append(hv)\n",
    "    hv_plot = array(hv_all).T    \n",
    "    plot(hv_plot[0],log10(hv_plot[1]+v_t),label='dh='+str(dh)+'m')\n",
    "xlabel('h [m]')\n",
    "ylabel('$ \\log (v-v_\\mathrm{t}) \\mathrm{\\ [km/s]}$')\n",
    "legend(loc=1)\n",
    "xlim(2100,250)"
   ]
  },
  {
   "cell_type": "markdown",
   "metadata": {},
   "source": [
    "## Solution for system with odeint\n",
    "Plot H and v as a function of t."
   ]
  },
  {
   "cell_type": "code",
   "execution_count": 47,
   "metadata": {},
   "outputs": [],
   "source": [
    "def rhs_sdiver_odeint(y,t,k,g):\n",
    "    'Evaluate RHS for skydiver problem, advance one time step'\n",
    "    hrhs = y[1]\n",
    "    vrhs = k*y[1]**2 - g\n",
    "    return [hrhs,vrhs]\n"
   ]
  },
  {
   "cell_type": "code",
   "execution_count": 48,
   "metadata": {},
   "outputs": [],
   "source": [
    "from scipy import integrate"
   ]
  },
  {
   "cell_type": "code",
   "execution_count": 49,
   "metadata": {},
   "outputs": [],
   "source": [
    "t=linspace(0,25,25)\n",
    "y = integrate.odeint(rhs_sdiver_odeint,[h0,0],t, args=(k,g))"
   ]
  },
  {
   "cell_type": "code",
   "execution_count": 50,
   "metadata": {},
   "outputs": [
    {
     "data": {
      "application/vnd.jupyter.widget-view+json": {
       "model_id": "8867a614774541399552b96bed427182",
       "version_major": 2,
       "version_minor": 0
      },
      "text/plain": [
       "FigureCanvasNbAgg()"
      ]
     },
     "metadata": {},
     "output_type": "display_data"
    },
    {
     "data": {
      "text/plain": [
       "Text(0.5, 0, 'time / s')"
      ]
     },
     "execution_count": 50,
     "metadata": {},
     "output_type": "execute_result"
    }
   ],
   "source": [
    "close(5);figure(5)\n",
    "plot(t,y.T[0])\n",
    "ylabel('height / m')\n",
    "xlabel('time / s')"
   ]
  },
  {
   "cell_type": "code",
   "execution_count": 51,
   "metadata": {},
   "outputs": [
    {
     "data": {
      "text/plain": [
       "'/home/user/repos/mp248-planning/Labs'"
      ]
     },
     "execution_count": 51,
     "metadata": {},
     "output_type": "execute_result"
    }
   ],
   "source": [
    "pwd\n"
   ]
  },
  {
   "cell_type": "code",
   "execution_count": 52,
   "metadata": {},
   "outputs": [
    {
     "data": {
      "application/vnd.jupyter.widget-view+json": {
       "model_id": "e0c397a36fe2447f90abbe9114f01f00",
       "version_major": 2,
       "version_minor": 0
      },
      "text/plain": [
       "FigureCanvasNbAgg()"
      ]
     },
     "metadata": {},
     "output_type": "display_data"
    },
    {
     "data": {
      "text/plain": [
       "Text(0.5, 0, 'time / s')"
      ]
     },
     "execution_count": 52,
     "metadata": {},
     "output_type": "execute_result"
    }
   ],
   "source": [
    "close(6);figure(6)\n",
    "plot(t,y.T[1])\n",
    "ylabel('velocity / m/s')\n",
    "xlabel('time / s')"
   ]
  },
  {
   "cell_type": "code",
   "execution_count": null,
   "metadata": {},
   "outputs": [],
   "source": []
  }
 ],
 "metadata": {
  "anaconda-cloud": {},
  "kernelspec": {
   "display_name": "Python 3",
   "language": "python",
   "name": "python3"
  },
  "language_info": {
   "codemirror_mode": {
    "name": "ipython",
    "version": 3
   },
   "file_extension": ".py",
   "mimetype": "text/x-python",
   "name": "python",
   "nbconvert_exporter": "python",
   "pygments_lexer": "ipython3",
   "version": "3.6.7"
  }
 },
 "nbformat": 4,
 "nbformat_minor": 2
}
