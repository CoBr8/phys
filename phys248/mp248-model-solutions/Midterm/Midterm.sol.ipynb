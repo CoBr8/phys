{
 "cells": [
  {
   "cell_type": "markdown",
   "metadata": {},
   "source": [
    "# Mid term\n",
    "\n",
    "You have **80** minutes for this exam.  \n",
    "\n",
    "Save your exam in the location **mp248/Exams/Midterm.ipynb** on your **GitLab** repository.  You will likely have to create your **Exams** subdirectory.  \n",
    "\n",
    "Ensure you push your partial work to your repository *early* and *often*.\n",
    "\n",
    "**Note**: Invigilators will only offer help with **GIT** issues in the final 20 minutes of the exam.  Students that receive help on GIT issues will be deducted **10%** from their exam grade.\n",
    "\n",
    "* * *"
   ]
  },
  {
   "cell_type": "markdown",
   "metadata": {},
   "source": [
    "## Problem 1\n",
    "1. [80% of grade for P1] How much water do you have to store on your 10m high roof-top in order to store enough potential energy, that - if transformed without losses - could run a 50W bulp for 5 hr? Use a package such as `astropy` that provides the capability to calculate with quantities that have units. \n",
    "2. [20%] Express your answer as a callable function that takes the power of the light bulp and the duration of how long it should run as well as the hight of the roof top as input. Use the function with the given input values and print the results in the unit kg. "
   ]
  },
  {
   "cell_type": "code",
   "execution_count": null,
   "metadata": {},
   "outputs": [],
   "source": [
    "from astropy import constants as c\n",
    "from astropy import units as u"
   ]
  },
  {
   "cell_type": "code",
   "execution_count": null,
   "metadata": {},
   "outputs": [],
   "source": [
    "def water_mass(P = 50 * u.W,t = 5 * u.hr,h = 10 * u.m):\n",
    "    '''\n",
    "    Return water mass required to run light bulp\n",
    "    \n",
    "    Parameters:\n",
    "    -----------\n",
    "    P : float\n",
    "      power of light bulp in W\n",
    "    t : float\n",
    "      time to run bulp in hrs\n",
    "    h : float\n",
    "      height of water to be stored in m\n",
    "      \n",
    "    Output:\n",
    "    -------\n",
    "    m : mass\n",
    "      mass of water required\n",
    "    '''\n",
    "    E = P * t\n",
    "    m = E/(c.g0*h)\n",
    "    return m"
   ]
  },
  {
   "cell_type": "code",
   "execution_count": null,
   "metadata": {},
   "outputs": [],
   "source": [
    "water_mass().to('kg')"
   ]
  },
  {
   "cell_type": "markdown",
   "metadata": {},
   "source": [
    "* * *\n",
    "\n",
    "## Problem 2\n",
    "1. [25%] Make a plot of a square with side length 2 centered at the origin. This means the lower left corner is at the coordinate $(x,y)=(-1,-1)$. Use a solid black line. Add to the plot a circle with radius 1 also centered at the origin. Use a red dashed line.  \n",
    "2. [25%] Place 100 points inside the square that are randomly distributed in x- and y-direction. Use blue dots.\n",
    "3. [30%] Determine the fraction of randomly placed points inside the circle. Calculate from this fraction the area of the circle using the known area of the square. Repeat the calculation a couple of times. What is your average answer from 3 calculations?\n",
    "4. [10%] By how much does this average calculated answer differ from `numpy.pi` in %? \n",
    "5. [10%] Is this difference a lack of accuracy or a lack of precision? Explain in one sentence."
   ]
  },
  {
   "cell_type": "code",
   "execution_count": null,
   "metadata": {},
   "outputs": [],
   "source": [
    "%pylab ipympl"
   ]
  },
  {
   "cell_type": "code",
   "execution_count": null,
   "metadata": {},
   "outputs": [],
   "source": [
    "close(11);figure(11,figsize=(6,6))\n",
    "\n",
    "x=[-1,1,1,-1,-1]\n",
    "y=[-1,-1,1,1,-1]\n",
    "plot(x,y,'k--')\n",
    "\n",
    "yy= lambda x: sqrt(1 - x**2)\n",
    "xx = linspace(-1,1,100)\n",
    "plot(xx,yy(xx),'r-')\n",
    "plot(xx,-yy(xx),'r-')"
   ]
  },
  {
   "cell_type": "code",
   "execution_count": null,
   "metadata": {},
   "outputs": [],
   "source": [
    "n=100\n",
    "x=2*random.rand(n)-1\n",
    "y=2*random.rand(n)-1\n",
    "plot(x,y,'o')"
   ]
  },
  {
   "cell_type": "code",
   "execution_count": null,
   "metadata": {},
   "outputs": [],
   "source": [
    "area=0\n",
    "for i in range(0,3):\n",
    "    n=100\n",
    "    x=2*random.rand(n)-1\n",
    "    y=2*random.rand(n)-1\n",
    "    r = sqrt(x**2 + y**2)\n",
    "    fraction_circle = len(where(r<=1.)[0])/n\n",
    "    area += fraction_circle*4.\n",
    "print(area/(i+1))\n",
    "print(\"Fraction %5.2f\"%(100*(area/(i+1)-pi)/pi))"
   ]
  },
  {
   "cell_type": "markdown",
   "metadata": {},
   "source": [
    "This difference is a lack of accuracy. \n",
    "\n",
    "Accuracy is a property of the algorithm. It describes how well the calculation **approximates** the exact answer, assuming that in calculating this answer all mathematical operations are carried out with unlimited precision. Precision is the degree to which the discretized equations are reproduced on the computer in the face of round-off errors.\n"
   ]
  },
  {
   "cell_type": "markdown",
   "metadata": {},
   "source": [
    "* * *\n",
    "\n",
    "## Problem 3\n",
    "\n",
    "In this problem we ask you to write a **simple equation solver** function **modsubdiv(f,x,a,b,eps,k)**\n",
    "\n",
    "The function **modsubdiv** takes as arguments:\n",
    "\n",
    "* $f$ a Sympy expression, representing a function of $x$, a Sympy variable.  \n",
    "\n",
    "* $a$ and $b$ are floats. The equation solver will require that $f(a)$ and $f(b)$ have opposite signs.  We call this the **iteration condition**.  The interval $[a,b]$ we call the **considered interval**.\n",
    "\n",
    "* **eps** will be a threshold where the function **modsubdiv** stops iteration.  This happens when the length of the **considered interval** is less than or equal to **eps**. \n",
    "\n",
    "**modsubdiv** will return three numbers: the endpoints of the final considered interval, and the number of iterations required to meet the threshold condition.\n",
    "\n",
    "For the iteration itself, we ask you to replace the interval $[a,b]$ with a subinterval of $[a,b]$.  Divide the interval $[a,b]$ into $k$ equally spaced subintervals \n",
    "\n",
    "$$[a,b] = [a, a+\\frac{b-a}{k}] \\cup [a+\\frac{b-a}{k}, a+2\\frac{b-a}{k}] \\cup \\cdots \\cup [a+(k-1)\\frac{b-a}{k}, a+k\\frac{b-a}{k}=b].$$ \n",
    "\n",
    "Choose the first such subinterval that satisfies the iteration condition. Repeat until the considered interval is no longer than **eps**. \n",
    "\n",
    "### Part 3.a [60%]\n",
    "Write the function **modsubdiv**.  \n",
    "\n",
    "**Hint:** For a simple check on the correctness of your code, compare your **modsubdiv** output with $k=2$ to the output of the **subdiv** function from Assignment 2.\n",
    "\n",
    "### Part 3.b [20%]\n",
    "Compare the number of iterations it takes **modsubdiv** to find the roots of the equation\n",
    "\n",
    "$$x^2 - 2 = 0$$\n",
    "\n",
    "with the initial considered interval $[a,b] = [1,2]$ and $eps = \\frac{1}{10}, \\frac{1}{100}, \\frac{1}{1000}, \\cdots, \\frac{1}{10^6}$, and $k=2, 3, 4, 5$.  Ensure you print the output of **modsubdiv** every time you call it.\n",
    "\n",
    "### Part 3.c [20%]\n",
    "Repeat **Part 3.b** for the equation\n",
    "\n",
    "$$x^x - 2 = 0$$\n",
    "\n",
    "with initial considered interval $[a,b]=[1,2]$. "
   ]
  },
  {
   "cell_type": "code",
   "execution_count": null,
   "metadata": {},
   "outputs": [],
   "source": [
    "import numpy as np\n",
    "import sympy as sp\n",
    "import operator as op"
   ]
  },
  {
   "cell_type": "code",
   "execution_count": null,
   "metadata": {},
   "outputs": [],
   "source": [
    "## We modify the subdiv function from Assignment 2. \n",
    "\n",
    "def modsubdiv(f,x,a,b,eps,k):\n",
    "    '''\n",
    "    f is a sympy expression, a function of a single variable, x\n",
    "    a and b are the initial endpoints\n",
    "    eps is the stop parameter.  \n",
    "    k is the number of subintervals to consider, during iteration.\n",
    "    \n",
    "    This function repeatedly divides the interval [a,b] into k\n",
    "    equal-length subintervals.  Finds a subinterval where the function\n",
    "    f has opposite-signs on the endpoints, then replaces [a,b]\n",
    "    by that subinterval, until [a,b] is shorter than eps. \n",
    "    it then returns the endpoints of the final considered interval, \n",
    "    and the iteration count, ct.\n",
    "    '''\n",
    "    \n",
    "    F = sp.lambdify(x, f)\n",
    "    \n",
    "    ct = 0\n",
    "    while (b-a)>eps:\n",
    "        subints = [[a+i*(b-a)/k, a+(i+1)*(b-a)/k] for i in range(k)]\n",
    "        for I in subints:\n",
    "            if F(I[0])*F(I[1])<0.0:\n",
    "                break\n",
    "        ct += 1\n",
    "        a = I[0]\n",
    "        b = I[1]\n",
    "        \n",
    "    return a,b, ct"
   ]
  },
  {
   "cell_type": "code",
   "execution_count": null,
   "metadata": {},
   "outputs": [],
   "source": [
    "## This is the subdiv function from Assignment 2.\n",
    "def subdiv(f,x,a,b,eps):\n",
    "    F = sp.lambdify(x, f)\n",
    "    ct = 0\n",
    "    while (b-a)>eps:\n",
    "        mp = (a+b)/2\n",
    "        ct += 1\n",
    "        fmp = F(mp)\n",
    "        fa = F(a)\n",
    "        fb = F(b)\n",
    "        if np.sign(fa)==np.sign(fb):\n",
    "            return(\"No root.\")\n",
    "        if np.sign(fmp)==np.sign(fa):\n",
    "            a = mp\n",
    "            continue\n",
    "        b = mp\n",
    "    return a,b, ct"
   ]
  },
  {
   "cell_type": "code",
   "execution_count": null,
   "metadata": {},
   "outputs": [],
   "source": [
    "## (a) Sanity check\n",
    "x = sp.Symbol('x')\n",
    "f = x**x - 2\n",
    "\n",
    "for k in [1,2,3,4,5,6]:\n",
    "    print(\"subdiv: \",subdiv(f,x,1.0,2.0, 1/10**k))\n",
    "    print(\"modsbd: \",modsubdiv(f, x, 1.0, 2.0, 1/10**k,2))\n",
    "    print(\" \")"
   ]
  },
  {
   "cell_type": "code",
   "execution_count": null,
   "metadata": {},
   "outputs": [],
   "source": [
    "## Part (b)\n",
    "\n",
    "for k in [2, 3,4,5]:\n",
    "    print(\"k ==\", k)\n",
    "    for j in [1,2,3,4,5,6]:\n",
    "        print(\"modsbd: \",modsubdiv(f, x, 1.0, 2.0, 1/10**j,k))\n",
    "        print(\" \")"
   ]
  },
  {
   "cell_type": "code",
   "execution_count": null,
   "metadata": {},
   "outputs": [],
   "source": [
    "## Part (c)\n",
    "\n",
    "f=x**x-2\n",
    "\n",
    "for k in [2,3,4,5]:\n",
    "    print(\"k ==\", k)\n",
    "    for j in [1,2,3,4,5,6]:\n",
    "        print(\"modsbd: \",modsubdiv(f, x, 1.0, 2.0, 1/10**j,k))\n",
    "        print(\" \")"
   ]
  },
  {
   "cell_type": "code",
   "execution_count": null,
   "metadata": {},
   "outputs": [],
   "source": []
  },
  {
   "cell_type": "code",
   "execution_count": null,
   "metadata": {},
   "outputs": [],
   "source": []
  },
  {
   "cell_type": "code",
   "execution_count": null,
   "metadata": {},
   "outputs": [],
   "source": []
  }
 ],
 "metadata": {
  "kernelspec": {
   "display_name": "Python 3",
   "language": "python",
   "name": "python3"
  },
  "language_info": {
   "codemirror_mode": {
    "name": "ipython",
    "version": 3
   },
   "file_extension": ".py",
   "mimetype": "text/x-python",
   "name": "python",
   "nbconvert_exporter": "python",
   "pygments_lexer": "ipython3",
   "version": "3.6.7"
  }
 },
 "nbformat": 4,
 "nbformat_minor": 2
}
