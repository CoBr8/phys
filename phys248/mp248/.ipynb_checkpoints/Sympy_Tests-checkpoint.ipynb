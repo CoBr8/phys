{
 "cells": [
  {
   "cell_type": "code",
   "execution_count": 47,
   "metadata": {},
   "outputs": [],
   "source": [
    "### Libraries witht ehir standard import names ###\n",
    "import sympy as sp\n",
    "import numpy as np\n",
    "import astropy.units as u\n",
    "import matplotlib.pyplot as plt\n",
    "import random as r"
   ]
  },
  {
   "cell_type": "code",
   "execution_count": 47,
   "metadata": {},
   "outputs": [
    {
     "name": "stdout",
     "output_type": "stream",
     "text": [
      "Original function: t**2\n",
      "Laplaced algebraic function in s: 2/s**3\n",
      "Inverse laplaced function in t: t**2*Heaviside(t)\n"
     ]
    }
   ],
   "source": [
    "# import sympy as sp\n",
    "from sympy.abc import t,s,a\n",
    "f=t**2\n",
    "F=sp.laplace_transform(f,t,s)[0]\n",
    "f1=sp.inverse_laplace_transform(F,s,t)\n",
    "\n",
    "print(\"Original function:\",f)\n",
    "print(\"Laplaced algebraic function in s:\",F)\n",
    "print(\"Inverse laplaced function in t:\",f1)"
   ]
  },
  {
   "cell_type": "code",
   "execution_count": 124,
   "metadata": {},
   "outputs": [
    {
     "name": "stdout",
     "output_type": "stream",
     "text": [
      "0\n"
     ]
    }
   ],
   "source": [
    "print(int(sp.numbers.One() is int(1)))"
   ]
  },
  {
   "cell_type": "code",
   "execution_count": 122,
   "metadata": {},
   "outputs": [],
   "source": [
    "dtli=[];dt1li=[]\n",
    "for _ in range(10):\n",
    "    t=timeit.Timer(\"0+1\" , setup=\"import sympy as sp;n=0\")\n",
    "    dt=t.timeit()\n",
    "    t1=timeit.Timer(\"0+one\" , setup=\"import sympy as sp;n=0;one=sp.numbers.One()\")\n",
    "    dt1=t1.timeit()\n",
    "    dtli.append(dt);dt1li.append(dt1)\n",
    "dt_avg=sum(dtli)/len(dtli)\n",
    "dt1_avg=sum(dt1li)/len(dt1li)"
   ]
  },
  {
   "cell_type": "code",
   "execution_count": 121,
   "metadata": {},
   "outputs": [
    {
     "name": "stdout",
     "output_type": "stream",
     "text": [
      "py took: 0.019069s sympy took: 1.033894s\n"
     ]
    }
   ],
   "source": [
    "print(\"py took: %6fs sympy took: %6fs\"%(dt_avg,dt1_avg))"
   ]
  },
  {
   "cell_type": "code",
   "execution_count": 120,
   "metadata": {},
   "outputs": [
    {
     "data": {
      "text/plain": [
       "0.03544554999098182"
      ]
     },
     "execution_count": 120,
     "metadata": {},
     "output_type": "execute_result"
    }
   ],
   "source": [
    "## Timeit example\n",
    "import timeit\n",
    "t = timeit.Timer(stmt='char in text', setup='text = \"sample string\"; char = \"g\"')\n",
    "t.timeit()"
   ]
  },
  {
   "cell_type": "code",
   "execution_count": 67,
   "metadata": {},
   "outputs": [],
   "source": [
    "#### Sympy lambdify functionality\n",
    "x=sp.Symbol('x');\n",
    "Flag=True;\n",
    "li=[]\n",
    "n=0\n",
    "while n<10:\n",
    "    n+=1\n",
    "    v1=r.randint(1,5+1);    v2=r.randint(1,5+1);    v3=r.randint(1,5+1);    v4=r.randint(1,5+1)\n",
    "    li.append(v2*x**v1+v3*x**v2+v4*x**v3+v4)\n",
    "    "
   ]
  },
  {
   "cell_type": "code",
   "execution_count": 68,
   "metadata": {},
   "outputs": [
    {
     "name": "stdout",
     "output_type": "stream",
     "text": [
      "   5      4      2    \n",
      "6⋅x  + 5⋅x  + 4⋅x  + 6\n",
      "    4       3      \n",
      "30⋅x  + 20⋅x  + 8⋅x\n",
      "\n",
      "\n",
      "\n",
      "   5      3          \n",
      "2⋅x  + 5⋅x  + 3⋅x + 2\n",
      "    4       2    \n",
      "10⋅x  + 15⋅x  + 3\n",
      "\n",
      "\n",
      "\n",
      "   6      4      3    \n",
      "3⋅x  + 5⋅x  + 4⋅x  + 5\n",
      "    5       3       2\n",
      "18⋅x  + 20⋅x  + 12⋅x \n",
      "\n",
      "\n",
      "\n",
      " 5          \n",
      "x  + 5⋅x + 4\n",
      "   4    \n",
      "5⋅x  + 5\n",
      "\n",
      "\n",
      "\n",
      "   6      4      2    \n",
      "2⋅x  + 5⋅x  + 4⋅x  + 5\n",
      "    5       3      \n",
      "12⋅x  + 20⋅x  + 8⋅x\n",
      "\n",
      "\n",
      "\n",
      "   5    4      2    \n",
      "4⋅x  + x  + 5⋅x  + 1\n",
      "    4      3       \n",
      "20⋅x  + 4⋅x  + 10⋅x\n",
      "\n",
      "\n",
      "\n",
      " 5      2    \n",
      "x  + 7⋅x  + 1\n",
      "   4       \n",
      "5⋅x  + 14⋅x\n",
      "\n",
      "\n",
      "\n",
      "   5      2    \n",
      "2⋅x  + 7⋅x  + 2\n",
      "    4       \n",
      "10⋅x  + 14⋅x\n",
      "\n",
      "\n",
      "\n",
      "   6      4      3    \n",
      "3⋅x  + 6⋅x  + 4⋅x  + 3\n",
      "    5       3       2\n",
      "18⋅x  + 24⋅x  + 12⋅x \n",
      "\n",
      "\n",
      "\n",
      "3⋅x + 1\n",
      "3\n",
      "\n",
      "\n",
      "\n"
     ]
    }
   ],
   "source": [
    "for fun in li:\n",
    "    f=fun ## Symbolic representation, not able to compute at values\n",
    "    # sp.pprint(f)\n",
    "    fx=sp.lambdify(x,f)\n",
    "    dfdx=f.diff(x)\n",
    "    sp.pprint(f)\n",
    "\n",
    "    sp.pprint(dfdx)\n",
    "    print(\"\\n\\n\")"
   ]
  }
 ],
 "metadata": {
  "kernelspec": {
   "display_name": "Python 3",
   "language": "python",
   "name": "python3"
  },
  "language_info": {
   "codemirror_mode": {
    "name": "ipython",
    "version": 3
   },
   "file_extension": ".py",
   "mimetype": "text/x-python",
   "name": "python",
   "nbconvert_exporter": "python",
   "pygments_lexer": "ipython3",
   "version": "3.6.7"
  }
 },
 "nbformat": 4,
 "nbformat_minor": 2
}
