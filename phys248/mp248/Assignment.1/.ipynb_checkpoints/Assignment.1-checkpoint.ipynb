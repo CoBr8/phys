{
 "cells": [
  {
   "cell_type": "markdown",
   "metadata": {},
   "source": [
    "# Assignment 1\n",
    "\n",
    "* **The deadline for this assignment is due on 28 Mon, 10am.**\n",
    "* Create a new directory called `Assignment.1` in your **mp248** repository.\n",
    "* Refer to the **grading key** for guidance for what is expected. \n",
    "* Copy this notebook to the `Assignment.1` folder in your mp248 repository. \n",
    "* Answer Problems 1 and 2 in the copy of this notebook in your mp248 repository. This notebook is a _bash_ notebook.\n",
    "* For Problem 3 & 4 create a Python 3 notebook with the name `Assignment-python.ipnb` and make sure that it is located in the `Assignment.1` folder in your `mp248` repository.\n",
    "* Make sure that you add this notebook, the `Assignment-python.ipnb` notebook and any other files indicated below to the final commit of your homework. It is advised that you start committing and pushing once you have partial results."
   ]
  },
  {
   "cell_type": "markdown",
   "metadata": {},
   "source": [
    "## Problem 1\n",
    "\n",
    "### 1.1\n",
    "In a bash cell below download the textfile from the following url: `http://www.textfiles.com/etext/AUTHORS/SHAKESPEARE/shakespeare-midsummer-16.txt` containing _SHAKESPEARE: A Midsummer Night's Dream_ using a shell command. \n",
    "\n",
    "Using the command line editor write a shell script called `shake_analysis.sh` that analyses the file and writes out one answer per line to the following questions:\n",
    "* How many lines contain the word _Lysander_? \n",
    "* How many lines contain the word _Lysander_ and the word _love_? (case sensitive search)\n",
    "* How many words are in the lines that contain the words _Lysander_ and the word _love_?\n",
    "* How large is the file `shakespeare-midsummer-16.txt` in `kB` (kilobyte)? The script should output only the integer number of kB.\n",
    "\n",
    "### 1.2\n",
    "Further add shell script code that generates the answers to the following questions\n",
    "* What is the 6th word in the line that contains both the words _passion_ and _dear_?\n",
    "* How long is that word?\n",
    "\n",
    "Finally, the script should create a file `midsummer_dad.txt` in which all instances of _EGEUS_ and _Egeus_ are replaced with _dad_, and then report the number of times 'dad' appears in `midsummer_dad.txt`.\n",
    "\n",
    "Add the script `shake_analysis.sh` and the file `midsummer_dad.txt` to the `Assignment.1` folder."
   ]
  },
  {
   "cell_type": "markdown",
   "metadata": {},
   "source": [
    "#### Solution"
   ]
  },
  {
   "cell_type": "code",
   "execution_count": 2,
   "metadata": {},
   "outputs": [
    {
     "name": "stdout",
     "output_type": "stream",
     "text": [
      "--2019-01-23 16:10:28--  http://www.textfiles.com/etext/AUTHORS/SHAKESPEARE/shakespeare-midsummer-16.txt\n",
      "Resolving www.textfiles.com (www.textfiles.com)... 208.86.224.90\n",
      "Connecting to www.textfiles.com (www.textfiles.com)|208.86.224.90|:80... connected.\n",
      "HTTP request sent, awaiting response... 200 OK\n",
      "Length: 96439 (94K) [text/plain]\n",
      "Saving to: 'shakespeare-midsummer-16.txt.2'\n",
      "\n",
      "shakespeare-midsumm 100%[===================>]  94.18K  45.2KB/s    in 2.1s    \n",
      "\n",
      "2019-01-23 16:10:31 (45.2 KB/s) - 'shakespeare-midsummer-16.txt.2' saved [96439/96439]\n",
      "\n"
     ]
    }
   ],
   "source": [
    "wget \"http://www.textfiles.com/etext/AUTHORS/SHAKESPEARE/shakespeare-midsummer-16.txt\""
   ]
  },
  {
   "cell_type": "markdown",
   "metadata": {},
   "source": [
    "## Problem 2\n",
    "\n",
    "## 2.1\n",
    "Briefly describe the workflow of modifying files in your git repository and adding them  as a new commit. What command is used to transfer your latest git changes to the GitLab repository. "
   ]
  },
  {
   "cell_type": "markdown",
   "metadata": {},
   "source": [
    "#### Soln\n",
    "After creating and editing files within your local git repository (the folders where you've cloned them) you must then add them to be commit. \n",
    "```git add -A``` will add all files to a commit, or ```git add <file_name>``` will add individual files to be added.\n",
    "\n",
    "Once you have added the files you wish to push to the repository, you will then commit them to be pushed. Using ```git commit -m '<insert commit msg here>'``` you will commit all added files to be pushed. Alternatively, if you use ```git commit``` it will redirect you to your editor where you will be required to add a commit message to continue.\n",
    "\n",
    "After you use ```git status``` to ensure all of the files you want added, and none that you don't, you then finally use the ```git push``` command and that will upload your files to the server. "
   ]
  },
  {
   "cell_type": "markdown",
   "metadata": {},
   "source": [
    "## 2.2\n",
    "1. Create a branch on your repository called `assign1p2`, switch to that branch and add a file called `this_is_a_file_on_my_branch.txt` with the content `Hello World!`. Make sure your branch is pushed to the remote so that it is available on the GitLab server. Once you are done switch back to the master branch and continue there. \n",
    "2. At this point you should still be in the `Assignment.1` folder and you should be on the master branch. Redirect the output of the `git status` command into the file `git_status_A1P2.txt` and add that file to the repository."
   ]
  },
  {
   "cell_type": "code",
   "execution_count": null,
   "metadata": {},
   "outputs": [],
   "source": [
    "# Q2.2.1\n",
    "\n",
    "# commented out because it was done in CLI\n",
    "\n",
    "# git branch -b assign1p2\n",
    "# cat > this_is_a_file_on_my_branch.txt\n",
    "# Hello World!\n",
    "# git add this_is_a_file_on_my_branch\n",
    "# git commit -m 'Added Q2.2.1 file'\n",
    "# git push --set-upstream origin master\n",
    "# git checkout master\n",
    "\n",
    "#Q2.2.2\n",
    "\n",
    "# Commented out as it was done in CLI\n",
    "\n",
    "# git status > git_status_A1P2.txt\n",
    "# git add git_status_A1P2.txt\n",
    "# git commit -m 'added status file for Q2.2.2'\n",
    "# git push"
   ]
  },
  {
   "cell_type": "markdown",
   "metadata": {},
   "source": [
    "## Problem 3\n",
    "### 3.1\n",
    "There are some [really long place names](https://www.worldatlas.com/articles/the-10-longest-place-names-in-the-world.html) out there!\n",
    "* Create variables that store the following strings: \n",
    "    - `Llanfairpwllgwyngyllgogerychwyrndrobwllllantysiliogogogoch` \n",
    "    - `Pekwachnamaykoskwaskwaypinwanik`\n",
    "* Describe the slicing and string addition (concatenation) operations needed to create out of these two string variables a new variable that contains the string `airkoskwa`. This is about slicing string variables. You don't need to automatically find the slicing indices, you can just determine them manually by counting.\n",
    "* Create a three-element list that contains the above three strings. Call this list **strlist**. \n",
    "* Create yet another list. Build this list starting from an empty list. Iterating over **strlist**, append the 5th character from each string to this new list.\n",
    "* Print the new list. "
   ]
  },
  {
   "cell_type": "markdown",
   "metadata": {},
   "source": [
    "### 3.2\n",
    "* Create a list of integers called `ilist`  starting with 4, ending with 28, in steps of 6 (without manually typing the numbers, use some form of list generator)."
   ]
  },
  {
   "cell_type": "markdown",
   "metadata": {},
   "source": [
    "* Turn that list into a numpy array with name `alist` and then create a new array with name `slist` that contains the square of values in `alist`."
   ]
  },
  {
   "cell_type": "markdown",
   "metadata": {},
   "source": [
    "* Open a file `P3.2-data.txt` and write a formatted columns of rows that contain pairwise the `alist` and `slist` elements. Make sure that there are exactly two spaces between the columns. Check the content of the `P3.2-data.txt` file and add it to the commit for this assignment. (Don't close the file yet, we will add more to it.)"
   ]
  },
  {
   "cell_type": "markdown",
   "metadata": {},
   "source": [
    "* Write a function called `fa` that takes an array of numbers and a parameter `q` as an input and returns an array that contains the elements $q \\log a_\\mathrm{i} + q$ where $a_\\mathrm{i}$ are the elements of input array. Write the sum of the array that `fa` returns with `alist` and `q=0.5` as input in a formatted output statement into the file `P3.2-data.txt`. The formatted statement should look exactly like this:\n",
    "    ```txt\n",
    "    The sum of the output array is: i.iii\n",
    "    ```\n",
    "with 3 digits after the decimal point."
   ]
  },
  {
   "cell_type": "markdown",
   "metadata": {},
   "source": [
    "## 3.3"
   ]
  },
  {
   "cell_type": "markdown",
   "metadata": {},
   "source": [
    "* You are given a list of fruit. \n",
    "    ```python\n",
    "    list_of_fruit = ['apple', 'banana', 'orange', 'tomato']\n",
    "    ```\n",
    "    Create a Python cell with loop in which the user will be asked for each fruit type how many fruits there are (say, for example, in storage), and how much each fruit costs. Save these numbers as tuples in a dictionary called `fruit_db`. Use the `input` function to implement this. The fruit names are the dictionary keys.\n",
    "* Execute that loop cell and provide some reasonable input.\n",
    "* Then print the fruit database with columns for fruit name, number and cost in a formatted table."
   ]
  },
  {
   "cell_type": "markdown",
   "metadata": {},
   "source": [
    "## Problem 4\n",
    "An ellipse is defined by the equation\n",
    "$$\n",
    "\\frac{x^2}{a^2} + \\frac{y^2}{b^2} = 1\n",
    "$$\n",
    "which is solved for $y$ to give a function $y(x)$ for the ellipse."
   ]
  },
  {
   "cell_type": "markdown",
   "metadata": {},
   "source": [
    "$$\n",
    "y = \\sqrt{b^2  - x^2\\frac{b^2}{a^2}}\n",
    "$$"
   ]
  },
  {
   "cell_type": "markdown",
   "metadata": {},
   "source": [
    "### 4.1 \n",
    "* Define a function that takes `x`, `a`, `b` as input and returns `y`.\n",
    "* Make a plot of the full ellipse including all four quadrants using `a=2` and `b=1`. Use a blue, dashed line. "
   ]
  },
  {
   "cell_type": "markdown",
   "metadata": {},
   "source": [
    "### 4.2\n",
    "Calculate the area under a quarter of the ellipse, use the top-right quadrant by approximating the quarter ellipse with vertical rectangles. The side length of each rectangle is $\\Delta x$, while $\\Delta y$ follows from the formula for the circumference. Make sure that you calculate $\\Delta y$ for each rectangle for the `x` value centered in the x direction in each $\\Delta x$.\n",
    "\n",
    "1. Make a `bar` plot of the rectangles and overplot the line of the ellipse to show this situation exactly. Hint: part of each rectangle should be outside the ellipse, and small areas inside the ellipse are not covered by rectangles.\n",
    "2. Now calculate the area. Do not use a `for` loop but instead use only vector operations. Verify that you have the right answer by comparing it with the value computed from the formula for the area of the ellipse $A_\\mathrm{ellipse} = \\pi a b$.\n",
    "3. Calculate the difference between the sum of the rectangles and the value from the formula for 10 and 30 rectangles and save these differences in the variables `dA10` and `dA30`.\n",
    "4. Open a file called `ellipse.dat` and write two rows with two columns. The columns are the number of rectangles and the differences `dA` calculated in 3. Use formatted output: 2 digits for the integer, one space, 7 digits for the float, with 5 after the decimal point. Close the file, check the output and add it to your assignment commit. \n",
    "5. Comment on the values `dA10` and `dA30`. Why are they different?"
   ]
  },
  {
   "cell_type": "markdown",
   "metadata": {},
   "source": [
    "### 4.3\n",
    "This part is a bit more advanced, and being able to complete it to the fullest extend is above expectation. \n",
    "\n",
    "* Explore the convergence properties of the algorithm with different precisions for float variables. In order to perform these experiments set up a cell in which two variables are defined at the top:\n",
    "    ```python\n",
    "    npow_max = 4 \n",
    "    precision = 'float64'\n",
    "    ```\n",
    "* Then, write a `for` loop in which the ellipse area difference `dA` (as defined in part 3.2) is calculated in sequence for `10**npow` rectangles where `npow =1, 2, ... npow_max`. Save the corresponding value $dA$ into an array called `dAs`.  \n",
    "* Make a plot of `log10(dAs)` vs `npow`.\n",
    "* Explore the behaviour for a range of values of `npow_max` and `precision`. Be careful -- for larger `npow_max` and higher precision your python cell execution will hang. Why? If that happens restart the kernel and do a smaller combination of `npow_max` and precision.\n",
    "* There are four options for the value of `precision` -- what are they? Try out all four precisions and make a `log10(dAs)` vs `npow` plot for each case.  \n",
    "* What is a possible remedy of the inability to calculate the area very accurately by using high `npow_max` with high precision? Hint: Consider how the computational constraints would change if you devise an algorithm for calculating the ellipse area that does not use a single vector operation but a `for` loop instead. What is the computational limitation in this case?"
   ]
  }
 ],
 "metadata": {
  "kernelspec": {
   "display_name": "Bash",
   "language": "bash",
   "name": "bash"
  },
  "language_info": {
   "codemirror_mode": "shell",
   "file_extension": ".sh",
   "mimetype": "text/x-sh",
   "name": "bash"
  }
 },
 "nbformat": 4,
 "nbformat_minor": 2
}
