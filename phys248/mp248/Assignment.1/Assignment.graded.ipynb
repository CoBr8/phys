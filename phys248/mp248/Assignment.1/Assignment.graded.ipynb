{
 "cells": [
  {
   "cell_type": "markdown",
   "metadata": {},
   "source": [
    "<span style=\"color:red\">Assignment Grade: 8.94</span>\n\n",
    "\n",
    "P1 grade: 9.0\n",
    "\n",
    "* Missing first grep count\n",
    "\n",
    "P2 grade: 10.0\n",
    "\n",
    "P3 grade: 9.75\n",
    "\n",
    "P4 grade: 7\n",
    "\n",
    "* Bar graph close but not quite correct\n",
    "* 4.3 incomplete\n",
    "* Area differences incorrect\n",
    "\n",
    "Comments: \n",
    "* P2.1 Good (10/10)\n",
    "* P2.2 (10/10)\n",
    "* P3 Unnecessary use of functions.\n",
    "* P3.1 (10/10)\n",
    "* P3.2 Unnecessary import of `numpy` after `%pylab inline` (9/10)\n",
    "* P3.3 (10/10)"
   ]
  },
  {
   "cell_type": "markdown",
   "metadata": {},
   "source": [
    "# Assignment 1\n",
    "## Question 3,4\n",
    "### Colton Broughton\n",
    "#### 23/01/2019"
   ]
  },
  {
   "cell_type": "markdown",
   "metadata": {},
   "source": [
    "### Question 3"
   ]
  },
  {
   "cell_type": "markdown",
   "metadata": {},
   "source": [
    "Given two strings (like the ones below) to slice and concatinate the two slices together you would do the following:\n",
    "\n",
    "Determine which string slics you want. for str1 we will take out the sequece 'air'. These characters are in positions 5 to 7. To slice them out we simply do: str1[5:8] and this removes the sequence we need. We need to use 8 instead of seven as string slicing is up to but not include the last element of the interval given. do the same for string 2 except in positions 12 to 17 (str2[12:18]).\n",
    "\n",
    "Strings can be concatonated using the '+' symbol and then assigned to a new variable.\n"
   ]
  },
  {
   "cell_type": "code",
   "execution_count": 80,
   "metadata": {},
   "outputs": [
    {
     "name": "stdout",
     "output_type": "stream",
     "text": [
      "Populating the interactive namespace from numpy and matplotlib\n"
     ]
    }
   ],
   "source": [
    "%pylab inline"
   ]
  },
  {
   "cell_type": "code",
   "execution_count": 81,
   "metadata": {},
   "outputs": [
    {
     "name": "stdout",
     "output_type": "stream",
     "text": [
      "['f', 'a', 'o']\n"
     ]
    }
   ],
   "source": [
    "# Question 3.1\n",
    "def main():\n",
    "    str1='Llanfairpwllgwyngyllgogerychwyrndrobwllllantysiliogogogoch'\n",
    "    str2='Pekwachnamaykoskwaskwaypinwanik'\n",
    "    str3=str1[5:8]+str2[12:18]\n",
    "    strlist=[str1,str2,str3]\n",
    "    strlist2=[]\n",
    "    for e in strlist:\n",
    "        strlist2.append(e[4])\n",
    "    print(strlist2)\n",
    "main()"
   ]
  },
  {
   "cell_type": "code",
   "execution_count": 1,
   "metadata": {},
   "outputs": [],
   "source": [
    "# Question 3.2:\n",
    "import numpy as np\n",
    "def fa(array,q):\n",
    "    '''\n",
    "    arguments:\n",
    "    ----------\n",
    "    array:\n",
    "        a numpy array.\n",
    "    q: \n",
    "        a scalar \n",
    "    returns:\n",
    "    ----------\n",
    "    an array with some operations performed\n",
    "    as decided by the professor.\n",
    "    '''\n",
    "    fa=((q*np.log10(array))+q)\n",
    "    return fa\n",
    "def main():\n",
    "    x=4;li=[]\n",
    "    while x<=28:\n",
    "        li.append(int(x))\n",
    "        x+=6\n",
    "    alist=np.array(li)\n",
    "    slist=alist**2\n",
    "    f=open('P3.2-data.txt', 'w')\n",
    "    for a,s in zip(alist,slist):\n",
    "        f.write(str(a)+'  '+str(s)+'\\n')\n",
    "    e=sum(fa(alist,0.5))\n",
    "    f.write('The sum of the output array is: %.3f' %e)\n",
    "#     print(fa(alist,0.5))\n",
    "    f.close\n",
    "main()"
   ]
  },
  {
   "cell_type": "code",
   "execution_count": 76,
   "metadata": {},
   "outputs": [
    {
     "name": "stdin",
     "output_type": "stream",
     "text": [
      "How much do apple's cost?  0.65\n",
      "How many apple's do you have?  6\n",
      "How much do banana's cost?  0.35\n",
      "How many banana's do you have?  5\n",
      "How much do orange's cost?  0.55\n",
      "How many orange's do you have?  4\n",
      "How much do tomato's cost?  0.20\n",
      "How many tomato's do you have?  10\n"
     ]
    }
   ],
   "source": [
    "# Question 3.3\n",
    "list_of_fruit = ['apple', 'banana', 'orange', 'tomato']\n",
    "fruit_db={}\n",
    "for fruit in list_of_fruit:\n",
    "    cost=float(input('How much do %s\\'s cost? ' %fruit))\n",
    "    amount=float(input('How many %s\\'s do you have? ' %fruit))\n",
    "    fruit_db[fruit]=(cost,amount)"
   ]
  },
  {
   "cell_type": "code",
   "execution_count": 83,
   "metadata": {},
   "outputs": [
    {
     "name": "stdout",
     "output_type": "stream",
     "text": [
      "Fruit:  apple           banana          orange          tomato          \n",
      "Cost:   $0.65           $0.35           $0.55           $0.2            \n",
      "Amount: 6.0             5.0             4.0             10.0            "
     ]
    }
   ],
   "source": [
    "print('Fruit: ',end=' ');\n",
    "for fruit in fruit_db:\n",
    "    print('%-15s'%fruit, end=' ')\n",
    "print(end='\\n')\n",
    "print('Cost:  ',end=' ');\n",
    "for fruit in fruit_db:  \n",
    "    print('$%-14s'%fruit_db[fruit][0],end=' ')\n",
    "#     print(fruit_db[fruit])\n",
    "print(end='\\n')\n",
    "print('Amount:',end=' ');\n",
    "for fruit in fruit_db:  \n",
    "    print('%-15s'%fruit_db[fruit][1],end=' ')"
   ]
  },
  {
   "cell_type": "markdown",
   "metadata": {},
   "source": [
    "## Question 4"
   ]
  },
  {
   "cell_type": "code",
   "execution_count": 18,
   "metadata": {},
   "outputs": [
    {
     "data": {
      "image/png": "[encoded data removed]",
      "text/plain": [
       "<Figure size 432x288 with 1 Axes>"
      ]
     },
     "metadata": {
      "needs_background": "light"
     },
     "output_type": "display_data"
    }
   ],
   "source": [
    "# Question 4.1\n",
    "import numpy as np\n",
    "from matplotlib import pyplot as plt\n",
    "def ellipse_pos(x,a,b):\n",
    "    '''\n",
    "    input\n",
    "    -----\n",
    "    x: a numpy array\n",
    "    a: ellipse modifer\n",
    "    b: ellipse modifier\n",
    "    \n",
    "    output\n",
    "    ------\n",
    "    y, the positive half of the elliptical curve\n",
    "    '''\n",
    "    y=np.sqrt(b**2-(x**2)*((b**2)/(a**2)))\n",
    "    return y\n",
    "def ellipse_neg(x,a,b):\n",
    "    '''\n",
    "    input\n",
    "    -----\n",
    "    x: a numpy array\n",
    "    a: ellipse modifer\n",
    "    b: ellipse modifier\n",
    "    \n",
    "    output\n",
    "    ------\n",
    "    y, the negative half of the elliptical curve\n",
    "    '''\n",
    "    y=(-1)*np.sqrt(b**2-(x**2)*((b**2)/(a**2)))\n",
    "    return y\n",
    "\n",
    "def main():\n",
    "    '''\n",
    "    calculates and plots an ellipse.\n",
    "    \n",
    "    calculates the maximum and minimum values of x\n",
    "    for the ellipse parameters a and b.\n",
    "    \n",
    "    n is the sample size or number of points for x coordinates, \n",
    "    higher n increases the resolution of the ellipse.\n",
    "    '''\n",
    "    b=1;a=2;n=30\n",
    "    fr=b**2/a**2\n",
    "    x=np.array(np.linspace(-a,a,n))\n",
    "    pos=ellipse_pos(x,a,b)\n",
    "    neg=ellipse_neg(x,a,b)\n",
    "    plt.plot(x,pos,'b--',x,neg,'b--')\n",
    "main()"
   ]
  },
  {
   "cell_type": "raw",
   "metadata": {},
   "source": []
  },
  {
   "cell_type": "code",
   "execution_count": 22,
   "metadata": {},
   "outputs": [
    {
     "name": "stdout",
     "output_type": "stream",
     "text": [
      "0.2373512580349022 0.09005510039435194\n"
     ]
    },
    {
     "data": {
      "image/png": "[encoded data removed]",
      "text/plain": [
       "<Figure size 432x288 with 1 Axes>"
      ]
     },
     "metadata": {
      "needs_background": "light"
     },
     "output_type": "display_data"
    }
   ],
   "source": [
    "# Q4.2 Bar plot\n",
    "import numpy as np\n",
    "import matplotlib.pyplot as plt\n",
    "def ellipse_pos(x,a,b):\n",
    "    '''\n",
    "    input\n",
    "    -----\n",
    "    x: a numpy array\n",
    "    a: ellipse modifer\n",
    "    b: ellipse modifier\n",
    "    \n",
    "    output\n",
    "    ------\n",
    "    y, the positive half of the elliptical curve\n",
    "    '''\n",
    "    y=np.sqrt(b**2-(x**2)*((b**2)/(a**2)))\n",
    "    return y\n",
    "def b_plot():\n",
    "    '''\n",
    "    calculates and plots an ellipse.\n",
    "    \n",
    "    calculates the maximum and minimum values of x\n",
    "    for the ellipse parameters a and b.\n",
    "    \n",
    "    n is the sample size or number of points for x coordinates, \n",
    "    higher n increases the resolution of the ellipse.\n",
    "    '''\n",
    "    b=1;a=2;n=11\n",
    "    x=np.array(np.linspace(0,a,n))\n",
    "    dx=(x[1]-x[0])\n",
    "    bar_x=linspace(0+dx/2,a,n)\n",
    "    dy=ellipse_pos(x,a,b)\n",
    "    plt.bar(bar_x,dy,width=dx, align='center')\n",
    "    plt.plot(x,dy,'r-')\n",
    "b_plot()\n",
    "def diff(n):\n",
    "    b=1;a=2;\n",
    "    x=np.array(np.linspace(0,a,n))\n",
    "    dx=(x[1]-x[0])\n",
    "    bar_x=linspace(0+dx/2,a,n)\n",
    "    dy=ellipse_pos(bar_x,a,b)\n",
    "    da=dx*dy\n",
    "    area=sum(da)\n",
    "    tot_area=area*4\n",
    "    tru_area=np.pi*a*b\n",
    "    diff=tot_area-tru_area\n",
    "    return diff\n",
    "da10=diff(11)\n",
    "da30=diff(31)\n",
    "print(da10,da30)\n",
    "fi=open('ellipse.dat','w+')\n",
    "fi.write('%2d %7.5f\\n' %(10,da10))\n",
    "fi.write('%2d %7.5f' %(30,da30))\n",
    "fi.close()"
   ]
  },
  {
   "cell_type": "code",
   "execution_count": 90,
   "metadata": {},
   "outputs": [
    {
     "data": {
      "image/png": "[encoded data removed]",
      "text/plain": [
       "<Figure size 432x288 with 1 Axes>"
      ]
     },
     "metadata": {
      "needs_background": "light"
     },
     "output_type": "display_data"
    }
   ],
   "source": [
    "# Question 4.3\n",
    "import numpy as np\n",
    "import matplotlib.pyplot as plt\n",
    "def rect():\n",
    "    '''\n",
    "    npow_max is an integer, for this course, keep it below 8 for efficient code\n",
    "    precision is a string of form: 'float*'\n",
    "        *:= 16,32, or 64\n",
    "    '''\n",
    "    dAs=[]\n",
    "    precisions=np.array(['float16','float32','float64','float128'])\n",
    "    npow_max = 5\n",
    "    npow=np.array(range(npow_max))+1\n",
    "    for e in npow:\n",
    "        a=2;b=1;r=a;n=10**e\n",
    "        def ellipse_pos(x,a,b):\n",
    "            y=np.sqrt(1-(x**2)*((b**2)/(a**2)))\n",
    "            return y\n",
    "        x=linspace(0,r,n)\n",
    "        w=(x[1]-x[0])\n",
    "        value=ellipse_pos(x,a,b)*(w)\n",
    "        da=sum(value)*4\n",
    "        dAs.append(da)\n",
    "    dAs=np.array(dAs)\n",
    "    precision=precisions[0]\n",
    "    plot(npow,np.log10(dAs),'r--',label='float16')\n",
    "    precision=precisions[3]\n",
    "    plot(npow,np.log10(dAs),'b--',label='float128')\n",
    "    plt.legend()\n",
    "    plt.show()\n",
    "rect()"
   ]
  },
  {
   "cell_type": "markdown",
   "metadata": {},
   "source": [
    "# Note:\n",
    "Only two graphs were plotted for npow=5, plotting less resulted in just a graph of all left of npow=5, plotting more simply increased the time required to computer for no extra  visual benefit to the user."
   ]
  },
  {
   "cell_type": "code",
   "execution_count": 93,
   "metadata": {},
   "outputs": [
    {
     "name": "stdout",
     "output_type": "stream",
     "text": [
      "True\n",
      "True\n",
      "True\n",
      "True\n"
     ]
    }
   ],
   "source": [
    "def rect_low():\n",
    "    dAs=[]\n",
    "    npow_max = 4\n",
    "    npow=np.array(range(npow_max))+1\n",
    "    precision='float16'\n",
    "    for e in npow:\n",
    "        a=2;b=1;r=a;n=10**e\n",
    "        def ellipse_pos(x,a,b):\n",
    "            y=np.sqrt(1-(x**2)*((b**2)/(a**2)))\n",
    "            return y\n",
    "        x=linspace(0,r,n)\n",
    "        w=(x[1]-x[0])\n",
    "        value=ellipse_pos(x,a,b)*(w)\n",
    "        da=sum(value)*4\n",
    "        dAs.append(da)\n",
    "    dAs=np.array(dAs)\n",
    "    return dAs\n",
    "def rect_high():\n",
    "    dAs=[]\n",
    "    npow_max = 4\n",
    "    npow=np.array(range(npow_max))+1\n",
    "    precision='float16'\n",
    "    \n",
    "    for e in npow:\n",
    "        a=2;b=1;r=a;n=10**e\n",
    "        def ellipse_pos(x,a,b):\n",
    "            y=np.sqrt(1-(x**2)*((b**2)/(a**2)))\n",
    "            return y\n",
    "        x=linspace(0,r,n)\n",
    "        w=(x[1]-x[0])\n",
    "        value=ellipse_pos(x,a,b)*(w)\n",
    "        da=sum(value)*4\n",
    "        dAs.append(da)\n",
    "    dAs=np.array(dAs)\n",
    "    return dAs\n",
    "d_low=rect_low()\n",
    "d_high=rect_high()\n",
    "for i in np.array(range(len(d_low))):\n",
    "    print(d_low[i]==d_high[i])"
   ]
  },
  {
   "cell_type": "markdown",
   "metadata": {},
   "source": [
    "### Questions in 4.3\n",
    "For larger npow and precision it will take the server longer to compute. As npow increase the number of calculations required.\n",
    "\n",
    "The four values of precision are:\n",
    "    float16, float32, float64, float128 (though float128 has been known to  cause issue on windowsx64 machines)\n",
    "    \n",
    "A Computer can only represent numbers through via binary. For non terminating decimals they can only be represented as sufficienty close estimates by a computer due to the finite available memory in a computer. \n",
    "\n",
    "In this case, the numbers calculated at each precision level are being approximated by the same approximate binary floating point and so when compared they come out as the same value. "
   ]
  }
 ],
 "metadata": {
  "kernelspec": {
   "display_name": "Python 3",
   "language": "python",
   "name": "python3"
  },
  "language_info": {
   "codemirror_mode": {
    "name": "ipython",
    "version": 3
   },
   "file_extension": ".py",
   "mimetype": "text/x-python",
   "name": "python",
   "nbconvert_exporter": "python",
   "pygments_lexer": "ipython3",
   "version": "3.6.7"
  }
 },
 "nbformat": 4,
 "nbformat_minor": 2
}
