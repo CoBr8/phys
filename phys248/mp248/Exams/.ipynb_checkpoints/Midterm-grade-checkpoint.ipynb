{
 "cells": [
  {
   "cell_type": "markdown",
   "metadata": {},
   "source": [
    "<span style=\"color:red\">Exam Grade: 4.66 --> 6.41 (rescaled)</span>\n\n",
    "Notes: raw exam grade is average of P1, P2, P3 grades.  Rescaling function $f(x)=0.8143x+1.8567$\n\n",
    "\n",
    " P1 grade: 9.90</span>\n\n",
    "\n",
    "  P1.1 grade: 10.00</span>\n\n",
    "\n",
    "  P1.2 grade: 9.50</span>\n\n",
    "\n",
    " P2 grade: 5.00</span>\n\n",
    "\n",
    "  P2.1 grade: 10.00</span>\n\n",
    "\n",
    "  P2.2 grade: 10.00</span>\n\n",
    "\n",
    "  P2.3 grade: 0.00</span>\n\n",
    "\n",
    "  P2.4 grade: 0.00</span>\n\n",
    "\n",
    "  P2.5 grade: 0.00</span>\n\n",
    "\n",
    " P3 grade: 1.87</span>\n\n",
    "\n",
    " P3.1 grade: 3\n",
    "\n",
    " P3.2 grade: 0.33\n",
    " 0 complete and 1 partial elements for P3.2 found.\n",
    "\n",
    " P3.3 grade: 0.00\n",
    " 0 complete and 0 partial elements for P3.3 found.\n",
    "\n"
   ]
  },
  {
   "cell_type": "markdown",
   "metadata": {},
   "source": [
    "# Mid term\n",
    "\n",
    "You have **80** minutes for this exam.  \n",
    "\n",
    "Save your exam in the location **mp248/Exams/Midterm.ipynb** on your **GitLab** repository.  You will likely have to create your **Exams** subdirectory.  \n",
    "\n",
    "Ensure you push your partial work to your repository *early* and *often*.\n",
    "\n",
    "**Note**: Invigilators will only offer help with **GIT** issues in the final 20 minutes of the exam.  Students that receive help on GIT issues will be deducted **10%** from their exam grade.\n",
    "\n",
    "* * *"
   ]
  },
  {
   "cell_type": "markdown",
   "metadata": {},
   "source": [
    "## Problem 1\n",
    "1. [80% of grade for P1] How much water do you have to store on your 10m high roof-top in order to store enough potential energy, that - if transformed without losses - could run a 50W bulp for 5 hr? Use a package such as `astropy` that provides the capability to calculate with quantities that have units. \n",
    "2. [20%] Express your answer as a callable function that takes the power of the light bulp and the duration of how long it should run as well as the hight of the roof top as input. Use the function with the given input values and print the results in the unit kg. "
   ]
  },
  {
   "cell_type": "code",
   "execution_count": 1,
   "metadata": {},
   "outputs": [
    {
     "name": "stdout",
     "output_type": "stream",
     "text": [
      "9183.673469387755 kg\n"
     ]
    }
   ],
   "source": [
    "## Potential energy is mgh PE=mgh\n",
    "from astropy import units as u\n",
    "def mass_finder(P,t,h,g=9.8): #FH no docstring -1/4\n",
    "    g=9.8*(u.m/u.s/u.s) #FH g is an optional argument, but here it is set again\n",
    "    PE=(P)*(t)          #FH brackets not needed\n",
    "    PE=PE.to(u.J)\n",
    "    m=(PE/(g*h))\n",
    "    return m.to(u.kg)\n",
    "h=10*u.m\n",
    "t=5*u.hr\n",
    "t=t.to(u.s)\n",
    "P=50*u.W\n",
    "mass=mass_finder(P,t,h)\n",
    "print(mass)"
   ]
  },
  {
   "cell_type": "markdown",
   "metadata": {},
   "source": [
    "* * *\n",
    "\n",
    "## Problem 2\n",
    "1. [25%] Make a plot of a square with side length 2 centered at the origin. This means the lower left corner is at the coordinate $(x,y)=(-1,-1)$. Use a solid black line. Add to the plot a circle with radius 1 also centered at the origin. Use a red dashed line.  \n",
    "2. [25%] Place 100 points inside the square that are randomly distributed in x- and y-direction. Use blue dots.\n",
    "3. [30%] Determine the fraction of randomly placed points inside the circle. Calculate from this fraction the area of the circle using the known area of the square. Repeat the calculation a couple of times. What is your average answer from 3 calculations?\n",
    "4. [10%] By how much does this average calculated answer differ from `numpy.pi` in %? \n",
    "5. [10%] Is this difference a lack of accuracy or a lack of precision? Explain in one sentence."
   ]
  },
  {
   "cell_type": "code",
   "execution_count": 5,
   "metadata": {},
   "outputs": [
    {
     "name": "stdout",
     "output_type": "stream",
     "text": [
      "Populating the interactive namespace from numpy and matplotlib\n"
     ]
    }
   ],
   "source": [
    "%pylab ipympl"
   ]
  },
  {
   "cell_type": "code",
   "execution_count": 6,
   "metadata": {},
   "outputs": [
    {
     "data": {
      "application/vnd.jupyter.widget-view+json": {
       "model_id": "6b12fc360a774c57988a14cef354ce36",
       "version_major": 2,
       "version_minor": 0
      },
      "text/plain": [
       "FigureCanvasNbAgg()"
      ]
     },
     "metadata": {},
     "output_type": "display_data"
    }
   ],
   "source": [
    "from numpy import pi as pi\n",
    "import numpy as np\n",
    "import matplotlib.pyplot as plt\n",
    "import random as r\n",
    "r.uniform(-1,1)\n",
    "x=[]\n",
    "y=[]\n",
    "for _ in range(100):\n",
    "    r1=r.uniform(-1,1)\n",
    "    r2=r.uniform(-1,1)\n",
    "    x.append(r1)\n",
    "    y.append(r2)\n",
    "n=100\n",
    "xc=np.linspace(-1,1,n)\n",
    "ycp=np.sqrt(1-xc**2)\n",
    "ycn=-1*np.sqrt(1-xc**2)\n",
    "# circle done\n",
    "ysv=np.linspace(-1,1,n) # vertical portion of square\n",
    "ysh1=np.linspace(-1,-1,n)#lower horizontal\n",
    "ysh2=np.linspace(1,1,n)#upper horizontal\n",
    "\n",
    "xsv1=np.linspace(-1,-1,n)#left vertical\n",
    "xsv2=np.linspace(1,1,n)#right vertical\n",
    "xsh1=np.linspace(-1,1,n)#\n",
    "\n",
    "plt.plot(xsv1,ysv,\"k\",xsv2,ysv,\"k\",xsh1,ysh1,\"k\",xsh1,ysh2,\"k\")\n",
    "# print(ycp,ycn)\n",
    "plt.plot(xc,ycp,'r--',xc,ycn,'r--')\n",
    "for pt in list(zip(x,y)):\n",
    "    plt.plot(pt[0],pt[1],'bo')\n",
    "plt.show()"
   ]
  },
  {
   "cell_type": "markdown",
   "metadata": {},
   "source": [
    "* * *\n",
    "\n",
    "## Problem 3\n",
    "\n",
    "In this problem we ask you to write a **simple equation solver** function **modsubdiv(f,x,a,b,eps,k)**\n",
    "\n",
    "The function **modsubdiv** takes as arguments:\n",
    "\n",
    "* $f$ a Sympy expression, representing a function of $x$, a Sympy variable.  \n",
    "\n",
    "* $a$ and $b$ are floats. The equation solver will require that $f(a)$ and $f(b)$ have opposite signs.  We call this the **iteration condition**.  The interval $[a,b]$ we call the **considered interval**.\n",
    "\n",
    "* **eps** will be a threshold where the function **modsubdiv** stops iteration.  This happens when the length of the **considered interval** is less than or equal to **eps**. \n",
    "\n",
    "**modsubdiv** will return three numbers: the endpoints of the final considered interval, and the number of iterations required to meet the threshold condition.\n",
    "\n",
    "For the iteration itself, we ask you to replace the interval $[a,b]$ with a subinterval of $[a,b]$.  Divide the interval $[a,b]$ into $k$ equally spaced subintervals \n",
    "\n",
    "$$[a,b] = [a, a+\\frac{b-a}{k}] \\cup [a+\\frac{b-a}{k}, a+2\\frac{b-a}{k}] \\cup \\cdots \\cup [a+(k-1)\\frac{b-a}{k}, a+k\\frac{b-a}{k}=b].$$ \n",
    "\n",
    "Choose the first such subinterval that satisfies the iteration condition. Repeat until the considered interval is no longer than **eps**. \n",
    "\n",
    "### Part 3.a [60%]\n",
    "Write the function **modsubdiv**.  \n",
    "\n",
    "**Hint:** For a simple check on the correctness of your code, compare your **modsubdiv** output with $k=2$ to the output of the **subdiv** function from Assignment 2."
   ]
  },
  {
   "cell_type": "code",
   "execution_count": 205,
   "metadata": {},
   "outputs": [],
   "source": [
    "#################### module importing ###########################\n",
    "\n",
    "import sympy as sp\n",
    "\n",
    "#################### End module importing #######################\n",
    "\n",
    "#################### Begin Function Definitions #################\n",
    "def modsubdiv(f,x,a,b,eps,k):\n",
    "    '''\n",
    "    subdiv(f,x,a,b,eps):\n",
    "    ====================\n",
    "    Using the subdivision method it finds the roots to a function (within given error).\n",
    "    \n",
    "    Input:\n",
    "    ====================\n",
    "    f: a sympy function\n",
    "    x: the variable of interest in f\n",
    "    a: the left endpoint\n",
    "    b: the right endpoint\n",
    "    eps: acceptable error\n",
    "    k: number of subdivisions\n",
    "    \n",
    "    Output:\n",
    "    ====================\n",
    "    returns: interval of interest\n",
    "    '''\n",
    "    f = sp.lambdify(x,f)\n",
    "    I=[a,b]\n",
    "    a=I[0];b=I[-1];\n",
    "    subintervals=[]\n",
    "    s=(k-1)\n",
    "    interval=a+(k-s)*(b-a)/k\n",
    "    subintervals.append([a,interval])\n",
    "    sub=[subintervals[-1][-1]]\n",
    "    s=(k-2)\n",
    "    for _ in range(k-1):\n",
    "        interval=a+(k-s)*(b-a)/k\n",
    "        sub.append(interval)\n",
    "        subintervals.append([sub[-2],interval])\n",
    "        s-=1\n",
    "    try:\n",
    "        for I in subintervals:\n",
    "            if f(I[0])<0 and f(I[1])>0:\n",
    "                I_good=[I[0],I[-1]]\n",
    "                if I[-1]-I[0]<eps:\n",
    "                    I_good=[I[0],I[-1]]\n",
    "        print(I_good)\n",
    "        return I_good\n",
    "    except:\n",
    "        print('Could not find interval')"
   ]
  },
  {
   "cell_type": "markdown",
   "metadata": {},
   "source": [
    "### Part 3.b [20%]\n",
    "Compare the number of iterations it takes **modsubdiv** to find the roots of the equation\n",
    "\n",
    "$$x^2 - 2 = 0$$\n",
    "\n",
    "with the initial considered interval $[a,b] = [1,2]$ and $eps = \\frac{1}{10}, \\frac{1}{100}, \\frac{1}{1000}, \\cdots, \\frac{1}{10^6}$, and $k=2, 3, 4, 5$.  Ensure you print the output of **modsubdiv** every time you call it."
   ]
  },
  {
   "cell_type": "code",
   "execution_count": 206,
   "metadata": {},
   "outputs": [
    {
     "name": "stdout",
     "output_type": "stream",
     "text": [
      "[1.2857142857142856, 1.4285714285714286]\n"
     ]
    }
   ],
   "source": [
    "def main():\n",
    "    x=sp.Symbol('x')\n",
    "    f = (x**2)-2\n",
    "    a=1;b=2\n",
    "    k=7\n",
    "    eps=0.1\n",
    "    intervals=modsubdiv(f,x,a,b,eps,k)\n",
    "main()\n"
   ]
  },
  {
   "cell_type": "code",
   "execution_count": 207,
   "metadata": {},
   "outputs": [
    {
     "name": "stdout",
     "output_type": "stream",
     "text": [
      "[1, 1.5]\n",
      "[1, 1.5]\n",
      "[1, 1.5]\n",
      "[1, 1.5]\n",
      "[1, 1.5]\n",
      "[1, 1.5]\n",
      "[1.3333333333333333, 1.6666666666666665]\n",
      "[1.3333333333333333, 1.6666666666666665]\n",
      "[1.3333333333333333, 1.6666666666666665]\n",
      "[1.3333333333333333, 1.6666666666666665]\n",
      "[1.3333333333333333, 1.6666666666666665]\n",
      "[1.3333333333333333, 1.6666666666666665]\n",
      "[1.25, 1.5]\n",
      "[1.25, 1.5]\n",
      "[1.25, 1.5]\n",
      "[1.25, 1.5]\n",
      "[1.25, 1.5]\n",
      "[1.25, 1.5]\n",
      "[1.4, 1.6]\n",
      "[1.4, 1.6]\n",
      "[1.4, 1.6]\n",
      "[1.4, 1.6]\n",
      "[1.4, 1.6]\n",
      "[1.4, 1.6]\n"
     ]
    }
   ],
   "source": [
    "x=sp.Symbol('x')\n",
    "f = (x**2)-2\n",
    "a=1;b=2\n",
    "for k in range(2,6):\n",
    "    I=modsubdiv(f,x,a,b,eps,k)\n",
    "    a=I\n",
    "    for e in range(1,7):\n",
    "        eps=1/10**e\n",
    "        \n",
    "        "
   ]
  },
  {
   "cell_type": "markdown",
   "metadata": {},
   "source": [
    "### Part 3.c [20%]\n",
    "Repeat **Part 3.b** for the equation\n",
    "\n",
    "$$x^x - 2 = 0$$\n",
    "\n",
    "with initial considered interval $[a,b]=[1,2]$. "
   ]
  },
  {
   "cell_type": "code",
   "execution_count": null,
   "metadata": {},
   "outputs": [],
   "source": []
  }
 ],
 "metadata": {
  "kernelspec": {
   "display_name": "Python 3",
   "language": "python",
   "name": "python3"
  },
  "language_info": {
   "codemirror_mode": {
    "name": "ipython",
    "version": 3
   },
   "file_extension": ".py",
   "mimetype": "text/x-python",
   "name": "python",
   "nbconvert_exporter": "python",
   "pygments_lexer": "ipython3",
   "version": "3.6.7"
  }
 },
 "nbformat": 4,
 "nbformat_minor": 2
}
