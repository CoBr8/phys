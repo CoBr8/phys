{
 "cells": [
  {
   "cell_type": "markdown",
   "metadata": {},
   "source": [
    "## Quiz 3\n",
    "\n",
    "**Instructions** \n",
    "\n",
    "You are encouraged to use any material from the course, such as your own work, lab and lecture notebooks. You are also free to use standard on-line resources such as Python reference manuals.  You must do all the work on your own, i.e. no consulting with fellow students or with people on-line.  The quiz (and final-exam) is **in-class only**, i.e. if you are not writing the quiz while supervised in the exam room, you will receive a grade of zero.\n",
    "\n",
    "Save your quiz in **mp248/Quizzes/Quiz.3.ipynb**.  \n",
    "\n",
    "A pre-grading script will run to check your progress on this Quiz.  The feedback will be in your **Task 7** item, on CourseSpaces. \n"
   ]
  },
  {
   "cell_type": "markdown",
   "metadata": {},
   "source": [
    "* * *\n",
    "\n",
    "### Setup\n",
    "\n",
    "We have two billiard balls $A$ and $B$, constrained to move along a frictionless line $x \\geq 0$. There is no gravity.  At position $x=0$ is an immovable elastic wall.  Billiard $A$ has mass $m_A$. Billiard $B$ has mass $m_B$.\n",
    "\n",
    "<img src=\"F.Q1.Setup.png\" />\n",
    "\n",
    "The initial position of billard $A$ is $x=1$. The initial position of billiard $B$ is at $x=2$. "
   ]
  },
  {
   "cell_type": "markdown",
   "metadata": {},
   "source": [
    "The wall is completely elastic. This means that when billiard $A$ collides with the wall, its velocity instantaneously reverses, i.e. $v_A' = - v_A$. *Here the prime indicates the velocity after the collision -- it is not the derivative*. \n",
    "\n",
    "When billiard $A$ and $B$ collide, it is also an *elastic* collision, meaning the new velocities of billiards $A$ and $B$ are given by:\n",
    "\n",
    "$$v_A' = \\frac{m_A-m_B}{m_A+m_B}v_A + \\frac{2m_B}{m_A+m_B}v_B$$\n",
    "$$v_B' = \\frac{m_B-m_A}{m_A+m_B}v_B + \\frac{2m_A}{m_A+m_B}v_A$$\n",
    "\n",
    "or in matrix form\n",
    "\n",
    "$$\\begin{pmatrix}v_A' \\cr v_B' \\end{pmatrix} = \\frac{1}{m_A+m_B} \\begin{pmatrix} m_A-m_B & 2m_B \\cr 2m_A & m_B-m_A \\end{pmatrix} \\begin{pmatrix}v_A \\cr v_B \\end{pmatrix} $$"
   ]
  },
  {
   "cell_type": "markdown",
   "metadata": {},
   "source": [
    "Thus billiard $A$ will undergo a sequence of velocity sign changes as it collides with billiard $B$ and the wall, in succession, until billiard $B$ escapes (to the right) at a larger velocity than billiard $A$. \n",
    "\n",
    "<img src=\"F.Q1.Context.png\" />"
   ]
  },
  {
   "cell_type": "markdown",
   "metadata": {},
   "source": [
    "* * *"
   ]
  },
  {
   "cell_type": "markdown",
   "metadata": {},
   "source": [
    "**Problem 1:**\n",
    "\n",
    "Write an algorithm **collisionCount(va,vb,ma,mb)** that takes as input:\n",
    "\n",
    "- **va** the initial velocity of billiard $A$, \n",
    "- **vb** the initial velocity of billiard $B$, \n",
    "- **ma** the mass of billiard $A$,\n",
    "- **mb** the mass of billiard $B$.\n",
    "\n",
    "The output will be a pair of integers **(c1,c2)** where \n",
    "\n",
    "- **c1** is the number of collisions billiard $A$ makes with the wall.\n",
    "- **c2** is the number of collisions between billiards $A$ and $B$.\n",
    " "
   ]
  },
  {
   "cell_type": "markdown",
   "metadata": {},
   "source": [
    "**Note**, the radius of the billiards is not relevant for any of the problems in this notebook.  You can solve **Problem 1** without computing the time or location of the collisions.\n",
    "\n",
    "**For the grading script**: Print on one line **(va, vb, ma, mb, c1, c2)**, i.e. execute the command **print(va,vb,ma,mb,c1,c2)** with the variables described below:\n",
    "\n",
    "- **va=0.0**\n",
    "- **vb=-1.0**\n",
    "- **ma=1.0**\n",
    "- **mb=1.0, 2.0, 3.0, 4.0, 5.0, 6.0**, i.e. one output per line.\n",
    "- **c1, c2** equal to the output of **collisionsCount(va,vb,ma,mb)**."
   ]
  },
  {
   "cell_type": "markdown",
   "metadata": {},
   "source": [
    "For example, the output of **print(va,vb,ma,mb,c1,c2)** for **va=0.0, vb=-1.0, ma=1.0, mb=1.0** after computing **c1** and **c2** would be:\n",
    "\n",
    "**0.0 -1.0 1.0 1.0 1 2**\n",
    "\n",
    "which indicates billiard A collides with the wall only once, while billiards A and B collide twice.\n",
    "\n",
    "The **mb=2.0** output would have the form\n",
    "\n",
    "**0.0 -1.0 1.0 2.0 c1 c2**\n",
    "\n",
    "where **c1** and **c2** you would replace with the two collision counts, respectively."
   ]
  },
  {
   "cell_type": "code",
   "execution_count": null,
   "metadata": {},
   "outputs": [],
   "source": [
    "def vel(va_i,vb_i,ma,mb):\n",
    "    from numpy import matrix\n",
    "    '''\n",
    "    Input:\n",
    "    \n",
    "        va_i := ball a initial velocity\n",
    "        vb_i := ball b initial velocity\n",
    "        ma   := mass of ball a\n",
    "        mb   := mass of ball b\n",
    "    \n",
    "    Returns:\n",
    "    \n",
    "        va_f := ball a final velocity\n",
    "        vb_f := ball b final velocity\n",
    "        \n",
    "    '''\n",
    "    scalar_mult=(ma+mb)**-1\n",
    "    \n",
    "    V=scalar_mult*matrix([[ma-mb,2*mb],[2*ma,mb-ma]])*matrix([va_i,vb_i]).T\n",
    "    \n",
    "    va_f=V[0];vb_f=V[1]\n",
    "    \n",
    "    return float(va_f),float(vb_f)\n",
    "\n",
    "\n",
    "va=0; vb=-1\n",
    "c0=0; c1=0\n",
    "ma=1; mb=1\n",
    "while vb<0 :\n",
    "    V=vel(va,vb,ma,mb)\n",
    "    c1+=1\n",
    "    va=V[0];vb=V[1]\n",
    "#     print(va,vb)\n",
    "    if va<0:\n",
    "        c0+=1\n",
    "        va=-va\n",
    "    else:\n",
    "        c1+=1\n",
    "while vb>0 and va>vb:\n",
    "    V=vel(va,vb,ma,mb)\n",
    "    c1+=1\n",
    "    va=V[0];vb=V[1]\n",
    "#     print(va,vb)\n",
    "    if va<0:\n",
    "        c0+=1\n",
    "        va=-va\n",
    "    else:\n",
    "        c1+=1\n",
    "# print(c0,c1)"
   ]
  },
  {
   "cell_type": "markdown",
   "metadata": {},
   "source": [
    "* * *\n",
    "\n",
    "**Problem 2:**\n",
    "\n",
    "Set **va=0**, **vb=-1**, with **ma=1** and **mb** $= 10^0, 10^2, 10^4, 10^6, 10^8, \\cdots $ (go as far as you can, although up to $10^8$ will satisfy the grading script).\n",
    "\n",
    "\n",
    "(a) Print out the tuple in each case: **(va, vb, ma, mb, c1, c2)**\n",
    "\n",
    "(b) Let $T$ be the total number of collisions, i.e. **T=c1+c2**.  As **mb** gets large, the quantity $T/\\sqrt{m_b}$ should start looking like a familiar number.  Which number?"
   ]
  },
  {
   "cell_type": "markdown",
   "metadata": {},
   "source": [
    "Do your answers to (d) look anything like a number you are familiar with?"
   ]
  },
  {
   "cell_type": "code",
   "execution_count": null,
   "metadata": {},
   "outputs": [],
   "source": [
    "def vel(va_i,vb_i,ma,mb):\n",
    "    from numpy import matrix\n",
    "    '''\n",
    "    Input:\n",
    "    \n",
    "        va_i := ball a initial velocity\n",
    "        vb_i := ball b initial velocity\n",
    "        ma   := mass of ball a\n",
    "        mb   := mass of ball b\n",
    "    \n",
    "    Returns:\n",
    "    \n",
    "        va_f := ball a final velocity\n",
    "        vb_f := ball b final velocity\n",
    "        \n",
    "    '''\n",
    "    scalar_mult=(ma+mb)**-1\n",
    "    \n",
    "    V=scalar_mult*matrix([[ma-mb,2*mb],[2*ma,mb-ma]])*matrix([va_i,vb_i]).T\n",
    "    \n",
    "    va_f=V[0];vb_f=V[1]\n",
    "    \n",
    "    return float(va_f),float(vb_f)\n",
    "\n",
    "for mb in [10**i for i in range\n",
    "va=0; vb=-1\n",
    "c0=0; c1=0\n",
    "ma=1; mb=1\n",
    "while vb<0 :\n",
    "    V=vel(va,vb,ma,mb)\n",
    "    c1+=1\n",
    "    va=V[0];vb=V[1]\n",
    "#     print(va,vb)\n",
    "    if va<0:\n",
    "        c0+=1\n",
    "        va=-va\n",
    "    else:\n",
    "        c1+=1\n",
    "while vb>0 and va>vb:\n",
    "    V=vel(va,vb,ma,mb)\n",
    "    c1+=1\n",
    "    va=V[0];vb=V[1]\n",
    "#     print(va,vb)\n",
    "    if va<0:\n",
    "        c0+=1\n",
    "        va=-va\n",
    "    else:\n",
    "        c1+=1\n",
    "# print(c0,c1)"
   ]
  },
  {
   "cell_type": "markdown",
   "metadata": {},
   "source": []
  },
  {
   "cell_type": "code",
   "execution_count": null,
   "metadata": {},
   "outputs": [],
   "source": []
  }
 ],
 "metadata": {
  "kernelspec": {
   "display_name": "Python 3",
   "language": "python",
   "name": "python3"
  },
  "language_info": {
   "codemirror_mode": {
    "name": "ipython",
    "version": 3
   },
   "file_extension": ".py",
   "mimetype": "text/x-python",
   "name": "python",
   "nbconvert_exporter": "python",
   "pygments_lexer": "ipython3",
   "version": "3.6.7"
  }
 },
 "nbformat": 4,
 "nbformat_minor": 2
}
