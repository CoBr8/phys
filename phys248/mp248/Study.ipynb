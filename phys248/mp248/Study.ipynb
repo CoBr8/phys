{
 "cells": [
  {
   "cell_type": "markdown",
   "metadata": {},
   "source": [
    "# Computational Math and Physics;\n",
    "## The general idea of the course is summarized in three main topics below"
   ]
  },
  {
   "cell_type": "markdown",
   "metadata": {},
   "source": [
    "## General steps involved in a computational physics problem\n",
    "From this example we can identify the following steps involved in solving a computational physics problem:\n",
    "\n",
    "1. Identify clearly the question.\n",
    "   - this may sound like a trivial step, but in practise a lot of confusion later on can be avoided if the question or problem to be addressed is very clearly defined\n",
    "2. Identify the relevant and important physics that needs to be considered. \n",
    "    - if the problem does not have radiation or magnetic fields, then don't include them; again this sounds trivial but still ...\n",
    "3. Formulate the physics in an appropriate mathematical framework.\n",
    "4. Chose a suitable difference scheme to represent the mathematical equation.\n",
    "    - this step determines the numerical accuracy of the scheme\n",
    "    - it says how well do the difference equations represent the mathematical equations\n",
    "5. Chose the right solution scheme for the difference equation.\n",
    "    - this will effect the stability of the numerical solution\n",
    "    - it will determine how precisely the adopted solution represents the difference equation\n",
    "\n",
    "## Precision and accuracy\n",
    "* lack of precision is due to round-off errors\n",
    "* lack od accurcay is due to truncation errors\n",
    "Accuracy increases with higher numerical (time or spatial) resolution until the round-off errors dominate.\n",
    "\n",
    "## Verification and validation\n",
    "A very important final step that often takes significant amount of time and effort is to _check if we get the right answer for the right reasons_. We need to do answer to fundamental questions:\n",
    "\n",
    "1. Have I solved the right equations? This test is called **validation**.\n",
    "2. Have I solved the equations right? This is called **verification**.\n",
    "\n",
    "An important verification test is a numerical convergence study as well as comparison against analytical solutions. The only real validation test is the comparison with experimental data.\n",
    "\n"
   ]
  },
  {
   "cell_type": "markdown",
   "metadata": {},
   "source": [
    "---"
   ]
  },
  {
   "cell_type": "markdown",
   "metadata": {},
   "source": [
    "---"
   ]
  },
  {
   "cell_type": "markdown",
   "metadata": {},
   "source": [
    "#### Given an equation of the form:\n",
    "\n",
    "$${A}\\vec{v}=\\vec{u}$$\n",
    "\n",
    "we can solve for the variable $\\vec{v}$ by using the numpy \"solve\" function."
   ]
  },
  {
   "cell_type": "code",
   "execution_count": null,
   "metadata": {},
   "outputs": [],
   "source": [
    "## numpy linear algebra:\n",
    "import numpy.linalg as la\n",
    "import numpy as np\n",
    "from pprint import pprint as print\n",
    "n=3\n",
    "u=np.array(np.random.randint(1,10,3))\n",
    "# print(x)\n",
    "A=np.matrix([np.random.randint(1,5,3),np.random.randint(1,5,3),np.random.randint(1,5,3)])\n",
    "v=la.solve(A,u)\n",
    "print(A);print(u);print(v)"
   ]
  },
  {
   "cell_type": "markdown",
   "metadata": {},
   "source": [
    "This is useful in a system of equations like to solve for voltage at certain nodes accross a system of resistors."
   ]
  },
  {
   "cell_type": "markdown",
   "metadata": {},
   "source": [
    "---"
   ]
  },
  {
   "cell_type": "markdown",
   "metadata": {},
   "source": [
    "### Working through some old Assignment problems to reenforce the ideas presented"
   ]
  },
  {
   "cell_type": "markdown",
   "metadata": {},
   "source": [
    "#### Assignment 2:"
   ]
  },
  {
   "cell_type": "code",
   "execution_count": 29,
   "metadata": {},
   "outputs": [
    {
     "ename": "KeyboardInterrupt",
     "evalue": "",
     "output_type": "error",
     "traceback": [
      "\u001b[0;31m---------------------------------------------------------------------------\u001b[0m",
      "\u001b[0;31mKeyboardInterrupt\u001b[0m                         Traceback (most recent call last)",
      "\u001b[0;32m<ipython-input-29-bfe1fdf51277>\u001b[0m in \u001b[0;36m<module>\u001b[0;34m\u001b[0m\n\u001b[1;32m     77\u001b[0m \u001b[0;34m\u001b[0m\u001b[0m\n\u001b[1;32m     78\u001b[0m \u001b[0;31m########################\u001b[0m\u001b[0;34m\u001b[0m\u001b[0;34m\u001b[0m\u001b[0;34m\u001b[0m\u001b[0m\n\u001b[0;32m---> 79\u001b[0;31m \u001b[0mL\u001b[0m\u001b[0;34m,\u001b[0m\u001b[0mX\u001b[0m\u001b[0;34m,\u001b[0m\u001b[0mY\u001b[0m\u001b[0;34m=\u001b[0m\u001b[0mcreation\u001b[0m\u001b[0;34m(\u001b[0m\u001b[0;34m)\u001b[0m \u001b[0;31m#####  ONLY RUN ONCE AS IT WILL TAKE SOME TIME\u001b[0m\u001b[0;34m\u001b[0m\u001b[0;34m\u001b[0m\u001b[0m\n\u001b[0m\u001b[1;32m     80\u001b[0m \u001b[0;31m########################\u001b[0m\u001b[0;34m\u001b[0m\u001b[0;34m\u001b[0m\u001b[0;34m\u001b[0m\u001b[0m\n\u001b[1;32m     81\u001b[0m \u001b[0;34m\u001b[0m\u001b[0m\n",
      "\u001b[0;32m<ipython-input-29-bfe1fdf51277>\u001b[0m in \u001b[0;36mcreation\u001b[0;34m()\u001b[0m\n\u001b[1;32m     66\u001b[0m         \u001b[0mcount\u001b[0m \u001b[0;34m=\u001b[0m \u001b[0;36m0\u001b[0m\u001b[0;34m\u001b[0m\u001b[0;34m\u001b[0m\u001b[0m\n\u001b[1;32m     67\u001b[0m         \u001b[0;32mwhile\u001b[0m \u001b[0mval\u001b[0m\u001b[0;34m>\u001b[0m\u001b[0;36m1\u001b[0m\u001b[0;34m:\u001b[0m\u001b[0;34m\u001b[0m\u001b[0;34m\u001b[0m\u001b[0m\n\u001b[0;32m---> 68\u001b[0;31m             \u001b[0mval\u001b[0m\u001b[0;34m=\u001b[0m\u001b[0mf\u001b[0m\u001b[0;34m(\u001b[0m\u001b[0mval\u001b[0m\u001b[0;34m)\u001b[0m\u001b[0;34m\u001b[0m\u001b[0;34m\u001b[0m\u001b[0m\n\u001b[0m\u001b[1;32m     69\u001b[0m             \u001b[0mcount\u001b[0m\u001b[0;34m+=\u001b[0m\u001b[0;36m1\u001b[0m\u001b[0;34m\u001b[0m\u001b[0;34m\u001b[0m\u001b[0m\n\u001b[1;32m     70\u001b[0m         \u001b[0;32mif\u001b[0m \u001b[0minitial_val\u001b[0m \u001b[0;32mnot\u001b[0m \u001b[0;32min\u001b[0m \u001b[0mL\u001b[0m\u001b[0;34m.\u001b[0m\u001b[0mkeys\u001b[0m\u001b[0;34m(\u001b[0m\u001b[0;34m)\u001b[0m\u001b[0;34m:\u001b[0m\u001b[0;34m\u001b[0m\u001b[0;34m\u001b[0m\u001b[0m\n",
      "\u001b[0;32m<ipython-input-29-bfe1fdf51277>\u001b[0m in \u001b[0;36mf\u001b[0;34m(n)\u001b[0m\n\u001b[1;32m     20\u001b[0m             \u001b[0mn1\u001b[0m \u001b[0;34m=\u001b[0m \u001b[0;36m3\u001b[0m\u001b[0;34m(\u001b[0m\u001b[0mn0\u001b[0m\u001b[0;34m)\u001b[0m\u001b[0;34m+\u001b[0m\u001b[0;36m1\u001b[0m \u001b[0;34m(\u001b[0m\u001b[0mn\u001b[0m \u001b[0modd\u001b[0m \u001b[0;34m)\u001b[0m\u001b[0;34m\u001b[0m\u001b[0;34m\u001b[0m\u001b[0m\n\u001b[1;32m     21\u001b[0m     '''\n\u001b[0;32m---> 22\u001b[0;31m     \u001b[0;32mif\u001b[0m \u001b[0mn\u001b[0m\u001b[0;34m%\u001b[0m\u001b[0;36m2\u001b[0m\u001b[0;34m==\u001b[0m\u001b[0;36m1\u001b[0m\u001b[0;34m:\u001b[0m\u001b[0;34m\u001b[0m\u001b[0;34m\u001b[0m\u001b[0m\n\u001b[0m\u001b[1;32m     23\u001b[0m         \u001b[0mn\u001b[0m\u001b[0;34m=\u001b[0m\u001b[0;36m3\u001b[0m\u001b[0;34m*\u001b[0m\u001b[0mn\u001b[0m\u001b[0;34m+\u001b[0m\u001b[0;36m1\u001b[0m\u001b[0;34m\u001b[0m\u001b[0;34m\u001b[0m\u001b[0m\n\u001b[1;32m     24\u001b[0m     \u001b[0;32melse\u001b[0m\u001b[0;34m:\u001b[0m\u001b[0;34m\u001b[0m\u001b[0;34m\u001b[0m\u001b[0m\n",
      "\u001b[0;31mKeyboardInterrupt\u001b[0m: "
     ]
    }
   ],
   "source": [
    "import numpy as np\n",
    "import collections as co\n",
    "import matplotlib.pyplot as plt\n",
    "\n",
    "def f(n):\n",
    "    '''\n",
    "input:\n",
    "------\n",
    "    n0 := value to determine which half partition of Z\n",
    "          it belongs to.\n",
    "         \n",
    "output:\n",
    "-------\n",
    "    None\n",
    "\n",
    "Return:\n",
    "-------\n",
    "    n1 := the new value of n as calculated below:\n",
    "            n1 = (n0)/2  (n even)\n",
    "            n1 = 3(n0)+1 (n odd )\n",
    "    '''\n",
    "    if n%2==1:\n",
    "        n=3*n+1\n",
    "    else:\n",
    "        n=n/2\n",
    "    return n\n",
    "\n",
    "def basic_count(begin,end):\n",
    "    '''\n",
    "input:\n",
    "------\n",
    "    begin := starting value to compute iterations\n",
    "    end   := ending value of iterations\n",
    "\n",
    "output:\n",
    "-------\n",
    "    Prints the initial value and number of \n",
    "    iterations it took to reach 1 in a formated \n",
    "    string:\n",
    "    \n",
    "        <val> takes <iter> iterations to get to 1\n",
    "\n",
    "returns:\n",
    "-------\n",
    "    None\n",
    "    \n",
    "                        ---------END---------\n",
    "    '''\n",
    "    for n in range(begin,end+1):\n",
    "        initial_val=n\n",
    "        count = 0\n",
    "        while n>1:\n",
    "            n=f(n)\n",
    "            count+=1\n",
    "        print(\"%d takes %d iterations to get to 1\"%(initial_val,count))\n",
    "        \n",
    "def creation():\n",
    "    import numpy as np\n",
    "    import collections as co\n",
    "    import matplotlib.pyplot as plt\n",
    "    global L\n",
    "    end = 100000\n",
    "    L   = co.defaultdict(int)\n",
    "    for val in range(1,end+1):\n",
    "        initial_val=val\n",
    "        count = 0\n",
    "        while val>1:\n",
    "            val=f(val)\n",
    "            count+=1\n",
    "        if initial_val not in L.keys():\n",
    "            L[initial_val]=count\n",
    "    X   = list(range(1,end+1))\n",
    "    Y   = [T(i) for i in X]\n",
    "    return L,X,Y\n",
    "\n",
    "\n",
    "\n",
    "########################\n",
    "L,X,Y=creation() #####  ONLY RUN ONCE AS IT WILL TAKE SOME TIME\n",
    "########################\n",
    "\n",
    "\n",
    "\n",
    "\n",
    "def T(k):\n",
    "    total=sum([L[i] for i in range(1,k+1)])\n",
    "    return total\n",
    "\n",
    "def main():   \n",
    "    plt.figure(figsize=(8,8))\n",
    "    plt.title(\"$T(k) vs k$\")\n",
    "    plt.xlabel(\"k\")\n",
    "    plt.ylabel(\"T(k)\")\n",
    "    plt.plot(X,Y,\"1\",label=\"$T(K)$\")\n",
    "    plt.legend()\n",
    "main()\n"
   ]
  },
  {
   "cell_type": "code",
   "execution_count": 30,
   "metadata": {},
   "outputs": [
    {
     "data": {
      "text/plain": [
       "\u001b[0;31mSignature:\u001b[0m \u001b[0mf\u001b[0m\u001b[0;34m(\u001b[0m\u001b[0mn\u001b[0m\u001b[0;34m)\u001b[0m\u001b[0;34m\u001b[0m\u001b[0;34m\u001b[0m\u001b[0m\n",
       "\u001b[0;31mDocstring:\u001b[0m\n",
       "input:\n",
       "------\n",
       "    n0 := value to determine which half partition of Z\n",
       "          it belongs to.\n",
       "         \n",
       "output:\n",
       "-------\n",
       "    None\n",
       "\n",
       "Return:\n",
       "-------\n",
       "    n1 := the new value of n as calculated below:\n",
       "            n1 = (n0)/2  (n even)\n",
       "            n1 = 3(n0)+1 (n odd )\n",
       "    \n",
       "\u001b[0;31mFile:\u001b[0m      ~/<ipython-input-29-bfe1fdf51277>\n",
       "\u001b[0;31mType:\u001b[0m      function\n"
      ]
     },
     "metadata": {},
     "output_type": "display_data"
    }
   ],
   "source": [
    "import pprint\n",
    "f?"
   ]
  },
  {
   "cell_type": "code",
   "execution_count": null,
   "metadata": {},
   "outputs": [],
   "source": []
  }
 ],
 "metadata": {
  "kernelspec": {
   "display_name": "Python 3",
   "language": "python",
   "name": "python3"
  },
  "language_info": {
   "codemirror_mode": {
    "name": "ipython",
    "version": 3
   },
   "file_extension": ".py",
   "mimetype": "text/x-python",
   "name": "python",
   "nbconvert_exporter": "python",
   "pygments_lexer": "ipython3",
   "version": "3.6.7"
  }
 },
 "nbformat": 4,
 "nbformat_minor": 2
}
