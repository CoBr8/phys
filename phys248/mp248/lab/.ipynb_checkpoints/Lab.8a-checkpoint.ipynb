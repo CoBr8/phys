{
 "cells": [
  {
   "cell_type": "markdown",
   "metadata": {},
   "source": [
    "## Lab 8a - mining and analysis of internet data\n",
    "\n",
    "From the [Canadian Historical Weather Database](http://climate.weather.gc.ca/historical_data/search_historic_data_e.html) download all the **daily** weather data for the Calgary International Airport **(CALGARY INTL A)** and the Edmonton International Airport **(EDMONTON INTL A)** for the years 2014, 2015, 2016, 2017 and 2018. \n",
    "\n",
    "Write code to load this data, so that you can access the daily max temperature, min temperature, mean termperature, total rain, total snow and total precipitation. \n",
    "\n",
    "## (1) Make three plots\n",
    "\n",
    "for the daily (a) max, (b) min, (c) mean temperatures for Calgary (horizonal) vs. Edmonton (vertical).  Include in your plot both a linear and quadratic least-squares interpolation.  Give your plots appropriate titles.  Include a legend describing the point plot, as well as the least square interpolation. \n",
    "\n",
    "Does your plot settle the age old dispute of whether or not Edmonton or Calgary is **colder**?"
   ]
  },
  {
   "cell_type": "code",
   "execution_count": null,
   "metadata": {},
   "outputs": [],
   "source": []
  },
  {
   "cell_type": "markdown",
   "metadata": {},
   "source": [
    " * * *\n",
    "\n",
    "## (2) For the years 2014--2018, plot \n",
    "\n",
    " * (a) the average total precipitation, by month for Edmonton.  \n",
    " \n",
    " * (b) Similarly, in another plot give the average total precipitation, by month, for Calgary. \n",
    " \n",
    "i.e. each plot will have **12** bars, labelled by the name of the month.  The bar height will be the average precipitation for that month over the stated five year period. You can access ASCII strings for the month names via the **datetime** library.  Here is the link for the [barplot call](https://matplotlib.org/api/_as_gen/matplotlib.pyplot.bar.html). \n",
    "\n",
    "In plot (a) for the months where Edmonton's precipitation exceeds Calgary's, make the bar red.  Make the remaining bars blue. Similarly, in plot (b) if Calgary's precipitation exceeds Edmonton's make the bar red, and blue when it does not."
   ]
  },
  {
   "cell_type": "code",
   "execution_count": null,
   "metadata": {},
   "outputs": [],
   "source": []
  },
  {
   "cell_type": "code",
   "execution_count": null,
   "metadata": {},
   "outputs": [],
   "source": []
  },
  {
   "cell_type": "code",
   "execution_count": null,
   "metadata": {},
   "outputs": [],
   "source": []
  }
 ],
 "metadata": {
  "kernelspec": {
   "display_name": "Python 3",
   "language": "python",
   "name": "python3"
  },
  "language_info": {
   "codemirror_mode": {
    "name": "ipython",
    "version": 3
   },
   "file_extension": ".py",
   "mimetype": "text/x-python",
   "name": "python",
   "nbconvert_exporter": "python",
   "pygments_lexer": "ipython3",
   "version": "3.6.7"
  }
 },
 "nbformat": 4,
 "nbformat_minor": 2
}
