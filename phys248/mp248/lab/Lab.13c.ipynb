{
 "cells": [
  {
   "cell_type": "markdown",
   "metadata": {},
   "source": [
    "## Lab 13c - Crime Lab using library\n",
    "\n",
    "For this lab, we ask you to find the Victoria crime **most heavily linked to temperature**.\n",
    "\n",
    "Create a count of the average amount of crimes in the crime database (for every crime type), indexed by the daily temperature reading.\n",
    "\n",
    "i.e. given a **crime type** $\\alpha$ (a **incident_type_primary** key to **clean_dat**) the quantity\n",
    "\n",
    "$$D_\\alpha(\\tau)$$\n",
    "\n",
    "will be the **average** number of crimes on the days with temperature reading $\\tau$.\n"
   ]
  },
  {
   "cell_type": "markdown",
   "metadata": {},
   "source": [
    " * * *"
   ]
  },
  {
   "cell_type": "markdown",
   "metadata": {},
   "source": [
    "First we *suppose* there is some linear relationship \n",
    "\n",
    "$$D_\\alpha(\\tau) = M_{\\alpha} \\tau + C_{\\alpha}$$\n",
    "\n",
    "where $\\tau$ is the temperature reading for the day. As you will see, this relationship is not true, but we ask you to find a *best-fit* for $M$ and $C$ using least squares. \n",
    "\n",
    "Once you have solved for $M_{\\alpha}$ for all crime types $\\alpha$, sort the list of pairs: $$[ (M_{\\alpha}, \\alpha) \\ \\ for \\ \\ \\alpha \\text{ a crime type } ]$$\n",
    "\n",
    "on the absolute value of $M_\\alpha$ from smallest to largest, and print out the last four elements of this sorted list. i.e. we want to know the four crime types which have the largest $|M_{\\alpha}|$, and we want to know the value of $M_{\\alpha}$ for those crime types.  \n",
    "\n",
    "Do this lab for all three temperature readings: daily max temp, daily min temp, and daily mean temp.  There will be grading script that will search for your answers in the file **mp248/Labs/Lab.13c.ipynb**. The feedback will appear in the **Commentary 2** field on CourseSpaces, i.e. this lab will not count towards your course grade. \n",
    "\n",
    "Due to the limited amount of data we have, please round the temperature readings from **datlib.vicdict** (see Notebook 13b) to the nearest degree.\n",
    "\n",
    "* * *\n",
    "\n",
    "*Hint:* (1) Perhaps make some plots as a *sanity check* to see how useful your least-squares approximations are.\n",
    "\n",
    "   (2) There will be some crime types for which there is not enough data to perform least-squares. Skip those crime types, but also print out their names."
   ]
  },
  {
   "cell_type": "code",
   "execution_count": null,
   "metadata": {},
   "outputs": [],
   "source": []
  },
  {
   "cell_type": "code",
   "execution_count": null,
   "metadata": {},
   "outputs": [],
   "source": []
  },
  {
   "cell_type": "code",
   "execution_count": null,
   "metadata": {},
   "outputs": [],
   "source": []
  },
  {
   "cell_type": "code",
   "execution_count": null,
   "metadata": {},
   "outputs": [],
   "source": []
  },
  {
   "cell_type": "code",
   "execution_count": null,
   "metadata": {},
   "outputs": [],
   "source": []
  },
  {
   "cell_type": "code",
   "execution_count": null,
   "metadata": {},
   "outputs": [],
   "source": []
  }
 ],
 "metadata": {
  "kernelspec": {
   "display_name": "Python 3",
   "language": "python",
   "name": "python3"
  },
  "language_info": {
   "codemirror_mode": {
    "name": "ipython",
    "version": 3
   },
   "file_extension": ".py",
   "mimetype": "text/x-python",
   "name": "python",
   "nbconvert_exporter": "python",
   "pygments_lexer": "ipython3",
   "version": "3.6.7"
  }
 },
 "nbformat": 4,
 "nbformat_minor": 2
}
