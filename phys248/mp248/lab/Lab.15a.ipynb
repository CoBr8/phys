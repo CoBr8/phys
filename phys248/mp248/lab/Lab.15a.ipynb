{
 "cells": [
  {
   "cell_type": "markdown",
   "metadata": {},
   "source": [
    "# Linear Transformation and Linear Algebra"
   ]
  },
  {
   "cell_type": "markdown",
   "metadata": {},
   "source": [
    "## Exercise 1: Linear transformation\n",
    "\n",
    "1. Create a data set of points in 2D that constitute a square. Do this in the following way:\n",
    "    - Create one set of 11 points that lie on the x-axis (y=0) for $x \\in [0,1]$.\n",
    "    - Now use the rotation transformation to create the perpendicular point set that lies on the y-axis.\n",
    "    - Create the two missing point sets by just shifting each of the already existing points by 1 in the approriate way. \n",
    "2. Make a plot of the square and give points belonging to each side a different color and symbol. Connect the points with different types of broken lines.\n",
    "3. Apply the horizintal shear transformation with a shear parameter $m=1$. Plot the transformed point set.\n",
    "4. Apply the rotation  transformation with $\\Theta = 45\\deg$ in the counterclockwise direction. Plot the transformed point set."
   ]
  },
  {
   "cell_type": "markdown",
   "metadata": {},
   "source": [
    "\n",
    "## Exercise 2: Circuit of resistors \n",
    "\n",
    "Given the equations for the voltage difference at each junction point for the circuit of resistors discussed in class 15:\n",
    "* Simplify and sort the set of equations presented in class for the voltages.\n",
    "* Setup coefficient matrix $A$ and RHS vector $\\vec{u}$.\n",
    "* Use an appropriate numpy library to solve the same set of equations for $\\vec{v}$. "
   ]
  }
 ],
 "metadata": {
  "kernelspec": {
   "display_name": "Python 3",
   "language": "python",
   "name": "python3"
  },
  "language_info": {
   "codemirror_mode": {
    "name": "ipython",
    "version": 3
   },
   "file_extension": ".py",
   "mimetype": "text/x-python",
   "name": "python",
   "nbconvert_exporter": "python",
   "pygments_lexer": "ipython3",
   "version": "3.6.7"
  }
 },
 "nbformat": 4,
 "nbformat_minor": 2
}
