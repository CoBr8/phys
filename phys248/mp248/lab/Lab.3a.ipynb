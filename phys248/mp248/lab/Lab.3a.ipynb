{
 "cells": [
  {
   "cell_type": "markdown",
   "metadata": {},
   "source": [
    "#### Activity 0:\n",
    "See _Keyboard shortcuts_: `Esc` and `Enter` swich between _Command_ mode and _Edit_ mode, learn a few keyboard shortcuts, such as\n",
    "\n",
    "* `a` and `b` to add cell after and before current cell in _Command_ mode\n",
    "* `dd` to delete cell in _Command_ mode\n",
    "* 'm' turns cell into Markdown cell, `y` into Code cell"
   ]
  },
  {
   "cell_type": "markdown",
   "metadata": {},
   "source": [
    "# Lab 3a \n",
    "We'll start with some basic activities to familarize ourselves with Python.\n",
    "\n",
    "#### Activity 1:\n",
    "* create an empty list `a`\n",
    "* add an increasing sequence of 5 numbers , one at a time and not using a for loop, using the `append` function \n",
    "* create an array named `xa` out of the list and convert it to data type `float64`\n",
    "* calculate and print the sum, mean and maximum of the numbers in your array\n",
    "* calculate the square of each of the numbers and save them in a new array named `ya`\n",
    "* plot `ya` against `xa`, add labels 'x' and 'y' using the `plot(x,y)` command\n",
    "\n",
    "Your plot should look similar to this:\n",
    "![first plot](../images/firstplot.png)"
   ]
  },
  {
   "cell_type": "code",
   "execution_count": 2,
   "metadata": {},
   "outputs": [
    {
     "name": "stdout",
     "output_type": "stream",
     "text": [
      "Populating the interactive namespace from numpy and matplotlib\n"
     ]
    }
   ],
   "source": [
    "%pylab inline"
   ]
  },
  {
   "cell_type": "code",
   "execution_count": null,
   "metadata": {},
   "outputs": [],
   "source": []
  },
  {
   "cell_type": "code",
   "execution_count": null,
   "metadata": {},
   "outputs": [],
   "source": []
  },
  {
   "cell_type": "code",
   "execution_count": null,
   "metadata": {},
   "outputs": [],
   "source": []
  },
  {
   "cell_type": "code",
   "execution_count": null,
   "metadata": {},
   "outputs": [],
   "source": []
  },
  {
   "cell_type": "markdown",
   "metadata": {},
   "source": [
    "#### Activity 2: (For this activity, you are free to choose the variable names.)\n",
    "* create new variables that store the strings 'qwertyu' and 'asdfghj'\n",
    "* create a new variable that stores the string 'qwertdfg' by using only slicing and string addition on the two previous variables\n",
    "* combine all three variables into a list with a new list variable in the above order (i.e. 'qwertyu' should be the first element in the list)\n",
    "* create a new list, then loop over the strings in each element in your previous list. Append the 3rd character of each list element to the new list.\n",
    "* print that list (the correct answer is `['e', 'd', 'e']\n",
    "`"
   ]
  },
  {
   "cell_type": "code",
   "execution_count": null,
   "metadata": {},
   "outputs": [],
   "source": []
  },
  {
   "cell_type": "code",
   "execution_count": null,
   "metadata": {},
   "outputs": [],
   "source": []
  },
  {
   "cell_type": "code",
   "execution_count": null,
   "metadata": {},
   "outputs": [],
   "source": []
  },
  {
   "cell_type": "code",
   "execution_count": null,
   "metadata": {},
   "outputs": [],
   "source": []
  },
  {
   "cell_type": "markdown",
   "metadata": {},
   "source": [
    "#### Activity 3:\n",
    "Here are a few examples to practice `for` loops:\n",
    "\n",
    "* Use a for loop print out every even number between 0 and 20."
   ]
  },
  {
   "cell_type": "code",
   "execution_count": null,
   "metadata": {},
   "outputs": [],
   "source": []
  },
  {
   "cell_type": "markdown",
   "metadata": {},
   "source": [
    "* Use a for loop to store every even number between 0 and 20 to a list using the built in `append` method. Print the list."
   ]
  },
  {
   "cell_type": "code",
   "execution_count": null,
   "metadata": {},
   "outputs": [],
   "source": []
  },
  {
   "cell_type": "markdown",
   "metadata": {},
   "source": [
    "* Given the list of fruit names below, use a for loop to print out each item of the list using a loop.\n",
    "\n",
    "```python\n",
    "list_of_fruit = ['apple', 'banana', 'orange', 'tomato']\n",
    "```\n"
   ]
  },
  {
   "cell_type": "code",
   "execution_count": null,
   "metadata": {},
   "outputs": [],
   "source": []
  },
  {
   "cell_type": "markdown",
   "metadata": {},
   "source": [
    "#### Activity 4:\n",
    "Practice formatted output."
   ]
  },
  {
   "cell_type": "markdown",
   "metadata": {},
   "source": [
    "Example: Print the given number using the string formatters %f, %g, and %s.\n",
    "\n",
    "```python\n",
    "number = 536918852.5\n",
    "```\n"
   ]
  },
  {
   "cell_type": "code",
   "execution_count": 26,
   "metadata": {},
   "outputs": [
    {
     "name": "stdout",
     "output_type": "stream",
     "text": [
      "5.36919e+08\n",
      "536918852.5\n",
      "536918852.500000\n"
     ]
    }
   ],
   "source": [
    "number = 536918852.5\n",
    "\n",
    "print('%g' % number)\n",
    "print('%s' % number)\n",
    "print('%f' % number)"
   ]
  },
  {
   "cell_type": "markdown",
   "metadata": {},
   "source": [
    "* Print the given number to 3 significant figures using the %g formatter. \n",
    "\n",
    "```python\n",
    "number = 536918852.5\n",
    "```\n",
    "The answer should look like this: `5.37e+08`"
   ]
  },
  {
   "cell_type": "code",
   "execution_count": null,
   "metadata": {},
   "outputs": [],
   "source": []
  },
  {
   "cell_type": "markdown",
   "metadata": {},
   "source": [
    "#### Activity 5:\n",
    "Using numpy and arrays.\n",
    "\n",
    "* Create an array called 'our_list' that contains 10 floats (floating point numbers) evenly spaced in the range from $-\\pi$ to $\\pi$ using the `linspace` command, and print them. Then print the result of the calculation of the first five entries divided by $\\pi$."
   ]
  },
  {
   "cell_type": "code",
   "execution_count": null,
   "metadata": {},
   "outputs": [],
   "source": []
  },
  {
   "cell_type": "markdown",
   "metadata": {},
   "source": [
    "* Using the array `our_list`, use `np.where` to find and print the indices with numbers which have a value less than $\\pi$ and greater than 1.5.\n",
    "* Then find and print the numbers between 0 and 1.5.\n",
    "\n",
    "Answer:\n",
    "```\n",
    "(array([7, 8, 9]),)\n",
    "[0.34906585 1.04719755]\n",
    "```"
   ]
  },
  {
   "cell_type": "code",
   "execution_count": null,
   "metadata": {},
   "outputs": [],
   "source": []
  },
  {
   "cell_type": "markdown",
   "metadata": {},
   "source": [
    "* Convert the given list to a numpy array, and print it to the console.\n",
    "\n",
    "```python\n",
    "our_list = [2, 3, 4, 6.6]\n",
    "```"
   ]
  },
  {
   "cell_type": "code",
   "execution_count": null,
   "metadata": {},
   "outputs": [],
   "source": []
  },
  {
   "cell_type": "markdown",
   "metadata": {},
   "source": [
    "* Using numpy.zeros create an array of shape (3,50) and print the shape. \n",
    "* Use linspace to create a list of 150 elements from 1 to 50 and insert this into your first array in order while preserving the shape. Print the shape of your resulting array again and print the 50th element. "
   ]
  },
  {
   "cell_type": "code",
   "execution_count": null,
   "metadata": {},
   "outputs": [],
   "source": []
  },
  {
   "cell_type": "markdown",
   "metadata": {},
   "source": [
    "* Using numpy.linspace make a list of length 10 from 3 to 10 and print every 3rd element."
   ]
  },
  {
   "cell_type": "code",
   "execution_count": null,
   "metadata": {},
   "outputs": [],
   "source": []
  },
  {
   "cell_type": "markdown",
   "metadata": {},
   "source": [
    "* Using numpy.sum sum all integers from 1 to 100. Print the answer. (`5050.0`)"
   ]
  },
  {
   "cell_type": "code",
   "execution_count": null,
   "metadata": {},
   "outputs": [],
   "source": []
  },
  {
   "cell_type": "markdown",
   "metadata": {},
   "source": [
    "#### Activity 6:\n",
    "Plotting examples.\n",
    "\n",
    "* Plot a line that passes through $(1, 2)$ and $(2, 1)$. The equation of this line is $y = 3 - x $.\n",
    "* Plot $f(x)=sin(x)$ from $-\\pi$ to $\\pi$.\n",
    "* Same plot with red glyphs (markers).\n",
    "* Plot sin(x) and cos(x) with different markers.\n"
   ]
  },
  {
   "cell_type": "code",
   "execution_count": 11,
   "metadata": {},
   "outputs": [
    {
     "data": {
      "text/plain": [
       "[<matplotlib.lines.Line2D at 0x7f9d392fd2e8>]"
      ]
     },
     "execution_count": 11,
     "metadata": {},
     "output_type": "execute_result"
    },
    {
     "data": {
      "image/png": "[encoded data removed]",
      "text/plain": [
       "<Figure size 432x288 with 1 Axes>"
      ]
     },
     "metadata": {
      "needs_background": "light"
     },
     "output_type": "display_data"
    }
   ],
   "source": []
  },
  {
   "cell_type": "code",
   "execution_count": 12,
   "metadata": {},
   "outputs": [
    {
     "data": {
      "text/plain": [
       "[<matplotlib.lines.Line2D at 0x7f9d3925c2e8>]"
      ]
     },
     "execution_count": 12,
     "metadata": {},
     "output_type": "execute_result"
    },
    {
     "data": {
      "image/png": "[encoded data removed]",
      "text/plain": [
       "<Figure size 432x288 with 1 Axes>"
      ]
     },
     "metadata": {
      "needs_background": "light"
     },
     "output_type": "display_data"
    }
   ],
   "source": []
  },
  {
   "cell_type": "markdown",
   "metadata": {},
   "source": [
    "* Add the title \"PHYS/MATH 248\" to the last plot.\n",
    "* Label the x-axis \"x\".\n",
    "* Label the y-axis \"f(x)\".\n",
    "* Change the x-axis limits to $[-2, 2]$.\n",
    "* Add a legend that labels \"y = sin(x)\" and \"y = cos(x)\".\n",
    "* Place the legend in the top left of the plot.\n",
    "\n",
    "This plot should look like his:\n",
    "![second plot](../images/secondplot.png)"
   ]
  }
 ],
 "metadata": {
  "anaconda-cloud": {},
  "kernelspec": {
   "display_name": "Python 3",
   "language": "python",
   "name": "python3"
  },
  "language_info": {
   "codemirror_mode": {
    "name": "ipython",
    "version": 3
   },
   "file_extension": ".py",
   "mimetype": "text/x-python",
   "name": "python",
   "nbconvert_exporter": "python",
   "pygments_lexer": "ipython3",
   "version": "3.6.7"
  }
 },
 "nbformat": 4,
 "nbformat_minor": 2
}
