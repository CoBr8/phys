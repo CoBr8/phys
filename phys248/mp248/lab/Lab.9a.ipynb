{
 "cells": [
  {
   "cell_type": "markdown",
   "metadata": {},
   "source": [
    "# Lab 9\n",
    "\n",
    "## Exercise 1\n",
    "* Using scipy's `integrate.cumtrapz` integrate one more time the area under a quadrant of a circle to determine $\\pi$.\n",
    "* Which parameter controls the accuracy in this case? \n",
    "* Make a plot of the difference of your integration and the `nunmpy.pi` answer as a function of that parameter, for reasonable values of that parameter. What are reasonable parameters?\n"
   ]
  },
  {
   "cell_type": "code",
   "execution_count": null,
   "metadata": {},
   "outputs": [],
   "source": []
  },
  {
   "cell_type": "markdown",
   "metadata": {},
   "source": [
    "## Exercise 2\n",
    "* Make a line plot of the function $f(x) = 2x^2 + 3\\sin(5x)$, for $x \\in [-2,7]$.\n",
    "* Use sympy to determine the analytic expression of the derivative $f' = \\frac{df}{dx}$. Create a lambda function called `dfdxlam` out of the sympy expression using `sympy.lambdify`.\n",
    "* In course notebook 5 we introduced a numerical derivative. Use this numerical derivative to determine \n",
    "$f'(3)$. Compare that with the result of `dfdxlam(3)`. What is your conclusion for how large, small `h` should be?\n",
    "* Overplot the numerical derivative for different values of `h` with the derivative from `dfdxlam`. What is the result of too large `h` values? Can you rationalize your observation?"
   ]
  },
  {
   "cell_type": "code",
   "execution_count": null,
   "metadata": {},
   "outputs": [],
   "source": []
  },
  {
   "cell_type": "code",
   "execution_count": 2,
   "metadata": {},
   "outputs": [
    {
     "data": {
      "text/plain": [
       "'/home/user/mp248-course-notes/Labs'"
      ]
     },
     "execution_count": 2,
     "metadata": {},
     "output_type": "execute_result"
    }
   ],
   "source": [
    "pwd"
   ]
  },
  {
   "cell_type": "code",
   "execution_count": null,
   "metadata": {},
   "outputs": [],
   "source": []
  }
 ],
 "metadata": {
  "kernelspec": {
   "display_name": "Python 3",
   "language": "python",
   "name": "python3"
  },
  "language_info": {
   "codemirror_mode": {
    "name": "ipython",
    "version": 3
   },
   "file_extension": ".py",
   "mimetype": "text/x-python",
   "name": "python",
   "nbconvert_exporter": "python",
   "pygments_lexer": "ipython3",
   "version": "3.6.7"
  }
 },
 "nbformat": 4,
 "nbformat_minor": 2
}
