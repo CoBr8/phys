{
 "cells": [
  {
   "cell_type": "markdown",
   "metadata": {},
   "source": [
    "# Lab 1a"
   ]
  },
  {
   "cell_type": "markdown",
   "metadata": {},
   "source": [
    "## Getting started with the servers\n",
    "\n",
    "**Task 1:** \n",
    "\n",
    "Follow the instructions in  the _Introduction_  notebook and setup a GitLab server account on our server, and log into the Jupyter server.\n",
    "\n",
    "In the spawner menu start with the defaults for both options. Once you feel a bit more familiar with this course you can try the alternative Jupyterhub environment.\n",
    "\n",
    "## Shell, CLI\n",
    "\n",
    "**Task 2:** \n",
    "\n",
    "Open a terminal in your Jupyter server. Create a directory called `notes`. \n",
    "\n",
    "Open a new ipython notebook called `cli-cheatsheet.ipynb`, make the first cell a markdown cell and start writing. The goal is to create a cheat sheet with the short explanation and examples of the most common and useful shell commands. Use the commands introduced in notebook _1. Command line interface ..._.  Look up the man page of the command on [Ubuntu Manpage Repository](http://manpages.ubuntu.com) and create a table with a brief explanation:\n",
    "\n",
    "command | brief explanation | example\n",
    "--------|-------------------|--------\n",
    "emacs, vi or nano | text file editor | \n",
    "more/less/tail/head | pager for text files | `$ less text.txt`\n",
    "  \n",
    "  \n",
    "Complete this table with the most important commands. When done save the notebook. Switch over to the terminal where you should still be in the notes folder (check with the `pwd` command). Then use the command \n",
    "```\n",
    "jupyter nbconvert --to html cli-cheatsheet.ipynb\n",
    "```\n",
    "which will create a static `html` version of your notebook.\n"
   ]
  },
  {
   "cell_type": "markdown",
   "metadata": {},
   "source": [
    "## Clone the course repository\n",
    "**Task 3:**\n",
    "\n",
    "We will learn about git in more detail later. At this point we just want _download_ the course repository so that you have all the course notebooks in your Jupyter session. \n",
    "\n",
    "On the GitLab server find and find under _projects, Explore, All_ the repository _Falk Herwig / mp248-course-notes_ In the Clone menu (blue) pick for now the option _Clone with HTTP_ and paste the address by clicking on the right button. Then use that address with the `git clone` command in the terminal. To launch this command you should be in the home directory, where you can get from everywhere with the `cd` command without arguments.\n",
    "\n",
    "```\n",
    "git clone http://206-12-89-142.cloud.computecanada.ca/fherwig/mp248-course-notes.git\n",
    "```"
   ]
  },
  {
   "cell_type": "markdown",
   "metadata": {},
   "source": [
    "\n",
    "_Tip:_ You can copy the lecture notebook of the day to your own `notes` directory and edit, review, change it, and try out things in there. This way you can make yourown enhanced version of the notes, which greatly helps you to build your skills. "
   ]
  },
  {
   "cell_type": "markdown",
   "metadata": {},
   "source": [
    "## Command line editor\n",
    "It is an essential and unavoidable skill to master at least in a primitive fashion a command line editor. You need to make a choice and then stick with it. \n",
    "- `nano` - if you want to simply create & edit a text file and get on with your life\n",
    "- `emacs` - once you master it, you can handle just about any types of text files. The interface is customizable to suit your workflow. It supports macro recording and shortcuts.\n",
    "- `vim` - very powerful with steep learning curve, works in jupyter only with the jupyterhub environment, therefore not recommended for this course. \n",
    "\n",
    "**Task 4:**\n",
    "Pick your command line editor and open a file called `shopping-list.txt` and enter at least 10 things you need to get from the store."
   ]
  },
  {
   "cell_type": "code",
   "execution_count": null,
   "metadata": {},
   "outputs": [],
   "source": []
  },
  {
   "cell_type": "code",
   "execution_count": null,
   "metadata": {},
   "outputs": [],
   "source": []
  },
  {
   "cell_type": "markdown",
   "metadata": {},
   "source": [
    "### Exercise 1\n",
    "- create a directory called `tmp` and change into it\n",
    "- create a text file (with `touch`) called `tmp.txt`, edit it with the CLI editor of your choice to fill it with the names of lots of people you know; include the names _Carol_ and _Thomas_ even if you don't know people with that name\n",
    "- change the file name to `names.txt`\n",
    "- how many lines does it have? (don't count, use a shell command)\n",
    "- search through the file for all incidences of the letter `o` and of the string `mas`, and report how many instances there are, also find all entries with either the string `ol` or `om`\n",
    "- use `man` to look at the various options for `grep`, and then look for lines that do NOT have the letter `o` in it.\n",
    "- go up one directory, and determine the sizes of  \n",
    "    1. this new present working directory, and \n",
    "    2. the just the previoulsy created directory `tmp`.\n",
    "- use `man` to look at the options for `rm`, and then delete *ONLY* the entire directory you just created in one command.\n",
    "- use `history` to see what you just did!\n",
    "- save the history into a file called `history.txt`\n",
    "\n",
    "### Exercise 2\n",
    "* copy and paste the instructions from Exercise 1 (without the header) into a file called `ex1.txt`\n",
    "* write a shell script called `modify_ex1.sh` that analyses and modifies this file in the following way:\n",
    "    - report how many lines it has\n",
    "    - report in how many lines the string \\`the\\` appears\n",
    "    - replace in that file all strings `the` with `THE` and save to a new file called `ex2.txt`; do not alter `ex1.txt`"
   ]
  }
 ],
 "metadata": {
  "anaconda-cloud": {},
  "kernelspec": {
   "display_name": "Python 3",
   "language": "python",
   "name": "python3"
  },
  "language_info": {
   "codemirror_mode": {
    "name": "ipython",
    "version": 3
   },
   "file_extension": ".py",
   "mimetype": "text/x-python",
   "name": "python",
   "nbconvert_exporter": "python",
   "pygments_lexer": "ipython3",
   "version": "3.6.7"
  }
 },
 "nbformat": 4,
 "nbformat_minor": 2
}
