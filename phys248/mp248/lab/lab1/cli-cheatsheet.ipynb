{
 "cells": [
  {
   "cell_type": "markdown",
   "metadata": {},
   "source": [
    "|command|description|code|result|\n",
    "|-------|-----------|----|------|\n",
    "|cd|changes current directory|```$ cd notes```| changes directory to \"notes\"|\n",
    "|ls|lists the files and directories in pwd|```$ ls ```| ```notes/ mp248/ readme.txt...```|\n",
    "|pwd|states the current directory|```$ pwd```| ```/home/user/notes~```||\n",
    "|cp|copy <source> <location> | ```$ cp /home/user/mp248-course-notes/1. CLI ....ipynb /home/user/notes/Section1.ipynb```|copys the first sections notes to a new directory and renames it|\n",
    "|mv|moves the selected file to the given directory | ```$ mv  <source/filename> <location/filename>```|Will find the filename in the source directory and moves it to the location and renames it|\n",
    "|mkdir|Makes a new directory in the current one|```$ mkdir tmp```|Makes a directory called tmp|\n",
    "|rmdir|removes the directory (has to be empty)|```$ rmdir tmp```| removes the directory called tmp|\n",
    "|du|lists the disk usage|```$ du```|\n",
    "|df|how much space is free on each disk|```$ df```|\n",
    "|cat|concatination of documents|```$ cat > notes.txt```|creates a new file caled notes with a .txt extension, after hitting enter it will create the file and then the user can enter code on lines by hitting enter. ctrl+d to end editing|\n",
    "|wc|returns a word count, use arg -l for lines, -w for words, and -c for characters|```$ wc -w README.txt```| returns the number of words in the file README.txt|\n",
    "|nano OR emacs OR vim|Opens note editor|```$ emacs```|Opens emacs editor|\n",
    "|touch|refreshes timestamp on the file to the current time|``` $ tocuh README.txt```| gives the file a recent timestamp|\n",
    "|grep|searches for a string in the given file| ```$ grep -e 'superduper' -e 'hello world' -e ' banana' '1. Command line interface - Linux, Unix, GNU.ipynb' \\| wc -l```|searches for superduper, hello world, and banana in the file, the bar and wc -l takes the output from grep inputs it to wc and the line argument is used to determine the number of occourances of the word|\n",
    "|sed|replaces the given word in the given file with the replacement word|```$ sed s/\"superduper\"/\"Santa Claus\"/g \"1. Command line interface - Linux, Unix, GNU.ipynb\" > \"tt.ipynb\"```| replaces superduper with Santa Claus in the file listed first, then writes it to a new file (preserving the original)|\n",
    "|set --|sets the following words (delimited by spaces) to numerical variabels (1,2,3,..,n)| ```$ set -- abc def 123 fg11```|```echo $1=abc```|\n",
    "|basename|returns the file name| ```basename /home/user/README.txt```|```out[]=README.txt```|\n",
    "|"
   ]
  }
 ],
 "metadata": {
  "kernelspec": {
   "display_name": "Python 3",
   "language": "python",
   "name": "python3"
  },
  "language_info": {
   "codemirror_mode": {
    "name": "ipython",
    "version": 3
   },
   "file_extension": ".py",
   "mimetype": "text/x-python",
   "name": "python",
   "nbconvert_exporter": "python",
   "pygments_lexer": "ipython3",
   "version": "3.6.7"
  }
 },
 "nbformat": 4,
 "nbformat_minor": 2
}
