{
 "cells": [
  {
   "cell_type": "markdown",
   "metadata": {},
   "source": [
    "# Lab 10a"
   ]
  },
  {
   "cell_type": "markdown",
   "metadata": {
    "deletable": true,
    "editable": true
   },
   "source": [
    "## Exercise 1\n",
    "The [Lotka–Volterra equations](https://en.wikipedia.org/wiki/Lotka%E2%80%93Volterra_equations), also known as the predator–prey equations, represent a model for an interacting predator and a prey population:\n",
    " \n",
    " $$ \\frac{dx}{dt} = \\alpha x - \\beta x y$$ \n",
    " \n",
    " $$\\frac{dy}{dt} = \\delta xy -\\gamma y$$ \n",
    " \n",
    " where:\n",
    " * $x$ number of prey\n",
    " * $y$ number of predators\n",
    " * and $\\alpha$, $\\beta$, $\\delta$ and $\\gamma$ are parameters that describe the interaction between the two species.\n",
    " \n",
    "1. Write the code to solve the Lotka–Volterra equations equations using first the `scipy.integrate.odeint` and  then the `integrate.solve_ivp` method. \n",
    "2. Create a plot with the evolution of prey and predator for the parameters $\\alpha=2/3$, $\\beta=4/3$, $\\delta=1$ and $\\gamma=1/2$ for the time interval $[0,35]$ for each solution. Make a plot that shows the prey population which shows both solutions. Are you satisfied with the agreement?\n",
    "3. Integrate the ODE with both solvers to $t=350$ and plot the prey population. Also zoom in to view in detail just the last 35 time units. Are you still satisfied? What is the solver you prefer, and why?\n",
    "\n",
    "Note: make sure that you are using for each line a different compination of linestyle and color to make distinguishing the lines very easy.\n",
    "\n",
    "I left some code snippets from my model solution in here. You can ignore them if you like."
   ]
  },
  {
   "cell_type": "code",
   "execution_count": null,
   "metadata": {
    "collapsed": true,
    "deletable": true,
    "editable": true
   },
   "outputs": [],
   "source": [
    "%pylab ipympl\n",
    "from scipy.integrate import odeint"
   ]
  },
  {
   "cell_type": "code",
   "execution_count": null,
   "metadata": {
    "collapsed": false,
    "deletable": true,
    "editable": true
   },
   "outputs": [],
   "source": [
    "# parameters and initial conditions\n",
    "a=4/3; b=4/3; d=1.0; g=1/2\n",
    "state0 = [0.2, 0.5]\n",
    "tmin,tmax = (0,350)"
   ]
  },
  {
   "cell_type": "markdown",
   "metadata": {},
   "source": [
    "### odeint solution"
   ]
  },
  {
   "cell_type": "code",
   "execution_count": null,
   "metadata": {},
   "outputs": [],
   "source": [
    "ifig = 7; close(ifig); figure(ifig)"
   ]
  },
  {
   "cell_type": "markdown",
   "metadata": {},
   "source": [
    "### solve_ivp solution"
   ]
  },
  {
   "cell_type": "code",
   "execution_count": null,
   "metadata": {
    "collapsed": false,
    "editable": true
   },
   "outputs": [],
   "source": [
    "from scipy.integrate import solve_ivp"
   ]
  },
  {
   "cell_type": "code",
   "execution_count": null,
   "metadata": {
    "collapsed": false,
    "editable": true
   },
   "outputs": [],
   "source": [
    "rhs = lambda t,y: ......\n",
    "sol = solve_ivp(rhs,......)"
   ]
  },
  {
   "cell_type": "code",
   "execution_count": null,
   "metadata": {},
   "outputs": [],
   "source": [
    "# check solution\n",
    "sol"
   ]
  },
  {
   "cell_type": "code",
   "execution_count": null,
   "metadata": {
    "collapsed": false,
    "editable": true
   },
   "outputs": [],
   "source": [
    "ifig = 3; close(ifig); figure(ifig)\n",
    "plot(t_eval,sol.y[0],label='prey')\n",
    "plot(t_eval,sol.y[1],label='predator')\n",
    "legend(loc=0); xlabel('time'); ylabel('population')\n",
    "title('solve_ivp')"
   ]
  },
  {
   "cell_type": "code",
   "execution_count": null,
   "metadata": {},
   "outputs": [],
   "source": []
  },
  {
   "cell_type": "code",
   "execution_count": null,
   "metadata": {},
   "outputs": [],
   "source": []
  }
 ],
 "metadata": {
  "kernelspec": {
   "display_name": "Python 3",
   "language": "python",
   "name": "python3"
  },
  "language_info": {
   "codemirror_mode": {
    "name": "ipython",
    "version": 3
   },
   "file_extension": ".py",
   "mimetype": "text/x-python",
   "name": "python",
   "nbconvert_exporter": "python",
   "pygments_lexer": "ipython3",
   "version": "3.6.7"
  }
 },
 "nbformat": 4,
 "nbformat_minor": 2
}
