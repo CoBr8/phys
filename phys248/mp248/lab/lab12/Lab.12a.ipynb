{
 "cells": [
  {
   "cell_type": "markdown",
   "metadata": {},
   "source": [
    "## Plotting lab\n",
    "\n",
    "For this plotting lab, we ask you to load the weather data for Edmonton, Calgary, Victoria and Saskatoon. Ensure you have found the set of dates where you have weather data for all four cities."
   ]
  },
  {
   "cell_type": "code",
   "execution_count": null,
   "metadata": {},
   "outputs": [],
   "source": [
    "## This is the import code from 12.Matplotlib.\n",
    "## You should be able to run it now, but perhaps you might have to modify the subdirectory\n",
    "## list, sdp, depending on where you stored your weather files.\n",
    "\n",
    "import datetime as dt\n",
    "import os as os\n",
    "from operator import itemgetter\n",
    "import collections as co\n",
    "import fnmatch as fn    ## library for finding files using OS wildcards\n",
    "import numpy as np\n",
    "\n",
    "print(\"Python current working directory:\", os.getcwd())\n",
    "\n",
    "## directories containing the weather w.* subdirectories\n",
    "sdp = ['./L8.data', '../data']\n",
    "\n",
    "## Build the list of directories of the weather files.\n",
    "wsubdirs = sum( [[x+'/'+y for y in fn.filter(os.listdir(x), \"w.*\")] for x in sdp], [] )\n",
    "\n",
    "print(\"Relative location of weather .csv files: \", wsubdirs)"
   ]
  },
  {
   "cell_type": "code",
   "execution_count": null,
   "metadata": {},
   "outputs": [],
   "source": [
    "## basic line formatting. This is used in the next code block.\n",
    "## Code removes quotes and newlines, and splits along commas.\n",
    "def fmtline(ln):\n",
    "    PL = ln.translate({ord(c): None for c in '\"\\n'})\n",
    "    PL = PL.split(\",\")\n",
    "    return(PL)"
   ]
  },
  {
   "cell_type": "code",
   "execution_count": null,
   "metadata": {},
   "outputs": [],
   "source": [
    "## we will store the file data in a co.defaultdict(dict)\n",
    "## format initDat[\"location\"][date][dict key such as max temp, min temp, etc.] \n",
    "\n",
    "initDat = co.defaultdict(dict)\n",
    "\n",
    "for wd in wsubdirs:\n",
    "    files = fn.filter(os.listdir(wd), \"eng-daily*.csv\")\n",
    "    for wdf in files:\n",
    "        with open(wd+'/'+wdf, encoding='utf-8') as f:\n",
    "            content = f.readlines()\n",
    "            \n",
    "            ## find line describing columns\n",
    "            keylines = [i for i in range(len(content)) if 'date/time' in\\\n",
    "                        content[i].lower()]\n",
    "            if len(keylines)!=1:\n",
    "                print(\"Error: \"+wd+'/'+wdf+\" key error. \")\n",
    "                () = () + 1\n",
    "            \n",
    "            ## find station data\n",
    "            stnlines = [i for i in range(len(content)) if 'station name' in\\\n",
    "                        content[i].lower()]\n",
    "            if len(stnlines)!=1:\n",
    "                print(\"Error: \"+wd+'/'+wdf+\" stn name error. \")\n",
    "                () = () + 1\n",
    "                \n",
    "            airpt = fmtline(content[stnlines[0]])[1]\n",
    "            keys = fmtline(content[keylines[0]])\n",
    "            ## get date/time index\n",
    "            dti = [j for j in range(len(keys)) if 'date/time' in\\\n",
    "                   keys[j].lower()]\n",
    "            if len(dti)!=1:\n",
    "                print(\"Error: \"+wd+'/'+wdf+' date/time idx. ')\n",
    "                () = () + 1\n",
    "            \n",
    "            ## let's collect the data\n",
    "            for i in range(keylines[0]+1, len(content)):\n",
    "                ln = fmtline(content[i])\n",
    "                ## convert date/time to python datetime object\n",
    "                ln[dti[0]] = dt.datetime.strptime(ln[dti[0]], \"%Y-%m-%d\")\n",
    "                \n",
    "                initDat[airpt][ln[dti[0]]] = dict( [ (keys[j] , ln[j]) for j in\\\n",
    "                                                    range(len(keys)) if j != dti[0] ] ) "
   ]
  },
  {
   "cell_type": "code",
   "execution_count": null,
   "metadata": {},
   "outputs": [],
   "source": [
    "## date gap check for initDat, i.e. report what (if any) days have missing weather data.\n",
    "for A in initDat.keys():\n",
    "    print(\"Airport: \", A, ' ', end='')\n",
    "    sd = sorted( initDat[A].keys() )\n",
    "    print('First date: ',sd[0].date(), 'Final date: ', sd[-1].date())\n",
    "    ID = sd[0]\n",
    "    mD = []\n",
    "    while ID<sd[-1]:\n",
    "        ID += dt.timedelta(days=1)\n",
    "        if ID not in initDat[A].keys():\n",
    "            mD.append(ID)\n",
    "    if (len(mD)>0):\n",
    "        print(\"Missing dates: \", mD)\n",
    "    else:\n",
    "        print(sd[-1].date()-sd[0].date())\n",
    "        \n",
    "## list of keys we will have use for.\n",
    "ncl = ['Max Temp (°C)', 'Min Temp (°C)', 'Mean Temp (°C)', 'Total Rain (mm)', 'Total Snow (cm)', 'Total Precip (mm)']\n",
    "\n",
    "## let's make sure all the max, min, mean, total rain, total snow, total precip floats are present\n",
    "for A in initDat.keys():\n",
    "    for k in ncl:\n",
    "        am = 0\n",
    "        for d in initDat[A].keys():\n",
    "            if len(initDat[A][d][k])==0:\n",
    "                am += 1\n",
    "        print('Airport: ', A, 'missing ', k, ' count ', am)"
   ]
  },
  {
   "cell_type": "code",
   "execution_count": null,
   "metadata": {},
   "outputs": [],
   "source": [
    "## merge dictionaries for the four cities\n",
    "\n",
    "edmdict = dict()\n",
    "caldict = dict()\n",
    "vicdict = dict()\n",
    "sasdict = dict()\n",
    "for k in initDat.keys():\n",
    "    if 'EDM' in k:\n",
    "        edmdict.update(initDat[k])\n",
    "    if 'CAL' in k:\n",
    "        caldict.update(initDat[k])\n",
    "    if 'VIC' in k:\n",
    "        vicdict.update(initDat[k])\n",
    "    if 'SASK' in k:\n",
    "        sasdict.update(initDat[k])\n",
    "        \n",
    "dictL = [edmdict, caldict, vicdict, sasdict]\n",
    "dictN = [\"Edmonton\", \"Calgary\", \"Victoria\", \"Saskatoon\"]\n",
    "\n",
    "## Let's find a list of common dates where we have weather data for all cities. \n",
    "dtlists = [set(k for k,d in D.items() if len(d[ncl[0]])!=0 and len(d[ncl[1]])!=0 and len(d[ncl[2]])!=0) for D in dictL]\n",
    "\n",
    "## intersection of all the sets\n",
    "comdt = set.intersection(*dtlists)\n",
    "## sort the dates.\n",
    "coml = sorted(comdt)\n"
   ]
  },
  {
   "cell_type": "code",
   "execution_count": null,
   "metadata": {},
   "outputs": [],
   "source": [
    "## for all the cities, and all the common dates, \n",
    "## we convert all the measured termperature and precipitation\n",
    "## items to floats. Here we add the (not too bad) assumption that if precipitation\n",
    "## is not listed, it should be zero.\n",
    "\n",
    "for D in dictL:\n",
    "    for x in coml:\n",
    "        for k in range(len(ncl)):\n",
    "            if len(D[x][ncl[k]])==0:\n",
    "                D[x][ncl[k]]=0.0\n",
    "            else:\n",
    "                D[x][ncl[k]]=float(D[x][ncl[k]])\n",
    "                "
   ]
  },
  {
   "cell_type": "markdown",
   "metadata": {},
   "source": [
    "**Exercise 1:**  For each year between 2014 and 2018 (i.e. where we have data for all the four cities), make a pie chart.  The slices of the pie fractions (or sizes) will be the percentage of days (for that year) where that city has the highest maximum temperature.  Ensure each slice is labelled by the city name."
   ]
  },
  {
   "cell_type": "code",
   "execution_count": null,
   "metadata": {},
   "outputs": [],
   "source": [
    "import matplotlib.pyplot as plt\n",
    "%matplotlib inline\n",
    "\n"
   ]
  },
  {
   "cell_type": "markdown",
   "metadata": {},
   "source": [
    "**Exercise 2:** Repeat Exercise 1, but use only summer weather."
   ]
  },
  {
   "cell_type": "code",
   "execution_count": null,
   "metadata": {},
   "outputs": [],
   "source": [
    "## Feel free to use June 21st as the first day of summer -- the actual date depends on the year, but\n",
    "## given that we are making pie charts, being one day inaccurate is of little consequence.\n",
    "## Similarly, use September 23rd for the start of Fall.\n",
    "\n"
   ]
  },
  {
   "cell_type": "markdown",
   "metadata": {},
   "source": [
    "**Exercise 3:** Repeat Exercise 1, but use the number of days that city has the lowest maximum temperature (among the four cities)."
   ]
  },
  {
   "cell_type": "code",
   "execution_count": null,
   "metadata": {},
   "outputs": [],
   "source": []
  },
  {
   "cell_type": "markdown",
   "metadata": {},
   "source": [
    "**Exercise 4**: Repeat Exercise 3, but with summer weather."
   ]
  },
  {
   "cell_type": "code",
   "execution_count": null,
   "metadata": {},
   "outputs": [],
   "source": []
  },
  {
   "cell_type": "markdown",
   "metadata": {},
   "source": [
    "**Exercise 5:** Repeat Exercise 1, using the percentage of days where a city has the most precipitation (among all four cities)."
   ]
  },
  {
   "cell_type": "code",
   "execution_count": null,
   "metadata": {},
   "outputs": [],
   "source": []
  },
  {
   "cell_type": "markdown",
   "metadata": {},
   "source": [
    "**Exercise 6:** Make a matplotlib plot where with two subplots.  The plot on the left will be from Exercise 2, and the plot on the right will be from Exercise 4.  i.e. the left pie chart will be the percentage of summer days with highest max temperature, the plot on the right will be the percentage of days with coldest max temperature."
   ]
  },
  {
   "cell_type": "code",
   "execution_count": null,
   "metadata": {},
   "outputs": [],
   "source": []
  },
  {
   "cell_type": "code",
   "execution_count": null,
   "metadata": {},
   "outputs": [],
   "source": []
  }
 ],
 "metadata": {
  "kernelspec": {
   "display_name": "Python 3",
   "language": "python",
   "name": "python3"
  },
  "language_info": {
   "codemirror_mode": {
    "name": "ipython",
    "version": 3
   },
   "file_extension": ".py",
   "mimetype": "text/x-python",
   "name": "python",
   "nbconvert_exporter": "python",
   "pygments_lexer": "ipython3",
   "version": "3.6.7"
  }
 },
 "nbformat": 4,
 "nbformat_minor": 2
}
