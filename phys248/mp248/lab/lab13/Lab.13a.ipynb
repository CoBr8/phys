{
 "cells": [
  {
   "cell_type": "markdown",
   "metadata": {},
   "source": [
    "## Lab 13.a -- Crime Stats\n",
    "\n",
    "Please ensure the first few code blocks execute in your notebooks.  Your lab tasks appear towards the end of the notebook.\n"
   ]
  },
  {
   "cell_type": "code",
   "execution_count": 2,
   "metadata": {},
   "outputs": [
    {
     "name": "stdout",
     "output_type": "stream",
     "text": [
      "/home/user/mp248/lab/lab13\n"
     ]
    }
   ],
   "source": [
    "import json\n",
    "import os\n",
    "\n",
    "print(os.getcwd())\n",
    "\n",
    "## please load the data from the mp248-course-notes repository.\n",
    "## It is a large file.  i.e. : Please **DO NOT** store in your personal repo, i.e.\n",
    "## please do not copy this file, nor move this file.\n",
    "\n",
    "## the code below should execute in your notebook -- if not, modify the directory\n",
    "## accordingly.\n",
    "\n",
    "with open(\"../../../mp248-course-notes/data/Victoria (BC) Police Department.geojson\") as f:\n",
    "    data = json.loads(f.read())\n",
    "    "
   ]
  },
  {
   "cell_type": "code",
   "execution_count": 3,
   "metadata": {},
   "outputs": [
    {
     "name": "stdout",
     "output_type": "stream",
     "text": [
      "{'Alarm': defaultdict(<class 'int'>, {'FALSE ALARMS': 1447}),\n",
      " 'Arson': defaultdict(<class 'int'>,\n",
      "                      {'ARSON-DISREGARD FOR HUMAN LIFE': 22,\n",
      "                       'ARSON-PROPERTY': 260}),\n",
      " 'Assault': defaultdict(<class 'int'>,\n",
      "                        {'ASSAULT AGAINST POLICE OFFICER': 417,\n",
      "                         'ASSAULT-COMMON OR TRESPASS': 2065,\n",
      "                         'ASSAULTS-OTHER': 473}),\n",
      " 'Assault with Deadly Weapon': defaultdict(<class 'int'>,\n",
      "                                           {'ASSAULT OT P/O-W/WPN OR CBH': 38,\n",
      "                                            'ASSAULT POLICE-W/WEAPON OR CBH': 75,\n",
      "                                            'ASSAULT-AGGRAVATED': 98,\n",
      "                                            'ASSAULT-OTHER PEACE OFFICER': 125,\n",
      "                                            'ASSAULT-W/WEAPON OR CBH': 1552}),\n",
      " 'Breaking & Entering': defaultdict(<class 'int'>,\n",
      "                                    {'BREAK & ENTER-BUSINESS': 1691,\n",
      "                                     'BREAK & ENTER-OTHER': 1452,\n",
      "                                     'BREAK & ENTER-RESIDENCE': 2202}),\n",
      " 'Community Policing': defaultdict(<class 'int'>,\n",
      "                                   {'BUSINESS': 46,\n",
      "                                    'CITIZEN ASSIST': 1}),\n",
      " 'Disorder': defaultdict(<class 'int'>, {'CAUSE A DISTURBANCE': 3786}),\n",
      " 'Drugs': defaultdict(<class 'int'>,\n",
      "                      {'POSSESS-OTH SCHED I DRUGS/SUBS': 291,\n",
      "                       'POSSESS-OTH SCHED III DRUG/SUB': 30,\n",
      "                       'POSSESSION-CANNABIS 30G & UNDR': 919,\n",
      "                       'POSSESSION-CANNABIS OVER 30G': 38,\n",
      "                       'POSSESSION-COCAINE': 769,\n",
      "                       'POSSESSION-HEROIN': 273,\n",
      "                       'POSSESSION-MDMA (ECSTASY)': 14,\n",
      "                       'POSSESSION-METHAMPHETAMINE': 367,\n",
      "                       'TRAFFICK-CANNABIS 3000G & UNDR': 126,\n",
      "                       'TRAFFICK-CANNABIS OVER 3000G': 7,\n",
      "                       'TRAFFICKING-AMPHETAMINE': 9,\n",
      "                       'TRAFFICKING-COCAINE': 483,\n",
      "                       'TRAFFICKING-HEROIN': 118,\n",
      "                       'TRAFFICKING-METHAMPHETAMINE': 68,\n",
      "                       'TRAFFICKING-MORPHINE': 5,\n",
      "                       'TRAFFICKING-OTH SCHED IV CDSA': 3,\n",
      "                       'TRAFFICKING-OTHER CDSA': 35}),\n",
      " 'Liquor': defaultdict(<class 'int'>,\n",
      "                       {'LIQUOR (LCLA) ACT-OTHER': 442,\n",
      "                        'LIQUOR-CONSUME IN PUBLIC PLACE': 734,\n",
      "                        'LIQUOR-INTOX IN PUBLIC PLACE': 9292,\n",
      "                        'LIQUOR-SEIZURE': 21}),\n",
      " 'Other': defaultdict(<class 'int'>,\n",
      "                      {'ANIMAL CALLS': 869,\n",
      "                       'BYLAW-NOISE': 6089,\n",
      "                       'OBSTRUCT PEACE/PUBLIC OFFICER': 451,\n",
      "                       'SUSPICIOUS PERS/VEH/OCCURRENCE': 17445}),\n",
      " 'Property Crime': defaultdict(<class 'int'>,\n",
      "                               {'FRAUD-CHEQUE': 61,\n",
      "                                'FRAUD-CREDIT/DEBIT CARD': 72,\n",
      "                                'MISCHIEF $5000 OR UNDER': 8894,\n",
      "                                'MISCHIEF OVER $5000': 90,\n",
      "                                'POSSESS STLN PROPERTY O/$5000': 1,\n",
      "                                'POSSESS STLN PROPERTY U/$5000': 12}),\n",
      " 'Robbery': defaultdict(<class 'int'>,\n",
      "                        {'ROBBERY W/OTHER OFFENSIVE WPN': 246,\n",
      "                         'ROBBERY-OTHER': 536}),\n",
      " 'Theft': defaultdict(<class 'int'>,\n",
      "                      {'THEFT BICYCLE OVER $5000': 53,\n",
      "                       'THEFT BICYCLE UNDER $5000': 5083,\n",
      "                       'THEFT-ELEC/GAS/TEL UNDER $5000': 19,\n",
      "                       'THEFT-OTHER OVER $5000': 205,\n",
      "                       'THEFT-OTHER UNDER $5000': 9430,\n",
      "                       'THEFT-SHOPLIFTING OVER $5000': 18,\n",
      "                       'THEFT-SHOPLIFTING UNDER $5000': 7392}),\n",
      " 'Theft from Vehicle': defaultdict(<class 'int'>,\n",
      "                                   {'THEFT FROM MV OVER $5000': 165,\n",
      "                                    'THEFT FROM MV UNDER $5000': 10906}),\n",
      " 'Theft of Vehicle': defaultdict(<class 'int'>,\n",
      "                                 {'TAKE AUTO W/O CONSENT U/$5000': 42,\n",
      "                                  'THEFT MOTORCYCLE UNDER $5000': 304,\n",
      "                                  'THEFT OF AUTO OVER $5000': 270,\n",
      "                                  'THEFT OF AUTO UNDER $5000': 508,\n",
      "                                  'THEFT OF TRUCK OVER $5000': 110,\n",
      "                                  'THEFT OF TRUCK UNDER $5000': 178,\n",
      "                                  'THEFT OTHER VEHICLE U/$5000': 26}),\n",
      " 'Traffic': defaultdict(<class 'int'>,\n",
      "                        {'215 ALCOH-24HR': 429,\n",
      "                         '215 DRUG': 461,\n",
      "                         '215ALCOH IRP WARN-30DAY': 24,\n",
      "                         '215ALCOH IRP WARN-3DAY': 532,\n",
      "                         '215ALCOH IRP WARN-7DAY': 33,\n",
      "                         'COLLISION-DAMAGE OVER $1000': 3218,\n",
      "                         'COLLISION-DAMAGE UNDER $1000': 2292,\n",
      "                         'COLLISION-NON-FATAL INJURY': 1650,\n",
      "                         'DRIVING COMPLAINTS': 3701,\n",
      "                         'EXCESSIVE SPEED-OVER 40KM': 19,\n",
      "                         'IMPAIRED OP MOTOR VEH (ALCOH)': 2024,\n",
      "                         'TRAFFIC-INSURANCE VIOLATION': 3424,\n",
      "                         'TRAFFIC-OTHER FEDERAL': 41,\n",
      "                         'TRAFFIC-OTHER MOVING PROV': 3527,\n",
      "                         'TRAFFIC-OTHER MUNICIPAL': 438,\n",
      "                         'TRAFFIC-OTHER NON-MOVE PROV': 1343,\n",
      "                         'TRAFFIC-WRITTEN WARNING': 52}),\n",
      " 'Vehicle Stop': defaultdict(<class 'int'>,\n",
      "                             {'CYCLIST': 1345,\n",
      "                              'VEHICLE': 4186,\n",
      "                              'VI-VEHICLE IMPOUNDMENT': 81}),\n",
      " 'Weapons Offense': defaultdict(<class 'int'>,\n",
      "                                {'FIREARM-POINTING': 12,\n",
      "                                 'WEAPONS POSS-CONTRARY TO ORDER': 28,\n",
      "                                 'WEAPONS-POSSESSION': 966})}\n"
     ]
    }
   ],
   "source": [
    "## This is our code from class to load the data. \n",
    "## Please ensure it executes.\n",
    "\n",
    "import collections as co\n",
    "import pprint as pp\n",
    "\n",
    "ctree = dict()\n",
    "\n",
    "for R in data['features']:\n",
    "    TopI = R['properties']['parent_incident_type']\n",
    "    BotI = R['properties']['incident_type_primary']\n",
    "    if TopI not in ctree.keys():\n",
    "        ctree[TopI] = co.defaultdict(int)\n",
    "    ctree[TopI][BotI] += 1\n",
    "    \n",
    "pp.pprint(ctree)\n"
   ]
  },
  {
   "cell_type": "code",
   "execution_count": 4,
   "metadata": {},
   "outputs": [],
   "source": [
    "import datetime as dt\n",
    "\n",
    "clean_dat = list()\n",
    "incompl_dat = list()\n",
    "\n",
    "for x in data['features']:\n",
    "    if 'properties' not in x.keys():\n",
    "        continue ## why bother?\n",
    "\n",
    "    ## we have the properties, so let's start building the record.\n",
    "    newRec = dict()\n",
    "    incFlag = False # set to true if we discover missing data in x\n",
    "    \n",
    "    floatkeys = ['latitude', 'longitude']\n",
    "    strkeys = ['parent_incident_type', 'incident_type_primary', 'address_1', 'address_2']\n",
    "    intkeys = ['case_number', 'incident_id']\n",
    "    datekeys = ['created_at', 'updated_at', 'incident_datetime']\n",
    "    \n",
    "    for k in floatkeys:\n",
    "        if k in x['properties'].keys() and isinstance(x['properties'][k], str) and\\\n",
    "        len(x['properties'][k])>0:\n",
    "            newRec[k] = float(x['properties'][k])\n",
    "        else:\n",
    "            incFlag=True\n",
    "\n",
    "    ## anything to check?\n",
    "    for k in strkeys:\n",
    "        newRec[k] = x['properties'][k]\n",
    "        \n",
    "    for k in intkeys:\n",
    "        ## let's count non-numerical characters\n",
    "        non_ch_chars = []\n",
    "        digits = '0123456789'\n",
    "        for ch in x['properties'][k]:\n",
    "            if ch not in digits:\n",
    "                non_ch_chars.append(ch)\n",
    "\n",
    "        for ch in non_ch_chars:\n",
    "            if ch != '-':\n",
    "                x['properties'][k] = x['properties'][k].replace(ch, '-')\n",
    "            \n",
    "        if '-' in x['properties'][k]:\n",
    "            newRec[k] = [int(w) for w in x['properties'][k].split('-')]\n",
    "        else:\n",
    "            newRec[k] = int(x['properties'][k])\n",
    "            \n",
    "    for k in datekeys:\n",
    "        ## typical format: '2014-12-06T21:59:00.000'\n",
    "        newRec[k] = dt.datetime.strptime(x['properties'][k], '%Y-%m-%dT%H:%M:%S.000')\n",
    "        \n",
    "    if incFlag:\n",
    "        incompl_dat.append(newRec)\n",
    "    else:\n",
    "        clean_dat.append(newRec)\n"
   ]
  },
  {
   "cell_type": "markdown",
   "metadata": {},
   "source": [
    "**Problem 1:** As a sanity check on the data, use **matplotlib** to plot the GPS coordinates of all the data in the list **clean_dat**.  \n",
    "(a) Does your plot look roughly like Victoria?   \n",
    "\n",
    "(b) If there are some **outlier** data, investigate it.  Do the GPS coordinates correspond to the listed address? \n",
    "\n",
    "(c) Once you have purged the outliers from your data, your plot should look roughly like Victoria.  If not, what else is included in the data?\n"
   ]
  },
  {
   "cell_type": "code",
   "execution_count": 10,
   "metadata": {},
   "outputs": [
    {
     "data": {
      "text/plain": [
       "{'latitude': 48.4255680718449,\n",
       " 'longitude': -123.348998693722,\n",
       " 'parent_incident_type': 'Disorder',\n",
       " 'incident_type_primary': 'CAUSE A DISTURBANCE',\n",
       " 'address_1': '1200 Block JOHNSON ST',\n",
       " 'address_2': None,\n",
       " 'case_number': [16, 22918],\n",
       " 'incident_id': 760527874,\n",
       " 'created_at': datetime.datetime(2016, 5, 26, 9, 46, 43),\n",
       " 'updated_at': datetime.datetime(2016, 6, 23, 19, 40, 33),\n",
       " 'incident_datetime': datetime.datetime(2016, 5, 25, 1, 29)}"
      ]
     },
     "execution_count": 10,
     "metadata": {},
     "output_type": "execute_result"
    }
   ],
   "source": [
    "# clean_dat[0][latitude]"
   ]
  },
  {
   "cell_type": "code",
   "execution_count": 14,
   "metadata": {},
   "outputs": [
    {
     "data": {
      "image/png": "[encoded data removed]",
      "text/plain": [
       "<Figure size 1080x1080 with 1 Axes>"
      ]
     },
     "metadata": {
      "needs_background": "light"
     },
     "output_type": "display_data"
    }
   ],
   "source": [
    "import matplotlib.pyplot as plt\n",
    "from numpy import array\n",
    "X=[];Y=[]\n",
    "for i in range(len(clean_dat)):\n",
    "    X.append(clean_dat[i]['latitude'])\n",
    "    Y.append(clean_dat[i]['longitude'])\n",
    "X=array(X)\n",
    "Y=array(Y)\n",
    "XX=[];YY=[]\n",
    "\n",
    "for (x,y) in list(zip(X,Y)):\n",
    "    if x>=48.3 and y>=-123.7:\n",
    "        if x<=48.7 and y<=-123.3:\n",
    "            YY.append(x)\n",
    "            XX.append(y)\n",
    "plt.figure(figsize=(15,15))\n",
    "plt.title(\"Crime in Victoria BC, Canada\")\n",
    "plt.xlabel(\"Longitude\");plt.ylabel(\"Latitude\")\n",
    "plt.plot(XX,YY,'r,',label=\"Crime Location\")\n",
    "plt.legend()\n",
    "plt.xlim((-123.45,-123.30))\n",
    "plt.ylim((48.40,48.50))\n",
    "plt.savefig('victoria_crime1.png')\n",
    "plt.show()\n"
   ]
  },
  {
   "cell_type": "code",
   "execution_count": null,
   "metadata": {},
   "outputs": [],
   "source": []
  },
  {
   "cell_type": "markdown",
   "metadata": {},
   "source": [
    "**Problem 2:** One would expect that the *incident_datetime* is when the reported\n",
    "crime occured, so *created_at* would happen after the *incident_datetime*, and *updated_at*\n",
    "would perhaps be the same as *created_at*, or further in the future.  Is this true for all the\n",
    "records?  Count the number of cases where the data disagrees with the expected order.   What do you\n",
    "think is the cause of this bad data?  \n",
    " "
   ]
  },
  {
   "cell_type": "code",
   "execution_count": null,
   "metadata": {},
   "outputs": [],
   "source": []
  },
  {
   "cell_type": "markdown",
   "metadata": {},
   "source": [
    "**Note**: We will use the outcome of this lab in the next lecture, and in our follow-up lab. "
   ]
  },
  {
   "cell_type": "code",
   "execution_count": null,
   "metadata": {},
   "outputs": [],
   "source": []
  }
 ],
 "metadata": {
  "kernelspec": {
   "display_name": "Python 3",
   "language": "python",
   "name": "python3"
  },
  "language_info": {
   "codemirror_mode": {
    "name": "ipython",
    "version": 3
   },
   "file_extension": ".py",
   "mimetype": "text/x-python",
   "name": "python",
   "nbconvert_exporter": "python",
   "pygments_lexer": "ipython3",
   "version": "3.6.7"
  }
 },
 "nbformat": 4,
 "nbformat_minor": 2
}
