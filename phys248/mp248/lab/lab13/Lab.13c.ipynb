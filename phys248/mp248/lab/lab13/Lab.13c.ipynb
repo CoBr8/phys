{
 "cells": [
  {
   "cell_type": "markdown",
   "metadata": {},
   "source": [
    "## Lab 13c - Crime Lab using library\n",
    "\n",
    "For this lab, we ask you to find the Victoria crime **most heavily linked to temperature**.\n",
    "\n",
    "Create a count of the average amount of crimes in the crime database (for every crime type), indexed by the daily temperature reading.\n",
    "\n",
    "i.e. given a **crime type** $\\alpha$ (a **incident_type_primary** key to **clean_dat**) the quantity\n",
    "\n",
    "$$D_\\alpha(\\tau)$$\n",
    "\n",
    "will be the **average** number of crimes on the days with temperature reading $\\tau$.\n",
    "\n"
   ]
  },
  {
   "cell_type": "code",
   "execution_count": 3,
   "metadata": {},
   "outputs": [
    {
     "name": "stdout",
     "output_type": "stream",
     "text": [
      "datlib cwd /home/user/mp248/lab/lab13\n"
     ]
    },
    {
     "ename": "OSError",
     "evalue": "[Errno 14] Bad address",
     "output_type": "error",
     "traceback": [
      "\u001b[0;31m---------------------------------------------------------------------------\u001b[0m",
      "\u001b[0;31mOSError\u001b[0m                                   Traceback (most recent call last)",
      "\u001b[0;32m<ipython-input-3-bfe2bfc7ae0e>\u001b[0m in \u001b[0;36m<module>\u001b[0;34m\u001b[0m\n\u001b[0;32m----> 1\u001b[0;31m \u001b[0;32mfrom\u001b[0m \u001b[0mdatlib\u001b[0m \u001b[0;32mimport\u001b[0m \u001b[0mclean_dat\u001b[0m\u001b[0;34m\u001b[0m\u001b[0;34m\u001b[0m\u001b[0m\n\u001b[0m\u001b[1;32m      2\u001b[0m \u001b[0;32mimport\u001b[0m \u001b[0mpprint\u001b[0m \u001b[0;32mas\u001b[0m \u001b[0mpp\u001b[0m\u001b[0;34m\u001b[0m\u001b[0;34m\u001b[0m\u001b[0m\n\u001b[1;32m      3\u001b[0m \u001b[0mincidents\u001b[0m\u001b[0;34m=\u001b[0m\u001b[0;34m[\u001b[0m\u001b[0;34m]\u001b[0m\u001b[0;34m\u001b[0m\u001b[0;34m\u001b[0m\u001b[0m\n\u001b[1;32m      4\u001b[0m \u001b[0;32mfor\u001b[0m \u001b[0mx\u001b[0m \u001b[0;32min\u001b[0m \u001b[0mclean_dat\u001b[0m\u001b[0;34m:\u001b[0m\u001b[0;34m\u001b[0m\u001b[0;34m\u001b[0m\u001b[0m\n\u001b[1;32m      5\u001b[0m     \u001b[0mitp\u001b[0m\u001b[0;34m=\u001b[0m\u001b[0mx\u001b[0m\u001b[0;34m[\u001b[0m\u001b[0;34m'incident_type_primary'\u001b[0m\u001b[0;34m]\u001b[0m\u001b[0;34m\u001b[0m\u001b[0;34m\u001b[0m\u001b[0m\n",
      "\u001b[0;32m~/mp248/lab/lab13/datlib.py\u001b[0m in \u001b[0;36m<module>\u001b[0;34m\u001b[0m\n\u001b[1;32m    146\u001b[0m \u001b[0;34m\u001b[0m\u001b[0m\n\u001b[1;32m    147\u001b[0m \u001b[0;32mwith\u001b[0m \u001b[0mopen\u001b[0m\u001b[0;34m(\u001b[0m\u001b[0;34m\"../../../mp248-course-notes/data/Victoria (BC) Police Department.geojson\"\u001b[0m\u001b[0;34m)\u001b[0m \u001b[0;32mas\u001b[0m \u001b[0mf\u001b[0m\u001b[0;34m:\u001b[0m\u001b[0;34m\u001b[0m\u001b[0;34m\u001b[0m\u001b[0m\n\u001b[0;32m--> 148\u001b[0;31m     \u001b[0mdata\u001b[0m \u001b[0;34m=\u001b[0m \u001b[0mjson\u001b[0m\u001b[0;34m.\u001b[0m\u001b[0mloads\u001b[0m\u001b[0;34m(\u001b[0m\u001b[0mf\u001b[0m\u001b[0;34m.\u001b[0m\u001b[0mread\u001b[0m\u001b[0;34m(\u001b[0m\u001b[0;34m)\u001b[0m\u001b[0;34m)\u001b[0m\u001b[0;34m\u001b[0m\u001b[0;34m\u001b[0m\u001b[0m\n\u001b[0m\u001b[1;32m    149\u001b[0m \u001b[0;34m\u001b[0m\u001b[0m\n\u001b[1;32m    150\u001b[0m \u001b[0mctree\u001b[0m \u001b[0;34m=\u001b[0m \u001b[0mdict\u001b[0m\u001b[0;34m(\u001b[0m\u001b[0;34m)\u001b[0m\u001b[0;34m\u001b[0m\u001b[0;34m\u001b[0m\u001b[0m\n",
      "\u001b[0;31mOSError\u001b[0m: [Errno 14] Bad address"
     ]
    }
   ],
   "source": [
    "from datlib import clean_dat\n",
    "import pprint as pp\n",
    "incidents=[]\n",
    "for x in clean_dat:\n",
    "    itp=x['incident_type_primary']\n",
    "    if itp not in incidents:\n",
    "        incidents.append(itp)\n",
    "# pp.pprint(incidents)"
   ]
  },
  {
   "cell_type": "code",
   "execution_count": null,
   "metadata": {},
   "outputs": [
    {
     "name": "stdout",
     "output_type": "stream",
     "text": [
      "datlib cwd /home/user/mp248/lab/lab13\n"
     ]
    }
   ],
   "source": [
    "from datlib import clean_dat,vicdict,coml,ncl,ctree \n",
    "import matplotlib.pyplot as plt\n",
    "def D(incident_type,temp):\n",
    "    \n",
    "    '''\n",
    "    Input:\n",
    "        incident_type: The Type of incident you're querying about.\n",
    "            Names can be found in datlib.ctree list.\n",
    "        temp: the temperature you're interested in.\n",
    "        \n",
    "    Output: \n",
    "        prints the requested incident_type and the number of occourances at that temperature. \n",
    "    Returns:\n",
    "        Dictionary with the incident_type as the key and the number of occourances as the entry.\n",
    "    \n",
    "    '''\n",
    "    count_itp={}\n",
    "    for x in clean_dat:\n",
    "        if x['incident_type_primary']==incident_type:\n",
    "            x['incident_datetime']=x['incident_datetime'].replace(hour=0,minute=0,second=0,microsecond=0)\n",
    "            itp=x['incident_type_primary']\n",
    "            try:\n",
    "                if int(float(vicdict[x['incident_datetime']][ncl[0]]))==temp:\n",
    "                    if itp in count_itp:\n",
    "                        count_itp[itp]+=1\n",
    "                    else:\n",
    "                        count_itp[itp]=1\n",
    "            except:\n",
    "                continue\n",
    "#     for key in count_itp:\n",
    "#         print(\"{0: <35}\".format(key),count_itp[key])\n",
    "    return count_itp"
   ]
  },
  {
   "cell_type": "code",
   "execution_count": 32,
   "metadata": {},
   "outputs": [],
   "source": [
    "# import matplotlib.pyplot as plt\n",
    "# import numpy as np\n",
    "# import matplotlib.pyplot as plt\n",
    "# from scipy.optimize import curve_fit\n",
    "# import numpy as np\n",
    "# insuff_Data=[]\n",
    "# temp=np.arange(-5,25,1)\n",
    "# for incident in incidents:\n",
    "#     n=0\n",
    "#     occourance=[]\n",
    "#     for T in temp:\n",
    "#         try:\n",
    "#             count_itp=D(incident, T)\n",
    "#             occourance.append(count_itp[incident])\n",
    "#         except:\n",
    "#             occourance.append(0)\n",
    "#     if len(occourance)<15:\n",
    "#         insuff_Data.append(incident)\n",
    "#     else:  \n",
    "#         X=temp\n",
    "#         Y=occourance\n",
    "#         A = np.matrix([[1.0, x] for x in X]).T\n",
    "#         y = np.matrix(Y).T\n",
    "#         c = np.linalg.inv(A*A.T)*A*y\n",
    "#         dom = np.linspace(min(X), max(X), 1000)\n",
    "#         ran = [sum([c[j,0]*x**j for j in range(2)]) for x in dom]\n",
    "#         plt.plot(temp[n:],occourance,'ro',label='Occourances of %s'%incident)\n",
    "#         plt.plot(dom,ran,'b--',label='Least-squares fitting')\n",
    "#         plt.legend()\n",
    "#         plt.title(incident)\n",
    "#         plt.show()\n",
    "# #     count_itp\n",
    "# #     count_itp[\"LIQUOR-INTOX IN PUBLIC PLACE\"]"
   ]
  },
  {
   "cell_type": "code",
   "execution_count": 1,
   "metadata": {},
   "outputs": [
    {
     "ename": "NameError",
     "evalue": "name 'incidents' is not defined",
     "output_type": "error",
     "traceback": [
      "\u001b[0;31m---------------------------------------------------------------------------\u001b[0m",
      "\u001b[0;31mNameError\u001b[0m                                 Traceback (most recent call last)",
      "\u001b[0;32m<ipython-input-1-eef83118dd0b>\u001b[0m in \u001b[0;36m<module>\u001b[0;34m\u001b[0m\n\u001b[1;32m      6\u001b[0m \u001b[0minsuff_Data\u001b[0m\u001b[0;34m=\u001b[0m\u001b[0;34m[\u001b[0m\u001b[0;34m]\u001b[0m\u001b[0;34m\u001b[0m\u001b[0;34m\u001b[0m\u001b[0m\n\u001b[1;32m      7\u001b[0m \u001b[0mtemp\u001b[0m\u001b[0;34m=\u001b[0m\u001b[0mnp\u001b[0m\u001b[0;34m.\u001b[0m\u001b[0marange\u001b[0m\u001b[0;34m(\u001b[0m\u001b[0;34m-\u001b[0m\u001b[0;36m10\u001b[0m\u001b[0;34m,\u001b[0m\u001b[0;36m35\u001b[0m\u001b[0;34m,\u001b[0m\u001b[0;36m1\u001b[0m\u001b[0;34m)\u001b[0m\u001b[0;34m\u001b[0m\u001b[0;34m\u001b[0m\u001b[0m\n\u001b[0;32m----> 8\u001b[0;31m \u001b[0;32mfor\u001b[0m \u001b[0mincident\u001b[0m \u001b[0;32min\u001b[0m \u001b[0mincidents\u001b[0m\u001b[0;34m:\u001b[0m\u001b[0;34m\u001b[0m\u001b[0;34m\u001b[0m\u001b[0m\n\u001b[0m\u001b[1;32m      9\u001b[0m     \u001b[0mn\u001b[0m\u001b[0;34m=\u001b[0m\u001b[0;36m0\u001b[0m\u001b[0;34m\u001b[0m\u001b[0;34m\u001b[0m\u001b[0m\n\u001b[1;32m     10\u001b[0m     \u001b[0moccourance\u001b[0m\u001b[0;34m=\u001b[0m\u001b[0;34m[\u001b[0m\u001b[0;34m]\u001b[0m\u001b[0;34m\u001b[0m\u001b[0;34m\u001b[0m\u001b[0m\n",
      "\u001b[0;31mNameError\u001b[0m: name 'incidents' is not defined"
     ]
    }
   ],
   "source": [
    "import matplotlib.pyplot as plt\n",
    "import numpy as np\n",
    "import matplotlib.pyplot as plt\n",
    "from scipy.optimize import curve_fit\n",
    "import numpy as np\n",
    "insuff_Data=[]\n",
    "temp=np.arange(-10,35,1)\n",
    "for incident in incidents:\n",
    "    n=0\n",
    "    occourance=[]\n",
    "    for T in temp:\n",
    "        try:\n",
    "            count_itp=D(incident, T)\n",
    "            occourance.append(count_itp[incident])\n",
    "        except:\n",
    "            occourance.append()\n",
    "\n",
    "    if len(occourance)<15:\n",
    "        insuff_Data.append(incident)\n",
    "    else:  \n",
    "#         X=temp\n",
    "#         Y=occourance\n",
    "#         A = np.matrix([[1.0, x] for x in X]).T\n",
    "#         y = np.matrix(Y).T\n",
    "#         c = np.linalg.inv(A*A.T)*A*y\n",
    "#         dom = np.linspace(min(X), max(X), 1000)\n",
    "#         ran = [sum([c[j,0]*x**j for j in range(2)]) for x in dom]\n",
    "        plt.plot(temp[n:],occourance,'ro',label='Occourances of %s'%incident)\n",
    "        x=temp;y=occourance\n",
    "        mean = sum(x * y) / sum(y)\n",
    "        sigma = np.sqrt(sum(y * (x - mean)**2) / sum(y))\n",
    "        def Gauss(x, a, x0, sigma):\n",
    "            return a * np.exp(-(x - x0)**2 / (2 * sigma**2))\n",
    "        popt,pcov = curve_fit(Gauss, x, y, p0=[max(y), mean, sigma])\n",
    "#         plt.plot(x, y, 'b+:', label='data')\n",
    "        plt.plot(x, Gauss(x, *popt), 'b--', label='fit')\n",
    "#         plt.legend()\n",
    "#         plt.title('Fig. 3 - Fit for Time Constant')\n",
    "#         plt.xlabel('Time (s)')\n",
    "#         plt.ylabel('Voltage (V)')\n",
    "#         plt.plot(dom,ran,'b--',label='Least-squares fitting')\n",
    "        plt.legend()\n",
    "        plt.xlabel('Temp in Celsius')\n",
    "        plt.ylabel('Number of Occourances')\n",
    "        plt.title(incident)\n",
    "        plt.show()\n",
    "#     count_itp\n",
    "#     count_itp[\"LIQUOR-INTOX IN PUBLIC PLACE\"]"
   ]
  },
  {
   "cell_type": "code",
   "execution_count": 26,
   "metadata": {},
   "outputs": [
    {
     "ename": "TypeError",
     "evalue": "Improper input: N=42 must not exceed M=30",
     "output_type": "error",
     "traceback": [
      "\u001b[0;31m---------------------------------------------------------------------------\u001b[0m",
      "\u001b[0;31mTypeError\u001b[0m                                 Traceback (most recent call last)",
      "\u001b[0;32m<ipython-input-26-a8beef466667>\u001b[0m in \u001b[0;36m<module>\u001b[0;34m\u001b[0m\n\u001b[1;32m     14\u001b[0m     \u001b[0mguess\u001b[0m \u001b[0;34m+=\u001b[0m \u001b[0;34m[\u001b[0m\u001b[0;36m60\u001b[0m\u001b[0;34m+\u001b[0m\u001b[0;36m80\u001b[0m\u001b[0;34m*\u001b[0m\u001b[0mi\u001b[0m\u001b[0;34m,\u001b[0m \u001b[0;36m46000\u001b[0m\u001b[0;34m,\u001b[0m \u001b[0;36m25\u001b[0m\u001b[0;34m]\u001b[0m\u001b[0;34m\u001b[0m\u001b[0;34m\u001b[0m\u001b[0m\n\u001b[1;32m     15\u001b[0m \u001b[0;34m\u001b[0m\u001b[0m\n\u001b[0;32m---> 16\u001b[0;31m \u001b[0mpopt\u001b[0m\u001b[0;34m,\u001b[0m \u001b[0mpcov\u001b[0m \u001b[0;34m=\u001b[0m \u001b[0mcurve_fit\u001b[0m\u001b[0;34m(\u001b[0m\u001b[0mfunc\u001b[0m\u001b[0;34m,\u001b[0m \u001b[0mx\u001b[0m\u001b[0;34m,\u001b[0m \u001b[0my\u001b[0m\u001b[0;34m,\u001b[0m \u001b[0mp0\u001b[0m\u001b[0;34m=\u001b[0m\u001b[0mguess\u001b[0m\u001b[0;34m)\u001b[0m\u001b[0;34m\u001b[0m\u001b[0;34m\u001b[0m\u001b[0m\n\u001b[0m\u001b[1;32m     17\u001b[0m \u001b[0mprint\u001b[0m\u001b[0;34m(\u001b[0m\u001b[0mpopt\u001b[0m\u001b[0;34m)\u001b[0m\u001b[0;34m\u001b[0m\u001b[0;34m\u001b[0m\u001b[0m\n\u001b[1;32m     18\u001b[0m \u001b[0mfit\u001b[0m \u001b[0;34m=\u001b[0m \u001b[0mfunc\u001b[0m\u001b[0;34m(\u001b[0m\u001b[0mx\u001b[0m\u001b[0;34m,\u001b[0m \u001b[0;34m*\u001b[0m\u001b[0mpopt\u001b[0m\u001b[0;34m)\u001b[0m\u001b[0;34m\u001b[0m\u001b[0;34m\u001b[0m\u001b[0m\n",
      "\u001b[0;32m/usr/local/lib/python3.6/dist-packages/scipy/optimize/minpack.py\u001b[0m in \u001b[0;36mcurve_fit\u001b[0;34m(f, xdata, ydata, p0, sigma, absolute_sigma, check_finite, bounds, method, jac, **kwargs)\u001b[0m\n\u001b[1;32m    742\u001b[0m         \u001b[0;31m# Remove full_output from kwargs, otherwise we're passing it in twice.\u001b[0m\u001b[0;34m\u001b[0m\u001b[0;34m\u001b[0m\u001b[0;34m\u001b[0m\u001b[0m\n\u001b[1;32m    743\u001b[0m         \u001b[0mreturn_full\u001b[0m \u001b[0;34m=\u001b[0m \u001b[0mkwargs\u001b[0m\u001b[0;34m.\u001b[0m\u001b[0mpop\u001b[0m\u001b[0;34m(\u001b[0m\u001b[0;34m'full_output'\u001b[0m\u001b[0;34m,\u001b[0m \u001b[0;32mFalse\u001b[0m\u001b[0;34m)\u001b[0m\u001b[0;34m\u001b[0m\u001b[0;34m\u001b[0m\u001b[0m\n\u001b[0;32m--> 744\u001b[0;31m         \u001b[0mres\u001b[0m \u001b[0;34m=\u001b[0m \u001b[0mleastsq\u001b[0m\u001b[0;34m(\u001b[0m\u001b[0mfunc\u001b[0m\u001b[0;34m,\u001b[0m \u001b[0mp0\u001b[0m\u001b[0;34m,\u001b[0m \u001b[0mDfun\u001b[0m\u001b[0;34m=\u001b[0m\u001b[0mjac\u001b[0m\u001b[0;34m,\u001b[0m \u001b[0mfull_output\u001b[0m\u001b[0;34m=\u001b[0m\u001b[0;36m1\u001b[0m\u001b[0;34m,\u001b[0m \u001b[0;34m**\u001b[0m\u001b[0mkwargs\u001b[0m\u001b[0;34m)\u001b[0m\u001b[0;34m\u001b[0m\u001b[0;34m\u001b[0m\u001b[0m\n\u001b[0m\u001b[1;32m    745\u001b[0m         \u001b[0mpopt\u001b[0m\u001b[0;34m,\u001b[0m \u001b[0mpcov\u001b[0m\u001b[0;34m,\u001b[0m \u001b[0minfodict\u001b[0m\u001b[0;34m,\u001b[0m \u001b[0merrmsg\u001b[0m\u001b[0;34m,\u001b[0m \u001b[0mier\u001b[0m \u001b[0;34m=\u001b[0m \u001b[0mres\u001b[0m\u001b[0;34m\u001b[0m\u001b[0;34m\u001b[0m\u001b[0m\n\u001b[1;32m    746\u001b[0m         \u001b[0mcost\u001b[0m \u001b[0;34m=\u001b[0m \u001b[0mnp\u001b[0m\u001b[0;34m.\u001b[0m\u001b[0msum\u001b[0m\u001b[0;34m(\u001b[0m\u001b[0minfodict\u001b[0m\u001b[0;34m[\u001b[0m\u001b[0;34m'fvec'\u001b[0m\u001b[0;34m]\u001b[0m \u001b[0;34m**\u001b[0m \u001b[0;36m2\u001b[0m\u001b[0;34m)\u001b[0m\u001b[0;34m\u001b[0m\u001b[0;34m\u001b[0m\u001b[0m\n",
      "\u001b[0;32m/usr/local/lib/python3.6/dist-packages/scipy/optimize/minpack.py\u001b[0m in \u001b[0;36mleastsq\u001b[0;34m(func, x0, args, Dfun, full_output, col_deriv, ftol, xtol, gtol, maxfev, epsfcn, factor, diag)\u001b[0m\n\u001b[1;32m    385\u001b[0m     \u001b[0mm\u001b[0m \u001b[0;34m=\u001b[0m \u001b[0mshape\u001b[0m\u001b[0;34m[\u001b[0m\u001b[0;36m0\u001b[0m\u001b[0;34m]\u001b[0m\u001b[0;34m\u001b[0m\u001b[0;34m\u001b[0m\u001b[0m\n\u001b[1;32m    386\u001b[0m     \u001b[0;32mif\u001b[0m \u001b[0mn\u001b[0m \u001b[0;34m>\u001b[0m \u001b[0mm\u001b[0m\u001b[0;34m:\u001b[0m\u001b[0;34m\u001b[0m\u001b[0;34m\u001b[0m\u001b[0m\n\u001b[0;32m--> 387\u001b[0;31m         \u001b[0;32mraise\u001b[0m \u001b[0mTypeError\u001b[0m\u001b[0;34m(\u001b[0m\u001b[0;34m'Improper input: N=%s must not exceed M=%s'\u001b[0m \u001b[0;34m%\u001b[0m \u001b[0;34m(\u001b[0m\u001b[0mn\u001b[0m\u001b[0;34m,\u001b[0m \u001b[0mm\u001b[0m\u001b[0;34m)\u001b[0m\u001b[0;34m)\u001b[0m\u001b[0;34m\u001b[0m\u001b[0;34m\u001b[0m\u001b[0m\n\u001b[0m\u001b[1;32m    388\u001b[0m     \u001b[0;32mif\u001b[0m \u001b[0mepsfcn\u001b[0m \u001b[0;32mis\u001b[0m \u001b[0;32mNone\u001b[0m\u001b[0;34m:\u001b[0m\u001b[0;34m\u001b[0m\u001b[0;34m\u001b[0m\u001b[0m\n\u001b[1;32m    389\u001b[0m         \u001b[0mepsfcn\u001b[0m \u001b[0;34m=\u001b[0m \u001b[0mfinfo\u001b[0m\u001b[0;34m(\u001b[0m\u001b[0mdtype\u001b[0m\u001b[0;34m)\u001b[0m\u001b[0;34m.\u001b[0m\u001b[0meps\u001b[0m\u001b[0;34m\u001b[0m\u001b[0;34m\u001b[0m\u001b[0m\n",
      "\u001b[0;31mTypeError\u001b[0m: Improper input: N=42 must not exceed M=30"
     ]
    }
   ],
   "source": [
    "### adapted from: John1024\n",
    "### https://stackoverflow.com/questions/26902283/fit-multiple-gaussians-to-the-data-in-python ###\n",
    "def func(x, *params):\n",
    "    y = np.zeros_like(x)\n",
    "    for i in range(0, len(params), 3):\n",
    "        ctr = params[i]\n",
    "        amp = params[i+1]\n",
    "        wid = params[i+2]\n",
    "        y = y + amp * np.exp( -((x - ctr)/wid)**2)\n",
    "    return y\n",
    "\n",
    "guess = [0, 60000, 80, 1000, 60000, 80]\n",
    "for i in range(12):\n",
    "    guess += [60+80*i, 46000, 25]   \n",
    "\n",
    "popt, pcov = curve_fit(func, x, y, p0=guess)\n",
    "print(popt)\n",
    "fit = func(x, *popt)\n",
    "\n",
    "plt.plot(x, y)\n",
    "plt.plot(x, fit , 'r-')\n",
    "plt.show()"
   ]
  },
  {
   "cell_type": "markdown",
   "metadata": {},
   "source": [
    " * * *"
   ]
  },
  {
   "cell_type": "markdown",
   "metadata": {},
   "source": [
    "First we *suppose* there is some linear relationship \n",
    "\n",
    "$$D_\\alpha(\\tau) = M_{\\alpha} \\tau + C_{\\alpha}$$\n",
    "\n",
    "where $\\tau$ is the temperature reading for the day. As you will see, this relationship is not true, but we ask you to find a *best-fit* for $M$ and $C$ using least squares. \n",
    "\n",
    "Once you have solved for $M_{\\alpha}$ for all crime types $\\alpha$, sort the list of pairs: $$[ (M_{\\alpha}, \\alpha) \\ \\ for \\ \\ \\alpha \\text{ a crime type } ]$$\n",
    "\n",
    "on the absolute value of $M_\\alpha$ from smallest to largest, and print out the last four elements of this sorted list. i.e. we want to know the four crime types which have the largest $|M_{\\alpha}|$, and we want to know the value of $M_{\\alpha}$ for those crime types.  \n",
    "\n",
    "Do this lab for all three temperature readings: daily max temp, daily min temp, and daily mean temp.  There will be grading script that will search for your answers in the file **mp248/Labs/Lab.13c.ipynb**. The feedback will appear in the **Commentary 2** field on CourseSpaces, i.e. this lab will not count towards your course grade. \n",
    "\n",
    "Due to the limited amount of data we have, please round the temperature readings from **datlib.vicdict** (see Notebook 13b) to the nearest degree.\n",
    "\n",
    "* * *\n",
    "\n",
    "*Hint:* (1) Perhaps make some plots as a *sanity check* to see how useful your least-squares approximations are.\n",
    "\n",
    "   (2) There will be some crime types for which there is not enough data to perform least-squares. Skip those crime types, but also print out their names."
   ]
  },
  {
   "cell_type": "code",
   "execution_count": null,
   "metadata": {},
   "outputs": [],
   "source": []
  }
 ],
 "metadata": {
  "kernelspec": {
   "display_name": "Python 3",
   "language": "python",
   "name": "python3"
  },
  "language_info": {
   "codemirror_mode": {
    "name": "ipython",
    "version": 3
   },
   "file_extension": ".py",
   "mimetype": "text/x-python",
   "name": "python",
   "nbconvert_exporter": "python",
   "pygments_lexer": "ipython3",
   "version": "3.6.7"
  }
 },
 "nbformat": 4,
 "nbformat_minor": 2
}
