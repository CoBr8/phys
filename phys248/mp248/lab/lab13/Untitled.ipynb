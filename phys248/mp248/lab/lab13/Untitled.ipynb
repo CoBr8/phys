{
 "cells": [
  {
   "cell_type": "code",
   "execution_count": 17,
   "metadata": {},
   "outputs": [
    {
     "name": "stdout",
     "output_type": "stream",
     "text": [
      "[1.  0.9 0.8 0.7 0.6 0.5 0.4 0.3 0.2 0.1 0. ]\n"
     ]
    },
    {
     "data": {
      "image/png": "[encoded data removed]",
      "text/plain": [
       "<Figure size 576x576 with 1 Axes>"
      ]
     },
     "metadata": {
      "needs_background": "light"
     },
     "output_type": "display_data"
    }
   ],
   "source": [
    "import numpy as np\n",
    "from numpy import cos,sin,pi,array\n",
    "import matplotlib.pyplot as plt\n",
    "\n",
    "## Part 1\n",
    "n=11\n",
    "theta=90*pi/180\n",
    "\n",
    "ROT=np.matrix([[cos(theta),-sin(theta)],[sin(theta),cos(theta)]])\n",
    "X=np.linspace(1,0,n);\n",
    "Y=np.zeros(n);\n",
    "y_add=np.matrix([np.zeros(n)+1,np.zeros(n)]).T\n",
    "x_add=np.matrix([np.zeros(n),np.zeros(n)+1])\n",
    "\n",
    "\n",
    "line1=np.matrix(list(zip(X,Y))).T\n",
    "\n",
    "line2=np.matrix(ROT*line1,dtype='float64').T\n",
    "line3=line1+x_add\n",
    "line4=line2+y_add\n",
    "\n",
    "line2=line2.T\n",
    "line4=line4.T\n",
    "print(array(line1)[0])\n",
    "\n",
    "## Part 2:\n",
    "plt.figure(figsize=(8,8))\n",
    "plt.plot(array(line1)[0],array(line1)[1],array(line2)[0],array(line2)[1],array(line3)[0],array(line3)[1],array(line4)[0],array(line4)[1])\n",
    "plt.show()"
   ]
  }
 ],
 "metadata": {
  "kernelspec": {
   "display_name": "Python 3",
   "language": "python",
   "name": "python3"
  },
  "language_info": {
   "codemirror_mode": {
    "name": "ipython",
    "version": 3
   },
   "file_extension": ".py",
   "mimetype": "text/x-python",
   "name": "python",
   "nbconvert_exporter": "python",
   "pygments_lexer": "ipython3",
   "version": "3.6.7"
  }
 },
 "nbformat": 4,
 "nbformat_minor": 2
}
