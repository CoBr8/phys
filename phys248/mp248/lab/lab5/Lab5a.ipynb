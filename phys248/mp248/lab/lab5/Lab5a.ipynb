{
 "cells": [
  {
   "cell_type": "markdown",
   "metadata": {},
   "source": [
    "# Lab 5a\n"
   ]
  },
  {
   "cell_type": "markdown",
   "metadata": {},
   "source": [
    "## Activity 1\n",
    "Using scipy's `integrate.cumtrapz` integrate one more time the area under a quadrant of a circle to determine $\\pi$.\n"
   ]
  },
  {
   "cell_type": "code",
   "execution_count": 2,
   "metadata": {},
   "outputs": [
    {
     "name": "stdout",
     "output_type": "stream",
     "text": [
      "Populating the interactive namespace from numpy and matplotlib\n",
      "-0.00041884584410700754\n"
     ]
    },
    {
     "data": {
      "image/png": "[encoded data removed]",
      "text/plain": [
       "<Figure size 432x288 with 1 Axes>"
      ]
     },
     "metadata": {
      "needs_background": "light"
     },
     "output_type": "display_data"
    }
   ],
   "source": [
    "%pylab inline\n",
    "import scipy.integrate as i\n",
    "def func1(x):\n",
    "    return sqrt(1-x**2)\n",
    "x = linspace(0,1,200)\n",
    "y=func1(x)\n",
    "plot(x,y,'r--')\n",
    "\n",
    "F=i.cumtrapz(y,x)\n",
    "print(F[-1]*4.-pi)"
   ]
  },
  {
   "cell_type": "markdown",
   "metadata": {},
   "source": [
    "## Exercise1: Waves"
   ]
  },
  {
   "cell_type": "markdown",
   "metadata": {},
   "source": [
    "Download the [wave buoy data for Station 46204 - West Sea Otter (off West Coast of VI)](https://www.ndbc.noaa.gov/station_page.php?station=46204). Use the _Real time standard meteorological data_ option. Before you start have a quick look at the _description_ - what kind of data is this? \n",
    "\n",
    "* Download the data using a shell command. Read the data for the most recent 24 hours and store the first 10 columns into the variables `YY , MM, DD ,hh, mm, WDIR, WSPD, GST,  WVHT, DPD`.\n",
    "* Create a time variable that starts at `t=0 hrs` with the earliest time and goes forward in hours. Plot the wind speed as a function of this time variable.\n",
    "* Smooth the data by forming a centered moving average (CMA), where each value is replaced by the average of the value and the neighboring value on each side. Plot this smoothed data along with the original data. \n",
    "* Create a spline fit, using sympy's splrep/splev function. Adjust the smoothing parameter so that the spline fit looks similar to the CMA line. Overplot into the same figure.\n",
    "* Make a plot of wave height agains wind speed using smoothed data."
   ]
  },
  {
   "cell_type": "code",
   "execution_count": 3,
   "metadata": {},
   "outputs": [
    {
     "name": "stderr",
     "output_type": "stream",
     "text": [
      "--2019-02-20 16:49:07--  https://www.ndbc.noaa.gov/data/realtime2/46204.txt\n",
      "Resolving www.ndbc.noaa.gov (www.ndbc.noaa.gov)... 13.33.151.12, 13.33.151.191, 13.33.151.163, ...\n",
      "Connecting to www.ndbc.noaa.gov (www.ndbc.noaa.gov)|13.33.151.12|:443... connected.\n",
      "HTTP request sent, awaiting response... 200 OK\n",
      "Length: 2538 (2.5K) [text/plain]\n",
      "Saving to: '46204.txt.1'\n",
      "\n",
      "     0K ..                                                    100%  293M=0s\n",
      "\n",
      "2019-02-20 16:49:07 (293 MB/s) - '46204.txt.1' saved [2538/2538]\n",
      "\n"
     ]
    }
   ],
   "source": [
    "%%bash \n",
    "wget https://www.ndbc.noaa.gov/data/realtime2/46204.txt"
   ]
  },
  {
   "cell_type": "code",
   "execution_count": 10,
   "metadata": {},
   "outputs": [],
   "source": [
    "# loadtxt?"
   ]
  },
  {
   "cell_type": "code",
   "execution_count": 5,
   "metadata": {},
   "outputs": [],
   "source": [
    "YYYY,MM,DD,hh,mm,WDir,WSpd,GST,WvHt,DRD=loadtxt(\"46204.txt\",dtype='str',unpack=True,usecols=(0,1,2,3,4,5,6,7,8,9),skiprows=2)"
   ]
  },
  {
   "cell_type": "code",
   "execution_count": 42,
   "metadata": {},
   "outputs": [],
   "source": [
    "print(hh[::-1])\n",
    "t=list(range(len(hh)))\n",
    "WSpd=WSpd[::-1].astype('float64')"
   ]
  },
  {
   "cell_type": "code",
   "execution_count": 53,
   "metadata": {},
   "outputs": [
    {
     "data": {
      "image/png": "[encoded data removed]",
      "text/plain": [
       "<Figure size 432x288 with 1 Axes>"
      ]
     },
     "metadata": {
      "needs_background": "light"
     },
     "output_type": "display_data"
    },
    {
     "data": {
      "text/plain": [
       "1"
      ]
     },
     "execution_count": 53,
     "metadata": {},
     "output_type": "execute_result"
    }
   ],
   "source": [
    "plot(t,WSpd,'r1')\n",
    "show()\n",
    "len(range(1,2))"
   ]
  },
  {
   "cell_type": "code",
   "execution_count": 56,
   "metadata": {},
   "outputs": [],
   "source": [
    "def sma(dat,s,e):\n",
    "    av=dat[s:e+1]/len(range(s,e))\n",
    "    return av\n"
   ]
  },
  {
   "cell_type": "code",
   "execution_count": 157,
   "metadata": {},
   "outputs": [],
   "source": [
    "import scipy.interpolate as interp\n",
    "\n",
    "WSpd_CMA=[WSpd[0]]\n",
    "for i,_ in enumerate(WSpd):\n",
    "    if i>0 and i<len(WSpd)-1:\n",
    "        WSpd_CMA.append((WSpd[i-1]+WSpd[i]+WSpd[i+1])/3)\n",
    "# print(len(t),len(WSpd_CMA))"
   ]
  },
  {
   "cell_type": "code",
   "execution_count": 161,
   "metadata": {},
   "outputs": [
    {
     "data": {
      "image/png": "[encoded data removed]",
      "text/plain": [
       "<Figure size 432x288 with 1 Axes>"
      ]
     },
     "metadata": {
      "needs_background": "light"
     },
     "output_type": "display_data"
    }
   ],
   "source": [
    "tck=interp.splrep(t,WSpd,s=3.0)\n",
    "smoth=interp.splev(t,tck)\n",
    "# plot(t,smoth)\n",
    "plot(t,WSpd,'r-',WSpd_CMA,'k--',smoth,'y--')\n",
    "show()"
   ]
  },
  {
   "cell_type": "code",
   "execution_count": null,
   "metadata": {},
   "outputs": [],
   "source": []
  }
 ],
 "metadata": {
  "kernelspec": {
   "display_name": "Python 3",
   "language": "python",
   "name": "python3"
  },
  "language_info": {
   "codemirror_mode": {
    "name": "ipython",
    "version": 3
   },
   "file_extension": ".py",
   "mimetype": "text/x-python",
   "name": "python",
   "nbconvert_exporter": "python",
   "pygments_lexer": "ipython3",
   "version": "3.6.7"
  }
 },
 "nbformat": 4,
 "nbformat_minor": 2
}
