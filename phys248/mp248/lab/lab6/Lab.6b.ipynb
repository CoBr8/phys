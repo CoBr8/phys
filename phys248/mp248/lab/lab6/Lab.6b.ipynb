{
 "cells": [
  {
   "cell_type": "markdown",
   "metadata": {},
   "source": [
    "## Lab 6b\n",
    "\n",
    "**Start with review of quiz 2**\n",
    "\n",
    "Exercise 4: **Write a stand-alone python script, based on Lab.6a Ex. 1**\n",
    "\n",
    "Make a stand-alone script like in the end of **6. Files and OS.ipynb**.  The script will be executed with the command **python3 lab6b.py [dirname]** where **[dirname]** is the name of the directory you wish the script to explore (the subdirectory tree of).  Thus the name of your script should be **lab6b.py**.\n",
    "\n",
    "The script will output the 20 most common file extensions it finds in the subdirectory tree.  Output the extension name in green, and the number of files with that extension in red.\n"
   ]
  },
  {
   "cell_type": "code",
   "execution_count": 10,
   "metadata": {},
   "outputs": [],
   "source": []
  },
  {
   "cell_type": "code",
   "execution_count": 2,
   "metadata": {},
   "outputs": [
    {
     "name": "stdout",
     "output_type": "stream",
     "text": [
      "the ten most common filetypes are: \n",
      "\u001b[32mNone\u001b[0m \u001b[31m76445\u001b[0m\n",
      "\u001b[32m.js\u001b[0m \u001b[31m27220\u001b[0m\n",
      "\u001b[32m.py\u001b[0m \u001b[31m21711\u001b[0m\n",
      "\u001b[32m.pyc\u001b[0m \u001b[31m21497\u001b[0m\n",
      "\u001b[32m.svg\u001b[0m \u001b[31m11397\u001b[0m\n",
      "\u001b[32m.json\u001b[0m \u001b[31m6153\u001b[0m\n",
      "\u001b[32m.h\u001b[0m \u001b[31m5496\u001b[0m\n",
      "\u001b[32m.ts\u001b[0m \u001b[31m3862\u001b[0m\n",
      "\u001b[32m.htf\u001b[0m \u001b[31m3346\u001b[0m\n",
      "\u001b[32m.md\u001b[0m \u001b[31m3142\u001b[0m\n",
      "\u001b[32m.tfm\u001b[0m \u001b[31m2944\u001b[0m\n",
      "\u001b[32m.sty\u001b[0m \u001b[31m2912\u001b[0m\n",
      "\u001b[32m.tex\u001b[0m \u001b[31m1576\u001b[0m\n",
      "\u001b[32m.elc\u001b[0m \u001b[31m1452\u001b[0m\n",
      "\u001b[32m.vim\u001b[0m \u001b[31m1319\u001b[0m\n",
      "\u001b[32m.png\u001b[0m \u001b[31m1294\u001b[0m\n",
      "\u001b[32m.so\u001b[0m \u001b[31m1251\u001b[0m\n",
      "\u001b[32m.map\u001b[0m \u001b[31m1219\u001b[0m\n",
      "\u001b[32m.pm\u001b[0m \u001b[31m1197\u001b[0m\n"
     ]
    }
   ],
   "source": [
    "import os as os\n",
    "import collections as co\n",
    "import operator as op\n",
    "import sys\n",
    "from termcolor import colored \n",
    "# print('Number of arguments:', len(sys.argv[1]), 'arguments.')\n",
    "# print('Argument List:', str(sys.argv[1]))\n",
    "def function(DN):\n",
    "    fts=co.defaultdict(int)\n",
    "    for dirName,subdirList, fileList in os.walk(DN):\n",
    "        ft=[]\n",
    "        for FN in fileList:\n",
    "            fn=FN.split('.')\n",
    "            if len(fn)>1:\n",
    "                ft.append('.%s'%fn[-1])\n",
    "            else:\n",
    "                ft.append('None')\n",
    "        for f in ft:\n",
    "            fts['%s'%f]+=1\n",
    "    return list(sorted(fts.items(),key=op.itemgetter(1)))\n",
    "print('the ten most common filetypes are: ')\n",
    "for i in function(str('/'))[:-20:-1]:\n",
    "    print(colored(i[0],'green'),colored(i[1],'red'))\n",
    "    \n",
    "## replace '/' with sys.argv[1] to use terminal"
   ]
  },
  {
   "cell_type": "code",
   "execution_count": null,
   "metadata": {},
   "outputs": [],
   "source": []
  }
 ],
 "metadata": {
  "kernelspec": {
   "display_name": "Python 3",
   "language": "python",
   "name": "python3"
  },
  "language_info": {
   "codemirror_mode": {
    "name": "ipython",
    "version": 3
   },
   "file_extension": ".py",
   "mimetype": "text/x-python",
   "name": "python",
   "nbconvert_exporter": "python",
   "pygments_lexer": "ipython3",
   "version": "3.6.7"
  }
 },
 "nbformat": 4,
 "nbformat_minor": 2
}
