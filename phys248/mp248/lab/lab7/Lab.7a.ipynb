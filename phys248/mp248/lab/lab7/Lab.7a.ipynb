{
 "cells": [
  {
   "cell_type": "markdown",
   "metadata": {},
   "source": [
    "## Lab 7.a\n",
    "\n",
    "Brief diversion, solutions to **Assignment 1** and **Quiz 1**.\n",
    "\n",
    "### The remainder of this lab will be a sequence of introductory Sympy exercises\n",
    "\n",
    "**Exercise 1**: In class we saw the equality expression \"==\" in Sympy sometimes gives *false negatives*, i.e. it might say two expressions are not equal, when they are. \n",
    "\n",
    "Find a way to use Sympy's [**simplify**](https://docs.sympy.org/latest/tutorial/simplification.html) command to verify the two expressions\n",
    "\n",
    "$$\\frac{1}{\\sqrt{2}-1} \\text{ and } \\sqrt{2} + 1$$\n",
    "\n",
    "are equal."
   ]
  },
  {
   "cell_type": "code",
   "execution_count": 1,
   "metadata": {},
   "outputs": [],
   "source": [
    "import sympy as sp"
   ]
  },
  {
   "cell_type": "code",
   "execution_count": 9,
   "metadata": {},
   "outputs": [
    {
     "name": "stdout",
     "output_type": "stream",
     "text": [
      "1 + √2\n",
      "1 + √2\n",
      "Are they equal in the eyes of sympy?\n",
      "Yes! They are equal\n"
     ]
    }
   ],
   "source": [
    "one = 1/(sp.sqrt(2)-1)\n",
    "two = sp.sqrt(2)+1\n",
    "one_simp=sp.simplify(one)\n",
    "sp.pprint(one_simp)\n",
    "sp.pprint(two)\n",
    "print(\"Are they equal in the eyes of sympy?\")\n",
    "if one_simp-two==0:\n",
    "    print(\"Yes! They are equal\")\n",
    "## equal ##"
   ]
  },
  {
   "cell_type": "markdown",
   "metadata": {},
   "source": [
    "**Exercise 2**: Write a function $f(n)$ that returns a Sympy polynomial that is the degree $2n$ Taylor expansion of the $\\cos x$ function.\n",
    "\n",
    "$$T^{2n}(x) = 1 - \\frac{1}{2!}x^2 + \\frac{1}{4!}x^4 + \\cdots + (-1)^n\\frac{1}{(2n)!}x^{2n}$$\n",
    "\n",
    "Print out these polynomials for $n=1,2,3,4,5$ and use Sympy to compute the\n",
    "derivative of these polynomials.\n"
   ]
  },
  {
   "cell_type": "code",
   "execution_count": 12,
   "metadata": {},
   "outputs": [
    {
     "name": "stdout",
     "output_type": "stream",
     "text": [
      "         20                  18                16              14           12\n",
      "        x                   x                 x               x            x  \n",
      "─────────────────── - ──────────────── + ────────────── - ─────────── + ──────\n",
      "2432902008176640000   6402373705728000   20922789888000   87178291200   479001\n",
      "\n",
      "         10        8      6    4    2    \n",
      "        x         x      x    x    x     \n",
      "─── - ─────── + ───── - ─── + ── - ── + 1\n",
      "600   3628800   40320   720   24   2     \n"
     ]
    }
   ],
   "source": [
    "x=sp.Symbol('x')\n",
    "li=[]\n",
    "n=10\n",
    "for n in range(0,n+1):\n",
    "    li.append(((-1)**n/sp.factorial(2*n))*(x**(2*n)))\n",
    "sp.pprint(sum(li))"
   ]
  },
  {
   "cell_type": "markdown",
   "metadata": {},
   "source": [
    "**Exercise 3**: Compute the composite of the Taylor polynomial from Ex.2 with the function $x^2$, i.e. $T^{2n}(x^2)$ for $n=1,2,3,4,5$.\n",
    "\n",
    "From Calculus, this is a Taylor polynomial (of the appropriate order) for the function $\\cos(x^2)$.\n",
    "\n",
    "Use Sympy to compute the integrals:\n",
    "$$\\int_0^x \\cos(x^2) dx$$ \n",
    "$$\\int_0^x T^{2n}(x^2) dx \\text{  for  } n=1,2,3,4,5.$$\n",
    "\n",
    "**Advice**: You can replace a variable with another in a Sympy expression with the [subs](https://docs.sympy.org/latest/tutorial/basic_operations.html) (substitute) command.\n",
    "\n",
    "Put the plots of these functions in one common matplotlib plot, so that they can be compared.  Make the domain of the plot $x = [-2\\pi,2\\pi]$. \n",
    "\n",
    "**Advice**: You might find that due to the polynomials being extremely large towards the ends of the integration, it will help to set the **y-limits** of your plot to reasonable numbers such as $-2.0$ and $2.0$. Otherwise your plot's y-scale could be so large that it distorts the most interesting features of your functions.  Look up the [ylim](https://matplotlib.org/api/_as_gen/matplotlib.pyplot.ylim.html) command for *pyplot*.\n"
   ]
  },
  {
   "cell_type": "code",
   "execution_count": 19,
   "metadata": {},
   "outputs": [
    {
     "data": {
      "image/png": "[encoded data removed]",
      "text/plain": [
       "<Figure size 432x288 with 1 Axes>"
      ]
     },
     "metadata": {
      "needs_background": "light"
     },
     "output_type": "display_data"
    }
   ],
   "source": [
    "import sympy as sp\n",
    "import matplotlib.pyplot as plt\n",
    "import numpy as np\n",
    "from numpy import pi as pi\n",
    "x=sp.Symbol('x')\n",
    "li=[]\n",
    "for n in range(1,6):\n",
    "    li.append(((-1)**n/sp.factorial(2*n))*(x**(2*n)))\n",
    "tay=1+sum(li)\n",
    "Tay=sp.integrate((tay.subs(x,x**2)))\n",
    "Co=sp.integrate(sp.cos(x**2))\n",
    "# sp.pprint(Tay)\n",
    "# sp.pprint(Co)\n",
    "Tay=sp.lambdify(x,Tay)\n",
    "Co=sp.lambdify(x,Co)\n",
    "# sp.fresnelx(dom)\n",
    "dom=np.linspace(-4,4,1000)\n",
    "C=(sp.sqrt(2)*sp.sqrt(pi)*sp.gamma(1/4)/(8*sp.gamma(5/4))).evalf()\n",
    "Co=C*np.array([sp.fresnelc(x).evalf() for x in dom])\n",
    "plt.ylim(-1.5,1.5)\n",
    "\n",
    "## Plot markings ##\n",
    "\n",
    "plt.title('Comparision between $\\cos(x^2)$ by taylor and direct integration with a fresnel')\n",
    "plt.xlabel(\"X\")\n",
    "plt.ylabel(\"Y\")\n",
    "\n",
    "## Plot data ##\n",
    "\n",
    "plt.plot(dom,Tay(dom),'r--',label=\"Taylor Expansion\")\n",
    "plt.plot(dom,Co,'b--',label=\"Integration w/ Fresnel Integral\")\n",
    "plt.legend()\n",
    "\n",
    "plt.show()\n"
   ]
  }
 ],
 "metadata": {
  "kernelspec": {
   "display_name": "Python 3",
   "language": "python",
   "name": "python3"
  },
  "language_info": {
   "codemirror_mode": {
    "name": "ipython",
    "version": 3
   },
   "file_extension": ".py",
   "mimetype": "text/x-python",
   "name": "python",
   "nbconvert_exporter": "python",
   "pygments_lexer": "ipython3",
   "version": "3.6.7"
  }
 },
 "nbformat": 4,
 "nbformat_minor": 2
}
