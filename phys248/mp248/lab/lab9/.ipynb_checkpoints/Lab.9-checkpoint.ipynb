{
 "cells": [
  {
   "cell_type": "markdown",
   "metadata": {},
   "source": [
    "# Lab 9a\n",
    "\n",
    "## Exercise 1\n",
    "* Using scipy's `integrate.cumtrapz` integrate one more time the area under a quadrant of a circle to determine $\\pi$.\n",
    "* Which parameter controls the accuracy in this case? \n",
    "* Make a plot of the difference of your integration and the `nunmpy.pi` answer as a function of that parameter, for reasonable values of that parameter. What are reasonable parameters?\n"
   ]
  },
  {
   "cell_type": "code",
   "execution_count": 7,
   "metadata": {},
   "outputs": [
    {
     "data": {
      "image/png": "[encoded data removed]",
      "text/plain": [
       "<Figure size 432x288 with 1 Axes>"
      ]
     },
     "metadata": {
      "needs_background": "light"
     },
     "output_type": "display_data"
    },
    {
     "name": "stdout",
     "output_type": "stream",
     "text": [
      "Dif: 0.000419\n"
     ]
    }
   ],
   "source": [
    "import scipy.integrate as i\n",
    "import numpy as np\n",
    "import matplotlib.pyplot as plt\n",
    "from numpy import pi\n",
    "def func1(x):\n",
    "    return np.sqrt(1-x**2)\n",
    "x = np.linspace(0,1,200)\n",
    "y=func1(x)\n",
    "plt.plot(x,y,'r--')\n",
    "plt.show()\n",
    "F=i.cumtrapz(y,x)\n",
    "print(\"Dif: %f\" %abs(F[-1]*4.-pi))"
   ]
  },
  {
   "cell_type": "markdown",
   "metadata": {},
   "source": [
    "## Exercise 2\n",
    "* Make a line plot of the function $f(x) = 2x^2 + 3\\sin(5x)$, for $x \\in [-2,7]$.\n",
    "* Use sympy to determine the analytic expression of the derivative $f' = \\frac{df}{dx}$. Create a lambda function called `dfdxlam` out of the sympy expression using `sympy.lambdify`.\n",
    "* In course notebook 5 we introduced a numerical derivative. Use this numerical derivative to determine \n",
    "$f'(3)$. Compare that with the result of `dfdxlam(3)`. What is your conclusion for how large, small `h` should be?\n",
    "* Overplot the numerical derivative for different values of `h` with the derivative from `dfdxlam`. What is the result of too large `h` values? Can you rationalize your observation?"
   ]
  },
  {
   "cell_type": "code",
   "execution_count": 11,
   "metadata": {},
   "outputs": [
    {
     "data": {
      "image/png": "[encoded data removed]",
      "text/plain": [
       "<Figure size 432x288 with 1 Axes>"
      ]
     },
     "metadata": {
      "needs_background": "light"
     },
     "output_type": "display_data"
    },
    {
     "name": "stdout",
     "output_type": "stream",
     "text": [
      "The difference between methods is 0.60468 for 10 iterations\n"
     ]
    }
   ],
   "source": [
    "## sympy lambdify ##\n",
    "import sympy as sp\n",
    "import scipy.integrate as i\n",
    "import matplotlib.pyplot as plt\n",
    "n=len(range(-2,7+1))\n",
    "x=sp.Symbol(\"x\")\n",
    "f=2*x**2+3*sp.sin(5*x)\n",
    "# sp.pprint(f)\n",
    "y=sp.lambdify(x,f)\n",
    "dom=np.linspace(-2,7,n)\n",
    "plt.plot(dom,y(dom),\"r-\",label=\"$2x^2+3\\sin(5x)$\")\n",
    "plt.title(\" Plot of $2x^2+3\\sin(5x)$ for $x\\in [-2,7]$\")\n",
    "plt.ylabel(\"y\")\n",
    "plt.xlabel(\"x\")\n",
    "plt.legend()\n",
    "plt.show()\n",
    "# print(it)\n",
    "dfdxlam=sp.lambdify(x,f.diff())\n",
    "diff=dfdxlam(3)\n",
    "print(\"The difference between methods is %.5f for %d iterations\" %(diff,n))"
   ]
  },
  {
   "cell_type": "code",
   "execution_count": 22,
   "metadata": {},
   "outputs": [
    {
     "ename": "SyntaxError",
     "evalue": "'return' outside function (<ipython-input-22-2cae04feea3e>, line 5)",
     "output_type": "error",
     "traceback": [
      "\u001b[0;36m  File \u001b[0;32m\"<ipython-input-22-2cae04feea3e>\"\u001b[0;36m, line \u001b[0;32m5\u001b[0m\n\u001b[0;31m    return val\u001b[0m\n\u001b[0m    ^\u001b[0m\n\u001b[0;31mSyntaxError\u001b[0m\u001b[0;31m:\u001b[0m 'return' outside function\n"
     ]
    }
   ],
   "source": [
    "a=i.cumtrapz(y(dom));n=range(-2,7+1)\n",
    "qq=list(zip(n,a))\n",
    "for it,val in qq:\n",
    "    if it==3:\n",
    "        cum_meth=val\n",
    "abs(cum_meth-)"
   ]
  },
  {
   "cell_type": "code",
   "execution_count": 2,
   "metadata": {},
   "outputs": [
    {
     "data": {
      "text/plain": [
       "'/home/user/mp248-course-notes/Labs'"
      ]
     },
     "execution_count": 2,
     "metadata": {},
     "output_type": "execute_result"
    }
   ],
   "source": [
    "pwd"
   ]
  },
  {
   "cell_type": "code",
   "execution_count": null,
   "metadata": {},
   "outputs": [],
   "source": []
  }
 ],
 "metadata": {
  "kernelspec": {
   "display_name": "Python 3",
   "language": "python",
   "name": "python3"
  },
  "language_info": {
   "codemirror_mode": {
    "name": "ipython",
    "version": 3
   },
   "file_extension": ".py",
   "mimetype": "text/x-python",
   "name": "python",
   "nbconvert_exporter": "python",
   "pygments_lexer": "ipython3",
   "version": "3.6.7"
  }
 },
 "nbformat": 4,
 "nbformat_minor": 2
}
