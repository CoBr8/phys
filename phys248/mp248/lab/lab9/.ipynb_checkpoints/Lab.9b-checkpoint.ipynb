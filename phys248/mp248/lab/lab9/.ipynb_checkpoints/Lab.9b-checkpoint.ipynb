{
 "cells": [
  {
   "cell_type": "markdown",
   "metadata": {},
   "source": [
    "## Lab 9: Skydiver\n",
    "\n",
    "### Exercise 1:\n",
    "A skydiver jumps from a plane at $h=2000\\mathrm{m}$. At $h_\\mathrm{p} = 300\\mathrm{m}$ the skydiver releases the parachute. How does the velocity evolve as a function of height?\n",
    "\n",
    "1. Calculate problem constant $$k = \\frac{1}{2} \\frac{C_\\mathrm{D} \\rho A}{m}$$  as introduced in class using the astropy units package.\n",
    "2. In addition to the differential equation $\\frac{dv}{dt}$ derived in class solve simultaneously the differential equation $\\frac{dh}{dt} = v$.\n",
    "2. Your plot should include a line for the analytically determined terminal velocity.\n",
    "3. From the terminal velocity, estimate an appropropriate time step for the integration.\n",
    "4. Perform a convergence study by doing a series of 3 to 4 runs with decreasing step size.\n",
    "\n",
    "Recall how to approach a programming task:\n",
    "\n",
    "1. Sketch out the algorithm you want to use. This can involve some kind of flow-diagram and writing out the program in pseudo-programing language.\n",
    "2. Implement algorithm; while you write it add reasonable comments, short and relevant. Test each step to make sure you avoid accumulating errors that are harder to find later on.\n",
    "3. Run algorithm and generate results.\n",
    "4. Test the program carefully. What can you do to convince yourself that your algorithm is working correctly?"
   ]
  },
  {
   "cell_type": "markdown",
   "metadata": {},
   "source": [
    "$$k = \\frac{1}{2} \\frac{C_\\mathrm{D} \\rho A}{m}$$\n",
    "\n",
    "$$c_d=\\frac{2F_d}{\\rho u^2 A}$$\n"
   ]
  },
  {
   "cell_type": "code",
   "execution_count": 72,
   "metadata": {},
   "outputs": [],
   "source": [
    "import astropy.units as u\n",
    "import numpy as np\n",
    "import matplotlib.pyplot as plt\n",
    "import math as mp\n",
    "\n",
    "### change these constants ###\n",
    "step=20\n",
    "C_Dm=0.82\n",
    "rho=1.225\n",
    "A1=0.2\n",
    "A2=2\n",
    "H_j = 2000 ## meters\n",
    "H_p = 300  ## meters\n",
    "mass = 95+24 ## kilograms\n",
    "### end changeable constants ###"
   ]
  },
  {
   "cell_type": "code",
   "execution_count": 73,
   "metadata": {},
   "outputs": [
    {
     "name": "stdout",
     "output_type": "stream",
     "text": [
      "107.74857816955625\n",
      "34.073092166049406\n"
     ]
    },
    {
     "data": {
      "image/png": "[encoded data removed]",
      "text/plain": [
       "<Figure size 432x288 with 1 Axes>"
      ]
     },
     "metadata": {
      "needs_background": "light"
     },
     "output_type": "display_data"
    }
   ],
   "source": [
    "k1 = 0.5*(C_D*rho*A)/mass\n",
    "g = 9.8          # m/s**2      # in the lab\n",
    "v_t1 = mp.sqrt(g/k1)\n",
    "k2 = 0.5*(C_D*rho*A2)/mass\n",
    "print(v_t1)\n",
    "v_t2 = mp.sqrt(g/k2)\n",
    "dt = (1000./v_t1)/step  #estimate time step\n",
    "print(v_t2)\n",
    "def rhs_sdiver(v,dt,g,k):\n",
    "    'Evaluate RHS for skydiver problem, advance one time step'\n",
    "#     print(\"k\",k,\"dt\",dt,\"v\",v,\"g\",g)\n",
    "    v = v + dt*(k*v**2 - g)\n",
    "    return v\n",
    "\n",
    "tt=[];vv=[];hh=[];\n",
    "tmax=3*1000./v_t1\n",
    "t=0; v=0; h=H_j;\n",
    "\n",
    "while t < tmax and h>H_p:\n",
    "    d_h=v*dt\n",
    "    h+=d_h\n",
    "    hh.append(h)\n",
    "    v=rhs_sdiver(v,dt,g,k=k1)\n",
    "#     print(v)\n",
    "    t += dt\n",
    "    tt.append(t)\n",
    "    vv.append(v)\n",
    "while t<tmax and h>=0:\n",
    "    d_h=v*dt\n",
    "    h+=d_h\n",
    "    hh.append(h)\n",
    "    v=rhs_sdiver(v,dt,g,k2)\n",
    "#     print(v)\n",
    "    t += dt\n",
    "    tt.append(t)\n",
    "    vv.append(v)\n",
    "hh=hh\n",
    "plt.close(1);plt.figure(1)\n",
    "plt.gca().invert_xaxis()\n",
    "plt.plot(np.array(hh), np.array(vv), 'r--',label=\"dh\")\n",
    "plt.plot(np.array(hh),-v_t1*np.ones((len(hh))),label=\"Terminal Velocity\")\n",
    "plt.xlabel( 'height  (m)' )\n",
    "plt.ylabel( 'velocity  (m/s)' )\n",
    "plt.legend()\n",
    "plt.show()"
   ]
  },
  {
   "cell_type": "markdown",
   "metadata": {},
   "source": [
    "### Exercise 2:\n",
    "Solve the two coupled ODEs for height and velocity using  a second differential equations \n",
    "Solve the skydiver problem using `scipy.integrate.odeint`. Study the docstring for instructions. Pay attention to the time array along which the integration is performed. Make plots of the time evolution of the vertical position and the speed of the skydiver. "
   ]
  },
  {
   "cell_type": "code",
   "execution_count": null,
   "metadata": {},
   "outputs": [],
   "source": []
  }
 ],
 "metadata": {
  "kernelspec": {
   "display_name": "Python 3",
   "language": "python",
   "name": "python3"
  },
  "language_info": {
   "codemirror_mode": {
    "name": "ipython",
    "version": 3
   },
   "file_extension": ".py",
   "mimetype": "text/x-python",
   "name": "python",
   "nbconvert_exporter": "python",
   "pygments_lexer": "ipython3",
   "version": "3.6.7"
  }
 },
 "nbformat": 4,
 "nbformat_minor": 2
}
