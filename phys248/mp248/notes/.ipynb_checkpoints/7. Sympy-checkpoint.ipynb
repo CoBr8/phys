{
 "cells": [
  {
   "cell_type": "markdown",
   "metadata": {},
   "source": [
    "## 7. Sympy\n",
    "\n",
    "This notebook will explore the **symbolic mathematics** library for Python, called [Sympy](https://www.sympy.org/en/index.html).\n",
    "\n",
    "**What is symbolic mathematics**\n",
    "\n",
    " * Mathematical objects represented on computers faithfully.\n",
    " * Routines to manipulate those mathematical objects faithfully. \n",
    " \n",
    "**What symbolic mathematics do we know in Python, so far?**\n",
    "\n",
    " * Integers\n",
    " \n",
    "**What are examples of mathematics in Python that is not proper symbolic mathematics?**\n",
    "\n",
    " * Floating point numbers"
   ]
  },
  {
   "cell_type": "code",
   "execution_count": 4,
   "metadata": {},
   "outputs": [
    {
     "name": "stdout",
     "output_type": "stream",
     "text": [
      "0.6666666666666666\n"
     ]
    }
   ],
   "source": [
    "## Before we go too far let's demonstrate why integers are symbolic\n",
    "## and floating point numbers are not\n",
    "\n",
    "def f(x):\n",
    "    r = 2*x\n",
    "    while r>= 1:\n",
    "        r -= 1\n",
    "    while r<0:\n",
    "        r += 1\n",
    "    return(r)\n",
    "\n"
   ]
  },
  {
   "cell_type": "code",
   "execution_count": 9,
   "metadata": {},
   "outputs": [
    {
     "name": "stdout",
     "output_type": "stream",
     "text": [
      "0.5\n"
     ]
    }
   ],
   "source": [
    "x = 1/3\n",
    "for i in range(53):\n",
    "    x = f(x)\n",
    "print(x)"
   ]
  },
  {
   "cell_type": "code",
   "execution_count": 14,
   "metadata": {},
   "outputs": [
    {
     "name": "stdout",
     "output_type": "stream",
     "text": [
      "3.141592653589793\n",
      "0.5\n"
     ]
    }
   ],
   "source": [
    "## if you use floats, you could get this erroneous result\n",
    "## and maybe conclude that (1/3) times an integer power of 2 is an\n",
    "## integer. \n",
    "\n",
    "import math as ma\n",
    "print(ma.pi)\n",
    "x = ma.pi\n",
    "for i in range(47):\n",
    "    x = f(x)\n",
    "print(x)"
   ]
  },
  {
   "cell_type": "markdown",
   "metadata": {},
   "source": [
    "**Fact** The only numbers where $f^{(k)}(x) = 0$ are the numbers of\n",
    " the form $$x = \\frac{p}{2^q}$$\n",
    " with $p$ and $q$ integers."
   ]
  },
  {
   "cell_type": "code",
   "execution_count": 15,
   "metadata": {},
   "outputs": [
    {
     "name": "stdout",
     "output_type": "stream",
     "text": [
      "1606938044258990275541962092341162602522202993782792835301376\n"
     ]
    }
   ],
   "source": [
    "## on the other hand, integers are faithful (symbolic)\n",
    "x = 1\n",
    "for i in range(200):\n",
    "    x *= 2\n",
    "print(x)"
   ]
  },
  {
   "cell_type": "code",
   "execution_count": 17,
   "metadata": {},
   "outputs": [
    {
     "name": "stdout",
     "output_type": "stream",
     "text": [
      "1/3\n"
     ]
    }
   ],
   "source": [
    "## fractions library\n",
    "import fractions as fr\n",
    "x = fr.Fraction(1,3) ## i.e. 1/3\n",
    "print(x)"
   ]
  },
  {
   "cell_type": "code",
   "execution_count": 18,
   "metadata": {},
   "outputs": [
    {
     "name": "stdout",
     "output_type": "stream",
     "text": [
      "1/3\n",
      "2/3\n",
      "1/3\n",
      "2/3\n",
      "1/3\n"
     ]
    }
   ],
   "source": [
    "for i in range(5):\n",
    "    print(x)\n",
    "    x = f(x)"
   ]
  },
  {
   "cell_type": "code",
   "execution_count": 19,
   "metadata": {},
   "outputs": [
    {
     "name": "stdout",
     "output_type": "stream",
     "text": [
      "1/3\n",
      "2/3\n",
      "1/3\n",
      "2/3\n",
      "1/3\n"
     ]
    }
   ],
   "source": [
    "## Sympy can do this as well\n",
    "import sympy as sp\n",
    "x = sp.Integer(1)/sp.Integer(3)\n",
    "for i in range(5):\n",
    "    print(x)\n",
    "    x = f(x)"
   ]
  },
  {
   "cell_type": "markdown",
   "metadata": {},
   "source": [
    "\n",
    "## What might we want Symbolic mathematics for?\n",
    "\n",
    "* Complex numbers\n",
    "\n",
    "* Matrices\n",
    "\n",
    "* Describing functional relations\n",
    "\n",
    "$$f(x) = \\frac{e^x}{x^2+2x+1}$$\n",
    "\n",
    "* Doing calculus $f'(x)$, more generally, manipulating functional relations.\n",
    "\n",
    "* Finding solutions of equations in closed form $f(x)=0$.\n",
    "\n",
    "* Finding solutions to differential equations in closed form $f''+3xf'+3 = 0$.\n",
    "\n",
    "* Doing tedious algebraic gruntwork. . . for example, setting up complex differential equations.\n",
    "\n",
    "* There are many problems that need more sophisticated data types to solve, eg: knotting, symmetry, etc. . .\n",
    "\n"
   ]
  },
  {
   "cell_type": "code",
   "execution_count": 21,
   "metadata": {},
   "outputs": [
    {
     "name": "stdout",
     "output_type": "stream",
     "text": [
      "(0.2-0.4j)\n"
     ]
    }
   ],
   "source": [
    "## some of the most basic data types, like complex numbers\n",
    "## you don't need sympy for, there's seperate libraries\n",
    "\n",
    "import cmath as cm\n",
    "\n",
    "z = 1+2j\n",
    "print(z**(-1))"
   ]
  },
  {
   "cell_type": "code",
   "execution_count": 23,
   "metadata": {},
   "outputs": [
    {
     "name": "stdout",
     "output_type": "stream",
     "text": [
      "θ\n"
     ]
    }
   ],
   "source": [
    "x = sp.Symbol('theta') ## Python will think of the variable as x\n",
    " ## it will print it as the string 'x'\n",
    "sp.pprint(x)"
   ]
  },
  {
   "cell_type": "code",
   "execution_count": 29,
   "metadata": {},
   "outputs": [
    {
     "name": "stdout",
     "output_type": "stream",
     "text": [
      " 3          \n",
      "θ  - 3⋅θ + 2\n",
      "theta**3 - 3*theta + 2\n"
     ]
    }
   ],
   "source": [
    "p = x**3 - 3*x + 2\n",
    "sp.pprint(p) ## sp.pprint is the Sympy \"pretty print\" command\n",
    "print(p)"
   ]
  },
  {
   "cell_type": "code",
   "execution_count": 30,
   "metadata": {},
   "outputs": [
    {
     "name": "stdout",
     "output_type": "stream",
     "text": [
      "   2    \n",
      "3⋅θ  - 3\n"
     ]
    }
   ],
   "source": [
    "sp.pprint( sp.diff(p, x) )"
   ]
  },
  {
   "cell_type": "code",
   "execution_count": 33,
   "metadata": {},
   "outputs": [
    {
     "name": "stdout",
     "output_type": "stream",
     "text": [
      "5/4\n",
      " 4      2      \n",
      "θ    3⋅θ       \n",
      "── - ──── + 2⋅θ\n",
      "4     2        \n"
     ]
    }
   ],
   "source": [
    "sp.pprint( sp.integrate(p, (x, 1, 2) )) ## with endpoint\n",
    " ## definite integral\n",
    "sp.pprint( sp.integrate(p, x)) ## indef integral"
   ]
  },
  {
   "cell_type": "code",
   "execution_count": 35,
   "metadata": {},
   "outputs": [
    {
     "name": "stdout",
     "output_type": "stream",
     "text": [
      "-1 + √2\n"
     ]
    }
   ],
   "source": [
    "x = sp.sqrt(2) - 1\n",
    "sp.pprint(x)"
   ]
  },
  {
   "cell_type": "code",
   "execution_count": 39,
   "metadata": {},
   "outputs": [
    {
     "name": "stdout",
     "output_type": "stream",
     "text": [
      "-1971126019424292958576916664136704466346925 + 1393796574908163946345982392040\n",
      "522594123776⋅√2\n",
      "0.922230789311504\n"
     ]
    }
   ],
   "source": [
    "for i in range(60):\n",
    "    x = f(x)\n",
    "sp.pprint(x)\n",
    "print(x.evalf()) ## float approx to Sympy expression"
   ]
  },
  {
   "cell_type": "markdown",
   "metadata": {},
   "source": [
    "## Calculus in Sympy"
   ]
  },
  {
   "cell_type": "code",
   "execution_count": 40,
   "metadata": {},
   "outputs": [
    {
     "name": "stdout",
     "output_type": "stream",
     "text": [
      "   ⎛ 2⎞\n",
      "sin⎝x ⎠\n"
     ]
    }
   ],
   "source": [
    "x = sp.Symbol('x')\n",
    "f = sp.sin(x**2)\n",
    "sp.pprint(f)"
   ]
  },
  {
   "cell_type": "code",
   "execution_count": 41,
   "metadata": {},
   "outputs": [],
   "source": [
    "F = sp.integrate(f, x)"
   ]
  },
  {
   "cell_type": "code",
   "execution_count": 42,
   "metadata": {},
   "outputs": [
    {
     "name": "stdout",
     "output_type": "stream",
     "text": [
      "                ⎛√2⋅x⎞       \n",
      "3⋅√2⋅√π⋅fresnels⎜────⎟⋅Γ(3/4)\n",
      "                ⎝ √π ⎠       \n",
      "─────────────────────────────\n",
      "           8⋅Γ(7/4)          \n"
     ]
    }
   ],
   "source": [
    "sp.pprint(F)"
   ]
  },
  {
   "cell_type": "code",
   "execution_count": 43,
   "metadata": {},
   "outputs": [],
   "source": [
    "?sp.fresnels"
   ]
  },
  {
   "cell_type": "code",
   "execution_count": 45,
   "metadata": {},
   "outputs": [
    {
     "data": {
      "text/plain": [
       "0.343415678363698"
      ]
     },
     "execution_count": 45,
     "metadata": {},
     "output_type": "execute_result"
    }
   ],
   "source": [
    "## this is called a \"special function\" \n",
    "## sympy knows its name\n",
    "\n",
    "sp.fresnels(2).evalf()"
   ]
  },
  {
   "cell_type": "code",
   "execution_count": 48,
   "metadata": {},
   "outputs": [],
   "source": [
    "import numpy as np\n",
    "import matplotlib.pyplot as plt\n",
    "%matplotlib inline\n",
    "\n",
    "X = np.linspace(-4*np.pi, 4*np.pi, 1000)\n",
    "Y = np.array( [sp.fresnels(x).evalf() for x in X] )"
   ]
  },
  {
   "cell_type": "code",
   "execution_count": 49,
   "metadata": {},
   "outputs": [
    {
     "data": {
      "text/plain": [
       "[<matplotlib.lines.Line2D at 0x7ffacaa7ad30>]"
      ]
     },
     "execution_count": 49,
     "metadata": {},
     "output_type": "execute_result"
    },
    {
     "data": {
      "image/png": "[encoded data removed]",
      "text/plain": [
       "<Figure size 432x288 with 1 Axes>"
      ]
     },
     "metadata": {
      "needs_background": "light"
     },
     "output_type": "display_data"
    }
   ],
   "source": [
    "plt.plot(X, Y)"
   ]
  },
  {
   "cell_type": "markdown",
   "metadata": {},
   "source": [
    "## Equality\n",
    "\n",
    "One problem with symbolic mathematics packages is checking equality\n",
    "of two objects is often difficult. "
   ]
  },
  {
   "cell_type": "code",
   "execution_count": 51,
   "metadata": {},
   "outputs": [
    {
     "name": "stdout",
     "output_type": "stream",
     "text": [
      "   1   \n",
      "───────\n",
      "-1 + √2\n",
      "1 + √2\n"
     ]
    }
   ],
   "source": [
    "LHS = 1/(sp.sqrt(2)-1)\n",
    "RHS = sp.sqrt(2)+1\n",
    "sp.pprint(LHS)\n",
    "sp.pprint(RHS)"
   ]
  },
  {
   "cell_type": "code",
   "execution_count": 52,
   "metadata": {},
   "outputs": [
    {
     "name": "stdout",
     "output_type": "stream",
     "text": [
      "False\n"
     ]
    }
   ],
   "source": [
    "print(LHS==RHS)"
   ]
  },
  {
   "cell_type": "code",
   "execution_count": 53,
   "metadata": {},
   "outputs": [
    {
     "name": "stdout",
     "output_type": "stream",
     "text": [
      "<class 'sympy.core.add.Add'>\n",
      "<class 'sympy.core.power.Pow'>\n"
     ]
    }
   ],
   "source": [
    "## purpose here is that == \n",
    "## does not check equality at the mathematical level\n",
    "## what it does do is check if you are using the same\n",
    "## exact syntax to express this object\n",
    "\n",
    "print(type(RHS))\n",
    "print(type(LHS))"
   ]
  },
  {
   "cell_type": "code",
   "execution_count": 54,
   "metadata": {},
   "outputs": [
    {
     "name": "stdout",
     "output_type": "stream",
     "text": [
      "Pow(Add(Integer(-1), Pow(Integer(2), Rational(1, 2))), Integer(-1))\n"
     ]
    }
   ],
   "source": [
    "## i.e. the type is the the LAST operation used in the\n",
    "## construction of this object\n",
    "\n",
    "print(sp.srepr(LHS))"
   ]
  },
  {
   "cell_type": "code",
   "execution_count": 56,
   "metadata": {},
   "outputs": [
    {
     "name": "stdout",
     "output_type": "stream",
     "text": [
      "√2\n",
      "<class 'sympy.core.power.Pow'>\n",
      "Pow(Integer(2), Rational(1, 2)) \n",
      "\n",
      "-1 + √2\n",
      "<class 'sympy.core.add.Add'>\n",
      "Add(Integer(-1), Pow(Integer(2), Rational(1, 2))) \n",
      "\n",
      "  1   \n",
      "──────\n",
      "1 + √2\n",
      "<class 'sympy.core.power.Pow'>\n",
      "Pow(Add(Integer(1), Pow(Integer(2), Rational(1, 2))), Integer(-1)) \n",
      "\n"
     ]
    }
   ],
   "source": [
    "## the sp.srepr command\n",
    "## this gives us Sympy's internal syntax for the object\n",
    "\n",
    "## Pow expression contains 2 to the 1/2 power\n",
    "##  sqrt(2) - 1\n",
    "##  (sqrt(2) - 1)^(-1)\n",
    "\n",
    "## this is called an Expression Tree\n",
    "\n",
    "exprl = [sp.sqrt(2), sp.sqrt(2)-1, 1/(sp.sqrt(2)+1)]\n",
    "for l in exprl:\n",
    "    sp.pprint(l)\n",
    "    print(type(l))\n",
    "    print(sp.srepr(l), \"\\n\")"
   ]
  },
  {
   "cell_type": "markdown",
   "metadata": {},
   "source": [
    "A sympy algebraic expression is stored internally in what is known as a **rooted tree**.\n",
    "\n",
    "<div style=\"display: inline-block; margin-right: 12px; margin-left: 50px\">\n",
    "<img src=\"images/tree1.png\" width=\"150\" height=\"150\" class=\"alignleft\" title=\"sqrt(2)\"/></div>\n",
    "<div style=\"display: inline-block; margin-right: 12px; margin-left: 50px\">\n",
    "<img src=\"images/tree2.png\" width=\"250\" height=\"250\" class=\"alignleft\" title=\"sqrt(2)-1\"/></div>\n",
    "<div style=\"display: inline-block; margin-right: 12px; margin-left: 50px\">\n",
    "<img src=\"images/tree3.png\" width=\"300\" height=\"300\" class=\"alignleft\" title=\"1/(1+sqrt(2))\"/></div>\n",
    "\n",
    "* The **final** operation in the expression is the **base** or **root** of the tree, which is what we see when we request the **type**.\n",
    "\n",
    "* When one calls the equality \"==\" operation in Python for sympy expressions, Python checks to see if the expression trees are identical.\n",
    "\n",
    "* Sympy will perform the most *elementary* simplifications automatically, such as $\\frac{\\sqrt{2}}{2} = \\frac{1}{\\sqrt{2}}$. The term *elementary* should be taken to mean the simplifications that cost Python essentially no time or processing power. Sympy only attempts this for objects where a *canonical form* is known.\n",
    "\n",
    "* Checking equality of more complicated expressions involves more computation, quite often because there is *no* canonical form.\n",
    "\n",
    "The internal tree structure to a sympy object is expressible with the <a href=\"http://docs.sympy.org/latest/tutorial/manipulation.html\">*srepr*</a> command. One can access the root with the **func** call, and the children of the root with the **args** list.\n",
    "\n",
    "~                                       "
   ]
  },
  {
   "cell_type": "code",
   "execution_count": 57,
   "metadata": {},
   "outputs": [
    {
     "name": "stdout",
     "output_type": "stream",
     "text": [
      "True\n"
     ]
    }
   ],
   "source": [
    "x = sp.sqrt(2)\n",
    "y = 2/sp.sqrt(2)\n",
    "print(x==y)"
   ]
  },
  {
   "cell_type": "code",
   "execution_count": 58,
   "metadata": {},
   "outputs": [
    {
     "name": "stdout",
     "output_type": "stream",
     "text": [
      "√2\n",
      "√2\n"
     ]
    }
   ],
   "source": [
    "## sympy does do some \"elementary\" simplifications\n",
    "sp.pprint(x)\n",
    "sp.pprint(y)"
   ]
  },
  {
   "cell_type": "code",
   "execution_count": 59,
   "metadata": {},
   "outputs": [
    {
     "name": "stdout",
     "output_type": "stream",
     "text": [
      "   2          \n",
      "a⋅x  + b⋅x + c\n"
     ]
    }
   ],
   "source": [
    "x = sp.Symbol('x')\n",
    "a,b,c = sp.symbols('a b c')\n",
    "p = a*x**2 + b*x + c\n",
    "sp.pprint(p)"
   ]
  },
  {
   "cell_type": "code",
   "execution_count": 62,
   "metadata": {},
   "outputs": [
    {
     "name": "stdout",
     "output_type": "stream",
     "text": [
      "⎡        _____________   ⎛       _____________⎞ ⎤\n",
      "⎢       ╱           2    ⎜      ╱           2 ⎟ ⎥\n",
      "⎢-b + ╲╱  -4⋅a⋅c + b    -⎝b + ╲╱  -4⋅a⋅c + b  ⎠ ⎥\n",
      "⎢─────────────────────, ────────────────────────⎥\n",
      "⎣         2⋅a                     2⋅a           ⎦\n"
     ]
    }
   ],
   "source": [
    "sp.pprint(sp.solve(p, x))"
   ]
  },
  {
   "cell_type": "code",
   "execution_count": 64,
   "metadata": {},
   "outputs": [],
   "source": [
    "a,b,c,d = sp.symbols('a b c d')\n",
    "p = a*x**3 + b*x**2+c*x+d\n",
    "#sp.pprint(sp.solve(p, x))"
   ]
  },
  {
   "cell_type": "code",
   "execution_count": 65,
   "metadata": {},
   "outputs": [
    {
     "name": "stdout",
     "output_type": "stream",
     "text": [
      "⎡⎧   ⎛       _________⎞   _________ ⎛    _________    ⎞        _________⎫  ⎧  \n",
      "⎢⎨x: ⎝-2 - ╲╱ -√3 + 2 ⎠⋅╲╱ -√3 + 2 ⋅⎝- ╲╱ -√3 + 2  + 2⎠, y: -╲╱ -√3 + 2 ⎬, ⎨x:\n",
      "⎣⎩                                                                      ⎭  ⎩  \n",
      "\n",
      "  ⎛       _________⎞   _________ ⎛  _________    ⎞       _________⎫  ⎧   ⎛    \n",
      " -⎝-2 + ╲╱ -√3 + 2 ⎠⋅╲╱ -√3 + 2 ⋅⎝╲╱ -√3 + 2  + 2⎠, y: ╲╱ -√3 + 2 ⎬, ⎨x: ⎝-2 -\n",
      "                                                                  ⎭  ⎩        \n",
      "\n",
      "   ________⎞   ________ ⎛    ________    ⎞        ________⎫  ⎧    ⎛       ____\n",
      " ╲╱ √3 + 2 ⎠⋅╲╱ √3 + 2 ⋅⎝- ╲╱ √3 + 2  + 2⎠, y: -╲╱ √3 + 2 ⎬, ⎨x: -⎝-2 + ╲╱ √3 \n",
      "                                                          ⎭  ⎩                \n",
      "\n",
      "____⎞   ________ ⎛  ________    ⎞       ________⎫⎤\n",
      "+ 2 ⎠⋅╲╱ √3 + 2 ⋅⎝╲╱ √3 + 2  + 2⎠, y: ╲╱ √3 + 2 ⎬⎥\n",
      "                                                ⎭⎦\n"
     ]
    }
   ],
   "source": [
    "## we can also solve multi-variable equations\n",
    "y = sp.Symbol('y')\n",
    "EQ = [x**2+y**2-4, x*y-1]\n",
    "## when you ask Sympy to solve eqn it assume f(x)=0 is what\n",
    "## you want to solve for. \n",
    "sol = sp.solve(EQ)\n",
    "sp.pprint(sol)"
   ]
  },
  {
   "cell_type": "code",
   "execution_count": 66,
   "metadata": {},
   "outputs": [
    {
     "name": "stdout",
     "output_type": "stream",
     "text": [
      "⎧    ⎛       _________⎞   _________ ⎛  _________    ⎞       _________⎫\n",
      "⎨x: -⎝-2 + ╲╱ -√3 + 2 ⎠⋅╲╱ -√3 + 2 ⋅⎝╲╱ -√3 + 2  + 2⎠, y: ╲╱ -√3 + 2 ⎬\n",
      "⎩                                                                    ⎭\n"
     ]
    }
   ],
   "source": [
    "## solutions generally are a list of dictionary objects\n",
    "## dictionary objects are always of form\n",
    "## (sympy variable, value of that variable)\n",
    "sp.pprint(sol[1])"
   ]
  },
  {
   "cell_type": "code",
   "execution_count": 68,
   "metadata": {},
   "outputs": [
    {
     "name": "stdout",
     "output_type": "stream",
     "text": [
      "x 1.93185165257814\n",
      "y 0.517638090205041\n"
     ]
    }
   ],
   "source": [
    "for v in sol[1].keys():\n",
    "    print(v, sol[1][v].evalf())"
   ]
  },
  {
   "cell_type": "code",
   "execution_count": 73,
   "metadata": {},
   "outputs": [
    {
     "data": {
      "text/plain": [
       "(-3, 3)"
      ]
     },
     "execution_count": 73,
     "metadata": {},
     "output_type": "execute_result"
    },
    {
     "data": {
      "image/png": "[encoded data removed]",
      "text/plain": [
       "<Figure size 720x720 with 1 Axes>"
      ]
     },
     "metadata": {
      "needs_background": "light"
     },
     "output_type": "display_data"
    }
   ],
   "source": [
    "## Let's try to plot the solutions\n",
    "fig, ax = plt.subplots(figsize=(10,10)) ## big plot!\n",
    "circle = plt.Circle( (0,0), 2, color='r', fill=False)\n",
    "x1 = np.linspace(0.2, 4) ## for plotting the hyperbola\n",
    "y1 = x1**(-1)\n",
    "ax.plot(x1, y1, '-') ## upper blue hyperbola\n",
    "\n",
    "x2 = np.linspace(-4, -0.2)\n",
    "y2 = x2**(-1)\n",
    "ax.plot(x2, y2, '-') ## lower orange hyperbola\n",
    "\n",
    "ax.set_title('Visualizing solutions', fontsize=10) ## big font\n",
    "\n",
    "## yellow dots for the intersection i.e. the solution.\n",
    "ax.plot([sol[i][x].evalf() for i in range(len(sol))],\\\n",
    "       [sol[i][y].evalf() for i in range(len(sol))], 'yo', markersize=10)\n",
    "\n",
    "fig.gca().add_artist(circle)\n",
    "ax.set_xlim(-3,3)\n",
    "ax.set_ylim(-3,3)"
   ]
  },
  {
   "cell_type": "code",
   "execution_count": 25,
   "metadata": {},
   "outputs": [
    {
     "name": "stdout",
     "output_type": "stream",
     "text": [
      "0.159154943091895⋅c + 1.5707963267949\n"
     ]
    }
   ],
   "source": [
    "## Newton's Iterator:\n",
    "import sympy as sp\n",
    "x,c,a,b=sp.symbols('x c a b')\n",
    "def f(x):\n",
    "    return x**2+c\n",
    "def newton_iter(x):\n",
    "    x=f(x)/f(x).diff(x)\n",
    "    return x\n",
    "sp.pprint(newton_iter(x).subs(x,sp.pi).evalf()) # This is slow AF not recommended...\n"
   ]
  },
  {
   "cell_type": "code",
   "execution_count": 31,
   "metadata": {},
   "outputs": [
    {
     "name": "stdout",
     "output_type": "stream",
     "text": [
      "           2\n",
      "1.0 + 0.5⋅π \n",
      "────────────\n",
      "     π      \n"
     ]
    }
   ],
   "source": [
    "IT=sp.lambdify(x,newton_iter(x).subs(c,2))\n",
    "sp.pprint(IT(sp.pi))"
   ]
  },
  {
   "cell_type": "code",
   "execution_count": 43,
   "metadata": {},
   "outputs": [
    {
     "name": "stdout",
     "output_type": "stream",
     "text": [
      "-0.41421356237309515\n",
      "0.08578643762690485\n",
      "0.002453104293571595\n",
      "2.1239014147411694e-06\n",
      "1.5947243525715749e-12\n"
     ]
    }
   ],
   "source": [
    "import math as ma\n",
    "x=1.0\n",
    "for i in range(5):\n",
    "    print(x-ma.sqrt(2))\n",
    "    x=IT(x)"
   ]
  },
  {
   "cell_type": "code",
   "execution_count": 63,
   "metadata": {},
   "outputs": [
    {
     "data": {
      "image/png": "[encoded data removed]",
      "text/plain": [
       "<Figure size 432x288 with 1 Axes>"
      ]
     },
     "metadata": {
      "needs_background": "light"
     },
     "output_type": "display_data"
    }
   ],
   "source": [
    "## Global introspection into newtons method.\n",
    "# For a function f(X) want to plot the whole function\n",
    "# for an initial guess x_0 plot on the x-axis\n",
    "# plot all of ht enewton iterates\n",
    "x=sp.Symbol('x')\n",
    "import numpy as np\n",
    "import math as ma\n",
    "import matplotlib.pyplot as plt\n",
    "%matplotlib inline\n",
    "F=sp.lambdify(x,x**2-2)\n",
    "def main():\n",
    "    # Coordinates\n",
    "    xl=[0.1]\n",
    "    yl=[0.0]\n",
    "    for i in range(4):\n",
    "        xl.append(xl[-1])\n",
    "        yl.append(f(xl[-1]))\n",
    "        xl.append(IT(xl[-1]))\n",
    "        yl.append(0.0)\n",
    "    dom = np.linspace(min(xl),max(xl),1000)\n",
    "    plt.plot(dom,[F(x) for x in dom], color='green',label='$x^2-2$')\n",
    "    plt.plot(xl,yl,color='orange',label='Newt')\n",
    "    plt.plot(dom, [0 for x in dom],color='black')\n",
    "    plt.plot(xl[0],yl[0],color='purple')\n",
    "    plt.plot([xl[0]],[yl[0]],'r1')\n",
    "    plt.plot([xl[-1]],[yl[-1]],'bo')\n",
    "main()"
   ]
  }
 ],
 "metadata": {
  "kernelspec": {
   "display_name": "Python 3",
   "language": "python",
   "name": "python3"
  },
  "language_info": {
   "codemirror_mode": {
    "name": "ipython",
    "version": 3
   },
   "file_extension": ".py",
   "mimetype": "text/x-python",
   "name": "python",
   "nbconvert_exporter": "python",
   "pygments_lexer": "ipython3",
   "version": "3.6.7"
  }
 },
 "nbformat": 4,
 "nbformat_minor": 2
}
