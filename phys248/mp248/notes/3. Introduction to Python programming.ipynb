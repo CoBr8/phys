{
 "cells": [
  {
   "cell_type": "markdown",
   "metadata": {},
   "source": [
    "# 3 Intro to Python language\n",
    "\n",
    "The main programming environment in this class will be [Python](https://www.python.org), and specifically the interactive [ipython](http://ipython.org) environment. The latter provides in combination with the [matplotlib](http://matplotlib.org) package and further extension packages, such as [numpy](http://www.numpy.org), [scipy](http://www.scipy.org) and [sympy](http://www.sympy.org) a very powerful environment for scientific and mathematical computing. There are many, many other extension packages.\n",
    "\n",
    "One of many available resources is the [Python Tutorial](https://docs.python.org/3/tutorial) which provides more detail and is more comprehensive compared to our coverage here. "
   ]
  },
  {
   "cell_type": "markdown",
   "metadata": {},
   "source": [
    "### Loading libraries\n",
    "* A key python feature: modules providing additional functionality, such as `numpy` \n",
    "* Load libraries such as numpy: `import numpy as np`"
   ]
  },
  {
   "cell_type": "code",
   "execution_count": null,
   "metadata": {},
   "outputs": [],
   "source": [
    "import numpy as np\n",
    "np.sqrt(4)"
   ]
  },
  {
   "cell_type": "markdown",
   "metadata": {},
   "source": [
    "## Basic python language elements and tasks in python\n",
    "\n",
    "### Variables\n",
    "Variables and choosing variable names: \n",
    "- don't use possible function names or other things as variable names that could mean something, such as `and, as, assert, break, class, continue, def, del, elif, else, except, False, finally, for, from, global, if, import, in, is, lambda, None, nonlocal, not, or, pass, raise, return, True, try, with, while,` and `yield`\n",
    "- use mnemonic names\n",
    "- be mindful of name space, more of that later"
   ]
  },
  {
   "cell_type": "code",
   "execution_count": null,
   "metadata": {},
   "outputs": [],
   "source": [
    "ifb=3               # this is not a good name\n",
    "i_frame_buffer = 3  # this is a better name, maybe a bit too long\n",
    "iframbuf = 3        # compromise"
   ]
  },
  {
   "cell_type": "markdown",
   "metadata": {},
   "source": [
    "### Data types\n",
    "There are [numerous data types](https://en.wikibooks.org/wiki/Python_Programming/Data_Types) for different use cases. An import difference between objects is whether they are [mutable or immutable types](https://en.wikibooks.org/wiki/Python_Programming/Data_Types#Mutable_vs_Immutable_Objects). For example, arrays are mutable, their elements can be changed. (This can lead in practice to [unexpected results](https://gist.github.com/fherwig/48b3fc2a920833c6077891982ad122d7).) Tupples are immutable.\n",
    "\n",
    "Here are some of the most important:\n",
    "\n",
    "Immutable types | comment | example\n",
    "---|---|---\n",
    "integer | can be written without a fractional component | `i = 2`\n",
    "floats | real numbers, come in different precision, i.e. `float64` | `x = 2.1145`, `np.pi`\n",
    "complex | complex numbers, e.g. scipy.sqrt(-1) | `1j`\n",
    "strings | a sequence of characters | `name='Alfred'`\n",
    "tuple | immutable list of numbers | `a=(1,2,3)`"
   ]
  },
  {
   "cell_type": "code",
   "execution_count": 8,
   "metadata": {},
   "outputs": [
    {
     "data": {
      "text/plain": [
       "\u001b[0;31mType:\u001b[0m        str\n",
       "\u001b[0;31mString form:\u001b[0m Claudia\n",
       "\u001b[0;31mLength:\u001b[0m      7\n",
       "\u001b[0;31mDocstring:\u001b[0m  \n",
       "str(object='') -> str\n",
       "str(bytes_or_buffer[, encoding[, errors]]) -> str\n",
       "\n",
       "Create a new string object from the given object. If encoding or\n",
       "errors is specified, then the object must expose a data buffer\n",
       "that will be decoded using the given encoding and error handler.\n",
       "Otherwise, returns the result of object.__str__() (if defined)\n",
       "or repr(object).\n",
       "encoding defaults to sys.getdefaultencoding().\n",
       "errors defaults to 'strict'.\n"
      ]
     },
     "metadata": {},
     "output_type": "display_data"
    }
   ],
   "source": [
    "first_name='Claudia'\n",
    "first_name?"
   ]
  },
  {
   "cell_type": "markdown",
   "metadata": {},
   "source": [
    "Mutable types | comment | example\n",
    "---|---|---\n",
    "lists | a list of any combination of data types | `mylist = [1,np.pi,name,a,'Hello World!`]\n",
    "arrays | a numpy construct, vectors or higher dimenstional, contains numbers | `b=np.array(a,dtype='float64')`\n",
    "dictionary | elements given by key | `ages = {'Anna':25,'Frank':17,'Gandalf':107}`"
   ]
  },
  {
   "cell_type": "code",
   "execution_count": 26,
   "metadata": {},
   "outputs": [
    {
     "name": "stdout",
     "output_type": "stream",
     "text": [
      "[1, 3.141592653589793, 'Claudia', 2.0, 'Hello World!']\n",
      "Claudia 987.0\n"
     ]
    }
   ],
   "source": [
    "import numpy as np\n",
    "a=np.sqrt( 4 )\n",
    "mylist = [ 1 , np.pi , first_name , a , 'Hello World!' ]\n",
    "print( mylist )\n",
    "abc_list = [ mylist , 987. ]\n",
    "print( abc_list[0][2] , abc_list[1] )\n"
   ]
  },
  {
   "cell_type": "markdown",
   "metadata": {},
   "source": [
    "#### Scalar variables and lists"
   ]
  },
  {
   "cell_type": "code",
   "execution_count": 27,
   "metadata": {},
   "outputs": [
    {
     "name": "stdout",
     "output_type": "stream",
     "text": [
      "(11-10j) (2+6j)\n"
     ]
    }
   ],
   "source": [
    "i = 2                   #  integer\n",
    "a = 4.2                 #  float\n",
    "z=3+2j; y=1-4j          #  complex\n",
    "print(z*y,z-y)"
   ]
  },
  {
   "cell_type": "code",
   "execution_count": 5,
   "metadata": {},
   "outputs": [
    {
     "name": "stdout",
     "output_type": "stream",
     "text": [
      "[2, 'b', 'Frank']\n",
      "[2, 'b', 'Frank', '[7,6]']\n"
     ]
    }
   ],
   "source": [
    "c = 'Frank'             # a character\n",
    "a_list = [2, 'b']       # a list\n",
    "a_list.append(c)        # append an element to list \n",
    "print(a_list)\n",
    "a_list.append('[7,6]')  # append list item to list\n",
    "print(a_list)"
   ]
  },
  {
   "cell_type": "markdown",
   "metadata": {},
   "source": [
    "#### Create or add to lists"
   ]
  },
  {
   "cell_type": "code",
   "execution_count": 6,
   "metadata": {},
   "outputs": [],
   "source": [
    "a_list.append(5)    # append is a method associated with the list object"
   ]
  },
  {
   "cell_type": "code",
   "execution_count": 7,
   "metadata": {},
   "outputs": [
    {
     "data": {
      "text/plain": [
       "[2, 'b', 'Frank', '[7,6]', 5]"
      ]
     },
     "execution_count": 7,
     "metadata": {},
     "output_type": "execute_result"
    }
   ],
   "source": [
    "a_list"
   ]
  },
  {
   "cell_type": "markdown",
   "metadata": {},
   "source": [
    "An effective way to generate a list with an integer sequence of number is with the [range](https://docs.python.org/2/library/functions.html#range) function, which is a list generator:"
   ]
  },
  {
   "cell_type": "code",
   "execution_count": 8,
   "metadata": {},
   "outputs": [
    {
     "data": {
      "text/plain": [
       "[0, 1, 2, 3, 4, 5]"
      ]
     },
     "execution_count": 8,
     "metadata": {},
     "output_type": "execute_result"
    }
   ],
   "source": [
    "jlist = list(range(0,6))\n",
    "jlist"
   ]
  },
  {
   "cell_type": "markdown",
   "metadata": {},
   "source": [
    "The same and more could be accomplished with an implicit or implied `for` loop, also refered to as _list comprehension_:"
   ]
  },
  {
   "cell_type": "code",
   "execution_count": 9,
   "metadata": {},
   "outputs": [
    {
     "data": {
      "text/plain": [
       "[0, 3, 6, 9, 12, 15, 18]"
      ]
     },
     "execution_count": 9,
     "metadata": {},
     "output_type": "execute_result"
    }
   ],
   "source": [
    "ilist = [i for i in range(0,21,3)]\n",
    "ilist"
   ]
  },
  {
   "cell_type": "markdown",
   "metadata": {},
   "source": [
    "In the above example, what is the role of the third argument of `range`?"
   ]
  },
  {
   "cell_type": "markdown",
   "metadata": {},
   "source": [
    "#### Dictionaries"
   ]
  },
  {
   "cell_type": "code",
   "execution_count": 2,
   "metadata": {},
   "outputs": [
    {
     "data": {
      "text/plain": [
       "{'Paul': 54}"
      ]
     },
     "execution_count": 2,
     "metadata": {},
     "output_type": "execute_result"
    }
   ],
   "source": [
    "ages={}\n",
    "ages[\"Paul\"]=54\n",
    "ages"
   ]
  },
  {
   "cell_type": "code",
   "execution_count": 7,
   "metadata": {},
   "outputs": [
    {
     "name": "stdout",
     "output_type": "stream",
     "text": [
      "17\n"
     ]
    }
   ],
   "source": [
    "ages = {'Anna':25,'Frank':17,'Gandalf':107}  # a dictionary\n",
    "print(ages['Frank'])"
   ]
  },
  {
   "cell_type": "code",
   "execution_count": 11,
   "metadata": {},
   "outputs": [
    {
     "data": {
      "text/plain": [
       "dict_values([25, 17, 107])"
      ]
     },
     "execution_count": 11,
     "metadata": {},
     "output_type": "execute_result"
    }
   ],
   "source": [
    "ages.values()"
   ]
  },
  {
   "cell_type": "markdown",
   "metadata": {},
   "source": [
    "#### Working with numbers and strings\n",
    "* Convert scalars"
   ]
  },
  {
   "cell_type": "code",
   "execution_count": 12,
   "metadata": {},
   "outputs": [
    {
     "name": "stdout",
     "output_type": "stream",
     "text": [
      "Float:  2.0 , String:  2\n"
     ]
    }
   ],
   "source": [
    "i=2\n",
    "print(\"Float: \",float(i), \", String: \",str(i))"
   ]
  },
  {
   "cell_type": "code",
   "execution_count": 13,
   "metadata": {},
   "outputs": [
    {
     "data": {
      "text/plain": [
       "'Frank is 2'"
      ]
     },
     "execution_count": 13,
     "metadata": {},
     "output_type": "execute_result"
    }
   ],
   "source": [
    "'Frank is '+str(i)"
   ]
  },
  {
   "cell_type": "markdown",
   "metadata": {},
   "source": [
    "* Adding strings"
   ]
  },
  {
   "cell_type": "code",
   "execution_count": 15,
   "metadata": {},
   "outputs": [],
   "source": [
    "import numpy as np"
   ]
  },
  {
   "cell_type": "code",
   "execution_count": 16,
   "metadata": {},
   "outputs": [
    {
     "data": {
      "text/plain": [
       "'2Hello3.141592653589793'"
      ]
     },
     "execution_count": 16,
     "metadata": {},
     "output_type": "execute_result"
    }
   ],
   "source": [
    "str(i)+\"Hello\"+str(np.pi)"
   ]
  },
  {
   "cell_type": "markdown",
   "metadata": {},
   "source": [
    "* Slicing"
   ]
  },
  {
   "cell_type": "code",
   "execution_count": 17,
   "metadata": {},
   "outputs": [
    {
     "data": {
      "text/plain": [
       "'a-report-data.da'"
      ]
     },
     "execution_count": 17,
     "metadata": {},
     "output_type": "execute_result"
    }
   ],
   "source": [
    "filename='aaa-report-data.dat'\n",
    "filename[2:-1]"
   ]
  },
  {
   "cell_type": "markdown",
   "metadata": {},
   "source": [
    "* [Arithmetic operators](https://www.programiz.com/python-programming/operators#arithmetic)"
   ]
  },
  {
   "cell_type": "code",
   "execution_count": 18,
   "metadata": {},
   "outputs": [
    {
     "data": {
      "text/plain": [
       "4"
      ]
     },
     "execution_count": 18,
     "metadata": {},
     "output_type": "execute_result"
    }
   ],
   "source": [
    "2+2  # int and int returns int \n",
    "     # (holds for subtraction and multiplication as well)"
   ]
  },
  {
   "cell_type": "code",
   "execution_count": 19,
   "metadata": {},
   "outputs": [
    {
     "data": {
      "text/plain": [
       "0.3333333333333333"
      ]
     },
     "execution_count": 19,
     "metadata": {},
     "output_type": "execute_result"
    }
   ],
   "source": [
    "1/3  # float division"
   ]
  },
  {
   "cell_type": "code",
   "execution_count": 20,
   "metadata": {},
   "outputs": [
    {
     "data": {
      "text/plain": [
       "1"
      ]
     },
     "execution_count": 20,
     "metadata": {},
     "output_type": "execute_result"
    }
   ],
   "source": [
    "4//3 # floor division"
   ]
  },
  {
   "cell_type": "code",
   "execution_count": 21,
   "metadata": {},
   "outputs": [
    {
     "data": {
      "text/plain": [
       "2"
      ]
     },
     "execution_count": 21,
     "metadata": {},
     "output_type": "execute_result"
    }
   ],
   "source": [
    "7%5  # modulus"
   ]
  },
  {
   "cell_type": "markdown",
   "metadata": {},
   "source": [
    "#### Algebra\n",
    "We can use variables we have already assigned and create new ones."
   ]
  },
  {
   "cell_type": "code",
   "execution_count": 38,
   "metadata": {},
   "outputs": [
    {
     "name": "stdout",
     "output_type": "stream",
     "text": [
      "111\n"
     ]
    }
   ],
   "source": [
    "g=111\n",
    "print( g )"
   ]
  },
  {
   "cell_type": "code",
   "execution_count": 36,
   "metadata": {},
   "outputs": [
    {
     "name": "stdout",
     "output_type": "stream",
     "text": [
      "10.4\n"
     ]
    }
   ],
   "source": [
    "g = 2 * a + 2\n",
    "print( g )"
   ]
  },
  {
   "cell_type": "code",
   "execution_count": 33,
   "metadata": {},
   "outputs": [
    {
     "name": "stdout",
     "output_type": "stream",
     "text": [
      "3.05\n"
     ]
    }
   ],
   "source": [
    "print( 2 + a / 4 )"
   ]
  },
  {
   "cell_type": "code",
   "execution_count": 31,
   "metadata": {},
   "outputs": [
    {
     "name": "stdout",
     "output_type": "stream",
     "text": [
      "1.55\n"
     ]
    }
   ],
   "source": [
    "print( (2 + a) / 4 )  #be careful where you place brackets"
   ]
  },
  {
   "cell_type": "markdown",
   "metadata": {},
   "source": [
    "#### Array creation"
   ]
  },
  {
   "cell_type": "code",
   "execution_count": 39,
   "metadata": {},
   "outputs": [
    {
     "name": "stdout",
     "output_type": "stream",
     "text": [
      "[ 0.76  2.3   3.84  5.38  6.92  8.46 10.  ]\n"
     ]
    }
   ],
   "source": [
    "x = np.linspace( 0.76 , 10 , 7 ) # a numerical array, floats\n",
    "print( x )"
   ]
  },
  {
   "cell_type": "markdown",
   "metadata": {},
   "source": [
    "#### Dictionaries"
   ]
  },
  {
   "cell_type": "markdown",
   "metadata": {},
   "source": [
    "#### Boolean"
   ]
  },
  {
   "cell_type": "code",
   "execution_count": 52,
   "metadata": {},
   "outputs": [],
   "source": [
    "istrue = True    # boolean"
   ]
  },
  {
   "cell_type": "code",
   "execution_count": 73,
   "metadata": {},
   "outputs": [
    {
     "name": "stdout",
     "output_type": "stream",
     "text": [
      "It is true! \n"
     ]
    }
   ],
   "source": [
    "# check for boolean\n",
    "if True:\n",
    "    print('It is true! ')"
   ]
  },
  {
   "cell_type": "code",
   "execution_count": 74,
   "metadata": {},
   "outputs": [
    {
     "data": {
      "text/plain": [
       "bool"
      ]
     },
     "execution_count": 74,
     "metadata": {},
     "output_type": "execute_result"
    }
   ],
   "source": [
    "# if in doubt what something is - just ask:\n",
    "#x?\n",
    "#or\n",
    "type(istrue)"
   ]
  },
  {
   "cell_type": "code",
   "execution_count": 31,
   "metadata": {},
   "outputs": [
    {
     "name": "stdout",
     "output_type": "stream",
     "text": [
      "<class 'numpy.ndarray'> <class 'float'>\n"
     ]
    }
   ],
   "source": [
    "# type of a variable\n",
    "print(type(x), type(a))"
   ]
  },
  {
   "cell_type": "code",
   "execution_count": 82,
   "metadata": {},
   "outputs": [
    {
     "name": "stdout",
     "output_type": "stream",
     "text": [
      "Variable a is a float!\n"
     ]
    }
   ],
   "source": [
    "# we can check for the type:\n",
    "if type(a) != \"float\":\n",
    "    print('Variable a is a float!')"
   ]
  },
  {
   "cell_type": "code",
   "execution_count": 34,
   "metadata": {},
   "outputs": [
    {
     "name": "stdout",
     "output_type": "stream",
     "text": [
      "Variable a is a float!\n"
     ]
    }
   ],
   "source": [
    "# why did this not work? type is not of type string!\n",
    "if type(a) == float:\n",
    "    print('Variable a is a float!')"
   ]
  },
  {
   "cell_type": "markdown",
   "metadata": {},
   "source": [
    "#### Printing, formatting text and numbers\n",
    "\n",
    "* slicing of arrays"
   ]
  },
  {
   "cell_type": "code",
   "execution_count": 35,
   "metadata": {},
   "outputs": [
    {
     "data": {
      "text/plain": [
       "array([ 0.76,  2.3 ,  3.84,  5.38,  6.92,  8.46, 10.  ])"
      ]
     },
     "execution_count": 35,
     "metadata": {},
     "output_type": "execute_result"
    }
   ],
   "source": [
    "x"
   ]
  },
  {
   "cell_type": "code",
   "execution_count": 36,
   "metadata": {},
   "outputs": [
    {
     "name": "stdout",
     "output_type": "stream",
     "text": [
      "[3.84 5.38]\n"
     ]
    }
   ],
   "source": [
    "print(x[2:4])"
   ]
  },
  {
   "cell_type": "markdown",
   "metadata": {},
   "source": [
    "* formatted output (we will often want the answer of a problem in a formatted output statement!)"
   ]
  },
  {
   "cell_type": "code",
   "execution_count": 40,
   "metadata": {},
   "outputs": [
    {
     "name": "stdout",
     "output_type": "stream",
     "text": [
      "0     Frank made 2 measurements, the first was    7.6E-01 and the average was a = 4.2\n"
     ]
    }
   ],
   "source": [
    "print(\"0%10s made %d measurements, the first was %10.1E\\\n",
    " and the average was a = %g\" % (c,i,x[0],a))"
   ]
  },
  {
   "cell_type": "code",
   "execution_count": 41,
   "metadata": {},
   "outputs": [],
   "source": [
    "ctest=\"0%10s made %d measurements, the first was %10.1E\\\n",
    " and the average was a = %g\" % (c,i,x[0],a)"
   ]
  },
  {
   "cell_type": "code",
   "execution_count": 42,
   "metadata": {},
   "outputs": [
    {
     "data": {
      "text/plain": [
       "'0     Frank made 2 measurements, the first was    7.6E-01 and the average was a = 4.2'"
      ]
     },
     "execution_count": 42,
     "metadata": {},
     "output_type": "execute_result"
    }
   ],
   "source": [
    "ctest"
   ]
  },
  {
   "cell_type": "markdown",
   "metadata": {},
   "source": [
    "Commonly used `printf` format specifications:\n",
    "```\n",
    "%s a string\n",
    "%d an integer\n",
    "%0xd an integer padded with x leading zeros\n",
    "%f decimal notation with six decimals\n",
    "%e compact scientific notation, e in the exponent \n",
    "%E compact scientific notation, E in the exponent \n",
    "%g compact decimal or scientific notation (with e) \n",
    "%G compact decimal or scientific notation (with E) \n",
    "%xz format z right-adjusted in a field of width x \n",
    "%-xz format z left-adjusted in a field of width x \n",
    "%.yz format z with y decimals\n",
    "%x.yz format z with y decimals in a field of width x \n",
    "%% the percentage sign (%) itself\n",
    "```"
   ]
  },
  {
   "cell_type": "markdown",
   "metadata": {},
   "source": [
    "#### Input/output"
   ]
  },
  {
   "cell_type": "code",
   "execution_count": 45,
   "metadata": {},
   "outputs": [
    {
     "name": "stdin",
     "output_type": "stream",
     "text": [
      "Voltage: [V] 110\n"
     ]
    }
   ],
   "source": [
    "# ask for user input:\n",
    "user_input = input(\"Voltage: [V]\")"
   ]
  },
  {
   "cell_type": "code",
   "execution_count": 46,
   "metadata": {},
   "outputs": [
    {
     "name": "stdout",
     "output_type": "stream",
     "text": [
      "User voltage is 110V.\n"
     ]
    }
   ],
   "source": [
    "print('User voltage is %gV.' % float(user_input))"
   ]
  },
  {
   "cell_type": "code",
   "execution_count": 55,
   "metadata": {},
   "outputs": [],
   "source": [
    "# writing a file\n",
    "f = open('test.txt',mode='w')\n",
    "f.write(\"1 2 3 \\n4 5 6 \\n7 8 9\")\n",
    "f.close()"
   ]
  },
  {
   "cell_type": "code",
   "execution_count": 57,
   "metadata": {},
   "outputs": [
    {
     "name": "stdout",
     "output_type": "stream",
     "text": [
      "1 2 3 \n",
      "4 5 6 \n",
      "7 8 9"
     ]
    }
   ],
   "source": [
    "!cat test.txt"
   ]
  },
  {
   "cell_type": "code",
   "execution_count": 56,
   "metadata": {},
   "outputs": [
    {
     "name": "stdout",
     "output_type": "stream",
     "text": [
      "1 2 3 \n",
      "\n",
      "4 5 6 \n",
      "\n",
      "7 8 9\n"
     ]
    }
   ],
   "source": [
    "# reading a file\n",
    "g = open('test.txt','r')\n",
    "for line in g:\n",
    "    print(line)\n",
    "g.close()"
   ]
  },
  {
   "cell_type": "code",
   "execution_count": 58,
   "metadata": {},
   "outputs": [],
   "source": [
    "g_array = np.loadtxt('test.txt')"
   ]
  },
  {
   "cell_type": "code",
   "execution_count": 59,
   "metadata": {},
   "outputs": [
    {
     "name": "stdout",
     "output_type": "stream",
     "text": [
      "[[1. 2. 3.]\n",
      " [4. 5. 6.]\n",
      " [7. 8. 9.]]\n"
     ]
    }
   ],
   "source": [
    "print(g_array)"
   ]
  },
  {
   "cell_type": "code",
   "execution_count": 61,
   "metadata": {},
   "outputs": [
    {
     "data": {
      "text/plain": [
       "6.0"
      ]
     },
     "execution_count": 61,
     "metadata": {},
     "output_type": "execute_result"
    }
   ],
   "source": [
    "g_array[1][2]"
   ]
  },
  {
   "cell_type": "markdown",
   "metadata": {},
   "source": [
    "#### Flow control: for and while loops, if statement"
   ]
  },
  {
   "cell_type": "code",
   "execution_count": 62,
   "metadata": {},
   "outputs": [
    {
     "data": {
      "text/plain": [
       "range(0, 5)"
      ]
     },
     "execution_count": 62,
     "metadata": {},
     "output_type": "execute_result"
    }
   ],
   "source": [
    "range(5)"
   ]
  },
  {
   "cell_type": "code",
   "execution_count": 65,
   "metadata": {},
   "outputs": [
    {
     "name": "stdout",
     "output_type": "stream",
     "text": [
      "1\n",
      "3\n",
      "Hello World!\n"
     ]
    }
   ],
   "source": [
    "# if statement\n",
    "for i in range(1,8,2):\n",
    "    if i < 4:\n",
    "        print(i)\n",
    "print('Hello World!')"
   ]
  },
  {
   "cell_type": "code",
   "execution_count": null,
   "metadata": {},
   "outputs": [],
   "source": [
    "# another if example\n",
    "print(i)\n",
    "if i > 1:\n",
    "    print(i)"
   ]
  },
  {
   "cell_type": "code",
   "execution_count": 71,
   "metadata": {},
   "outputs": [
    {
     "name": "stdout",
     "output_type": "stream",
     "text": [
      "0\n",
      "1\n",
      "2\n",
      "3\n"
     ]
    }
   ],
   "source": [
    "# while statement\n",
    "i=0\n",
    "while i < 4:\n",
    "    print(i)\n",
    "    i += 1\n",
    "    "
   ]
  },
  {
   "cell_type": "code",
   "execution_count": 67,
   "metadata": {},
   "outputs": [],
   "source": [
    "# for loop\n",
    "things = ['abc', 'def', 'ghi']\n",
    "modified_things = []\n",
    "for thing in things:\n",
    "    mod_thing = thing[0]\n",
    "    modified_things.append(mod_thing+\"_label\")  "
   ]
  },
  {
   "cell_type": "code",
   "execution_count": 68,
   "metadata": {},
   "outputs": [
    {
     "data": {
      "text/plain": [
       "['a_label', 'd_label', 'g_label']"
      ]
     },
     "execution_count": 68,
     "metadata": {},
     "output_type": "execute_result"
    }
   ],
   "source": [
    "modified_things"
   ]
  },
  {
   "cell_type": "markdown",
   "metadata": {},
   "source": [
    "Syntax in python: formatting matters!"
   ]
  },
  {
   "cell_type": "code",
   "execution_count": 69,
   "metadata": {},
   "outputs": [],
   "source": [
    "# implied loops, list comprehension\n",
    "modified_things = [thing[0]+\"_label\" for thing in things]"
   ]
  },
  {
   "cell_type": "code",
   "execution_count": 70,
   "metadata": {},
   "outputs": [
    {
     "data": {
      "text/plain": [
       "['a_label', 'd_label', 'g_label']"
      ]
     },
     "execution_count": 70,
     "metadata": {},
     "output_type": "execute_result"
    }
   ],
   "source": [
    "modified_things"
   ]
  },
  {
   "cell_type": "markdown",
   "metadata": {},
   "source": [
    "Another example: reading data from text file and mangling data in a for loop"
   ]
  },
  {
   "cell_type": "code",
   "execution_count": 74,
   "metadata": {},
   "outputs": [
    {
     "name": "stdout",
     "output_type": "stream",
     "text": [
      "data/iniab1.4E-02As09.ppn\n",
      "  1 h   1         7.1538567255E-01\n",
      "  2 he  4         2.7025513111E-01\n",
      "  6 c  12         2.4825306734E-03\n",
      "  6 c  13         3.0083012115E-05\n",
      "  7 n  14         7.3396723494E-04\n",
      "  7 n  15         1.8049744286E-06 "
     ]
    }
   ],
   "source": [
    "# show file\n",
    "!ls data/iniab1.4E-02As09.ppn\n",
    "# show content of file\n",
    "!cat data/iniab1.4E-02As09.ppn"
   ]
  },
  {
   "cell_type": "code",
   "execution_count": 82,
   "metadata": {},
   "outputs": [],
   "source": [
    "# open file and attach to file object variable\n",
    "f.close()\n",
    "f=open('data/iniab1.4E-02As09.ppn')"
   ]
  },
  {
   "cell_type": "code",
   "execution_count": 81,
   "metadata": {},
   "outputs": [
    {
     "data": {
      "text/plain": [
       "['  1 h   1         7.1538567255E-01\\n',\n",
       " '  2 he  4         2.7025513111E-01\\n',\n",
       " '  6 c  12         2.4825306734E-03\\n',\n",
       " '  6 c  13         3.0083012115E-05\\n',\n",
       " '  7 n  14         7.3396723494E-04\\n',\n",
       " '  7 n  15         1.8049744286E-06 ']"
      ]
     },
     "execution_count": 81,
     "metadata": {},
     "output_type": "execute_result"
    }
   ],
   "source": [
    "# what is in f\n",
    "f.readlines()"
   ]
  },
  {
   "cell_type": "code",
   "execution_count": 83,
   "metadata": {},
   "outputs": [],
   "source": [
    "# read data and save it into variables\n",
    "ind=[];elem=[];A=[];X=[]\n",
    "i=0\n",
    "for line in f.readlines():\n",
    "    a,b,c,d=line.split()\n",
    "    i += 1         # the first column in the file contains the charge \n",
    "    ind.append(i)  # number; we don't need it, but an index variable \n",
    "    elem.append(b) # would be useful\n",
    "    A.append(c)\n",
    "    X.append(d)"
   ]
  },
  {
   "cell_type": "code",
   "execution_count": 84,
   "metadata": {},
   "outputs": [
    {
     "name": "stdout",
     "output_type": "stream",
     "text": [
      "1 h 1 7.1538567255E-01\n",
      "2 he 4 2.7025513111E-01\n",
      "3 c 12 2.4825306734E-03\n",
      "4 c 13 3.0083012115E-05\n",
      "5 n 14 7.3396723494E-04\n",
      "6 n 15 1.8049744286E-06\n"
     ]
    }
   ],
   "source": [
    "# read ini abund tester\n",
    "for i in range(len(ind)):\n",
    "    print (ind[i],elem[i],A[i],X[i])"
   ]
  },
  {
   "cell_type": "markdown",
   "metadata": {},
   "source": [
    "Often we have two lists and want to do something with each pair, e.g. formatted output. In this case the [zip](https://docs.python.org/3.3/library/functions.html#zip) function is useful: "
   ]
  },
  {
   "cell_type": "code",
   "execution_count": 85,
   "metadata": {},
   "outputs": [
    {
     "name": "stdout",
     "output_type": "stream",
     "text": [
      "  a = 3.00\n",
      "  f = 2.35\n",
      " go = 7.10\n",
      "tot = 6.00\n"
     ]
    }
   ],
   "source": [
    "clist = ['a','f',\"go\",'tot']\n",
    "alist = [3.,2.35456,7.1,6]\n",
    "for c,a in zip(clist,alist):\n",
    "    print(\"%3s = %4.2f\" % (c,a))"
   ]
  },
  {
   "cell_type": "code",
   "execution_count": 87,
   "metadata": {},
   "outputs": [
    {
     "name": "stdout",
     "output_type": "stream",
     "text": [
      "0 a\n",
      "1 f\n",
      "2 go\n",
      "3 tot\n"
     ]
    }
   ],
   "source": [
    "for i,c in enumerate(clist):\n",
    "    print(i,c)"
   ]
  },
  {
   "cell_type": "markdown",
   "metadata": {},
   "source": [
    "#### Operators\n",
    "In the above we use the [augmented assignment](https://docs.python.org/2.0/ref/augassign.html) operator. It is an example of the many operators and constructs that are used to form [python expressions](https://docs.python.org/3/reference/expressions.html#). \n",
    "\n",
    "[Augmented assignments](https://docs.python.org/2.0/ref/augassign.html) are an example of how sometimes details do matter, as can be seen [when applying ]"
   ]
  },
  {
   "cell_type": "markdown",
   "metadata": {},
   "source": [
    "#### Functions \n",
    "- `def` \n",
    "- function arguments: mandatory and optional\n",
    "- lambda functions: "
   ]
  },
  {
   "cell_type": "code",
   "execution_count": 100,
   "metadata": {},
   "outputs": [
    {
     "data": {
      "text/plain": [
       "9"
      ]
     },
     "execution_count": 100,
     "metadata": {},
     "output_type": "execute_result"
    }
   ],
   "source": [
    "def g(x,a=1):\n",
    "    '''\n",
    "    Calculate a*x^2\n",
    "    \n",
    "    Parameters\n",
    "    ----------\n",
    "    x : float \n",
    "    a : float\n",
    "    \n",
    "    Returns\n",
    "    -------\n",
    "    g : float\n",
    "    \\\n",
    "    '''\n",
    "    g = a*x**2\n",
    "    return g\n",
    "g(3)"
   ]
  },
  {
   "cell_type": "code",
   "execution_count": 125,
   "metadata": {},
   "outputs": [
    {
     "data": {
      "text/plain": [
       "\u001b[0;31mSignature:\u001b[0m \u001b[0mg\u001b[0m\u001b[0;34m(\u001b[0m\u001b[0mx\u001b[0m\u001b[0;34m,\u001b[0m \u001b[0ma\u001b[0m\u001b[0;34m=\u001b[0m\u001b[0;36m1\u001b[0m\u001b[0;34m)\u001b[0m\u001b[0;34m\u001b[0m\u001b[0;34m\u001b[0m\u001b[0m\n",
       "\u001b[0;31mDocstring:\u001b[0m\n",
       "Calculate a*x^2\n",
       "\n",
       "Parameters\n",
       "----------\n",
       "x : float \n",
       "a : float\n",
       "\n",
       "Returns\n",
       "-------\n",
       "g : float\n",
       "    \n",
       "\u001b[0;31mFile:\u001b[0m      ~/mp248/notes/<ipython-input-100-fd2ff5fa2d2a>\n",
       "\u001b[0;31mType:\u001b[0m      function\n"
      ]
     },
     "metadata": {},
     "output_type": "display_data"
    }
   ],
   "source": [
    "from pprint import pprint\n",
    "g?"
   ]
  },
  {
   "cell_type": "code",
   "execution_count": 132,
   "metadata": {},
   "outputs": [
    {
     "data": {
      "text/plain": [
       "8.0"
      ]
     },
     "execution_count": 132,
     "metadata": {},
     "output_type": "execute_result"
    }
   ],
   "source": [
    "a = 2.\n",
    "f = lambda x: a*x**2"
   ]
  },
  {
   "cell_type": "markdown",
   "metadata": {},
   "source": [
    "#### Help and documentation\n",
    "* getting help: `help(function)` or `function?`\n",
    "* comments and documentation: doc strings"
   ]
  },
  {
   "cell_type": "markdown",
   "metadata": {},
   "source": [
    "#### Example of using library\n",
    "* random numbers: search for _numpy random_"
   ]
  },
  {
   "cell_type": "code",
   "execution_count": 242,
   "metadata": {},
   "outputs": [
    {
     "name": "stdout",
     "output_type": "stream",
     "text": [
      "0\n",
      "0.3635144989337801\n",
      "0.06838266404325866\n"
     ]
    }
   ],
   "source": [
    "from numpy import random as r\n",
    "a=0\n",
    "while a<=0.5:\n",
    "    print(a)\n",
    "    a=r.random()"
   ]
  }
 ],
 "metadata": {
  "anaconda-cloud": {},
  "kernelspec": {
   "display_name": "Python 3",
   "language": "python",
   "name": "python3"
  },
  "language_info": {
   "codemirror_mode": {
    "name": "ipython",
    "version": 3
   },
   "file_extension": ".py",
   "mimetype": "text/x-python",
   "name": "python",
   "nbconvert_exporter": "python",
   "pygments_lexer": "ipython3",
   "version": "3.6.7"
  }
 },
 "nbformat": 4,
 "nbformat_minor": 2
}
