{
 "cells": [
  {
   "cell_type": "markdown",
   "metadata": {},
   "source": [
    "## 6. Files and OS\n",
    "\n",
    "Issues:\n",
    "\n",
    " * Reading, writing files.  Searching for files. \n",
    " * Dictionaries to keep track of data. \n",
    " "
   ]
  },
  {
   "cell_type": "code",
   "execution_count": 10,
   "metadata": {},
   "outputs": [
    {
     "name": "stdout",
     "output_type": "stream",
     "text": [
      "filesystem root:  ['bin', 'boot', 'dev', 'etc', 'home', 'lib', 'lib64', 'media', 'mnt', 'opt', 'proc', 'root', 'run', 'sbin', 'srv', 'sys', 'tmp', 'usr', 'var', 'user', 'data', '.dockerenv', 'node_modules']\n"
     ]
    },
    {
     "data": {
      "text/plain": [
       "'/home/user/mp248/notes'"
      ]
     },
     "execution_count": 10,
     "metadata": {},
     "output_type": "execute_result"
    }
   ],
   "source": [
    "## lets apply dictionaries to file IO\n",
    "\n",
    "import os as os\n",
    "print(\"filesystem root: \", os.listdir(\"/\")) ## lists all the directories in PWD ##\n",
    "os.uname() ## OS information\n",
    "os.getcwd() ## lists the current working directory\n",
    "os.listdir('.') ## lists all files and directories in '.' (here)\n",
    "os.path.abspath('.') ## lists the absolute path (from root) to this directory"
   ]
  },
  {
   "cell_type": "code",
   "execution_count": 11,
   "metadata": {},
   "outputs": [
    {
     "data": {
      "text/plain": [
       "['bin',\n",
       " 'boot',\n",
       " 'dev',\n",
       " 'etc',\n",
       " 'home',\n",
       " 'lib',\n",
       " 'lib64',\n",
       " 'media',\n",
       " 'mnt',\n",
       " 'opt',\n",
       " 'proc',\n",
       " 'root',\n",
       " 'run',\n",
       " 'sbin',\n",
       " 'srv',\n",
       " 'sys',\n",
       " 'tmp',\n",
       " 'usr',\n",
       " 'var',\n",
       " 'user',\n",
       " 'data',\n",
       " '.dockerenv',\n",
       " 'node_modules']"
      ]
     },
     "execution_count": 11,
     "metadata": {},
     "output_type": "execute_result"
    }
   ],
   "source": [
    "os.listdir('/') ## Lists all the directories in '/' (root) ##"
   ]
  },
  {
   "cell_type": "code",
   "execution_count": 12,
   "metadata": {},
   "outputs": [
    {
     "data": {
      "text/plain": [
       "False"
      ]
     },
     "execution_count": 12,
     "metadata": {},
     "output_type": "execute_result"
    }
   ],
   "source": [
    "os.path.isfile(\"/run\")"
   ]
  },
  {
   "cell_type": "code",
   "execution_count": 13,
   "metadata": {},
   "outputs": [
    {
     "data": {
      "text/plain": [
       "True"
      ]
     },
     "execution_count": 13,
     "metadata": {},
     "output_type": "execute_result"
    }
   ],
   "source": [
    "os.path.isdir(\"/run\")"
   ]
  },
  {
   "cell_type": "code",
   "execution_count": 16,
   "metadata": {},
   "outputs": [
    {
     "name": "stdout",
     "output_type": "stream",
     "text": [
      "<class 'posix.DirEntry'> <DirEntry 'bin'> True\n",
      "<class 'posix.DirEntry'> <DirEntry 'boot'> True\n",
      "<class 'posix.DirEntry'> <DirEntry 'dev'> True\n",
      "<class 'posix.DirEntry'> <DirEntry 'etc'> True\n",
      "<class 'posix.DirEntry'> <DirEntry 'home'> True\n",
      "<class 'posix.DirEntry'> <DirEntry 'lib'> True\n",
      "<class 'posix.DirEntry'> <DirEntry 'lib64'> True\n",
      "<class 'posix.DirEntry'> <DirEntry 'media'> True\n",
      "<class 'posix.DirEntry'> <DirEntry 'mnt'> True\n",
      "<class 'posix.DirEntry'> <DirEntry 'opt'> True\n",
      "<class 'posix.DirEntry'> <DirEntry 'proc'> True\n",
      "<class 'posix.DirEntry'> <DirEntry 'root'> True\n",
      "<class 'posix.DirEntry'> <DirEntry 'run'> True\n",
      "<class 'posix.DirEntry'> <DirEntry 'sbin'> True\n",
      "<class 'posix.DirEntry'> <DirEntry 'srv'> True\n",
      "<class 'posix.DirEntry'> <DirEntry 'sys'> True\n",
      "<class 'posix.DirEntry'> <DirEntry 'tmp'> True\n",
      "<class 'posix.DirEntry'> <DirEntry 'usr'> True\n",
      "<class 'posix.DirEntry'> <DirEntry 'var'> True\n",
      "<class 'posix.DirEntry'> <DirEntry 'user'> True\n",
      "<class 'posix.DirEntry'> <DirEntry 'data'> True\n",
      "<class 'posix.DirEntry'> <DirEntry '.dockerenv'> False\n",
      "<class 'posix.DirEntry'> <DirEntry 'node_modules'> True\n"
     ]
    }
   ],
   "source": [
    "with os.scandir('/') as it:\n",
    "    for entry in it:\n",
    "        print(type(entry), entry, entry.is_dir())"
   ]
  },
  {
   "cell_type": "code",
   "execution_count": 17,
   "metadata": {},
   "outputs": [
    {
     "name": "stdout",
     "output_type": "stream",
     "text": [
      "<class 'str'> 3. Introduction to Python programming.ipynb\n",
      "<class 'str'> 4. Python plotting, interpolation, units, 2D arrays.ipynb\n",
      "<class 'str'> 0. Introduction.ipynb\n",
      "<class 'str'> 2. Intro Git.ipynb\n",
      "<class 'str'> images\n",
      "<class 'str'> .ipynb_checkpoints\n",
      "<class 'str'> 6. Files and OS.ipynb\n",
      "<class 'str'> .git\n",
      "<class 'str'> README.md\n",
      "<class 'str'> 1. Command line interface - Linux, Unix, GNU.ipynb\n",
      "<class 'str'> 5. Numerical integration and differentiation.ipynb\n",
      "<class 'str'> examples\n",
      "<class 'str'> Labs\n",
      "<class 'str'> Quizzes_Assignments_Exams\n"
     ]
    }
   ],
   "source": [
    "for x in os.listdir():\n",
    "    print(type(x), x);"
   ]
  },
  {
   "cell_type": "code",
   "execution_count": 18,
   "metadata": {},
   "outputs": [
    {
     "name": "stdout",
     "output_type": "stream",
     "text": [
      "Dir:  .\n",
      " 3. Introduction to Python programming.ipynb\n",
      " 4. Python plotting, interpolation, units, 2D arrays.ipynb\n",
      " 0. Introduction.ipynb\n",
      " 2. Intro Git.ipynb\n",
      " 6. Files and OS.ipynb\n",
      " README.md\n",
      " 1. Command line interface - Linux, Unix, GNU.ipynb\n",
      " 5. Numerical integration and differentiation.ipynb\n",
      "Dir:  ./images\n",
      "  secondplot.png\n",
      "  quarter.png\n",
      "  ResistorCircuit.jpg\n",
      "  firstplot.png\n",
      "  fig_circle_pi.jpg\n",
      "Dir:  ./.ipynb_checkpoints\n",
      "  6. Files and OS-checkpoint.ipynb\n",
      "Dir:  ./.git\n",
      "  ORIG_HEAD\n",
      "  COMMIT_EDITMSG\n",
      "  HEAD\n",
      "  packed-refs\n",
      "  index\n",
      "  description\n",
      "  config\n",
      "  FETCH_HEAD\n",
      "Dir:  ./.git/refs\n",
      "Dir:  ./.git/refs/tags\n",
      "Dir:  ./.git/refs/remotes\n",
      "Dir:  ./.git/refs/remotes/origin\n",
      "     HEAD\n",
      "     master\n",
      "Dir:  ./.git/refs/heads\n",
      "    master\n",
      "Dir:  ./.git/hooks\n",
      "   pre-receive.sample\n",
      "   pre-applypatch.sample\n",
      "   pre-rebase.sample\n",
      "   fsmonitor-watchman.sample\n",
      "   prepare-commit-msg.sample\n",
      "   commit-msg.sample\n",
      "   pre-commit.sample\n",
      "   post-update.sample\n",
      "   applypatch-msg.sample\n",
      "   pre-push.sample\n",
      "   update.sample\n",
      "Dir:  ./.git/logs\n",
      "   HEAD\n",
      "Dir:  ./.git/logs/refs\n",
      "Dir:  ./.git/logs/refs/remotes\n",
      "Dir:  ./.git/logs/refs/remotes/origin\n",
      "      HEAD\n",
      "      master\n",
      "Dir:  ./.git/logs/refs/heads\n",
      "     master\n",
      "Dir:  ./.git/objects\n",
      "Dir:  ./.git/objects/3c\n",
      "    0daffb8e8eca325a73ddad1206cba3f868912a\n",
      "Dir:  ./.git/objects/18\n",
      "    4be56945375346f76b296fd7932615b176ac4d\n",
      "Dir:  ./.git/objects/e2\n",
      "    83b43daa887875bf56deb8b2ea8d7a3b8d48dc\n",
      "Dir:  ./.git/objects/info\n",
      "Dir:  ./.git/objects/pack\n",
      "    pack-fbb49676949c4dae12e20256285912c637e4758f.idx\n",
      "    pack-fbb49676949c4dae12e20256285912c637e4758f.pack\n",
      "Dir:  ./.git/info\n",
      "   exclude\n",
      "Dir:  ./.git/branches\n",
      "Dir:  ./examples\n",
      "  example.sh\n",
      "  example_markdown_notebook_essentials.ipynb\n",
      "  example_intro.ipynb\n",
      "  mymod.py\n",
      "Dir:  ./Labs\n",
      "  Lab.4a.ipynb\n",
      "  Lab5a.ipynb\n",
      "  Lab.2a.ipynb\n",
      "  Lab.1a.ipynb\n",
      "  Lab.4b.ipynb\n",
      "  Lab.3a.ipynb\n",
      "Dir:  ./Quizzes_Assignments_Exams\n",
      "  grading_key.ipynb\n",
      "  Assignment.1.ipynb\n",
      "  Quiz.1.ipynb\n",
      "  README.md\n"
     ]
    }
   ],
   "source": [
    "for dirName, subdirList, fileList in os.walk('.'):\n",
    "    print(\"Dir: \", dirName)\n",
    "    pad = (\" \"*dirName.count('/'))\n",
    "    for fname in fileList:\n",
    "        print(pad, fname)\n",
    "    #print(\"Subdirs: \", subdirList)"
   ]
  },
  {
   "cell_type": "code",
   "execution_count": 17,
   "metadata": {},
   "outputs": [
    {
     "name": "stdout",
     "output_type": "stream",
     "text": [
      "blah blah blah \n"
     ]
    }
   ],
   "source": [
    "print(\"blah \"*3)"
   ]
  },
  {
   "cell_type": "markdown",
   "metadata": {},
   "source": [
    "### Let's build some code keep track of all different file sizes in a directory tree.\n",
    "#### We will write a procedure that will comb through a directory tree, and count files by their size (and convert that size to kB's) The return value will be a dictionary (file size in kB, number of files of that type)\n"
   ]
  },
  {
   "cell_type": "code",
   "execution_count": 30,
   "metadata": {},
   "outputs": [],
   "source": [
    "## run through directory tree, and count files by size. \n",
    "## os.stat(<file>).st_size gives you a value in bytes. ******\n",
    "import collections as co\n",
    "scount = co.defaultdict(int)\n",
    "for dirName, subdirList, fileList in os.walk('/'):\n",
    "    for fname in fileList:\n",
    "        ## gives us the fully-qualified filename\n",
    "        fn = os.path.join(dirName, fname)\n",
    "        if dirName == '/proc': ## Proc has some issues when counting file sizes ##\n",
    "            subdirList[:] = []\n",
    "            continue\n",
    "        if os.path.islink(fn)==False:\n",
    "            scount[os.stat(fn).st_size // 1024] += 1 ## Integer dividing by 1024 to get size in kB's ##"
   ]
  },
  {
   "cell_type": "code",
   "execution_count": 31,
   "metadata": {},
   "outputs": [],
   "source": [
    "import operator as op\n",
    "## how do you sort dictionaries? \n",
    "## convert dict to a list with items() command\n",
    "sortcount = sorted( scount.items(), key=op.itemgetter(1) )"
   ]
  },
  {
   "cell_type": "code",
   "execution_count": 32,
   "metadata": {},
   "outputs": [
    {
     "name": "stdout",
     "output_type": "stream",
     "text": [
      "[(9, 2450), (8, 2679), (7, 3099), (6, 4201), (5, 4957), (3, 8376), (2, 12175), (1, 21555), (0, 56849), (4, 64695)]\n"
     ]
    }
   ],
   "source": [
    "print(sortcount[-10:])"
   ]
  },
  {
   "cell_type": "code",
   "execution_count": 35,
   "metadata": {},
   "outputs": [],
   "source": [
    "import matplotlib.pyplot as plt"
   ]
  },
  {
   "cell_type": "code",
   "execution_count": 36,
   "metadata": {},
   "outputs": [
    {
     "data": {
      "text/plain": [
       "[<matplotlib.lines.Line2D at 0x7fbde5f5c588>]"
      ]
     },
     "execution_count": 36,
     "metadata": {},
     "output_type": "execute_result"
    },
    {
     "data": {
      "image/png": "[encoded data removed]",
      "text/plain": [
       "<Figure size 432x288 with 1 Axes>"
      ]
     },
     "metadata": {
      "needs_background": "light"
     },
     "output_type": "display_data"
    }
   ],
   "source": [
    "X = [a[0] for a in sortcount]\n",
    "## list comprehension\n",
    "Y = [a[1] for a in sortcount]\n",
    "plt.plot(X,Y, 'bo')"
   ]
  },
  {
   "cell_type": "markdown",
   "metadata": {},
   "source": [
    "## Experiment:\n",
    "\n",
    "Use dictionaries to compares works of literature. \n",
    "\n",
    "Project Gutenberg webpage w/works of Shakespere. \n",
    "\n",
    "Build dictionaries that keep track of words used in texts. \n",
    "\n",
    "Can compare two books, for novel word usage. \n",
    "\n",
    "Count word usage, how often is a word used? "
   ]
  },
  {
   "cell_type": "code",
   "execution_count": 34,
   "metadata": {},
   "outputs": [],
   "source": [
    "import requests as req"
   ]
  },
  {
   "cell_type": "code",
   "execution_count": 35,
   "metadata": {},
   "outputs": [],
   "source": [
    "hamstr = req.get('https://www.gutenberg.org/ebooks/2265.txt.utf-8').content"
   ]
  },
  {
   "cell_type": "code",
   "execution_count": 36,
   "metadata": {},
   "outputs": [],
   "source": [
    "romstr = req.get('https://www.gutenberg.org/ebooks/1777.txt.utf-8').content"
   ]
  },
  {
   "cell_type": "code",
   "execution_count": 37,
   "metadata": {},
   "outputs": [
    {
     "name": "stdout",
     "output_type": "stream",
     "text": [
      "<class 'bytes'>\n"
     ]
    }
   ],
   "source": [
    "print(type(romstr))"
   ]
  },
  {
   "cell_type": "code",
   "execution_count": 38,
   "metadata": {},
   "outputs": [
    {
     "name": "stdout",
     "output_type": "stream",
     "text": [
      "b'\\xef\\xbb\\xbf\\r\\nThis '\n"
     ]
    }
   ],
   "source": [
    "print(romstr[0:10])"
   ]
  },
  {
   "cell_type": "code",
   "execution_count": 51,
   "metadata": {},
   "outputs": [],
   "source": [
    "## this is a unicode file\n",
    "S = hamstr.decode(\"utf-8\")\n",
    "R = romstr.decode(\"utf-8\")"
   ]
  },
  {
   "cell_type": "code",
   "execution_count": 40,
   "metadata": {},
   "outputs": [
    {
     "name": "stdout",
     "output_type": "stream",
     "text": [
      "<class 'str'>\n"
     ]
    }
   ],
   "source": [
    "print(type(S))"
   ]
  },
  {
   "cell_type": "code",
   "execution_count": 41,
   "metadata": {},
   "outputs": [
    {
     "data": {
      "text/plain": [
       "\"\\ufeff***The Project Gutenberg's Etext of Sha\""
      ]
     },
     "execution_count": 41,
     "metadata": {},
     "output_type": "execute_result"
    }
   ],
   "source": [
    "S[0:40]"
   ]
  },
  {
   "cell_type": "code",
   "execution_count": 52,
   "metadata": {},
   "outputs": [
    {
     "name": "stdout",
     "output_type": "stream",
     "text": [
      "!\"#$%&'()*+,-./:;<=>?@[\\]^_`{|}~\n",
      "!\"#$%&()*+,-./:;<=>?@[\\]^_`{|}~\n"
     ]
    }
   ],
   "source": [
    "import string\n",
    "print(string.punctuation)\n",
    "rPun = string.punctuation.replace(\"'\", '')\n",
    "print(rPun)"
   ]
  },
  {
   "cell_type": "code",
   "execution_count": 54,
   "metadata": {},
   "outputs": [
    {
     "name": "stdout",
     "output_type": "stream",
     "text": [
      "5344 4148\n"
     ]
    }
   ],
   "source": [
    "## sets are like lists but have two main differences:\n",
    "## (1) they are unordered\n",
    "## (2) an object can be contained only once \n",
    "def setOfWords(strname):\n",
    "    ## empty set\n",
    "    bset = set()\n",
    "    ## will be a list of every object in strname\n",
    "    ## once split along the spaces\n",
    "    strname = strname.replace('\\r\\n', ' ')\n",
    "    strname = strname.lower()\n",
    "    for c in rPun:\n",
    "        strname = strname.replace(c, ' ')\n",
    "    ln = strname.split(' ')\n",
    "    for w in ln:\n",
    "        if w!='':\n",
    "            bset.add(w)\n",
    "    return(bset)\n",
    "\n",
    "hamwords = setOfWords(S)\n",
    "romwords = setOfWords(R)\n",
    "print(len(hamwords), len(romwords))\n",
    "## TODO: deal with the \\r\\n issue.  Deal with caps. "
   ]
  },
  {
   "cell_type": "code",
   "execution_count": 49,
   "metadata": {},
   "outputs": [
    {
     "name": "stdout",
     "output_type": "stream",
     "text": [
      "{'your', 'moneth', 'poem', 'playd', 'gouerne', 'imediate', 'currently', 'mentioned', 'imminent', 'table', 're', 'catch', 'bap', 'guarded', 'leuell', 'reuerted', 'yeelding', 'asleepe', 'counter', 'express', 'greenly', 'constructed', \"abus'd\", 'flesh', 'benetted', 'wherein', 'bulwarke', 'bewept', 'coozenage', 'had', 'tender', 'plye', 'simple', 'declension', \"for's\", 'iustice', 'moult', 'young', 'battalians', 'clad', 'liquid', 'damned', 'ill', \"finger'd\", 'priuy', 'references', 'mother', 'say', 'swathing', 'browser', 'sea', 'per', \"would'st\", 'iudgement', 'woodcocks', \"suck'd\", 'mans', 'good', 'armie', 'water', 'folke', 'cease', 'doubt', 'neptunes', 'became', 'binary', 'entertainment', \"ouerlook'd\", 'swift', 'demand', 'cerments', 'auspicious', 'snatches', 'necessary', 'throw', 'titles', 'excrements', 'stated', 'ghost', 'kissing', 'seal', 'marching', 'haste', 'ranke', 'could', 'axe', 'total', 'listing', 'seeme', 'fardles', 'buttons', 'trespasse', 'above', 'betoken', 'dare', 'vndertakings', 'primus', 'paying', 'wig', 'other', 'grew', 'obedience', 'silence', 'doomesday', 'hoboyes', 'look', 'when', 'means', 'quicknesse', 'maimed', 'benefit', 'footed', 'iouerney', 'breadth', 'contumely', 'villany', 'afarre', 'pause', 'flagons', 'required', 'wrong', 'eternity', 'delete', 'staires', 'visitation', 'shold', 'login', 'knotty', 'makers', 'girle', 'pith', 'ripe', 'clambring', 'pole', 'miching', 'dipt', 'preserued', \"compos'd\", 'milke', 'tenders', \"s's\", 'composite', 'farwel', 'pricke', 'deerely', 'letter', 'winde', 'bout', 'vppon', 'need', 'wider', 'am', 'sourse', 'aduantage', 'madnesse', 'song', 'shout', 'license', 'noise', 'eaten', 'reaks', 'wisely', 'story', 'secret', 'firme', 'arrowes', 'wooes', 'conuerted', 'subiect', 'parted', \"rend'ring\", 'allies', 'israel', 'prince', 'hang', 'corporall', 'weeping', 'qu', \"vnreclaim'd\", 'puts', 'fits', 'nods', 'seuen', 'run', 'powres', 'polake', 'witch', 'villaines', 'should', 'gonzago', 'rewards', 'failed', 'neglect', 'odd', 'sized', 'moones', 'assaid', 'humble', 'comments', \"encorps't\", 'setled', 'himselfe', 'ros', 'giuen', 'have', 'bosome', \"look'd\", 'voltumand', \"plaist'ring\", 'reforme', 'hatchment', 'releefe', 'wretched', 'functions', 'turke', 'heereafter', 'haply', 'enact', 'plentifull', 'loses', 'chappell', 'dismay', 'bee', 'prima', 'preparations', \"disclos'd\", 'abridgements', 'wheele', 'farme', 'such', 'expends', 'melancholly', 'vnripe', 'recorders', 'mountaine', \"hallow'd\", 'step', 'hum', 'christian', 'thumbe', 'vnction', 'disclaimer', 'withall', 'adue', 'choices', 'surprized', 'sword', 'indentures', 'happy', 'maruell', 'please', 'spred', 'hollow', 'rebuke', 'weare', 'ghosts', 'windy', 'out', 'thought', 'else', 'children', 'birth', 'faining', 'hypocrites', 'conclusions', 'comment', 'pangs', 'banke', 'check', 'saylor', 'spirits', 'william', 'tropically', 'address', 'driue', 'asunder', 'osr', 'champaign', 'here', 'lawyers', 'messenger', 'batten', 'etext99', 'house', 'storme', 'iournies', 'bodilesse', 'prayer', 'raw', 'lipps', '30', 'brands', 'escorted', 'therefore', 'wittemberge', 'keepe', 'limited', 'transformation', 'rauell', 'conceit', 'fennell', 'quest', 'rate', 'toyles', 'fates', 'humour', 'declining', \"see's\", 'oddes', 'student', \"woo't\", 'flashes', 'expenses', 'hat', 'shockes', 'winch', \"touch'd\", 'finis', 'body', 'englands', 'fatted', 'fit', 'sober', 'guiltlesse', 'orbe', 'gestures', 'endure', 'suppliance', 'tugging', \"it's\", 'repulsed', 'inclining', 'voice', 'men', 'property', 'lose', 'perturbed', 'complie', 'question', 'daughter', 'nipping', 'thin', 'sing', \"canoniz'd\", 'ayry', 'alone', 'threaten', 'rew', 'enemies', 'lobby', 'bride', \"denmark's\", 'often', 'soop', 'parchment', \"forg'd\", 'beautifed', 'receive', 'resolution', 'stalled', 'acts', 'cousen', \"seem'd\", 'however', 'dexterity', 'lions', 'conceiue', 'pronouncing', 'vigour', \"doom'd\", 'lungs', 'bin', 'landlesse', 'night', 'moment', 'busie', 'altitude', \"smear'd\", 'impartment', 'myraculous', 'lesser', 'count', \"arm'd\", \"heere's\", 'powerfully', 'pittied', 'opprest', 'sallets', 'answere', 'enemie', 'expense', \"vnschool'd\", 'defect', 'defeated', \"deceiu'd\", \"dil'd\", 'assaile', 'behauior', 'coronet', 'sauiours', 'rouse', 'replies', 'e', 'garbage', 'working', 'nimph', 'estimate', 'fooles', 'bellowed', 'readily', \"'twas\", 'accident', 'sequell', 'especial', 'ha', 'flye', 'cockle', 'disioynt', 'fertile', 'sixteene', 'immediate', 'answers', 'sister', 'shuffling', 'barbary', 'preparation', 'nobility', 'act', 'shreds', 'beautie', \"seal'd\", 'starre', 'marcell', 'villanous', 'ayde', 'cd', 'receiving', 'stowed', 'weedy', 'requiem', 'hast', 'crosse', 'boord', 'typos', 'greefes', 'impart', 'speciall', 'clown', 'offendendo', 'carde', 'ours', 'light', 'too', \"shee's\", \"had'st\", 'drawes', 'legally', 'assistant', 'vnkle', 'nightly', 'proud', 'proofing', 'skirts', 'flourishes', 'lockt', 'even', 'apply', 'pawse', 'breakes', 'hits', 'woe', 'salt', 'thee', 'fearing', 'abilitie', 'conueniently', 'agree', '20', 'artlesse', 'inaccurate', 'angry', 'bloudie', 'accounted', 'waste', 'fixion', 'deliberate', 'version', 'thinking', 'bugges', 'steele', 'variety', 'proprietary', 'blowne', 'remedies', 'consonancy', 'strumpet', 'hasty', 'late', 'textual', 'foresaid', 'solid', 'sorts', 'lawyer', 'vnsifted', 'pe', 'then', 'target', 'time', 'libertine', 'cheefely', 'tricke', 'daysies', 'choyce', 'nothing', 'opinions', 'streets', 'now', 'would', 'inuites', 'aduenturous', 'defeate', 'dates', 'stroakes', 'vnckle', 'circumstances', 'chaplesse', 'rich', 'http', 'vaine', 'encourage', 'kild', 'coniuring', 'riuer', 'scope', 'faded', 'between', 'wholsome', 'truant', 'gertrude', 'reynol', 'obsequies', 'selected', 'boystrous', 'paconcies', 'spacious', 'temperately', 'wanton', 'affayre', 'harrow', 'red', 'holding', 'closely', 'vnweeded', 'contagion', \"seru'd\", 'expostulate', 'beauteous', 'winds', 'iephta', 'phoebus', 'physicke', 'prompted', \"was't\", 'likenesse', 'remoued', 'information', 'indiuidible', 'offenders', 'attractiue', 'ossa', 'duller', 'agents', '2001', 'delight', 'aol', 'needes', 'entreatie', 'reads', 'point', 'melt', 'birds', 'carries', 'smiles', 'illume', 'except', 'tilde', 'coile', 'reserue', 'chronicles', 'known', 'shelfe', 'horatio', 'humanity', 'ragges', 'inmost', 'selfe', 'sweaty', 'demanded', 'theater', 'guards', 'touching', 'tumbled', 'friending', 'affection', 'ho', 'lawful', 'prologue', \"within's\", 'pound', 'lawes', 'walkes', 'chaunted', \"death's\", 'pastorall', 'bring', 'kisses', 'taxes', 'cherube', 'do', 'sterne', 'remisse', 'has', 'copy', 'vneffectuall', 'over', 'inhibition', 'devised', 'wholsom', 'fiue', 'ratifiers', 'verie', 'vntimely', 'helpfull', 'natiue', 'expell', 'diuinity', 'souldiers', 'sprinkle', 'pastime', 'sitting', 'hoby', 'houre', 'stubborne', 'flaming', 'embracing', 'lowest', 'warning', 'points', 'profound', 'caesar', \"where's\", 'rashly', 'bace', 'tristfull', 'betweene', 'kinne', 'opposite', 'sends', 'grosse', 'sighe', 'purgation', 'residence', 'proue', 'reconcilement', 'lids', 'sounds', 'keene', \"neighbour'd\", 'prythee', 'bedrid', 'either', 'vnmastred', 'presuming', 'gentrie', 'marke', 'my', 'ioy', 'vnfortified', 'aware', 'excellence', 'cuplet', 'shoulder', 'congregation', 'adores', 'foreknowing', 'doubts', 'bloudy', 'affaires', 'loe', 'visit', 'doing', 'vpshot', 'bloud', 'rore', 'whom', 'empire', 'stronger', 'pray', 'poet', 'corrupt', 'gone', 'rebellion', 'armes', 'rapier', 'buzzers', 'twentieth', 'inuentors', 'fall', 'puzels', 'acte', 'inuestments', 'ae', 'bringing', 'dollars', 'also', \"printer's\", 'corrupted', 'conquest', 'parragon', 'vnsinnowed', 'operant', 'pursuest', 'wondrous', 'defects', 'eager', 'intend', 'toe', 'somewhat', 'soone', 'quickly', \"did'st\", \"reueng'd\", \"aduanc'd\", 'fill', 'messe', 'txt', 'meant', 'courtier', 'doubtfull', 'spoakes', 'horrid', 'punitive', 'grunt', 'warre', 'olympus', 'picked', 'boades', 'frenchman', 'disagree', 'moneths', \"hee'l\", 'ope', 'diadem', 'attended', 'grained', 'vses', 'records', 'rascall', 'bunghole', 'size', \"assur'd\", \"o'that\", 'importunity', 'radiant', \"i'thsunne\", 'vengeance', 'confusion', '3rd', 'nunnery', 'saint', 'preuent', 'claime', 'hell', 'quoted', 'lasts', 'cousend', 'peece', 'offend', 'beards', 'harshly', 'foole', 'setting', 'canst', 'flushing', \"return'd\", 'heauy', 'wonder', 'feed', \"grop'd\", 'vsuall', 'winnowed', 'others', \"they'l\", 'desires', 'metled', 'laws', 'peace', 'shame', 'honying', 'cloathes', 'angle', 'moues', 'name', 'placed', 'july', 'princes', 'terrible', 'blench', 'replacement', 'offence', 'mail', 'serue', 'stops', 'seriuce', 'cried', 'volly', \"sworn't\", 'replace', 'mellow', \"know'st\", '60', 'slay', 'scratcht', 'exact', 'woodcocke', 'people', 'holde', 'dangerous', 'mould', 'foyles', 'gray', 'mason', 'emphasis', 'abstinence', 'quarry', 'ministring', 'software', 'companions', 'mermaid', 'dreines', 'define', 'v', 'pub', 'feather', 'braue', 'considerable', 'dollar', 'sending', 'rosin', 'kicke', 'element', 'weedes', 'somnet', 'stalke', \"shew'd\", 'especiall', 'otherwise', 'condolement', 'gutindex', 'triumph', 'pluck', 'greeues', 'quilles', 'knight', 'seales', 'strengthen', 'courtesie', 'heare', 'churlish', 'wounded', 'camelions', 'emulate', 'beckens', 'different', 'reuerend', 'accuse', \"distemper'd\", 'mistakes', 'seruants', 'drooping', 'distract', 'harrowes', 'gallowes', 'which', 'a', 'graces', \"rac'd\", 'merrie', 'midnight', 'neither', 'marry', 'seruices', 'top', 'goblin', 'distemper', 'bend', 'heartily', 'incorrect', 'tatters', 'packet', 'bated', 'prouide', 'debatement', \"don'd\", \"o'rerule\", 'asterisk', 'rat', 'additional', 'ever', 'packed', 'heere', 'immortall', 'sort', 'whine', 'shake', 'exchange', 'kibe', 'complete', 'inheritance', 'ambition', 'strikes', 'aside', 'owner', 'nere', 'city', 'prating', 'changing', 'al', 'scena', 'mirrors', 'recouery', \"thinke't\", 'tweakes', 'royally', 'lying', 'knowne', 'manet', 'russet', 'assortment', 'discouery', 'field', 'ocr', 'fast', 'intellectual', 'charity', 'volunteers', 'muddy', 'puft', 'enter', 'noblest', 'confines', \"'em\", 'dawning', \"editions'\", 'frend', \"see't\", 'carried', 'dreame', 'swaies', '90', 'occurrents', 'bodies', \"ha's\", 'cut', 'slight', 'limed', 'coniectures', 'mark', 'dicers', \"prai'st\", 'ioyne', 'prowd', 'cup', 'auoyd', 'deede', 'office', 'becke', 'coming', 'presented', 'up', 'ord', 'refund', 'combate', 'seene', 'kettle', 'foot', 'frost', 'beast', 'amazement', 'narrow', 'iuyce', 'giuers', 'envenom', 'solicited', 'veyled', 'pale', 'calculate', 'tels', 'transforme', 'trade', 'herein', 'create', '2000', 'germaine', 'hearing', 'party', 'practice', 'arrest', 'wee', 'loosed', 'boyes', 'songs', 'moreouer', 'battlements', 'collections', 'writers', 'huge', 'wisest', 'charitable', 'murderer', 'bawdy', 'liest', 'xxx', 'sodainely', 'laugh', 'mincing', 'sore', 'gaming', 'buried', 'from', 'bone', 'watchmen', 'running', 'contagious', 'tinct', 'prey', 'indirections', 'hope', 'giue', 'newes', 'wracke', 'spundge', '93', 'purposes', 'deliuer', 'pocky', 'tryalls', 'brood', 'selues', 'choller', 'lordship', 'cursed', 'maist', 'danger', 'buriall', 'consent', 'extorted', 'all', 'play', 'how', 'taske', 'lands', 'foh', \"outherod's\", 'aye', 'show', 'esile', 'lacke', 'arraigne', 'gain', 'draughts', 'persons', 'works', 'tride', 'sure', 'officers', 'player', 'dies', 'etc', 'resolutes', 'eats', 'fines', 'auoid', 'enjoy', 'sparke', 'prate', 'coldly', 'pages', 'graue', 'gentleman', 'cauiarie', 'ambassadors', 'punisht', 'court', 'exercise', 'racke', 'wittenberg', 'preliminary', 'flame', 'warlike', 'vnshaped', 'sorrowes', 'carnall', 'did', 'sinners', 'fantasie', 'needfull', 'bloude', 'beer', 'loud', 'theft', 'anckle', 'trillion', 'blossomes', 'basket', 'wittingly', 'bulke', 'ist', 'vnder', 'depart', 'griefes', 'borrowed', 'vnderstand', 'dotes', \"that's\", 'past', '04', 'courses', 'gates', 'coniure', 'cases', 'foiles', 'thewes', '61825', 'shrill', 'strew', 'determined', \"vnforc'd\", 'stake', 'souldiours', 'replication', 'region', 'globe', \"laps't\", 'tale', 'infects', 'deale', 'hangers', 'scarse', 'vnuallued', 'frankely', 'instant', 'gibbe', 'kingly', 'lady', 'vanisht', 'drunke', 'wisenesse', 'yorick', \"damn'd\", 'remember', 'wouldest', 'quintessence', 'bearers', 'fortin', 'remaines', 'download', 'mar', 'charge', 'prayers', 'newsletters', 'listed', 'determination', 'blasting', 'scanter', 'boudge', 'difference', 'mazard', 'correcting', \"is't\", 'sadly', 'mend', 'didst', 'sokes', 'stale', 'expend', 'shal', 'herod', 'flourish', 'why', 'funerall', 'dreames', 'fret', 'blanket', 'guild', 'about', 'ake', 'highly', 'exprest', 'sonnes', 'amaze', 'o', 'gentle', 'neede', 'priam', 'coole', 'thanks', 'lucian', 'most', 'seekes', 'touch', 'blush', 'continuall', 'ro', 'slightly', 'approue', 'dreadfully', 'necke', 'deuoutly', \"ar't\", 'houres', 'blazes', 'perswade', 'demy', 'naught', 'doome', 'bed', 'small', 'fauours', 'chace', 'xxxxx10x', 'befalne', 'fool', 'nero', \"in't\", 'dayes', 'thence', 'leade', 'changed', 'euer', 'may', 'against', 'innouation', 'caution', 'succession', 'broken', \"'tane\", 'indicate', 'loued', 'darke', 'faith', 'lists', \"crack'd\", 'moone', 'bestow', 'pagan', 'mothers', 'orizons', 'vniuersity', 'paid', 'teamed', 'contend', 'satisfied', 'canon', 'crafty', 'blunt', 'manage', 'contrary', 'hurt', 'march', 'put', 'i', 'theame', 'substance', 'vnlesse', 'blunted', 'sunsite', 'inexplicable', 'because', 'leige', 'maruels', 'attachment', 'web', 'corrected', 'offer', 'sonne', 'priuates', 'husbands', 'patient', 'pins', 'paper', 'confederate', 'nothings', 'mew', 'repell', 'obey', 'accorded', 'declines', 'readers', 'mutes', 'appeare', 'popt', 'infants', 'tremble', 'quarrell', 'promontory', 'feeles', 'howsoeuer', 'iulius', 'worser', 'doores', 'potion', 'tickled', 'tend', 'pit', 'colaterall', 'knockt', 'case', 'those', 'noble', 'fitness', 'acted', 'venome', 'provided', 'sings', 'pesant', 'lets', 'our', 'sleeping', 'reputation', 'parley', 'acting', 'forth', 'canopy', 'allegeance', 'seat', 'hor', 'wretch', \"bear't\", 'messengers', 'hauiour', 'nemian', 'hall', 'indeede', 'mantle', 'rusty', 'behoues', 'higher', 'enuy', 'halfepeny', 'spleenatiue', 'builde', 'mischance', 'baudry', 'panders', 'faile', 'deiected', 'extent', 'martiall', \"siluer'd\", 'violl', 'unwilling', 'affectation', 'armours', 'disk', 'iust', 'craft', 'decline', 'prenominate', 'secrecie', 'darkest', 'aygre', 'apale', 'brooke', 'spend', 'combination', 'multitude', 'leaving', 'distracted', 'freeze', \"mouth'd\", 'robin', 'vncharge', 'better', 'value', 'steward', 'constantly', \"pronounc'd\", 'decayer', 'contribution', 'push', 'leanes', 'vnrung', 'whose', 'pastors', 'coppied', 'grandsire', 'ominous', 'hoopes', 'floud', 'summons', 'lead', \"braz'd\", 'reechie', 'packing', 'history', 'university', 'lay', 'treacherie', 'truly', 'reaches', 'hore', 'reckon', 'executive', 'throne', 'shoo', 'iibes', 'italian', 'cloake', 'cum', 'reade', 'breefe', 'expectansie', 'cuffes', 'hourely', 'fat', 'speechlesse', 'without', 'slaue', 'helpes', 'defeats', 'shipped', 'sheep', 'lowdly', 'truely', 'month', 'hower', 'test', 'two', 'cambridge', 'proiect', 'recouer', 'thine', 'disclose', 'legs', 'flaxen', 'diuide', 'shent', 'idoll', 'resemble', 'scarce', 'shooes', 'burnes', 'kings', 'states', 'entreatments', 'outragious', 'posted', 'rapiers', 'oppression', 'fancie', 'chances', 'cerimony', 'redeliuer', 'tree', 'homage', 'whereon', 'timbred', 'stay', \"swear't\", 'verse', 'hadst', 'boorded', 'certaintie', 'greekes', 'doore', 'illusion', 'provide', 'faithfull', 'dye', 'fed', 'knowes', 'said', 'promise', 'implorators', 'cornelius', 'course', 'bakt', 'ponderous', 'horrors', 'ended', 'players', 'wildely', 'punish', 'eates', \"iuggel'd\", 'select', 'united', 'anticipation', 'desart', 'monsters', 'capitalization', 'cruell', 'gracious', 'funding', 'grow', 'indemnify', 'handsaw', 'epitaph', 'beats', 'boxe', 'curiously', 'scholler', 'hundreds', 'hecuba', \"dream't\", 'hung', 'click', '1', 'pro', 'gilded', \"o'this\", \"'s\", 'akers', 'gallant', \"graue's\", \"ther's\", \"pul'd\", 'haunt', 'hide', \"interim's\", 'was', 'greetings', 'template', 'locke', 'murtherer', 'successiue', 'incomplete', \"shee'l\", 'bites', 'offences', 'single', 'dealt', 'shortens', 'horridly', 'contriue', 'rage', 'fresh', 'wards', 'coffin', \"dig'd\", 'thinkes', \"com'st\", 'worke', 'rot', \"wrong'd\", 'cape', 'vnpacke', 'gutenberg', 'defective', 'knowing', 'forthwith', 'included', 'doublet', 'trifling', 'volume', 'quantitie', 'lifted', 'indifferent', 'foile', 'president', 'wing', 'errors', 'shot', 'scullion', 'steepe', 'formes', 'made', 'through', 'contributions', 'tetter', 'mute', 'box', 'anger', 'guard', 'makes', 'gaue', 'heraldrie', 'pitteous', 'inky', 'met', 'prettinesse', 'come', 'dido', 'withdraw', 'cups', \"trick'd\", 'barrell', 'dislike', 'manner', 'workes', 'winne', 'request', 'liquor', 'cue', 'wash', 'winkes', 'hearsed', 'dying', 'grapple', 'faculty', 'forward', \"enurn'd\", 'obligation', 'certaine', 'disclaiming', 'mingled', 'geulles', 'consequence', 'portall', 'tell', 'vnnaturall', 'robustious', 'ends', 'projected', 'plays', 'inconnect', 'beckons', 'sadnesse', 'cyclops', 'done', 'wormwood', 'feede', 'creepe', 'indued', 'yoricks', 'conqueror', 'cause', 'slaughter', 'glassie', 'accesse', 'trebble', 'stage', 'gamboll', 'lazar', 'illo', 'oath', 'choice', 'informe', 'natures', 'murder', 'imports', 'till', 'payed', 'presentment', 'acquire', 'finde', 'compost', 'heraldry', 'character', 'ophe', 'winking', 'greatnesse', \"vnmatch'd\", 'answer', \"vs'd\", 'aslant', 'appeares', 'happily', 'feete', 'crash', 'stooping', 'gaged', 'gambals', 'plain', 'saluation', 'statutes', 'dumbe', 'lord', 'david', 'possesse', 'grones', 'safe', 'accidentall', 'the', 'right', 'divulging', 'lies', 'betimes', 'vs', 'tedious', 'dupt', 'supply', \"season'd\", 'vnpegge', 'stoupe', 'years', 'rules', \"world's\", 'holie', 'euen', 'exclusions', 'fate', 'desire', 'retrograde', 'roares', 'fighting', 'must', 'study', 'professor', \"drag'd\", 'iohn', 'argall', 'is', 'mee', \"vngorg'd\", 'suite', 'hee', 'stirring', 'throat', 'courtiers', 'things', 'at', 'drumme', 'physical', 'cudgell', 'kinde', 'assumes', 'weares', 'tythe', 'pickhaxe', 'shaking', 'behauiour', 'own', 'remove', 'assault', 'waile', 'beere', 'in', 'me', 'opposites', 'til', 'spurnes', 'sterrill', 'vnworthy', 'vnimproued', 'soales', 'sprung', 'created', \"gutenberg's\", 'wedding', 'vsurpe', 'that', 'platforme', 'given', 'sallery', 'where', 'drownes', 'comming', 'pledge', 'harlot', 'conuersation', 'designe', 'surrender', 'proof', 'him', 'meet', 'knees', 'sensible', 'simples', 'contract', 'action', 'soule', \"rim'd\", 'preaching', 'steals', \"forc'd\", \"'twere\", 'length', 'paule', 'corner', 'wild', 'round', 'stoode', \"hee's\", 'prodigall', 'give', 'vntill', \"shark'd\", 'aduancement', 'passing', 'ont', 'scanning', 'remoue', 'distant', 'paiocke', 'real', 'amble', 'nay', 'espials', 'bastard', \"o'recame\", 'just', 'trap', 'origin', 'aeneas', 'lads', 'doest', 'brauery', 'sancturize', 'leaue', 'tether', 'heares', 'renish', 'glass', 'propheticke', 'blanke', 'enquire', 'x', 'swearing', 'destroy', 'scourge', 'cicatrice', 'giued', 'pestilent', 'indeed', 'ocean', 'sith', 'lome', 'iest', 'schoole', 'instantly', 'election', 'incestuous', 'rant', 'poore', 'gowne', 'vertue', 'dane', 'final', 'vngracious', 'mockery', 'closes', 'person', 'cleerely', 'lasting', 'perceiued', 'modesties', 'lend', 'reignes', 'equall', 'plague', 'medium', 'knowledge', 'voyce', 'drinking', 'fencing', 'dogge', 'rossius', \"bestil'd\", 'kindles', 'behoue', \"liuer'd\", \"what's\", 'indirectly', 'modify', 'calumny', 'suruiuer', 'ambassadours', 'sixe', 'hypertext', '5', 'blessing', \"consider'd\", \"circumscrib'd\", 'hunts', 'comma', 'across', 'lofty', 'confine', 'drinkes', 'deluer', \"suck't\", 'spake', 'prophane', 'whit', 'cannons', \"tan'd\", \"gau't\", 'minde', 'monument', 'friends', 'secrets', 'primy', 'nony', 'signet', 'leuies', 'lispe', \"frown'd\", 'forwards', 'having', 'broad', 'responsiue', 'wherefore', 'burthen', 'nettles', 'welcome', 'only', 'doth', 'nickname', 'busines', 'actor', 'sandal', 'heard', 'back', 'friendship', 'cutpurse', 'various', 'rood', 'consequential', 'moued', 'started', 'companies', 'sweete', 'earth', 'bended', 'poland', 'breaths', 'toy', 'combatted', 'watch', 'obstinate', 'sorry', 'infaith', 'suffer', 'limbes', 'knaues', 'place', 'sute', 'sticke', \"by'th'\", 'compounded', 'husband', 'altogether', 'closset', 'vnto', 'speake', 'much', '31', 'relatiue', 'involved', \"diseas'd\", 'hours', 'liberall', 'file', 'sighes', 'behaued', 'wisedomes', \"dar'st\", \"soil'd\", 'secricie', 'vnkennell', 'printing', 'actiuely', 'leaps', 'crib', \"flatter'd\", \"lodg'd\", 'post', 'masse', 'affliction', \"incens'd\", 'hard', \"typo's\", 'present', 'fruitfull', 'an', 'tormenting', 'coronation', 'weaknesse', 'iustly', 'cheerefully', \"pardon'd\", 'carters', 'bilboes', \"weigh'd\", 'pitty', 'wits', 'arras', 'pg', 'accent', \"t'haue\", 'loue', 'dismantled', 'pons', 'turfe', 'intill', 'philosophie', 'trace', 'assis', 'ancient', 'hurts', 'fiery', 'horson', 'exceedingly', 'forged', 'flies', 'napkin', 'canker', 'pleasure', 'substitutions', 'sounding', 'domain', 'leisure', 'warlicke', 'lowd', 'seale', 'vouch', \"to't\", 'baser', 'station', \"vnbrac'd\", 'malefactions', 'important', 'wildenesse', \"wish'd\", 'shall', 'understand', 'adulterate', 'command', 'changeling', 'michael', 'multiple', 'southerly', 'honor', 'wife', 'naue', 'hauocke', 'voyage', 'accepts', 'pobox', 'termes', \"purg'd\", 'forrest', 'received', 'fare', 'vpspring', 'sunday', 'tragedie', 'raines', 'page', 'actors', 'flights', 'mony', 'mysterie', 'chopfalne', 'wipe', 'color', 'bisson', 'maruellous', \"t'\", 'matine', 'rome', 'glares', 'sparrow', 'rosincran', 'allow', 'thing', 'flaggon', 'sweets', 'thunder', 'printed', 'appliance', 'brainish', 'extremity', 'fitted', 'mouth', 'hands', 'hymen', 'stealing', 'common', 'occasion', 'word', 'yea', 'furnish', 'after', 'this', 'idle', 'iemme', 'processors', 'rocke', 'public', 'bought', 'computerized', 'weigh', 'policie', 'eielids', 'mowes', 'carefully', 'feature', 'droppings', 'windlesses', 'letcherous', 'shee', 'pretty', 'costs', 'lie', 'shriuing', 'laboured', 'side', 'villaine', 'healthfull', 'ones', 'tediousnesse', 'associates', 'polititian', '10', 'cloath', 'release', 'mad', 'pastoricall', 'robe', 'imperiall', 'checking', 'pile', 'saying', 'entrance', 'dipping', 'danish', 'continents', 'proceeded', 'pay', 'challenger', 'vnmaske', 'opposition', 'being', 'illium', 'spilt', 'hees', 'pictures', 'violent', 'saile', 'cracke', 'intreated', 'sinnewes', 'computer', 'priams', 'pressure', 'sustaine', 'witching', 'prankes', \"'twer\", 'cryed', 'book', 'bar', 'drossie', 'glow', 'scrambles', 'burne', 'ye', \"find'st\", 'possibility', 'weapons', 'vouchsafe', \"siz'd\", 'reach', 'ham', 'resolue', 'soueraigne', 'louer', 'hate', 'pitious', 'beautied', 'damages', 'enterprizes', 'louingly', 'rosincrane', 'vnfold', 'shift', 'scant', 'someuer', 'pierce', 'valiant', 'adheres', 'roofe', 'its', \"barr'd\", 'intreat', 'vnknowing', 'ayme', 'validitie', 'blest', 'spectators', 'poysoner', 'cart', 'quoth', 'reuisits', \"honour'd\", 'beautified', 'than', 'discover', 'obseruation', 'squeezing', 'encombred', 'net', 'sanctified', 'indeauour', 'fee', 'whirle', 'goblins', 'complexion', 'mourning', 'conference', 'dirty', 'augury', 'vnbated', 'bound', 'vnrighteous', \"e'ene\", 'clothes', 'life', 'method', 'guest', 'hoo', 'shrunke', 'rank', 'wauing', 'retyrement', 'implements', 'yong', 'edu', 'dispatcht', 'warres', 'couch', 'repugnant', 'poysoning', \"a'th'\", 'writ', 'co', 'storie', 'toward', 'personall', 'their', 'motion', 'sound', \"ask't\", 'whence', 'noted', 'honestie', 'fitting', 'imagine', 'loosing', 'erring', \"you'l\", 'generall', 'conception', 'barke', 'qualifies', 'nine', 'throughly', 'hurling', 'abhominably', 'nobler', 'nasty', 'saide', 'purer', 'maker', 'ranck', 'ignorant', 'perpend', 'appurtenance', \"mortiz'd\", 'praises', \"amaz'd\", 'whips', 'knife', 'vncurrant', 'diddest', 'to', 'findes', 'weighing', 'year', 'rose', 'sulphurous', 'defence', 'ordinance', 'next', 'dirge', 'fye', 'weepe', 'yon', \"op'd\", 'hoa', 'hermony', 'stye', 'allowable', 'ladiship', 'stopping', 'limitation', 'thornes', 'worst', 'clout', 'noyance', 'cmu', 'plots', 'notes', 'fiends', 'tardie', 'ending', 'words', 'holdst', 'alacke', '432', 'heauie', 'wood', 'hand', 'springes', 'stone', 'nill', 'coarses', 'propose', 'picture', 'ingenious', 'impression', 'enterprize', 'releeued', 'memory', 'tempt', 'reueale', 'pol', 'quillets', 'left', 'ioynt', 'opinion', 'earthly', 'vilde', 'sounded', 'want', 'explanatory', 'invulnerable', 'babe', 'data', 'compact', 'warrantie', 'wart', 'blew', 'indiscretion', 'stole', 'same', 'drinke', \"inclin'd\", 'dwelling', 'swords', 'pregnant', 'links', 'org', 'impotent', 'lesse', 'forgeries', \"e'ne\", 'vantage', 'capeable', 'adieu', 'food', 'written', 'quaintly', 'imitated', 'lookes', 'sicknesse', 'palme', 'gently', 'capitall', 'becomes', 'does', 'quake', 'volt', 'tooke', 'line', 'thinkst', \"and't\", 'thoughts', 'sooner', 'appointment', 'estimated', 'wilfully', 'speak', 'euermore', 'bakers', 'spies', 'enough', 'dish', 'suiting', 'sundaies', 'bloodily', 'hatch', 'absolute', 'england', 'iigge', 'habite', 'lash', 'assay', 'audit', 'thou', 'maid', 'pinch', '2782', 'part', 'liue', 'fashion', 'no', 'cliffe', 'likely', 'wonted', 'scornes', 'letters', 'faire', 'seen', 'six', 'musty', 'arme', 'tenants', '3', 'lethe', 'spellings', 'vndertake', 'stalkes', 'morne', 'ignorance', 'stoopes', 'obseruers', 'hearer', 'mountebanke', 'win', 'report', 'intruding', 'purples', 'dosen', 'il', 'giues', 'mostly', 'pittious', 'therein', 'imaginations', 'poniards', 'tongue', 'for', 'waites', 'seated', \"compell'd\", 'houer', 'actually', 'importing', 'rise', 'spoken', 'trumpets', 'heate', 'ship', 'dictionary', 'finger', 'impittious', 'beauty', 'liege', 'walkt', 'tragedians', 'crow', 'analyzed', 'incapable', 'smart', 'members', 'garlands', 'buyes', 'prison', 'stoppes', 'nor', '2', 'intreate', 'mightier', 'keepes', \"relieu'd\", 'mind', 'admit', 'match', 'downe', 'pigeon', 'indifferently', 'pox', 'dayly', 'lust', 'mes', 'disease', \"pardon't\", 'applaud', 'strange', 'animals', 'beating', 'ducates', 'hush', 'earnest', \"purpos'd\", 'copies', 'falles', 'offices', 'dust', \"steep'd\", 'fauourites', 'damon', 'stones', \"appear'd\", 'fox', 'swallowed', 'probation', 'copyright', 'longer', \"confin'd\", 'courb', 'necessitie', 'vnsmirched', 'calues', 'died', 'sent', 'iudge', 'fees', 'stocke', 'alarum', 'deckt', 'inquiry', 'grand', 'memorie', 'shippe', 'stop', 'dread', 'moderate', 'prouerbe', \"follow'd\", 'displays', 'kneeles', 'artire', 'laine', 'monarchs', 'strewments', 'transcription', 'basenesse', 'credit', 'tokens', 'se', 'carnegie', 'scandall', 'iester', \"fayl'd\", 'blacke', 'foolery', 'forraigne', 'vnyoake', 'vnpreuayling', 'already', 'attendant', 'cautell', 'dreaded', 'mindes', 'produce', 'extant', 'duties', 'cast', 'dearest', 'ambassador', 'sonnet', 'short', 'hyes', 'trickes', 'sir', 'blaze', 'forgetting', 'grounds', 'ought', 'coagulate', 'exception', 'possible', \"o're\", 'won', 'lanke', 'vnhand', 'wore', 'creature', 'machine', 'ere', 'choyse', 'westward', 'prolongs', 'million', 'actus', 'rashnesse', 'least', \"name's\", 'foote', \"gall'd\", 'easinesse', 'outward', 'impotence', 'yases', 'adaies', 'awhile', \"heau'n\", 'extreme', 'will', \"do'st\", 'vnkinde', 'forgot', 'scripture', 'content', 'share', 'forcing', 'whipping', 'english', 'official', \"who's\", 'rest', 'looke', 'beetles', 'annual', 'convey', 'conceald', \"foul'd\", 'apprehension', 'iaw', 'soldiours', 'trip', 'tenures', 'bad', 'gape', \"strick'd\", 'arriued', 'w', 'sement', 'thirtie', 'yond', 'waxes', 'generous', 'nerue', \"ha't\", 'oppressors', 'feathers', 'counsell', 'sinewes', 'meerely', 'peering', 'props', 'antiquity', 'halt', 'goose', 'baptista', \"for't\", 'before', 'aloofe', 'touches', 'owns', 'insinuation', 'usually', 'wafts', \"knew'st\", 'circumuent', 'cannoneer', 'theme', 'weede', 'ambass', 'bug', 'addresse', 'unified', 'wit', 'fine', 'compulsiue', 'slaughters', 'mutine', 'ioyntresse', 'scape', 'ready', 'alteration', 'spoke', 'beyond', 'something', \"strew'd\", 'tyrant', 'plundge', 'amb', 'businesse', \"importun'd\", 'perfections', 'pleasing', 'conueyances', 'apparition', 'blood', 'gorge', 'one', 'minds', 'diseases', 'eight', 'thirties', 'practise', 'bonds', 'casuall', 'together', 'dyes', 'lender', 'whale', 'strength', 'hedge', 'costly', 'commencement', 'hap', 'claimes', 'patch', \"plac't\", 'breuitie', 'comutuall', 'fixt', 'sutes', 'particular', 'fails', 'so', 'aduice', 'hid', 'fortinbras', 'posting', 'obseruance', 'gods', 'wayes', 'iumpe', 'loines', 'contents', \"vnwatch'd\", 'nephewes', 'impresse', 'figure', 'danskers', 'vnknowne', 'dearly', 'keep', 'reynoldo', 'y', 'sollemne', 'index', 'wold', 'garbe', 'easterne', 'queen', 'tother', 'folly', 'shoote', 'possitiuely', 'prouidence', 'ambiguous', 'groundlings', 'eternall', 'wings', 'befitted', 'vnmixt', 'further', 'etext', 'garden', 'countries', \"isn't\", 'soldier', 'sanctity', 'lyes', 'honie', 'infringement', 'flats', 'document', 'though', 'hearke', \"gonzago's\", 'contriuing', 'long', 'lest', 'teares', 'pittifull', 'commendable', 'proofe', 'belike', 'hent', 'meanes', 'pursue', 'recorder', 'abbreviations', 'lodge', 'deiect', 'rent', 'begger', 'gyues', 'puh', 'annoint', 'ayre', 'accord', '100', 'wrath', 'mining', 'treasure', 'widdow', 'saw', 'ah', 'encountred', \"i'de\", 'afternoone', 'conuocation', '333', 'vow', \"glean'd\", 'leasure', 'return', 'requires', 'whole', 'denmarke', 'newtrall', 'bubbles', 'mocke', 'call', 'brutus', 'sheene', 'u', 'wombe', \"stirr'd\", \"lou'd\", 'marriages', 'obseruant', 'abstracts', 'slow', 'repast', 'feel', \"restrain'd\", 'ophelia', 'conuenience', 'stiffely', 'showes', 'sheete', \"play's\", 'compliance', 'money', 'comicall', 'fortie', 'peculiar', 'grosser', 'resort', 'beauties', 'along', 'safety', 'cryer', 'thaw', 'printers', 'counsellor', 'whereat', 'home', 'ardure', 'speed', 'organe', 'celestiall', 'new', 'bounces', 'advisor', 'hiperion', 'driues', 'horses', 'flames', \"o'retooke\", 'etexts', 'sage', \"life's\", 'tast', 'naked', \"doe's\", 'following', 'prouoke', 'priuate', 'whether', 'importunate', 'regards', 'dominions', 'plaid', 'haile', 'borrowing', 'season', 'weeds', 'feeling', 'flaw', 'permanent', 'heroes', 'reason', 'female', 'strong', 'marble', 'bapt', 'ambitious', 'soliciting', 'rests', 'diligence', 'willingly', 'perseuer', 'hercules', 'every', 'reckoning', 'sextons', 'hardly', \"mildew'd\", 'horsse', 'posset', 'pester', 'france', 'louing', 'odde', 'dole', 'prisoner', \"whil'st\", 'smels', 'emperor', \"vnfledg'd\", 'deare', 'greeued', 'meete', 'ministers', 'sulleyes', 'statists', 'admirable', \"'twixt\", 'someone', 'pelion', 'yeomans', 'gate', 'somthing', 'alter', 'directly', 'modestie', 'harsh', 'bleede', 'fey', 'perdie', 'dishonour', 'forbeare', 'mortall', 'modification', 'paine', 'standing', 'poure', 'clamour', 'december', 'vnkles', 'peebles', 'serpent', 'dore', 'knaue', 'spight', 'briefe', 'wait', 'quietly', 'signing', 'awe', 'ladies', 'header', 'wel', 'countenance', 'seruice', 'rauen', \"turn'st\", 'form', 'compleat', 'neighbor', 'liberty', 'little', 'lacks', 'houses', 'buy', 'them', 'superfluous', 'besmerch', 'nonce', 'controuersie', 'runnes', 'painting', 'proofread', 'fellowes', 'ease', 'exterior', 'desirous', 'infect', \"warm'd\", 'built', 'forgone', 'estate', 'recognizances', 'cabin', 'nominally', 'falsely', \"i'th'\", 'assure', 'harlots', 'sigh', 'lines', 'breed', 'solemne', 'euerlasting', 'passionate', 'tables', \"buy'ye\", 'minerall', 'insert', 'borne', \"'tis\", 'diuided', 'delay', 'goe', 'kind', \"scann'd\", 'supper', \"venom'd\", 'open', 'layes', 'anonymous', 'valour', 'welcom', 'distresse', 'vouchers', 'crack', 'greeue', 'gulfe', 'damne', 'ieering', 'olde', 'repentance', 'company', 'north', 'regard', 'corruption', 'heart', 'gender', \"offer'd\", 'tennis', 'brothell', 'begun', 'owle', 'scapes', 'god', 'sauory', 'sit', 'camell', 'assume', 'cosin', 'branches', 'calumnious', 'traitorous', 'roasted', 'wrote', 'zip', \"beseech'd\", 'credent', 'derive', 'diet', 'brow', 'ophel', \"year's\", 'exits', 'roses', 'way', 'offall', 'fingers', 'stands', 'thereof', 'm', 'wicked', 'lighted', 'crocodile', 'iade', 'heathen', 'strutted', 'bleed', 'frailty', 'stubbornnesse', 'speech', 'access', 'stuck', 'smooth', 'woer', 'whatsoeuer', \"king's\", 'direct', 'stopp', 'singeth', 'maids', 'praise', 'calculated', 'teeth', 'wandring', 'mens', 'rite', 'puppets', 'inward', 'despite', 'seeming', 'larded', 'coach', 'tunes', 'horat', 'twixt', 'alwayes', 'bespeake', 'thereon', 'crye', 'couched', \"imbark't\", 'apparell', 'gall', 'kin', 'pipe', 'bawd', 'lye', \"esteem'd\", 'disperate', \"hop'd\", 'according', 'colleagued', 'conservative', 'recklesse', 'whats', \"kil'd\", 'selection', 'room', 'feates', \"reform'd\", 'maiesticall', 'bene', 'beware', 'innocent', 'displayed', 'waxe', 'forget', 'reare', 'mart', 'perhaps', 'incorporated', 'sweat', 'herbe', \"scanner's\", 'thankes', 'proper', 'ver', 'minutes', 'instance', 'duty', 'french', 'bodkin', 'poyson', 'strife', 'pursued', 'proportions', 'hilts', 'mine', 'mac', 'causes', 'cheeke', 'groaning', 'respeaking', 'gets', 'terme', 'chance', 'offended', 'larger', 'conceited', 'cell', 'bell', 'revised', '99', 'mouse', 'close', 'beguile', 'fals', 'whereto', 'depriue', \"command'ment\", 'art', 'battery', 'crawling', 'possibly', 'passion', 'rapsidie', 'purse', 'books', 'melodious', 'on', \"here's\", 'goodly', 'wringing', 'g', 'iudicious', 'machines', 'withdrew', 'deuices', 'image', 'sleepe', 'walke', 'gold', 'treble', 'ago', 'determine', 'speaks', 'turneth', 'donations', 'notice', 'expanded', 'quick', 'sere', 'brest', 'niggard', 'mars', 'you', 'praying', 'peepe', 'blast', 'fruite', 'fathers', 'files', 'yaughan', 'dispatch', 'exceed', 'alas', \"should'st\", 'lament', 'magicke', 'carry', 'aint', 'delicate', 'flash', 'painted', 'builds', 'passes', 'likes', 'head', 'shoue', 'hauing', 'ran', 'sets', 'shell', 'directors', 'processe', 'instrument', \"affear'd\", 'digested', 'illes', 'cuckold', 'west', 'very', 'denies', 'kept', 'read', 'milkie', 'milche', 'astonish', 'waterflie', 'tertia', 'secundus', 'dilated', 'shardes', 'king', 'churches', 'article', 'ten', 'outliues', 'arrests', 'annuall', 'pernicious', 'eare', 'kinds', \"i'th\", 'poor', 'oathes', 'blackest', 'profits', \"she's\", 'tributary', 'raues', 'guil', \"doo't\", 'soyle', 'list', \"liu'st\", 'aspect', 'elsenour', 'begins', \"shrow'd\", 'erruption', 'forgiuenesse', 'remainder', 'sable', 'places', 'vulcans', 'phrase', 'sporadic', 'doctor', 'named', 'liability', 'coniuration', 'view', 'gho', 'elsonower', 'bare', 'drink', 'purchases', 'millions', 'sheets', 'lightnesse', 'cunning', \"see'st\", 'gyant', 'heres', 'coated', 'interre', 'pride', 'shapes', 'towring', 'bodie', 'dugge', 'calmely', 'crowners', 'addition', 'poesie', 'interpret', 'looser', 'publike', 'away', \"lock'd\", 'extreamity', 'straight', 'third', 'braine', 'seas', 'pendant', 'gaine', 'ice', 'truepenny', 'discomfort', 'presence', 'distilment', 'texts', 'it', 'boy', 'lap', 'falshood', 'fire', 'vision', 'clearly', 'mugger', 'write', 'hecats', 'ioyntly', 'change', 'els', 'knee', 'sepulcher', 'virgin', 'euery', 'senselesse', \"director's\", 'moue', 'denmarks', 'deed', 'griefe', 'k', 'recount', \"seiz'd\", 'daysie', 'norman', 'breathing', 'currants', 'clo', 'iowles', 'brothers', 'laer', 'precious', 'dirt', 'hole', 'foredoes', 'burst', 'went', 'mouing', 'quiddits', 'vnion', 'bible', 'opportunity', 'acquaint', 'certain', 'gon', 'due', 'auouch', 'vienna', 'challice', 'wishes', 'synod', 'greeted', 'visage', 'occulted', 'shape', 'once', 'romage', 'mock', 'doe', 'brooch', 'treacherous', 'scoene', 'affraide', 'remorse', 'second', \"prais'd\", 'fain', 'thereto', 'mercy', 'sense', 'secunda', 'folio', 'fretfull', 'vnequall', 'aske', 'thether', 'slander', \"prick'd\", 'withers', 'damnation', 'annexment', 'we', 'bias', 'conscience', 'rellish', 'worm', 'payable', 'who', 'comes', 'practises', 'struck', 'planets', 'added', 'byte', 'accurst', \"i'm\", 'murdering', 'coniunctiue', 'hardy', 'oh', 'audience', 'beares', 'iawes', 'vbique', 'satisfaction', 'rouce', 'several', 'truncheons', 'dry', 'howling', 'moods', '2265', 'pleasures', 'rosemary', 'deuice', 'impasted', 'blesse', 'throwne', 'take', 'warranty', 'resend', 'nights', \"kill'd\", 'deske', 'hidious', 'returnes', 'chorus', 'containing', 'eldest', \"didn't\", 'organ', 'betime', 'skyish', 'dukes', 'beaten', 'send', 'commings', 'towards', 'varnish', 'saylors', 'incidental', 'saue', '200', 'colour', 'tongues', 'impious', 'sides', 'population', '000', 'association', 'hopes', 'deere', 'discretion', 'hammers', 'ducate', 'chaste', 'yesterday', 'middle', 'meaning', 'behold', 'rude', '1971', 'marcellus', 'womens', \"i'ue\", 'mettle', 'wed', 'receiues', 'and', 'hart', 'use', 'abroad', 'blastments', \"vsurp'st\", 'vngartred', 'weepes', 'adiew', 'polonius', 'articles', 'reed', 'meeting', 'angel', 'ape', \"thou'lt\", 'ruine', 'gawdie', 'vnnaneld', 'distribute', 'arrant', 'deny', 'roome', 'grant', 'unless', 'wish', 'week', 'users', 'froward', 'sect', 'lewdnesse', 'seed', 'stretcht', 'confound', 'forgotten', 'curse', 'yes', 'smile', 'hoodman', 'dalliance', 'easier', 'sight', 'talke', 'electronic', 'potent', 'computers', 'deceiued', 'base', 'trippingly', 'codes', 'occasions', 'profoundest', 'goodman', 'patricke', 'iangled', 'consider', 'inuite', 'negligence', 'opposing', 'serues', 'lost', 'threatning', 'afterwards', 'argument', 'deserue', 'slaine', 'sliuer', 'gen', 'candied', 'many', 'windes', 'crimes', 'lecture', 'married', 'vnholy', 'into', 'faces', 'fro', 'wag', 'torrent', 'entered', 'solidity', 'lawlesse', 'directions', 'inheritor', 'legal', 'killes', 'aduise', 'dally', 'fought', 'mirrour', 'shakespeare', 'rule', 'exchanges', 'politician', 'pittie', 'humorous', 'rights', 'crooke', 'gardiners', 'hearts', 'carowses', 'bold', 'try', 'sue', 'intreaty', 'trumpet', 'tried', 'hath', 'booke', 'strict', 'button', 'meere', 'characters', 'alternatively', 'pioner', 'monthes', 'lyest', 'fallies', 'cleare', 'orewhelm', 'world', 'dost', 'enmity', 'concluded', 'sinne', 'although', 'ioyfully', 'soueraignty', 'thus', 'shewne', 'hellish', 'respects', 'reply', 'neerer', 'tyrannically', 'greeting', 'hill', 'these', 'electronically', 'vngalled', 'awake', 'asking', 'bethought', 'hence', 'strucken', 'imagination', 'clouds', 'discourse', 'parching', 'partiall', 'frowningly', 'sipping', 'obeyes', 'vnpregnant', 'fifty', 'drab', 'white', 'hawke', '29', 'growes', 'still', 'lightest', 'elongated', 'reader', 'extrauagant', 'cleaue', 'forgery', 'mountaines', 'mutines', \"poyson'd\", 'suites', 'murthers', 'fond', 'sting', 'gramercy', 'cataplasme', 'elder', 'pickers', 'forfeite', 'begge', 'thicker', \"pleas'd\", 'brought', 'euidence', 'as', 'vtter', 'unc', 'religious', 'drift', 'breeder', 'norway', 'dropping', 'throate', 'whereof', 'conjoined', 'creation', \"say'st\", 'whiles', 'captaines', 'wrist', 'fra', 'ayres', 'digge', 'sconce', 'used', 'truth', 'wall', 'pettie', 'showres', 'antike', 'volunteer', 'assaies', 'sergeant', \"turn'd\", 'cold', 'age', 'by', 'longed', 'exeunt', 'disclaimers', 'parle', 'allowance', 'royall', 'flatter', \"back'd\", 'beame', 'passages', 'answerest', 'roman', \"spill's\", 'easie', 'lunacy', 'seruant', 'commandment', 'nephew', 'archive', 'thereabout', 'carrion', \"let's\", 'lone', 'eene', 'thrown', 'apart', 'drugges', 'best', 'incenst', 'frends', 'rotten', 'cheefe', 'eyes', \"saw't\", 'weake', 'twelue', 'crust', \"coap'd\", 'man', 'amisse', \"can'st\", 'happinesse', 'ftp', 'faiery', 'curd', 'selleredge', 'infected', 'potently', 'heauens', 'historicall', 'winters', 'yawne', 'birch', 'resembles', 'snow', 'whet', 'excuse', 'account', 'kill', 'guifts', 'agreeing', 'debate', 'normandy', 'allowed', 'sometimes', 'flat', \"rais'd\", 'deductible', 'asse', 'shouell', 'merit', \"screen'd\", 'searched', 'thy', 'orderly', 'stroke', 'remembrance', 'thousand', 'marriage', 'goodnight', 'angell', 'especially', 'skill', 'threats', 'unpack', 'childe', 'nunnerie', 'cure', 'violets', 'discord', 'barnardo', 'strongest', 'readinesse', 'not', 'summe', 'cat', 'shipwright', 'wot', 'fiers', 'pure', 'applicable', 'presures', 'offends', 'dozen', 'starling', 'primall', 'fantasticke', 'loathsome', 'poysons', 'honourd', 'custome', 'pyrrhus', \"wag'd\", 'pestilence', 'censure', 'scorne', 'sizes', 'stomacke', 'shalt', 'losse', \"he's\", 'worme', 'tellus', 'honourable', 'leane', 'ditchers', 'vv', 'sits', 'followed', 'temple', 'force', 'labour', 'dismall', 'calles', 'honors', 'rots', 'comedie', \"honor'd\", 'clownes', 'wrights', 'hugger', 'advance', 'ratified', 'courteous', 'wont', 'number', 'baby', 'cap', 'davidr', 'sayest', 'imploy', 'pious', 'appetite', 'commission', 'countrey', 'seemes', 'restore', 'hit', 'hazard', 'churchyards', 'any', 'husbandry', 'vnlimited', 'knauery', 'vnsatisfied', 'vpon', 'proceed', 'bands', \"temp'red\", 'taken', 'whisper', 'bow', 'spokes', 'la', 'centinels', 'abhorred', 'wine', 'temperance', 'tush', 'note', 'laertes', 'stopes', 'lonelinesse', 'norwey', 'shew', 'dir', 'mone', 'heele', 'father', 'breeding', 'highnesse', 'consummation', 'abuses', 'enuiously', 'sun', 'tells', 'false', 'questionable', 'monday', \"shakespeare's\", 'riuals', 'forgiue', 'each', 'confront', 'shatter', 'vnnerued', 'delights', 'winner', 'wilt', 'first', 'leysure', 'tane', 'fetch', 'free', 'knew', 'murther', 'lights', 'weight', 'schollers', \"fac'd\", 'term', 'chast', 'what', 'willing', 'his', 'sauagenes', 'thank', 'mistooke', 'treason', 'golden', 'strike', 'witnesse', 'strawes', 'niobe', 'tune', 'besides', 'chide', 'none', 'commend', 'fie', 'aboord', \"depriu'd\", 'gins', \"th'art\", 'cannon', 'ascii', 'bent', 'wisedome', 'whore', 'lucianus', 'heyre', 'wrought', 'luxury', 'ventiges', 'colours', 'mistake', 'stuffe', 'attends', 'loggets', 'yesternight', 'host', 'priest', 'bruite', 'sunne', 'thirty', 'tame', 'got', 'cliche', 'bookes', 'diuel', 'comerce', 'violence', 'obsequious', 'months', 'motiue', 'oft', 'rebellious', 'suffering', 'stythe', 'conuerse', 'collected', 'forme', 'weapon', 'days', 'royalty', 'farwell', 'including', 'brackets', 'trifle', 'inclination', 'staffe', 'twice', 'thereunto', 'wil', 'punctuation', 'porpentine', 'drabbing', 'equivalent', 'depends', 'videlicet', 'commanded', 'high', 'dutie', 'fierie', 'scarft', 'yesty', 'clouts', 'instances', 'tarre', 'cry', 'been', 'dependent', 'shoone', 'whoreson', \"link'd\", 'hebenon', 'flie', 'embrace', 'dyed', 'ouercome', \"plac'd\", 'some', 'seek', 'spheres', 'faulconers', 'capitol', \"to'th\", 'whispers', 'gauntlets', 'damaged', 'end', 'shepheards', 'vnmanly', 'reading', 'indemnity', 'changes', 'petty', 'harmless', 'sacred', 'debt', 'philosophy', 'throwing', 'adams', 'waues', 'but', 'message', 'pronounce', 'geneva', 'she', 'meane', 'suggestion', 'if', 'password', 'burnt', 'leads', 'hamlets', 'riotous', 'contain', 'forbid', 'shrewdly', 'scull', 'remorselesse', 'recoueries', 'willow', 'beare', 'continuing', 'foyle', 'going', 'sometime', 'easily', 'prepare', 'wormes', 'pratlings', 'vnmannerly', 'death', \"prou'd\", 'find', 'thicke', 'masters', 'termagant', 'vice', 'caps', 'libertie', 'truster', 'valentines', 'triuiall', 'pluckes', \"on't\", 'massie', 'borrower', 'extasie', 'rash', 'filme', 'frame', 'couple', 'cleft', 'heads', 'tread', 'vnshaken', 'remembrances', 'happen', '\\ufeff', 'distribution', 'speakes', 'reuennew', 'seuerall', 'repose', 'feare', 'cursing', 'combined', 'kingdome', 'purging', 'rough', 'cessing', 'horrible', 'boughes', 'author', 'takes', 'affrighted', 'yonger', 'portraiture', 'orchard', 'staid', 'told', 'presently', 'hillo', 'amber', 'naturall', 'bitter', 'grossely', 'carriage', 'angels', 'converted', 'exactly', 'hindges', 'sweare', 'vulgar', 'buffets', \"belou'd\", 'polon', 'yonder', 'modell', 'possession', 'thrice', 'obiect', 'beene', 'masterly', 'moore', 'yeare', 'gore', 'bounded', 'torches', 'cheff', 'rises', 'sowing', 'yeares', 'herald', 'performance', \"bak'd\", 'twaine', 'indirect', 'paddocke', 'pyrate', 'pollonius', 'assignes', 'liuing', 'remaine', \"fulfill'd\", 'compelled', 'perceiue', 'director', 'woman', 'creatures', 'braines', 'space', 'captaine', 'onely', 'edition', 'browes', 'loues', 'can', 'satyre', 'wharfe', 'low', 'padling', 'streame', 'spade', 'tong', 'fancy', 'malicious', 'edited', 'carpenter', 'drop', 'shooke', 'everything', 'wax', 'true', 'eate', 'knowe', 'haradda', 'teach', 'beauer', 'yeeld', 'pollax', 'siluer', 'weeke', 'shoulders', 'obiects', 'despight', 'blason', 'whilst', 'bird', 'smiling', 'proclaimes', 'greet', 'quit', 'beleefe', 'buzze', 'ground', 'coward', 'tearmes', 'strangely', \"haue't\", 'rebels', 'liued', 'troubles', 'arrow', 'sate', 'pardon', 'wager', 'peale', 'fortified', 'gifts', 'law', 'email', 'doue', \"receiu'd\", 'deuill', 'matter', 'outface', 'tricks', 'begin', 'us', 'vacancie', 'vnseale', 'runs', 'loose', 'carriages', 'drum', 'remedie', 'fear', 'set', 'crie', 'peake', 'wring', 'text', 'calme', 'docs', 'fairely', 'riuet', 'thorny', 'rowe', 'repent', 'highest', 'precedent', 'beggard', 'scoena', 'coarse', 'denmarkes', 'calue', 'afflict', 'alarme', 'special', 'progresse', 'sprindge', 'mellon', 'hems', 'rabble', 'anothers', 'old', 'slips', 'ouer', 'nutshell', 'effect', 'necessaries', 'guildensterne', 'daughters', 'maiesty', 'original', 'vnwholsome', 'womans', 'hold', 'well', 'lier', 'helpe', 'falling', 'beshrew', 'fishmonger', 'shadow', 'center', 'fellowship', 'burning', 'ennactors', 'enuious', 'hecticke', 'switzers', 'grisly', 'primrose', 'possest', 'beseech', 'broke', 'playes', 'bread', 'smelt', \"th'hyrcanian\", 'choose', 'beleeued', 'tryall', 'formall', 'musicke', 'alijs', \"cramm'd\", 'power', 'stirre', 'ban', 'beard', 'perusall', 'dagger', 'like', 'suspiration', 'ratled', 'grasse', 'blow', 'variable', \"envenom'd\", 'fatnesse', \"do't\", 'blasted', 'likeliehood', 'promo', 'fold', 'obscure', 'includes', 'signifie', 'shamefull', 'drie', 'vndoe', 'introduced', 'blame', 'heed', 'using', 'claudius', 'waight', 'heeles', 'pearle', 'talkes', 'supposall', 'superuize', 'bodykins', 'beg', 'serious', 'reuels', 'fell', 'crownes', 'ioyes', 'carbuncles', 'contraction', 'below', 'sicke', 'slanders', 'monstrous', 'reeles', 'wary', 'hour', 'rowsed', 'vertues', 'mischeefe', 'nose', 'skin', 'imployment', 'flowers', 'incensed', 'seate', \"mourn'd\", 'kites', 'make', 'sirs', 'hyperions', 'familiar', 'grace', 'neck', 'foule', 'authorities', 'crowing', 'tis', \"dar'd\", 'knocking', 'vnsanctified', \"t'would\", \"subscrib'd\", 'plum', 'religion', 'equipment', 'laide', 'vile', 'yours', 'iealousie', 'minute', 'remembred', \"dispriz'd\", 'counterfet', \"natur'd\", 'mainly', 'deepe', 'statement', 'lookt', 'vnderstanding', 'sphere', 'mirror', 'scholars', 'fight', \"promis'd\", 'voltemand', \"hart's\", 'glad', 'plaine', 'finding', 'eares', 'neuer', 'disappointed', 'hastie', 'mount', 'making', 'rheume', 'reuengefull', 'taint', 'guilt', 'therfore', \"inlarg'd\", 'trophee', 'spelling', 'pate', 'traueller', 'equiuocation', 'heauenly', 'circumstance', \"o'reway\", 'stockings', 'opposed', 'profit', 'bedded', 'draw', 'warranties', 'hither', 'among', 'backward', 'defectiue', 'violet', 'comply', 'are', 'honour', 'pulse', 'seeke', 'bounds', 'fretted', \"drown'd\", 'scul', 'praier', 'warrant', 'wake', 'distributed', 'fore', 'giuing', 'barre', 'valentine', \"if't\", 'obserue', 'propertie', 'since', 'quality', 'purpose', 'breake', 'ordenance', 'admiration', 'garments', 'protests', 'muddied', 'typing', 'rendeuous', 'requite', 'girdle', 'bid', 'perchance', \"cou'nant\", 'zone', 'central', 'trulie', 'matrons', 'proposer', 'blinde', 'osricke', 'duls', 'nation', 'ile', 'caught', 'deeds', 'heerein', 'production', 'go', 'sweet', '7', 'humans', 'patience', 'beteene', 'shadowes', 'readable', 'spirit', 'caveat', 'pursie', 'be', 'her', 'orbed', 'underline', 'fauour', 'cowards', 'lenton', 'feele', 'hew', 'anon', 'exployt', 'lapwing', 'madam', 'within', 'lesson', 'leuied', 'laying', \"'gainst\", 'drowne', 'stealers', 'guildenstern', 'hamlet', 'start', 'haire', 'mornings', 'dowrie', 'clutch', 'proclaime', 'turne', 'frighted', 'quietus', 'com', 'enseamed', \"too't\", 'were', 'desperate', 'forty', 'thanke', 'steale', 'gumme', 'protestation', 'spots', 'billion', 'vtterance', \"ee'n\", 'prairienet', 'p', 'beggers', 'profession', 'answered', \"'tweene\", 'humbly', 'detecting', 'passions', '1999', 'worse', 'bloodie', 'amities', 'intent', 'belieue', 'bounteous', 'front', 'powers', 'nature', 'crowes', 'respect', 'mixture', 'croaking', 'penetrable', 'barren', 'incest', 'vttered', \"deuis'd\", 'beget', 'twenty', 'imperfections', 'shut', 'forestall', 'former', 'followes', 'againe', 'gentlemen', 'mole', 'affaire', 'tribute', 'cals', 'lot', 'mercurie', 'clay', 'departed', 'scene', \"sister's\", 'issue', 'toyle', 'bloody', 'country', 'deerest', 'wonderfull', 'wassels', 'passage', 'growne', 'curles', 'iot', 'smot', 'turbulent', 'provisions', 'virus', 'dignity', 'barbars', \"lack'd\", 'enters', 'heaues', 'knocke', 'fortunes', \"o'th'\", 'session', \"open'd\", 'dogges', 'ring', \"wee'l\", 'cost', 'hey', 'hasten', 'buyer', 'poleak', 'vse', \"vnhatch't\", 'roughly', 'murthered', 'medicine', 'bones', 'lunacie', 'encounter', 'guilty', 'soldiers', 'yet', 'scale', 'amen', 'foure', 'church', 'sorrie', 'trouble', 'sanitie', 'springs', 'full', 'exit', 'mget', 'passe', 'leaping', 'thunders', 'vnprofitable', 'tempest', 'damage', 'maine', 'indite', 'proceeding', 'stood', 'ebcdic', 'heauen', 'gidge', \"project's\", 'sleepes', \"cal'd\", 'sicklied', 'ly', 'malicho', 'gent', 'merriment', 'holla', 'vanquisher', 'chanson', 'neglected', 'refraine', 'coynage', 'pated', 'iocond', 'felicitie', 'historie', 'faine', 'boule', 'harping', 'bore', 'accept', 'cocke', 'distinguish', \"ingag'd\", 'hypocrite', 'euill', 'iudges', 'dull', 'absent', 'euents', 'charme', 'morning', 'encompassement', 'chariest', 'moity', 'hammes', 'aunt', 'taints', 'striking', 'grone', 'abuse', 'faction', 'eye', 'pleasant', 'seduce', 'ceremony', 'hanging', 'reuenge', 'sawes', 'farre', 'vncle', 'traile', 'playing', 'follow', 'vnite', 'marrie', 'bowts', 'vnpolluted', 'murdrous', 'meditation', 'hoorded', 'strugling', 'iudgements', 'cries', 'off', 'immediately', 'path', \"ne're\", 'honesty', 'backe', 'noyse', 'rather', 'reasons', 'manners', 'greefe', 'satyricall', 'vnskilfull', 'bray', 'assurance', 'range', 'sites', 'periodic', 'ielly', 'theeues', 'inch', 'key', 'speedier', 'innocculate', 'wrinkled', 'suppresse', 'kist', \"obseru'd\", 's', 'transcribe', 'competent', 'vnhouzzled', \"talk'd\", 'deepely', 'armour', \"rul'd\", \"y'are\", 'date', 'cressant', 'crowner', 'watcht', 'horse', 'three', 'folded', 'sayes', 'laid', 'suffred', 'ore', 'neere', 'purport', 'cheere', 'visite', 'customary', 'denote', 'last', 'youth', 'repaire', 'quiet', 'land', 'stand', 'hearers', 'caines', 'bearing', 'translate', 'paint', 'worne', 'goal', 'major', 'crowne', 'blankes', 'compasse', 'chowgh', 'might', 'horsebacke', 'l', 'beleeue', 'starres', 'sift', 'prepared', 'fault', 'broakers', 'magots', 'later', 'lords', 'slaues', 'suffers', 'readie', 'salary', 'another', 'blister', 'wise', 'rogue', 'town', 'sworne', 'slender', 'get', 'foode', 'leaperous', \"o'remaster't\", 'fix', 'diuell', 'search', 'prefer', 'ladie', 'bountie', 'paire', 'wast', 'expensive', \"deny'de\", 'learning', 'royalties', 'partizan', 'with', 'greene', 'affront', 'differences', 'pery', 'seasons', 'raine', 'pat', 'conuert', 'sorrow', 'escape', 'quils', 'encrease', 'resulting', 'times', 'mirth', 'impatient', 'celebrated', 'precepts', 'weazell', 'sharpe', 'estimation', 'exclaim', 'forehead', 'hora', 'piece', 'deuotions', 'clowne', 'gather', 'patches', 'farewell', 'more', \"th'\", 'francisco', 'disposition', 'fortune', 'bonny', 'knowest', 'affections', \"there's\", 'dallying', 'tardy', 'inobled', 'hundred', 'retaine', 'licenses', 'tutor', 'prize', 'blurres', 'compulsatiue', 'sickly', 'gratis', \"adioyn'd\", 'collection', 'weary', 'expence', 'fares', 'leaues', 'happes', 'swaggering', 'eies', 'speedie', 'perfume', 'non', 'alexander', \"wasn't\", 'dead', 'capons', 'chamber', 'stately', 'distraction', 'function', 'merchantability', 'brother', 'oare', 'filiall', 'labourer', 'postscript', 'gentlewoman', 'comfort', 'blasts', 'incontinencie', 'eleuen', 'spring', 'program', 'order', 'maiesties', 'foe', 'deserued', 'absurd', 'payes', 'rugged', 'glimpses', \"prepar'd\", 'calamity', 'lockes', 'die', 'damnable', 'behinde', 'perillous', 'compressed', 'shortly', 'cliches', 'detail', 'distrust', 'quarelling', 'pace', 'cheefest', 'barn', 'surge', 'knauish', 'considered', 'prosperously', 'returne', 'stung', 'garland', 'both', 'nearly', 'disclaims', 'double', \"asham'd\", 'vnseene', 'remain', 'exclusion', 'dishes', 'comrade', 'trophies', 'cannot', 'turnes', 'numbers', 'wide', 'remembraunce', 'mettels', 'habit', 'willes', 'sweepe', 'fearfull', 'owne', 'wants', 'fetters', \"don't\", 'effects', 'concernings', 'vapours', 'or', 'guts', 'stickes', 'vnhappily', 'crab', 'rankly', 'soft', 'dreadfull', 'thinke', 'confesse', 'goes', 'maiden', 'paris', 'see', 'confession', 'minister', 'lunacies', 'skinnes', 'instrumentall', 'sport', 'tanner', 'stayes', 'hic', 'found', 'bellow', 'intended', 'trying', 'liues', 'trademark', 'conueyance', 'attendants', 'gis', 'contacting', 'feares', 'know', 'dew', 'performe', 'wantonnesse', 'pompe', 'flattering', 'scuffling', \"perform'd\", 'render', 'requit', 'day', 'of', 'vndiscouered', 'vnbaited', 'dire', 'title', 'fruites', 'while', 'musick', 'breath', 'work', 'deeme', 'clossets', 'sindging', 'example', 'rages', 'honest', 'ifaith', 'announcement', 'byrlady', \"pick'd\", 'northerly', 'type', 'described', \"shuffel'd\", 'galls', 'needs', 'flints', \"better'd\", 'they', 'great', 'worlds', 'ser', 'vanilla', 'efforts', 'saies', 'conversion', 'vertuous', 'demands', 'thither', 'whipt', 'attent', 'window', 'driuen', 'project', 'trauaile', 'brazon', 'rub', 'admittance', 'conuey', 'infinite', 'soultry', 'health', 'hitherto', 'addicted', 'expresse', 'rites', 'hideous', 'teare', 'seeing', 'hot', 'halfe', 'permission', 'shirt', 'freely', \"bestow'd\", 'bels', 'columbines', 'roaming', 'treads', 'conuoy', 'arise', 'there', 'whereas', 'amis', 'whiffe', 'maintains', 'bleeding', 'etext90', 'choppine', 'anticke', \"clap't\", 'betters', \"stew'd\", 'calmes', 'bonet', 'gleane', 'beasts', \"vnproportion'd\", 'scoenes', 'ouerthrowne', 'weakest', 'daintier', 'sheepe', \"impon'd\", 'crimefull', 'implied', 'euerie', 'split', 'blowes', 'fran', 'speeches', 'defie', 'neyther', 'worth', 'clemencie', 'prophesie', 'realme', 'rare', 'enemy', 'pocket', 'sodaine', 'editing', 'holds', 'dungeons', 'tragicall', 'rend', 'available', \"conioyn'd\", 'lamound', 'hyre', 'prouinciall', \"wither'd\", 'haue', 'clowds', \"vpon't\", 'subscribe', 'breach', 'excellent', 'keeping', 'vgly', 'warmes', 'scarsely', 'palpable', 'editions', 'parts', 'bat', \"do's\", 'witchcraft', 'porches', 'bait', 'soules', 'sables', 'identify', 'gratefully', 'acquittance', 'tax', 'passeth', 'clowd', 'safely', 'adam', 'quicke', 'moode', 'calfe', 'queene', 'finds', 'ordinate', 'sledded', 'botch', 'trappings', 'paradox', 'crew', 'wheaten', 'richer', 'edge', 'slings', 'grinding', 'steps', 'grating', 'sinnes', 'tyrannous', 'meats', 'worthy', 'denmark', 'extinct', 'returneth', 'site', 'gauled', 'loath', 'behind', 'matters', 'themselues', 'vlcerous', 'he', 'almost', \"proclaim'd\", 'smoothnesse', 'rosincrance', 'insolence', 'prophanely', \"in's\", 'wilde', \"deliuer'd\", 'foolish', 'rates', 'came', 'ayrie', 'wearing', 'maiestie', 'grownd', 'less', 'vowes', 'weaker', 'fellow', 'famous', 'defend', 'morrow', 'patientlie', 'ioue', 'strooke', 'carue', 'shrowding', 'peruse', 'held', 'faults', 'mistris', 'reuolution', 'carrying', 'drowned', 'tm', 'seneca', 'secure', 'peeuish', \"pour'd\", 'quite', 'surmise', 'load', 'contracted', 'let', \"whor'd\", 'lippes', 'vnwilling', 'friend', 'eterne', 'daggers', 'thrift', 'aboue', 'few', 'vp', \"'twill\", 'think', 'face', 'receiue', 'stranger', 'compound', 'lugge', 'core', 'claudio', 'fame', 'feast', 'under', 'argues', 'sence', 'adoption', 'print', 'strook', 'falne', 'christians', 'mighty', 'plautus', 'essentially', 'ostentation', 'perfect', 'strings', 'sixeteene', 'stages', 'apt', 'looking', 'state', 'actions', 'glasse', 'shewes'}\n"
     ]
    }
   ],
   "source": [
    "print(hamwords)"
   ]
  },
  {
   "cell_type": "code",
   "execution_count": 57,
   "metadata": {},
   "outputs": [
    {
     "name": "stdout",
     "output_type": "stream",
     "text": [
      "3714 2518\n"
     ]
    }
   ],
   "source": [
    "## construct a set of words that are novel to one book\n",
    "hamnov = hamwords.difference(romwords)\n",
    "romnov = romwords.difference(hamwords)\n",
    "print(len(hamnov), len(romnov))"
   ]
  },
  {
   "cell_type": "code",
   "execution_count": 59,
   "metadata": {},
   "outputs": [],
   "source": [
    "## build a function to count word frequency\n",
    "## use R and S as input\n",
    "def countWords(strname):\n",
    "    ## empty defaultdict\n",
    "    ct = co.defaultdict(int)\n",
    "    ## will be a list of every object in strname\n",
    "    ## once split along the spaces\n",
    "    strname = strname.replace('\\r\\n', ' ')\n",
    "    strname = strname.lower()\n",
    "    for c in rPun:\n",
    "        strname = strname.replace(c, ' ')\n",
    "    ln = strname.split(' ')\n",
    "    for w in ln:\n",
    "        if w!='':\n",
    "            ct[w]+=1\n",
    "    return(ct)\n",
    "\n",
    "romct = countWords(R)\n",
    "hamct = countWords(S)"
   ]
  },
  {
   "cell_type": "code",
   "execution_count": 62,
   "metadata": {},
   "outputs": [],
   "source": [
    "romsort = sorted( romct.items(), key=op.itemgetter(1) )\n",
    "hamsort = sorted( hamct.items(), key=op.itemgetter(1) ) "
   ]
  },
  {
   "cell_type": "code",
   "execution_count": 63,
   "metadata": {},
   "outputs": [
    {
     "name": "stdout",
     "output_type": "stream",
     "text": [
      "[('\\ufeff', 1), ('presented', 1), ('cooperation', 1), ('cdroms', 1), ('releases', 1), ('placed', 1), ('has', 1), ('implications', 1), ('cooperate', 1), ('reading', 1)]\n"
     ]
    }
   ],
   "source": [
    "print(romsort[0:10])"
   ]
  },
  {
   "cell_type": "code",
   "execution_count": 64,
   "metadata": {},
   "outputs": [
    {
     "name": "stdout",
     "output_type": "stream",
     "text": [
      "[('in', 329), ('my', 359), ('that', 365), ('is', 384), ('of', 474), ('a', 478), ('i', 575), ('to', 612), ('the', 748), ('and', 780)]\n"
     ]
    }
   ],
   "source": [
    "print(romsort[-10:])"
   ]
  },
  {
   "cell_type": "code",
   "execution_count": 67,
   "metadata": {},
   "outputs": [],
   "source": [
    "## builds a list of pairs of (x,y) where x is a word novel to Romeo&Juliet\n",
    "### y is romct[x]. \n",
    "romnovct = [(x, romct[x]) for x in romnov]\n",
    "romnovsort = sorted( romnovct, key=op.itemgetter(1) )"
   ]
  },
  {
   "cell_type": "code",
   "execution_count": 68,
   "metadata": {},
   "outputs": [
    {
     "name": "stdout",
     "output_type": "stream",
     "text": [
      "[('juliet', 59), ('mer', 62), ('ben', 64), (\"i'll\", 71), ('friar', 92), ('jul', 117), ('romeo', 136), ('love', 139), ('nurse', 150), ('rom', 163)]\n"
     ]
    }
   ],
   "source": [
    "print(romnovsort[-10:])"
   ]
  },
  {
   "cell_type": "code",
   "execution_count": null,
   "metadata": {},
   "outputs": [],
   "source": [
    "## make a stand-alone python program\n",
    "## one you can execute from the command prompt\n",
    "## write code executable from the command prompt will output\n",
    "## the 10 most common words from a book given by a http address.(webpage)\n",
    "\n",
    "## python3 wordct.py [address]\n",
    "## format we would call it with\n",
    "\n",
    "import sys\n",
    "\n",
    "import string\n",
    "print(string.punctuation)\n",
    "rPun = string.punctuation.replace(\"'\", '')\n",
    "print(rPun)\n",
    "\n",
    "def countWords(strname):\n",
    "    ## empty defaultdict\n",
    "    ct = co.defaultdict(int)\n",
    "    ## will be a list of every object in strname\n",
    "    ## once split along the spaces\n",
    "    strname = strname.replace('\\r\\n', ' ')\n",
    "    strname = strname.lower()\n",
    "    for c in rPun:\n",
    "        strname = strname.replace(c, ' ')\n",
    "    ln = strname.split(' ')\n",
    "    for w in ln:\n",
    "        if w!='':\n",
    "            ct[w]+=1\n",
    "    return(ct)\n",
    "\n",
    "def countWPW(wpstring):\n",
    "    romstr = req.get(wpstring).content.decode(\"utf-8\")\n",
    "    return(countWords(romstr))\n",
    "\n",
    "## argv variable list of all the strings on the command line\n",
    "print(sys.argv)"
   ]
  }
 ],
 "metadata": {
  "kernelspec": {
   "display_name": "Python 3",
   "language": "python",
   "name": "python3"
  },
  "language_info": {
   "codemirror_mode": {
    "name": "ipython",
    "version": 3
   },
   "file_extension": ".py",
   "mimetype": "text/x-python",
   "name": "python",
   "nbconvert_exporter": "python",
   "pygments_lexer": "ipython3",
   "version": "3.6.7"
  }
 },
 "nbformat": 4,
 "nbformat_minor": 2
}
