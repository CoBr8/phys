{
 "cells": [
  {
   "cell_type": "markdown",
   "metadata": {},
   "source": [
    "# 3 Intro to Python language\n",
    "\n",
    "The main programming environment in this class will be [Python](https://www.python.org), and specifically the interactive [ipython](http://ipython.org) environment. The latter provides in combination with the [matplotlib](http://matplotlib.org) package and further extension packages, such as [numpy](http://www.numpy.org), [scipy](http://www.scipy.org) and [sympy](http://www.sympy.org) a very powerful environment for scientific and mathematical computing. There are many, many other extension packages.\n",
    "\n",
    "One of many available resources is the [Python Tutorial](https://docs.python.org/3/tutorial) which provides more detail and is more comprehensive compared to our coverage here. \n",
    "\n",
    "### Starting a new notebook\n",
    "* Start notebook (you may to select a kernel, select _Python3_), give it the name `test1.ipynb`\n",
    "* Many things missing, e.g. you can't do a square `sqrt` or a sine `sin`."
   ]
  },
  {
   "cell_type": "code",
   "execution_count": null,
   "metadata": {},
   "outputs": [],
   "source": [
    "# this is a comment\n",
    "sqrt(4)"
   ]
  },
  {
   "cell_type": "markdown",
   "metadata": {},
   "source": [
    "### Loading libraries\n",
    "* A key python feature: modules providing additional functionality, such as `numpy` \n",
    "* Load libraries such as numpy: `import numpy as np`"
   ]
  },
  {
   "cell_type": "code",
   "execution_count": null,
   "metadata": {},
   "outputs": [],
   "source": [
    "import numpy as np1\n",
    "np1.sqrt(4)"
   ]
  },
  {
   "cell_type": "code",
   "execution_count": null,
   "metadata": {},
   "outputs": [],
   "source": [
    "%pylab inline"
   ]
  },
  {
   "cell_type": "markdown",
   "metadata": {},
   "source": [
    "#### Pylab environment\n",
    "* Magic command `%pylab inline` is executed by default. It loads numpy and matlab into interactive namespace and makes sure plots are shown. \n",
    "* This is very convenient - but beware of **namespace** mingling $\\rightarrow$ _discuss name spaces_.\n",
    "* `%pylab` needs a _backend_, i.e. an interface that will take care of the actual plot and image generation. The default is `%pylab inline` and it creates static images that will be properly exported in html or pdf. \n",
    "* For interactive figures, try \n",
    "    - in JupyterHub `%pylab ipympl`\n",
    "    - in Jupyter Notebook `pylab nbagg`"
   ]
  },
  {
   "cell_type": "code",
   "execution_count": null,
   "metadata": {},
   "outputs": [],
   "source": [
    "%pylab ipympl"
   ]
  },
  {
   "cell_type": "code",
   "execution_count": null,
   "metadata": {},
   "outputs": [],
   "source": [
    "sqrt(4.)"
   ]
  },
  {
   "cell_type": "code",
   "execution_count": null,
   "metadata": {},
   "outputs": [],
   "source": [
    "import mpmath as mp\n",
    "mp.sqrt(4.)"
   ]
  },
  {
   "cell_type": "code",
   "execution_count": null,
   "metadata": {},
   "outputs": [],
   "source": [
    "import scipy as sp\n",
    "sp.sqrt(4.)"
   ]
  },
  {
   "cell_type": "markdown",
   "metadata": {},
   "source": [
    "Note that at this point we have four different ways to do a sqrt. Among these `sqrt` and `np.sqrt` are the same. Get help from the doc strong, and the location of the routine by adding a `?` to any command or variable:"
   ]
  },
  {
   "cell_type": "code",
   "execution_count": null,
   "metadata": {},
   "outputs": [],
   "source": [
    "#sqrt?\n",
    "#np.sqrt?\n",
    "sp.sqrt?\n",
    "#mp.sqrt?"
   ]
  },
  {
   "cell_type": "markdown",
   "metadata": {},
   "source": [
    "So, who cares? Well, the sqrt functions are really different. Try how they respond to a negative argument:"
   ]
  },
  {
   "cell_type": "code",
   "execution_count": null,
   "metadata": {},
   "outputs": [],
   "source": [
    "sqrt(-1)"
   ]
  },
  {
   "cell_type": "code",
   "execution_count": null,
   "metadata": {},
   "outputs": [],
   "source": [
    "sp.sqrt(-1)"
   ]
  },
  {
   "cell_type": "code",
   "execution_count": null,
   "metadata": {},
   "outputs": [],
   "source": [
    "mp.sqrt(-1)"
   ]
  },
  {
   "cell_type": "code",
   "execution_count": null,
   "metadata": {},
   "outputs": [],
   "source": [
    "sp.sqrt(-1)"
   ]
  },
  {
   "cell_type": "markdown",
   "metadata": {},
   "source": [
    "We have introduced here three important concepts:\n",
    "* name spaces\n",
    "* libraries\n",
    "* the built-in help function, the doc strings"
   ]
  },
  {
   "cell_type": "markdown",
   "metadata": {},
   "source": [
    "## Basic python language elements and tasks in python\n",
    "\n",
    "### Variables\n",
    "Variables and choosing variable names: \n",
    "- don't use possible function names or other things as variable names that could mean something, such as `and, as, assert, break, class, continue, def, del, elif, else, except, False, finally, for, from, global, if, import, in, is, lambda, None, nonlocal, not, or, pass, raise, return, True, try, with, while,` and `yield`\n",
    "- use mnemonic names\n",
    "- be mindful of name space, more of that later"
   ]
  },
  {
   "cell_type": "code",
   "execution_count": null,
   "metadata": {},
   "outputs": [],
   "source": [
    "ifb=3               # this is not a good name\n",
    "i_frame_buffer = 3  # this is a better name, maybe a bit too long\n",
    "iframbuf = 3        # compromise"
   ]
  },
  {
   "cell_type": "markdown",
   "metadata": {},
   "source": [
    "### Data types\n",
    "There are [numerous data types](https://en.wikibooks.org/wiki/Python_Programming/Data_Types) for different use cases. An import difference between objects is whether they are [mutable or immutable types](https://en.wikibooks.org/wiki/Python_Programming/Data_Types#Mutable_vs_Immutable_Objects). For example, arrays are mutable, their elements can be changed. (This can lead in practice to [unexpected results](https://gist.github.com/fherwig/48b3fc2a920833c6077891982ad122d7).) Tupples are immutable.\n",
    "\n",
    "Here are some of the most important:\n",
    "\n",
    "Immutable types | comment | example\n",
    "---|---|---\n",
    "integer | can be written without a fractional component | `i = 2`\n",
    "floats | real numbers, come in different precision, i.e. `float64` | `x = 2.1145`, `np.pi`\n",
    "complex | complex numbers, e.g. scipy.sqrt(-1) | `1j`\n",
    "strings | a sequence of characters | `name='Alfred'`\n",
    "tuple | immutable list of numbers | `a=(1,2,3)`"
   ]
  },
  {
   "cell_type": "code",
   "execution_count": null,
   "metadata": {},
   "outputs": [],
   "source": [
    "i=2, print(i)"
   ]
  },
  {
   "cell_type": "code",
   "execution_count": null,
   "metadata": {},
   "outputs": [],
   "source": [
    "first_name='Claudia'"
   ]
  },
  {
   "cell_type": "code",
   "execution_count": null,
   "metadata": {},
   "outputs": [],
   "source": [
    "first_name?"
   ]
  },
  {
   "cell_type": "markdown",
   "metadata": {},
   "source": [
    "Mutable types | comment | example\n",
    "---|---|---\n",
    "lists | a list of any combination of data types | `mylist = [1,np.pi,name,a,'Hello World!`]\n",
    "arrays | a numpy construct, vectors or higher dimenstional, contains numbers | `b=np.array(a,dtype='float64')`\n",
    "dictionary | elements given by key | `ages = {'Anna':25,'Frank':17,'Gandalf':107}`"
   ]
  },
  {
   "cell_type": "code",
   "execution_count": null,
   "metadata": {},
   "outputs": [],
   "source": [
    "a=12.5"
   ]
  },
  {
   "cell_type": "code",
   "execution_count": null,
   "metadata": {},
   "outputs": [],
   "source": [
    "mylist = [1,np.pi,first_name,a,'Hello World!']"
   ]
  },
  {
   "cell_type": "code",
   "execution_count": null,
   "metadata": {},
   "outputs": [],
   "source": [
    "print(mylist)"
   ]
  },
  {
   "cell_type": "code",
   "execution_count": null,
   "metadata": {},
   "outputs": [],
   "source": [
    "abc_list = [mylist,987.]"
   ]
  },
  {
   "cell_type": "code",
   "execution_count": null,
   "metadata": {},
   "outputs": [],
   "source": [
    "abc_list[0][2], abc_list[1]"
   ]
  },
  {
   "cell_type": "markdown",
   "metadata": {},
   "source": [
    "#### Scalar variables and lists"
   ]
  },
  {
   "cell_type": "code",
   "execution_count": null,
   "metadata": {},
   "outputs": [],
   "source": [
    "i = 2                   #  integer\n",
    "a = 4.2                 #  float\n",
    "z=3+2j; y=1-4j          #  complex\n",
    "print(z*y,z-y)"
   ]
  },
  {
   "cell_type": "code",
   "execution_count": null,
   "metadata": {},
   "outputs": [],
   "source": [
    "c = 'Frank'             # a character\n",
    "a_list = [2, 'b']       # a list\n",
    "a_list.append(c)        # append an element to list \n",
    "print(a_list)\n",
    "a_list.append('[7,6]')  # append list item to list\n",
    "print(a_list)"
   ]
  },
  {
   "cell_type": "markdown",
   "metadata": {},
   "source": [
    "#### Create or add to lists"
   ]
  },
  {
   "cell_type": "code",
   "execution_count": null,
   "metadata": {},
   "outputs": [],
   "source": [
    "a_list.append(5)    # append is a method associated with the list object"
   ]
  },
  {
   "cell_type": "code",
   "execution_count": null,
   "metadata": {},
   "outputs": [],
   "source": [
    "a_list"
   ]
  },
  {
   "cell_type": "markdown",
   "metadata": {},
   "source": [
    "An effective way to generate a list with an integer sequence of number is with the [range](https://docs.python.org/2/library/functions.html#range) function, which is a list generator:"
   ]
  },
  {
   "cell_type": "code",
   "execution_count": null,
   "metadata": {},
   "outputs": [],
   "source": [
    "jlist = list(range(0,6))\n",
    "jlist"
   ]
  },
  {
   "cell_type": "markdown",
   "metadata": {},
   "source": [
    "The same and more could be accomplished with an implicit or implied `for` loop, also refered to as _list comprehension_:"
   ]
  },
  {
   "cell_type": "code",
   "execution_count": null,
   "metadata": {},
   "outputs": [],
   "source": [
    "ilist = [i for i in range(0,21,3)]\n",
    "ilist"
   ]
  },
  {
   "cell_type": "markdown",
   "metadata": {},
   "source": [
    "In the above example, what is the role of the third argument of `range`?"
   ]
  },
  {
   "cell_type": "markdown",
   "metadata": {},
   "source": [
    "#### Dictionaries"
   ]
  },
  {
   "cell_type": "code",
   "execution_count": null,
   "metadata": {},
   "outputs": [],
   "source": [
    "ages = {'Anna':25,'Frank':17,'Gandalf':107}  # a dictionary\n",
    "print(ages['Frank'])"
   ]
  },
  {
   "cell_type": "code",
   "execution_count": null,
   "metadata": {},
   "outputs": [],
   "source": [
    "ages.values()"
   ]
  },
  {
   "cell_type": "markdown",
   "metadata": {},
   "source": [
    "#### Working with numbers and strings\n",
    "* Convert scalars"
   ]
  },
  {
   "cell_type": "code",
   "execution_count": null,
   "metadata": {},
   "outputs": [],
   "source": [
    "i=2\n",
    "print(\"Float: \",float(i), \", String: \",str(i))"
   ]
  },
  {
   "cell_type": "code",
   "execution_count": null,
   "metadata": {},
   "outputs": [],
   "source": [
    "'Frank is '+str(i)"
   ]
  },
  {
   "cell_type": "markdown",
   "metadata": {},
   "source": [
    "* Adding strings"
   ]
  },
  {
   "cell_type": "code",
   "execution_count": null,
   "metadata": {},
   "outputs": [],
   "source": [
    "str(i)+\"Hello\"+str(np.pi)"
   ]
  },
  {
   "cell_type": "markdown",
   "metadata": {},
   "source": [
    "* Slicing"
   ]
  },
  {
   "cell_type": "code",
   "execution_count": null,
   "metadata": {},
   "outputs": [],
   "source": [
    "filename='aaa-report-data.dat'\n",
    "filename[2:-1]"
   ]
  },
  {
   "cell_type": "markdown",
   "metadata": {},
   "source": [
    "* [Arithmetic operators](https://www.programiz.com/python-programming/operators#arithmetic)"
   ]
  },
  {
   "cell_type": "code",
   "execution_count": null,
   "metadata": {},
   "outputs": [],
   "source": [
    "2+2  # int and int returns int \n",
    "     # (holds for subtraction and multiplication as well)"
   ]
  },
  {
   "cell_type": "code",
   "execution_count": null,
   "metadata": {},
   "outputs": [],
   "source": [
    "1/3  # float division"
   ]
  },
  {
   "cell_type": "code",
   "execution_count": null,
   "metadata": {},
   "outputs": [],
   "source": [
    "4//3 # floor division"
   ]
  },
  {
   "cell_type": "code",
   "execution_count": null,
   "metadata": {},
   "outputs": [],
   "source": [
    "7%5  # modulus"
   ]
  },
  {
   "cell_type": "markdown",
   "metadata": {},
   "source": [
    "#### Algebra\n",
    "We can use variables we have already assigned and create new ones."
   ]
  },
  {
   "cell_type": "code",
   "execution_count": null,
   "metadata": {},
   "outputs": [],
   "source": [
    "g=111"
   ]
  },
  {
   "cell_type": "code",
   "execution_count": null,
   "metadata": {},
   "outputs": [],
   "source": [
    "g = 2*a + 2\n",
    "print(g)"
   ]
  },
  {
   "cell_type": "code",
   "execution_count": null,
   "metadata": {},
   "outputs": [],
   "source": [
    "print(2+a/4)"
   ]
  },
  {
   "cell_type": "code",
   "execution_count": null,
   "metadata": {},
   "outputs": [],
   "source": [
    "print((2+a)/4)  #be careful where you place brackets"
   ]
  },
  {
   "cell_type": "markdown",
   "metadata": {},
   "source": [
    "#### Array creation"
   ]
  },
  {
   "cell_type": "code",
   "execution_count": null,
   "metadata": {},
   "outputs": [],
   "source": [
    "x = linspace(0.76,10,7) # a numerical array, floats\n",
    "print(x)"
   ]
  },
  {
   "cell_type": "code",
   "execution_count": null,
   "metadata": {},
   "outputs": [],
   "source": [
    "zeros(10)+1 - ones(10)"
   ]
  },
  {
   "cell_type": "markdown",
   "metadata": {},
   "source": [
    "Example: Make list with numbers and create array from that."
   ]
  },
  {
   "cell_type": "code",
   "execution_count": null,
   "metadata": {},
   "outputs": [],
   "source": []
  },
  {
   "cell_type": "markdown",
   "metadata": {},
   "source": [
    "#### Dictionaries"
   ]
  },
  {
   "cell_type": "markdown",
   "metadata": {},
   "source": [
    "#### Boolean"
   ]
  },
  {
   "cell_type": "code",
   "execution_count": null,
   "metadata": {},
   "outputs": [],
   "source": [
    "istrue = True           # boolean"
   ]
  },
  {
   "cell_type": "code",
   "execution_count": null,
   "metadata": {},
   "outputs": [],
   "source": [
    "# check for boolean\n",
    "if istrue:\n",
    "    print('It is true!')"
   ]
  },
  {
   "cell_type": "code",
   "execution_count": null,
   "metadata": {},
   "outputs": [],
   "source": [
    "# if in doubt what something is - just ask:\n",
    "#x?\n",
    "#or\n",
    "type(x)"
   ]
  },
  {
   "cell_type": "code",
   "execution_count": null,
   "metadata": {},
   "outputs": [],
   "source": [
    "# type of a variable\n",
    "print(type(x), type(a))"
   ]
  },
  {
   "cell_type": "code",
   "execution_count": null,
   "metadata": {},
   "outputs": [],
   "source": [
    "# we can check for the type:\n",
    "if type(a) == \"float\":\n",
    "    print('Variable a is a float!')"
   ]
  },
  {
   "cell_type": "code",
   "execution_count": null,
   "metadata": {},
   "outputs": [],
   "source": [
    "# why did this not work? type is not of type string!\n",
    "if type(a) == float:\n",
    "    print('Variable a is a float!')"
   ]
  },
  {
   "cell_type": "markdown",
   "metadata": {},
   "source": [
    "#### Printing, formatting text and numbers\n",
    "\n",
    "* slicing of arrays"
   ]
  },
  {
   "cell_type": "code",
   "execution_count": null,
   "metadata": {},
   "outputs": [],
   "source": [
    "x"
   ]
  },
  {
   "cell_type": "code",
   "execution_count": null,
   "metadata": {},
   "outputs": [],
   "source": [
    "print(x[2:4])"
   ]
  },
  {
   "cell_type": "markdown",
   "metadata": {},
   "source": [
    "* formatted output (we will often want the answer of a problem in a formatted output statement!)"
   ]
  },
  {
   "cell_type": "code",
   "execution_count": null,
   "metadata": {},
   "outputs": [],
   "source": [
    "print(\"%s made %d measurements, the first was %.1E\\\n",
    " and the average was a = %g\" % (c,i,x[0],a))"
   ]
  },
  {
   "cell_type": "markdown",
   "metadata": {},
   "source": [
    "Commonly used `printf` format specifications:\n",
    "```\n",
    "%s a string\n",
    "%d an integer\n",
    "%0xd an integer padded with x leading zeros\n",
    "%f decimal notation with six decimals\n",
    "%e compact scientific notation, e in the exponent \n",
    "%E compact scientific notation, E in the exponent \n",
    "%g compact decimal or scientific notation (with e) \n",
    "%G compact decimal or scientific notation (with E) \n",
    "%xz format z right-adjusted in a field of width x \n",
    "%-xz format z left-adjusted in a field of width x \n",
    "%.yz format z with y decimals\n",
    "%x.yz format z with y decimals in a field of width x \n",
    "%% the percentage sign (%) itself\n",
    "```"
   ]
  },
  {
   "cell_type": "markdown",
   "metadata": {},
   "source": [
    "#### Input/output"
   ]
  },
  {
   "cell_type": "code",
   "execution_count": null,
   "metadata": {},
   "outputs": [],
   "source": [
    "# ask for user input:\n",
    "user_input = input(\"Voltage: [V]\")"
   ]
  },
  {
   "cell_type": "code",
   "execution_count": null,
   "metadata": {},
   "outputs": [],
   "source": [
    "print('User voltage is %gV.' % float(user_input))"
   ]
  },
  {
   "cell_type": "code",
   "execution_count": null,
   "metadata": {},
   "outputs": [],
   "source": [
    "# writing a file\n",
    "f = open('test.txt','w')\n",
    "f.write(\"1 2 3 \\n4 5 6 \\n7 8 9\")\n",
    "f.close()"
   ]
  },
  {
   "cell_type": "code",
   "execution_count": null,
   "metadata": {},
   "outputs": [],
   "source": [
    "# reading a file\n",
    "g = open('test.txt','r')\n",
    "for line in g:\n",
    "    print(line)\n",
    "g.close()"
   ]
  },
  {
   "cell_type": "code",
   "execution_count": null,
   "metadata": {},
   "outputs": [],
   "source": [
    "g_array = np.loadtxt('test.txt')"
   ]
  },
  {
   "cell_type": "code",
   "execution_count": null,
   "metadata": {},
   "outputs": [],
   "source": [
    "print(g_array)"
   ]
  },
  {
   "cell_type": "markdown",
   "metadata": {},
   "source": [
    "#### Flow control: for and while loops, if statement"
   ]
  },
  {
   "cell_type": "code",
   "execution_count": null,
   "metadata": {},
   "outputs": [],
   "source": [
    "# if statement\n",
    "for i in range(5):\n",
    "    if i < 4:\n",
    "        print(i)"
   ]
  },
  {
   "cell_type": "code",
   "execution_count": null,
   "metadata": {},
   "outputs": [],
   "source": [
    "# another if example\n",
    "print(i)\n",
    "if i > 1:\n",
    "    print(i)"
   ]
  },
  {
   "cell_type": "code",
   "execution_count": null,
   "metadata": {},
   "outputs": [],
   "source": [
    "# while statement\n",
    "i=0\n",
    "while i < 4:\n",
    "    print(i)\n",
    "    i += 1\n",
    "    "
   ]
  },
  {
   "cell_type": "code",
   "execution_count": null,
   "metadata": {},
   "outputs": [],
   "source": [
    "# for loop\n",
    "things = ['abc', 'def', 'ghi']\n",
    "modified_things = []\n",
    "for thing in things:\n",
    "    mod_thing = thing[0]\n",
    "    modified_things.append(mod_thing+\"_label\")  "
   ]
  },
  {
   "cell_type": "code",
   "execution_count": null,
   "metadata": {},
   "outputs": [],
   "source": [
    "modified_things"
   ]
  },
  {
   "cell_type": "markdown",
   "metadata": {},
   "source": [
    "Syntax in python: formatting matters!"
   ]
  },
  {
   "cell_type": "code",
   "execution_count": null,
   "metadata": {},
   "outputs": [],
   "source": [
    "# implied loops, list comprehension\n",
    "modified_things = [thing[0]+\"_label\" for thing in things]"
   ]
  },
  {
   "cell_type": "code",
   "execution_count": null,
   "metadata": {},
   "outputs": [],
   "source": [
    "modified_things"
   ]
  },
  {
   "cell_type": "markdown",
   "metadata": {},
   "source": [
    "Another example: reading data from text file and mangling data in a for loop"
   ]
  },
  {
   "cell_type": "code",
   "execution_count": null,
   "metadata": {},
   "outputs": [],
   "source": [
    "# show file\n",
    "!ls ../data/iniab1.4E-02As09.ppn\n",
    "# show content of file\n",
    "!cat ../data/iniab1.4E-02As09.ppn"
   ]
  },
  {
   "cell_type": "code",
   "execution_count": null,
   "metadata": {},
   "outputs": [],
   "source": [
    "# open file and attach to file object variable\n",
    "#f.close()\n",
    "f=open('../data/iniab1.4E-02As09.ppn')"
   ]
  },
  {
   "cell_type": "code",
   "execution_count": null,
   "metadata": {},
   "outputs": [],
   "source": [
    "# what is in f\n",
    "f.readlines()"
   ]
  },
  {
   "cell_type": "code",
   "execution_count": null,
   "metadata": {},
   "outputs": [],
   "source": [
    "# read data and save it into variables\n",
    "ind=[];elem=[];A=[];X=[]\n",
    "i=0\n",
    "for line in f.readlines():\n",
    "    a,b,c,d=line.split()\n",
    "    i += 1         # the first column in the file contains the charge \n",
    "    ind.append(i)  # number; we don't need it, but an index variable \n",
    "    elem.append(b) # would be useful\n",
    "    A.append(c)\n",
    "    X.append(d)"
   ]
  },
  {
   "cell_type": "code",
   "execution_count": null,
   "metadata": {},
   "outputs": [],
   "source": [
    "# read ini abund tester\n",
    "for i in range(len(ind)):\n",
    "    print (ind[i],elem[i],A[i],X[i])"
   ]
  },
  {
   "cell_type": "markdown",
   "metadata": {},
   "source": [
    "Often we have two lists and want to do something with each pair, e.g. formatted output. In this case the [zip](https://docs.python.org/3.3/library/functions.html#zip) function is useful: "
   ]
  },
  {
   "cell_type": "code",
   "execution_count": 2,
   "metadata": {},
   "outputs": [
    {
     "name": "stdout",
     "output_type": "stream",
     "text": [
      "  a = 3.00\n",
      "  f = 2.35\n",
      " go = 7.10\n",
      "tot = 6.00\n"
     ]
    }
   ],
   "source": [
    "clist = ['a','f',\"go\",'tot']\n",
    "alist = [3.,2.35456,7.1,6]\n",
    "for c,a in zip(clist,alist):\n",
    "    print(\"%3s = %4.2f\" % (c,a))\n"
   ]
  },
  {
   "cell_type": "code",
   "execution_count": 3,
   "metadata": {},
   "outputs": [
    {
     "name": "stdout",
     "output_type": "stream",
     "text": [
      "0 a\n",
      "1 f\n",
      "2 go\n",
      "3 tot\n"
     ]
    }
   ],
   "source": [
    "for i,c in enumerate(clist): # enumerate gives an index position for each element in the iterable object\n",
    "    print(i,c)"
   ]
  },
  {
   "cell_type": "markdown",
   "metadata": {},
   "source": [
    "#### Operators\n",
    "In the above we use the [augmented assignment](https://docs.python.org/2.0/ref/augassign.html) operator. It is an example of the many operators and constructs that are used to form [python expressions](https://docs.python.org/3/reference/expressions.html#). \n",
    "\n",
    "[Augmented assignments](https://docs.python.org/2.0/ref/augassign.html) are an example of how sometimes details do matter, as can be seen [when applying ]"
   ]
  },
  {
   "cell_type": "markdown",
   "metadata": {},
   "source": [
    "#### Functions \n",
    "- `def` \n",
    "- function arguments: mandatory and optional\n",
    "- lambda functions: "
   ]
  },
  {
   "cell_type": "code",
   "execution_count": null,
   "metadata": {},
   "outputs": [],
   "source": [
    "def g(x,a=1):\n",
    "    g = a*x**2\n",
    "    return g\n",
    "g(3)"
   ]
  },
  {
   "cell_type": "markdown",
   "metadata": {},
   "source": [
    "# the following code is useful for assingment 1 question 4"
   ]
  },
  {
   "cell_type": "code",
   "execution_count": 4,
   "metadata": {},
   "outputs": [
    {
     "data": {
      "text/plain": [
       "8.0"
      ]
     },
     "execution_count": 4,
     "metadata": {},
     "output_type": "execute_result"
    }
   ],
   "source": [
    "a = 2.\n",
    "f = lambda x: a*x**2\n",
    "f(2)"
   ]
  },
  {
   "cell_type": "code",
   "execution_count": 7,
   "metadata": {},
   "outputs": [
    {
     "data": {
      "text/plain": [
       "\u001b[0;31mSignature:\u001b[0m \u001b[0mfunction1\u001b[0m\u001b[0;34m(\u001b[0m\u001b[0;34m)\u001b[0m\u001b[0;34m\u001b[0m\u001b[0;34m\u001b[0m\u001b[0m\n",
       "\u001b[0;31mDocstring:\u001b[0m\n",
       "Function 1 is empty\n",
       "It does nothing and returns nothing.\n",
       "\u001b[0;31mFile:\u001b[0m      ~/mp248/notes/<ipython-input-7-c02bcb45c33e>\n",
       "\u001b[0;31mType:\u001b[0m      function\n"
      ]
     },
     "metadata": {},
     "output_type": "display_data"
    }
   ],
   "source": [
    "def function1():\n",
    "    '''\n",
    "    Function 1 is empty\n",
    "    It does nothing and returns nothing.\n",
    "    '''\n",
    "    \n",
    "function1?"
   ]
  },
  {
   "cell_type": "markdown",
   "metadata": {},
   "source": [
    "#### Help and documentation\n",
    "* getting help: `help(function)` or `function?`\n",
    "* comments and documentation: doc strings"
   ]
  },
  {
   "cell_type": "code",
   "execution_count": null,
   "metadata": {},
   "outputs": [],
   "source": [
    "sqrt?"
   ]
  },
  {
   "cell_type": "code",
   "execution_count": null,
   "metadata": {},
   "outputs": [],
   "source": [
    "help(sqrt)"
   ]
  },
  {
   "cell_type": "markdown",
   "metadata": {},
   "source": [
    "#### Example of using library\n",
    "* random numbers: search for _numpy random_"
   ]
  },
  {
   "cell_type": "code",
   "execution_count": 8,
   "metadata": {},
   "outputs": [
    {
     "data": {
      "text/plain": [
       "\u001b[0;31mType:\u001b[0m        module\n",
       "\u001b[0;31mString form:\u001b[0m <module 'numpy.random' from '/usr/local/lib/python3.6/dist-packages/numpy/random/__init__.py'>\n",
       "\u001b[0;31mFile:\u001b[0m        /usr/local/lib/python3.6/dist-packages/numpy/random/__init__.py\n",
       "\u001b[0;31mDocstring:\u001b[0m  \n",
       "========================\n",
       "Random Number Generation\n",
       "========================\n",
       "\n",
       "==================== =========================================================\n",
       "Utility functions\n",
       "==============================================================================\n",
       "random_sample        Uniformly distributed floats over ``[0, 1)``.\n",
       "random               Alias for `random_sample`.\n",
       "bytes                Uniformly distributed random bytes.\n",
       "random_integers      Uniformly distributed integers in a given range.\n",
       "permutation          Randomly permute a sequence / generate a random sequence.\n",
       "shuffle              Randomly permute a sequence in place.\n",
       "seed                 Seed the random number generator.\n",
       "choice               Random sample from 1-D array.\n",
       "\n",
       "==================== =========================================================\n",
       "\n",
       "==================== =========================================================\n",
       "Compatibility functions\n",
       "==============================================================================\n",
       "rand                 Uniformly distributed values.\n",
       "randn                Normally distributed values.\n",
       "ranf                 Uniformly distributed floating point numbers.\n",
       "randint              Uniformly distributed integers in a given range.\n",
       "==================== =========================================================\n",
       "\n",
       "==================== =========================================================\n",
       "Univariate distributions\n",
       "==============================================================================\n",
       "beta                 Beta distribution over ``[0, 1]``.\n",
       "binomial             Binomial distribution.\n",
       "chisquare            :math:`\\chi^2` distribution.\n",
       "exponential          Exponential distribution.\n",
       "f                    F (Fisher-Snedecor) distribution.\n",
       "gamma                Gamma distribution.\n",
       "geometric            Geometric distribution.\n",
       "gumbel               Gumbel distribution.\n",
       "hypergeometric       Hypergeometric distribution.\n",
       "laplace              Laplace distribution.\n",
       "logistic             Logistic distribution.\n",
       "lognormal            Log-normal distribution.\n",
       "logseries            Logarithmic series distribution.\n",
       "negative_binomial    Negative binomial distribution.\n",
       "noncentral_chisquare Non-central chi-square distribution.\n",
       "noncentral_f         Non-central F distribution.\n",
       "normal               Normal / Gaussian distribution.\n",
       "pareto               Pareto distribution.\n",
       "poisson              Poisson distribution.\n",
       "power                Power distribution.\n",
       "rayleigh             Rayleigh distribution.\n",
       "triangular           Triangular distribution.\n",
       "uniform              Uniform distribution.\n",
       "vonmises             Von Mises circular distribution.\n",
       "wald                 Wald (inverse Gaussian) distribution.\n",
       "weibull              Weibull distribution.\n",
       "zipf                 Zipf's distribution over ranked data.\n",
       "==================== =========================================================\n",
       "\n",
       "==================== =========================================================\n",
       "Multivariate distributions\n",
       "==============================================================================\n",
       "dirichlet            Multivariate generalization of Beta distribution.\n",
       "multinomial          Multivariate generalization of the binomial distribution.\n",
       "multivariate_normal  Multivariate generalization of the normal distribution.\n",
       "==================== =========================================================\n",
       "\n",
       "==================== =========================================================\n",
       "Standard distributions\n",
       "==============================================================================\n",
       "standard_cauchy      Standard Cauchy-Lorentz distribution.\n",
       "standard_exponential Standard exponential distribution.\n",
       "standard_gamma       Standard Gamma distribution.\n",
       "standard_normal      Standard normal distribution.\n",
       "standard_t           Standard Student's t-distribution.\n",
       "==================== =========================================================\n",
       "\n",
       "==================== =========================================================\n",
       "Internal functions\n",
       "==============================================================================\n",
       "get_state            Get tuple representing internal state of generator.\n",
       "set_state            Set state of generator.\n",
       "==================== =========================================================\n"
      ]
     },
     "metadata": {},
     "output_type": "display_data"
    }
   ],
   "source": [
    "random?"
   ]
  },
  {
   "cell_type": "code",
   "execution_count": 9,
   "metadata": {},
   "outputs": [
    {
     "data": {
      "text/plain": [
       "array([0.92464945, 0.51526332, 0.34797912, 0.29367271, 0.19217538])"
      ]
     },
     "execution_count": 9,
     "metadata": {},
     "output_type": "execute_result"
    }
   ],
   "source": [
    "random.random(5)"
   ]
  }
 ],
 "metadata": {
  "anaconda-cloud": {},
  "kernelspec": {
   "display_name": "Python 3",
   "language": "python",
   "name": "python3"
  },
  "language_info": {
   "codemirror_mode": {
    "name": "ipython",
    "version": 3
   },
   "file_extension": ".py",
   "mimetype": "text/x-python",
   "name": "python",
   "nbconvert_exporter": "python",
   "pygments_lexer": "ipython3",
   "version": "3.6.7"
  }
 },
 "nbformat": 4,
 "nbformat_minor": 2
}
