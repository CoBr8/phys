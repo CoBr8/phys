{
 "cells": [
  {
   "cell_type": "markdown",
   "metadata": {},
   "source": [
    "# Skydiver\n",
    "\n",
    "In course notebook 6 you have seen numerical differentiation and solving ODEs explcitely. In notebook 7 you have seen how to solve ODEs analytically with Sympy. In this class we will solve ODEs again numerically by using libraries. We will then discuss and application, the equation of motion that dictates the trajectory of a skydiver.  "
   ]
  },
  {
   "cell_type": "markdown",
   "metadata": {},
   "source": [
    "## Solving ODEs with libraries\n",
    "Revisit the Euler step solution:"
   ]
  },
  {
   "cell_type": "code",
   "execution_count": 3,
   "metadata": {},
   "outputs": [
    {
     "name": "stdout",
     "output_type": "stream",
     "text": [
      "Populating the interactive namespace from numpy and matplotlib\n"
     ]
    }
   ],
   "source": [
    "%pylab ipympl"
   ]
  },
  {
   "cell_type": "code",
   "execution_count": 4,
   "metadata": {},
   "outputs": [
    {
     "name": "stdout",
     "output_type": "stream",
     "text": [
      "2.0 0.0\n",
      "4.0 8.0\n",
      "6.0 24.0\n",
      "8.0 48.0\n"
     ]
    }
   ],
   "source": [
    "y=[]; y.append(0)\n",
    "x=[]; x.append(0)\n",
    "rhs_f = lambda x: 2*x\n",
    "x_thing = x[0]; y_thing = y[0]\n",
    "h=2.; x_end = 4.\n",
    "while x_thing <= x_end+h:\n",
    "    y_thing = y_thing + h * rhs_f(x_thing)\n",
    "    x_thing += h\n",
    "    print(x_thing,y_thing)\n",
    "    x.append(x_thing); y.append(y_thing)\n"
   ]
  },
  {
   "cell_type": "code",
   "execution_count": 5,
   "metadata": {},
   "outputs": [
    {
     "data": {
      "application/vnd.jupyter.widget-view+json": {
       "model_id": "d654628385b34443aafd82466e97004c",
       "version_major": 2,
       "version_minor": 0
      },
      "text/plain": [
       "FigureCanvasNbAgg()"
      ]
     },
     "metadata": {},
     "output_type": "display_data"
    }
   ],
   "source": [
    "close(1);figure(1)\n",
    "plot(x,y,'o-',label='numeric, Euler')\n",
    "plot(x,array(x)**2,'--',label='analytic')\n",
    "legend();xlabel('$x$'),ylabel('$y(x)$')\n",
    "show()"
   ]
  },
  {
   "cell_type": "code",
   "execution_count": 6,
   "metadata": {},
   "outputs": [],
   "source": [
    "from scipy import integrate"
   ]
  },
  {
   "cell_type": "code",
   "execution_count": 7,
   "metadata": {},
   "outputs": [],
   "source": [
    "#integrate.odeint?"
   ]
  },
  {
   "cell_type": "code",
   "execution_count": 8,
   "metadata": {},
   "outputs": [],
   "source": [
    "rhs_ff = lambda y,x: 2*x\n",
    "x = linspace(0,7,4)\n",
    "x0=0"
   ]
  },
  {
   "cell_type": "code",
   "execution_count": 9,
   "metadata": {},
   "outputs": [],
   "source": [
    "yy = integrate.odeint(rhs_ff,x0,x)"
   ]
  },
  {
   "cell_type": "code",
   "execution_count": 11,
   "metadata": {},
   "outputs": [
    {
     "data": {
      "image/png": "[encoded data removed]",
      "text/plain": [
       "<Figure size 432x288 with 1 Axes>"
      ]
     },
     "metadata": {
      "needs_background": "light"
     },
     "output_type": "display_data"
    }
   ],
   "source": [
    "figure(1)\n",
    "plot(x,yy,'v:',label='scipy.integrate.odeint')\n",
    "legend()\n",
    "show()"
   ]
  },
  {
   "cell_type": "markdown",
   "metadata": {},
   "source": [
    "## Skydiver problem: Falling body with drag\n",
    "\n",
    "A falling body - say a skydiver - will increase speed when she jumps off the plane because she is accelerated by the earth's gravity. However, the speed will not increase forever. In addition to the gravitational force the sky diver will feel the drag force due to air resistance.\n",
    "\n",
    "What is the terminal velocity of the sky diver? This will depend on the balance of two forces: the gravitational force and the drag force that describes the air resistance\n",
    "\n",
    "\n",
    "### Equation of motion\n",
    "The equation of motion for the velocity is $v = a t +v_0$ where $a$ is the acceration and $v_0$ the initial velocity. But this is of course just a special case of the more general case\n",
    "$$\\frac{d\\vec{p}}{dt} = \\sum \\vec{F}_i .$$\n",
    "where $\\vec{p}$ is the momentum and $\\vec{F}_i$ is one of several forces that may act, like gravitational force and friction.\n",
    "\n",
    "### Forces\n",
    "We will consider a 1D motion in the vertical direction, and therefore consider the scalar equations.\n",
    "\n",
    "#### Gravity\n",
    "\n",
    "$$F = - m g$$\n",
    "where $m$ is the mass of the body and $g$ is the magnitude of the gravitational acceleration.\n",
    "\n",
    "#### Air drag\n",
    "\n",
    "In order to obtain an idea of what a formula for the air drag could be we use dimensional analysis. This method is based on the principle that every physics equation must be dimensionally homogeneous, i.e. the units on each side of the equation must be the same. We are looking for a force, which has the unit \n",
    "$$ [F] = \\frac{ML}{T^2}$$\n",
    "where $M$, $L$ and $T$ stand for the mass, length and time unit. We then consider what the drag force could possibly depend on. This consideration is where the physics happens. We expect that the drag force will somehow depend on the following:\n",
    "\n",
    "- density $\\rho$ of medium through which object is moving, in this case air\n",
    "- velocity $v$\n",
    "- cross section of object $A$\n",
    "\n",
    "We are looking for an expression of the type\n",
    "$$F = C_D \\rho^a v^b A^c$$ \n",
    "where $C_D$ is a dimensionless coefficient and $a$, $b$ and $c$ are derived from the condition that unit of $F$ has to come out correctly. You can easily confirm that this is the case if $a=1$, $b=2$ and $c=1.$ Convention has it that we throw in another factor $\\frac{1}{2}$ and the  resulting expression for the drag force is \n",
    "\n",
    "$$F_D = \\frac{1}{2} C_D \\rho v^2 A.$$ \n",
    "\n",
    "### Drag coefficient\n",
    "\n",
    "A number of hydrodynamic processes contributed to the total drag of a an object. Which of these will dominate will depend on the flow regime. Flow regimes in hydrodynamics are characterized by dimensionless numbers. The relevant number in our case is the Reynolds number $$Re = \\frac{l v}{\\nu}$$\n",
    "where $l$ and $v$ are the characteristic length scale and the characteristic velocity and $\\nu$ is the kinematic viscosity. "
   ]
  },
  {
   "cell_type": "code",
   "execution_count": 12,
   "metadata": {},
   "outputs": [],
   "source": [
    "import astropy.units as u\n",
    "\n",
    "v = 100 * u.km/u.hr"
   ]
  },
  {
   "cell_type": "code",
   "execution_count": 13,
   "metadata": {},
   "outputs": [
    {
     "data": {
      "text/latex": [
       "$27.777778 \\; \\mathrm{\\frac{m}{s}}$"
      ],
      "text/plain": [
       "<Quantity 27.77777778 m / s>"
      ]
     },
     "execution_count": 13,
     "metadata": {},
     "output_type": "execute_result"
    }
   ],
   "source": [
    "v.to('m/s')"
   ]
  },
  {
   "cell_type": "code",
   "execution_count": 14,
   "metadata": {},
   "outputs": [
    {
     "name": "stdout",
     "output_type": "stream",
     "text": [
      "Re = 1.852E+06\n"
     ]
    }
   ],
   "source": [
    "nu = 1.5e-5 * u.m**2/u.s          # in m^2/s\n",
    "l = 1*u.m\n",
    "Re = v*l/nu\n",
    "form_str='Re = %7.3E'\n",
    "print(form_str%Re)"
   ]
  },
  {
   "cell_type": "markdown",
   "metadata": {},
   "source": [
    "This is a very high Reynolds number. For $Re > 2000$ the flow is usually turbulent. \n",
    "Experiments show how the drag coefficient depends on the $Re$ number, \n",
    "[see for example here](http://pages.mtu.edu/~fmorriso/DataCorrelationForSphereDrag2016.pdf) \n",
    "or any text book on fluid dynamics. We see that for the large $Re$ numbers of \n",
    "our situation we should adopt $ C_D \\approx 0.3$.\n",
    "\n",
    "### Equation of motion for sky diver\n",
    "\n",
    "\n",
    "$$ m \\frac{dv}{dt} = -mg + \\frac{1}{2} C_D \\rho v^2 A $$\n",
    "or, with $$k = \\frac{1}{2} \\frac{C_\\mathrm{D} \\rho A}{m}$$ we just have\n",
    "$$ \\frac{dv}{dt} = -g +  k v^2.$$"
   ]
  },
  {
   "cell_type": "markdown",
   "metadata": {},
   "source": [
    "In order to solve this differential equation on a compute we use the Euler step method. The most simple solution scheme would be the following: \n",
    "\n",
    "$$\\frac{v_\\mathrm{n+1} - v_\\mathrm{n}}{h} = -g + kv_\\mathrm{n}^2$$\n",
    "\n",
    "where the subscript $n$ indicates subsequents steps in time, and $h$ is the choosen time step length $\\Delta t$. Solving for $v_\\mathrm{n+1}$ yields:\n",
    "\n",
    "$$ v_\\mathrm{n+1} = v_\\mathrm{n} + h(kv_\\mathrm{n}^2 -g) $$\n",
    "\n",
    "Finally, we just need some appropriate initial conditions, such as $v_\\mathrm{0} = 0$.\n",
    "\n",
    "What we want to get is the function $v(t)$. How will it likely look like? Initially the velocity will increase as the graviational acceleration dominates. Ultimately the quadratic drag term in $v$ will become noticable. In fact, there is an equillibrium solution then the drag force equals the gravitational force. Equillibrium means that nothing changes, i.e. $$\\frac{dv}{dt}=0$$ \n",
    "\n",
    "In that case from the differential equation above we find that the terminal velocity is  $$v_\\mathrm{T} = \\sqrt{\\frac{g}{k}}$$"
   ]
  },
  {
   "cell_type": "markdown",
   "metadata": {},
   "source": [
    "#### Explicit solution"
   ]
  },
  {
   "cell_type": "code",
   "execution_count": 15,
   "metadata": {},
   "outputs": [
    {
     "name": "stdout",
     "output_type": "stream",
     "text": [
      "Terminal velocity =  65.32 m/s\n"
     ]
    }
   ],
   "source": [
    "k = 0.002296875   # 1 / m       # this number will be calculated\n",
    "g = 9.8           # m/s**2      # in the lab\n",
    "v_t = sqrt(g/k)\n",
    "print(\"Terminal velocity = %6.2f m/s\"% v_t)"
   ]
  },
  {
   "cell_type": "code",
   "execution_count": 16,
   "metadata": {},
   "outputs": [
    {
     "name": "stdout",
     "output_type": "stream",
     "text": [
      "0.7654655446197431\n"
     ]
    }
   ],
   "source": [
    "#estimate time step\n",
    "dt=(1000./v_t)/20.      #estimate time step\n",
    "print(dt)"
   ]
  },
  {
   "cell_type": "code",
   "execution_count": 17,
   "metadata": {},
   "outputs": [],
   "source": [
    "def rhs_sdiver(v,dt):\n",
    "    'Evaluate RHS for skydiver problem, advance one time step'\n",
    "    v = v + dt*(k*v**2 - g)\n",
    "    return v"
   ]
  },
  {
   "cell_type": "code",
   "execution_count": 18,
   "metadata": {},
   "outputs": [
    {
     "name": "stdout",
     "output_type": "stream",
     "text": [
      "-7.501562337273484\n"
     ]
    }
   ],
   "source": [
    "v=rhs_sdiver(0,dt)\n",
    "print(v)"
   ]
  },
  {
   "cell_type": "code",
   "execution_count": 19,
   "metadata": {},
   "outputs": [
    {
     "name": "stdout",
     "output_type": "stream",
     "text": [
      "-14.904185916889409\n"
     ]
    }
   ],
   "source": [
    "v=rhs_sdiver(v,dt)\n",
    "print(v)"
   ]
  },
  {
   "cell_type": "code",
   "execution_count": 20,
   "metadata": {},
   "outputs": [],
   "source": [
    "tt=[]\n",
    "vv=[]\n",
    "tmax=3*1000./v_t\n",
    "t=0; v=0"
   ]
  },
  {
   "cell_type": "code",
   "execution_count": 21,
   "metadata": {},
   "outputs": [],
   "source": [
    "while t < tmax:\n",
    "    v=rhs_sdiver(v,dt)\n",
    "    t += dt\n",
    "    tt.append(t)\n",
    "    vv.append(v)"
   ]
  },
  {
   "cell_type": "code",
   "execution_count": 23,
   "metadata": {},
   "outputs": [
    {
     "data": {
      "image/png": "[encoded data removed]",
      "text/plain": [
       "<Figure size 432x288 with 1 Axes>"
      ]
     },
     "metadata": {
      "needs_background": "light"
     },
     "output_type": "display_data"
    }
   ],
   "source": [
    "\n",
    "close(2);figure(2)\n",
    "plot(array(tt),array(vv),'o--')\n",
    "xlabel('time / s')\n",
    "ylabel('v / m/s')\n",
    "show()\n"
   ]
  },
  {
   "cell_type": "markdown",
   "metadata": {},
   "source": [
    "#### Now integrate with odeint library"
   ]
  },
  {
   "cell_type": "code",
   "execution_count": 25,
   "metadata": {},
   "outputs": [
    {
     "data": {
      "image/png": "[encoded data removed]",
      "text/plain": [
       "<Figure size 432x288 with 1 Axes>"
      ]
     },
     "metadata": {
      "needs_background": "light"
     },
     "output_type": "display_data"
    }
   ],
   "source": [
    "def rhs_sdiver_odeint(v,t):\n",
    "    'Evaluate RHS for skydiver problem'\n",
    "    return k*v**2 - g\n",
    "v0=0\n",
    "t=linspace(0,35,4)\n",
    "vs = integrate.odeint(rhs_sdiver_odeint,v0,t)\n",
    "figure(2)\n",
    "plot(array(t),array(vs),'h:')\n",
    "show()"
   ]
  },
  {
   "cell_type": "code",
   "execution_count": 24,
   "metadata": {},
   "outputs": [
    {
     "data": {
      "text/plain": [
       "\u001b[0;31mSignature:\u001b[0m\n",
       "\u001b[0mintegrate\u001b[0m\u001b[0;34m.\u001b[0m\u001b[0modeint\u001b[0m\u001b[0;34m(\u001b[0m\u001b[0;34m\u001b[0m\n",
       "\u001b[0;34m\u001b[0m    \u001b[0;34m[\u001b[0m\u001b[0;34m'func'\u001b[0m\u001b[0;34m,\u001b[0m \u001b[0;34m'y0'\u001b[0m\u001b[0;34m,\u001b[0m \u001b[0;34m't'\u001b[0m\u001b[0;34m,\u001b[0m \u001b[0;34m'args=()'\u001b[0m\u001b[0;34m,\u001b[0m \u001b[0;34m'Dfun=None'\u001b[0m\u001b[0;34m,\u001b[0m \u001b[0;34m'col_deriv=0'\u001b[0m\u001b[0;34m,\u001b[0m \u001b[0;34m'full_output=0'\u001b[0m\u001b[0;34m,\u001b[0m \u001b[0;34m'ml=None'\u001b[0m\u001b[0;34m,\u001b[0m \u001b[0;34m'mu=None'\u001b[0m\u001b[0;34m,\u001b[0m \u001b[0;34m'rtol=None'\u001b[0m\u001b[0;34m,\u001b[0m \u001b[0;34m'atol=None'\u001b[0m\u001b[0;34m,\u001b[0m \u001b[0;34m'tcrit=None'\u001b[0m\u001b[0;34m,\u001b[0m \u001b[0;34m'h0=0.0'\u001b[0m\u001b[0;34m,\u001b[0m \u001b[0;34m'hmax=0.0'\u001b[0m\u001b[0;34m,\u001b[0m \u001b[0;34m'hmin=0.0'\u001b[0m\u001b[0;34m,\u001b[0m \u001b[0;34m'ixpr=0'\u001b[0m\u001b[0;34m,\u001b[0m \u001b[0;34m'mxstep=0'\u001b[0m\u001b[0;34m,\u001b[0m \u001b[0;34m'mxhnil=0'\u001b[0m\u001b[0;34m,\u001b[0m \u001b[0;34m'mxordn=12'\u001b[0m\u001b[0;34m,\u001b[0m \u001b[0;34m'mxords=5'\u001b[0m\u001b[0;34m,\u001b[0m \u001b[0;34m'printmessg=0'\u001b[0m\u001b[0;34m,\u001b[0m \u001b[0;34m'tfirst=False'\u001b[0m\u001b[0;34m]\u001b[0m\u001b[0;34m,\u001b[0m\u001b[0;34m\u001b[0m\n",
       "\u001b[0;34m\u001b[0m\u001b[0;34m)\u001b[0m\u001b[0;34m\u001b[0m\u001b[0;34m\u001b[0m\u001b[0m\n",
       "\u001b[0;31mDocstring:\u001b[0m\n",
       "Integrate a system of ordinary differential equations.\n",
       "\n",
       ".. note:: For new code, use `scipy.integrate.solve_ivp` to solve a\n",
       "          differential equation.\n",
       "\n",
       "Solve a system of ordinary differential equations using lsoda from the\n",
       "FORTRAN library odepack.\n",
       "\n",
       "Solves the initial value problem for stiff or non-stiff systems\n",
       "of first order ode-s::\n",
       "\n",
       "    dy/dt = func(y, t, ...)  [or func(t, y, ...)]\n",
       "\n",
       "where y can be a vector.\n",
       "\n",
       ".. note:: By default, the required order of the first two arguments of\n",
       "          `func` are in the opposite order of the arguments in the system\n",
       "          definition function used by the `scipy.integrate.ode` class and\n",
       "          the function `scipy.integrate.solve_ivp`.  To use a function with\n",
       "          the signature ``func(t, y, ...)``, the argument `tfirst` must be\n",
       "          set to ``True``.\n",
       "\n",
       "Parameters\n",
       "----------\n",
       "func : callable(y, t, ...) or callable(t, y, ...)\n",
       "    Computes the derivative of y at t.\n",
       "    If the signature is ``callable(t, y, ...)``, then the argument\n",
       "    `tfirst` must be set ``True``.\n",
       "y0 : array\n",
       "    Initial condition on y (can be a vector).\n",
       "t : array\n",
       "    A sequence of time points for which to solve for y.  The initial\n",
       "    value point should be the first element of this sequence.\n",
       "    This sequence must be monotonically increasing or monotonically\n",
       "    decreasing; repeated values are allowed.\n",
       "args : tuple, optional\n",
       "    Extra arguments to pass to function.\n",
       "Dfun : callable(y, t, ...) or callable(t, y, ...)\n",
       "    Gradient (Jacobian) of `func`.\n",
       "    If the signature is ``callable(t, y, ...)``, then the argument\n",
       "    `tfirst` must be set ``True``.\n",
       "col_deriv : bool, optional\n",
       "    True if `Dfun` defines derivatives down columns (faster),\n",
       "    otherwise `Dfun` should define derivatives across rows.\n",
       "full_output : bool, optional\n",
       "    True if to return a dictionary of optional outputs as the second output\n",
       "printmessg : bool, optional\n",
       "    Whether to print the convergence message\n",
       "tfirst: bool, optional\n",
       "    If True, the first two arguments of `func` (and `Dfun`, if given)\n",
       "    must ``t, y`` instead of the default ``y, t``.\n",
       "\n",
       "    .. versionadded:: 1.1.0\n",
       "\n",
       "Returns\n",
       "-------\n",
       "y : array, shape (len(t), len(y0))\n",
       "    Array containing the value of y for each desired time in t,\n",
       "    with the initial value `y0` in the first row.\n",
       "infodict : dict, only returned if full_output == True\n",
       "    Dictionary containing additional output information\n",
       "\n",
       "    =======  ============================================================\n",
       "    key      meaning\n",
       "    =======  ============================================================\n",
       "    'hu'     vector of step sizes successfully used for each time step.\n",
       "    'tcur'   vector with the value of t reached for each time step.\n",
       "             (will always be at least as large as the input times).\n",
       "    'tolsf'  vector of tolerance scale factors, greater than 1.0,\n",
       "             computed when a request for too much accuracy was detected.\n",
       "    'tsw'    value of t at the time of the last method switch\n",
       "             (given for each time step)\n",
       "    'nst'    cumulative number of time steps\n",
       "    'nfe'    cumulative number of function evaluations for each time step\n",
       "    'nje'    cumulative number of jacobian evaluations for each time step\n",
       "    'nqu'    a vector of method orders for each successful step.\n",
       "    'imxer'  index of the component of largest magnitude in the\n",
       "             weighted local error vector (e / ewt) on an error return, -1\n",
       "             otherwise.\n",
       "    'lenrw'  the length of the double work array required.\n",
       "    'leniw'  the length of integer work array required.\n",
       "    'mused'  a vector of method indicators for each successful time step:\n",
       "             1: adams (nonstiff), 2: bdf (stiff)\n",
       "    =======  ============================================================\n",
       "\n",
       "Other Parameters\n",
       "----------------\n",
       "ml, mu : int, optional\n",
       "    If either of these are not None or non-negative, then the\n",
       "    Jacobian is assumed to be banded.  These give the number of\n",
       "    lower and upper non-zero diagonals in this banded matrix.\n",
       "    For the banded case, `Dfun` should return a matrix whose\n",
       "    rows contain the non-zero bands (starting with the lowest diagonal).\n",
       "    Thus, the return matrix `jac` from `Dfun` should have shape\n",
       "    ``(ml + mu + 1, len(y0))`` when ``ml >=0`` or ``mu >=0``.\n",
       "    The data in `jac` must be stored such that ``jac[i - j + mu, j]``\n",
       "    holds the derivative of the `i`th equation with respect to the `j`th\n",
       "    state variable.  If `col_deriv` is True, the transpose of this\n",
       "    `jac` must be returned.\n",
       "rtol, atol : float, optional\n",
       "    The input parameters `rtol` and `atol` determine the error\n",
       "    control performed by the solver.  The solver will control the\n",
       "    vector, e, of estimated local errors in y, according to an\n",
       "    inequality of the form ``max-norm of (e / ewt) <= 1``,\n",
       "    where ewt is a vector of positive error weights computed as\n",
       "    ``ewt = rtol * abs(y) + atol``.\n",
       "    rtol and atol can be either vectors the same length as y or scalars.\n",
       "    Defaults to 1.49012e-8.\n",
       "tcrit : ndarray, optional\n",
       "    Vector of critical points (e.g. singularities) where integration\n",
       "    care should be taken.\n",
       "h0 : float, (0: solver-determined), optional\n",
       "    The step size to be attempted on the first step.\n",
       "hmax : float, (0: solver-determined), optional\n",
       "    The maximum absolute step size allowed.\n",
       "hmin : float, (0: solver-determined), optional\n",
       "    The minimum absolute step size allowed.\n",
       "ixpr : bool, optional\n",
       "    Whether to generate extra printing at method switches.\n",
       "mxstep : int, (0: solver-determined), optional\n",
       "    Maximum number of (internally defined) steps allowed for each\n",
       "    integration point in t.\n",
       "mxhnil : int, (0: solver-determined), optional\n",
       "    Maximum number of messages printed.\n",
       "mxordn : int, (0: solver-determined), optional\n",
       "    Maximum order to be allowed for the non-stiff (Adams) method.\n",
       "mxords : int, (0: solver-determined), optional\n",
       "    Maximum order to be allowed for the stiff (BDF) method.\n",
       "\n",
       "See Also\n",
       "--------\n",
       "solve_ivp : Solve an initial value problem for a system of ODEs.\n",
       "ode : a more object-oriented integrator based on VODE.\n",
       "quad : for finding the area under a curve.\n",
       "\n",
       "Examples\n",
       "--------\n",
       "The second order differential equation for the angle `theta` of a\n",
       "pendulum acted on by gravity with friction can be written::\n",
       "\n",
       "    theta''(t) + b*theta'(t) + c*sin(theta(t)) = 0\n",
       "\n",
       "where `b` and `c` are positive constants, and a prime (') denotes a\n",
       "derivative.  To solve this equation with `odeint`, we must first convert\n",
       "it to a system of first order equations.  By defining the angular\n",
       "velocity ``omega(t) = theta'(t)``, we obtain the system::\n",
       "\n",
       "    theta'(t) = omega(t)\n",
       "    omega'(t) = -b*omega(t) - c*sin(theta(t))\n",
       "\n",
       "Let `y` be the vector [`theta`, `omega`].  We implement this system\n",
       "in python as:\n",
       "\n",
       ">>> def pend(y, t, b, c):\n",
       "...     theta, omega = y\n",
       "...     dydt = [omega, -b*omega - c*np.sin(theta)]\n",
       "...     return dydt\n",
       "...\n",
       "\n",
       "We assume the constants are `b` = 0.25 and `c` = 5.0:\n",
       "\n",
       ">>> b = 0.25\n",
       ">>> c = 5.0\n",
       "\n",
       "For initial conditions, we assume the pendulum is nearly vertical\n",
       "with `theta(0)` = `pi` - 0.1, and is initially at rest, so\n",
       "`omega(0)` = 0.  Then the vector of initial conditions is\n",
       "\n",
       ">>> y0 = [np.pi - 0.1, 0.0]\n",
       "\n",
       "We will generate a solution at 101 evenly spaced samples in the interval\n",
       "0 <= `t` <= 10.  So our array of times is:\n",
       "\n",
       ">>> t = np.linspace(0, 10, 101)\n",
       "\n",
       "Call `odeint` to generate the solution.  To pass the parameters\n",
       "`b` and `c` to `pend`, we give them to `odeint` using the `args`\n",
       "argument.\n",
       "\n",
       ">>> from scipy.integrate import odeint\n",
       ">>> sol = odeint(pend, y0, t, args=(b, c))\n",
       "\n",
       "The solution is an array with shape (101, 2).  The first column\n",
       "is `theta(t)`, and the second is `omega(t)`.  The following code\n",
       "plots both components.\n",
       "\n",
       ">>> import matplotlib.pyplot as plt\n",
       ">>> plt.plot(t, sol[:, 0], 'b', label='theta(t)')\n",
       ">>> plt.plot(t, sol[:, 1], 'g', label='omega(t)')\n",
       ">>> plt.legend(loc='best')\n",
       ">>> plt.xlabel('t')\n",
       ">>> plt.grid()\n",
       ">>> plt.show()\n",
       "\u001b[0;31mFile:\u001b[0m      /usr/local/lib/python3.6/dist-packages/scipy/integrate/odepack.py\n",
       "\u001b[0;31mType:\u001b[0m      function\n"
      ]
     },
     "metadata": {},
     "output_type": "display_data"
    }
   ],
   "source": [
    "integrate.odeint?"
   ]
  },
  {
   "cell_type": "code",
   "execution_count": null,
   "metadata": {},
   "outputs": [],
   "source": []
  },
  {
   "cell_type": "code",
   "execution_count": null,
   "metadata": {},
   "outputs": [],
   "source": []
  }
 ],
 "metadata": {
  "kernelspec": {
   "display_name": "Python 3",
   "language": "python",
   "name": "python3"
  },
  "language_info": {
   "codemirror_mode": {
    "name": "ipython",
    "version": 3
   },
   "file_extension": ".py",
   "mimetype": "text/x-python",
   "name": "python",
   "nbconvert_exporter": "python",
   "pygments_lexer": "ipython3",
   "version": "3.6.7"
  }
 },
 "nbformat": 4,
 "nbformat_minor": 2
}
