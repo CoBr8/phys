{
 "cells": [
  {
   "cell_type": "markdown",
   "metadata": {},
   "source": [
    "## 6. Files and OS\n",
    "\n",
    "Issues:\n",
    "\n",
    " * Reading, writing files.  Searching for files. \n",
    " * Dictionaries to keep track of data. \n",
    " "
   ]
  },
  {
   "cell_type": "code",
   "execution_count": 1,
   "metadata": {},
   "outputs": [
    {
     "name": "stdout",
     "output_type": "stream",
     "text": [
      "[1, 2, 3, 4, 'blah', 'blah']\n"
     ]
    }
   ],
   "source": [
    "## python lists\n",
    "\n",
    "L = [1, 2, 3, 4, \"blah\", \"blah\"]\n",
    "print(L)"
   ]
  },
  {
   "cell_type": "code",
   "execution_count": 3,
   "metadata": {},
   "outputs": [
    {
     "data": {
      "text/plain": [
       "2"
      ]
     },
     "execution_count": 3,
     "metadata": {},
     "output_type": "execute_result"
    }
   ],
   "source": [
    "L[1]"
   ]
  },
  {
   "cell_type": "code",
   "execution_count": 5,
   "metadata": {},
   "outputs": [
    {
     "data": {
      "text/plain": [
       "[2, 3]"
      ]
     },
     "execution_count": 5,
     "metadata": {},
     "output_type": "execute_result"
    }
   ],
   "source": [
    "L[1:3]"
   ]
  },
  {
   "cell_type": "code",
   "execution_count": 6,
   "metadata": {},
   "outputs": [
    {
     "data": {
      "text/plain": [
       "'blah'"
      ]
     },
     "execution_count": 6,
     "metadata": {},
     "output_type": "execute_result"
    }
   ],
   "source": [
    "L[-1]"
   ]
  },
  {
   "cell_type": "code",
   "execution_count": 11,
   "metadata": {},
   "outputs": [
    {
     "data": {
      "text/plain": [
       "['blah', 'blah']"
      ]
     },
     "execution_count": 11,
     "metadata": {},
     "output_type": "execute_result"
    }
   ],
   "source": [
    "L[-2:]"
   ]
  },
  {
   "cell_type": "code",
   "execution_count": 12,
   "metadata": {},
   "outputs": [
    {
     "data": {
      "text/plain": [
       "{'this morning temp': 3, 'yesterday afternoon': 10}"
      ]
     },
     "execution_count": 12,
     "metadata": {},
     "output_type": "execute_result"
    }
   ],
   "source": [
    "## dictionaries are for keepings track of things using more natural\n",
    "## ways of indexing\n",
    "\n",
    "dict([(\"this morning temp\", 3), (\"yesterday afternoon\", 10)])"
   ]
  },
  {
   "cell_type": "code",
   "execution_count": 13,
   "metadata": {},
   "outputs": [],
   "source": [
    "## lets apply dictionaries to file IO\n",
    "\n",
    "import os as os"
   ]
  },
  {
   "cell_type": "code",
   "execution_count": 14,
   "metadata": {},
   "outputs": [
    {
     "name": "stdout",
     "output_type": "stream",
     "text": [
      "filesystem root:  ['srv', 'opt', 'var', 'boot', 'dev', 'sys', 'tmp', 'etc', 'root', 'mnt', 'lib', 'usr', 'proc', 'sbin', 'lib64', 'home', 'media', 'run', 'bin', 'user', 'data', '.dockerenv', 'node_modules']\n"
     ]
    }
   ],
   "source": [
    "print(\"filesystem root: \", os.listdir(\"/\"))"
   ]
  },
  {
   "cell_type": "code",
   "execution_count": 15,
   "metadata": {},
   "outputs": [
    {
     "data": {
      "text/plain": [
       "posix.uname_result(sysname='Linux', nodename='57a6bb33eb40', release='3.10.0-862.11.6.el7.x86_64', version='#1 SMP Tue Aug 14 21:49:04 UTC 2018', machine='x86_64')"
      ]
     },
     "execution_count": 15,
     "metadata": {},
     "output_type": "execute_result"
    }
   ],
   "source": [
    "os.uname()"
   ]
  },
  {
   "cell_type": "code",
   "execution_count": 16,
   "metadata": {},
   "outputs": [
    {
     "data": {
      "text/plain": [
       "'/home/user/mp248-course-notes'"
      ]
     },
     "execution_count": 16,
     "metadata": {},
     "output_type": "execute_result"
    }
   ],
   "source": [
    "os.getcwd()"
   ]
  },
  {
   "cell_type": "code",
   "execution_count": 17,
   "metadata": {},
   "outputs": [
    {
     "data": {
      "text/plain": [
       "['3. Introduction to Python programming.ipynb',\n",
       " 'examples',\n",
       " '2. Intro Git.ipynb',\n",
       " 'README.md',\n",
       " 'images',\n",
       " '5. Numerical integration and differentiation.ipynb',\n",
       " '.git',\n",
       " 'Quizzes_Assignments_Exams',\n",
       " '6. Files and OS.ipynb',\n",
       " '0. Introduction.ipynb',\n",
       " '4. Python plotting, interpolation, units, 2D arrays.ipynb',\n",
       " '.ipynb_checkpoints',\n",
       " 'Labs',\n",
       " '1. Command line interface - Linux, Unix, GNU.ipynb']"
      ]
     },
     "execution_count": 17,
     "metadata": {},
     "output_type": "execute_result"
    }
   ],
   "source": [
    "os.listdir('.')"
   ]
  },
  {
   "cell_type": "code",
   "execution_count": 18,
   "metadata": {},
   "outputs": [
    {
     "data": {
      "text/plain": [
       "'/home/user/mp248-course-notes'"
      ]
     },
     "execution_count": 18,
     "metadata": {},
     "output_type": "execute_result"
    }
   ],
   "source": [
    "## os.path\n",
    "\n",
    "os.path.abspath('.')"
   ]
  },
  {
   "cell_type": "code",
   "execution_count": 19,
   "metadata": {},
   "outputs": [
    {
     "data": {
      "text/plain": [
       "['srv',\n",
       " 'opt',\n",
       " 'var',\n",
       " 'boot',\n",
       " 'dev',\n",
       " 'sys',\n",
       " 'tmp',\n",
       " 'etc',\n",
       " 'root',\n",
       " 'mnt',\n",
       " 'lib',\n",
       " 'usr',\n",
       " 'proc',\n",
       " 'sbin',\n",
       " 'lib64',\n",
       " 'home',\n",
       " 'media',\n",
       " 'run',\n",
       " 'bin',\n",
       " 'user',\n",
       " 'data',\n",
       " '.dockerenv',\n",
       " 'node_modules']"
      ]
     },
     "execution_count": 19,
     "metadata": {},
     "output_type": "execute_result"
    }
   ],
   "source": [
    "os.listdir('/')"
   ]
  },
  {
   "cell_type": "code",
   "execution_count": 20,
   "metadata": {},
   "outputs": [
    {
     "data": {
      "text/plain": [
       "False"
      ]
     },
     "execution_count": 20,
     "metadata": {},
     "output_type": "execute_result"
    }
   ],
   "source": [
    "os.path.isfile(\"/run\")"
   ]
  },
  {
   "cell_type": "code",
   "execution_count": 21,
   "metadata": {},
   "outputs": [
    {
     "data": {
      "text/plain": [
       "True"
      ]
     },
     "execution_count": 21,
     "metadata": {},
     "output_type": "execute_result"
    }
   ],
   "source": [
    "os.path.isdir(\"/run\")"
   ]
  },
  {
   "cell_type": "code",
   "execution_count": 23,
   "metadata": {},
   "outputs": [
    {
     "name": "stdout",
     "output_type": "stream",
     "text": [
      "<class 'posix.DirEntry'> <DirEntry '3. Introduction to Python programming.ipynb'> False\n",
      "<class 'posix.DirEntry'> <DirEntry 'examples'> True\n",
      "<class 'posix.DirEntry'> <DirEntry '2. Intro Git.ipynb'> False\n",
      "<class 'posix.DirEntry'> <DirEntry 'README.md'> False\n",
      "<class 'posix.DirEntry'> <DirEntry 'images'> True\n",
      "<class 'posix.DirEntry'> <DirEntry '5. Numerical integration and differentiation.ipynb'> False\n",
      "<class 'posix.DirEntry'> <DirEntry '.git'> True\n",
      "<class 'posix.DirEntry'> <DirEntry 'Quizzes_Assignments_Exams'> True\n",
      "<class 'posix.DirEntry'> <DirEntry '6. Files and OS.ipynb'> False\n",
      "<class 'posix.DirEntry'> <DirEntry '0. Introduction.ipynb'> False\n",
      "<class 'posix.DirEntry'> <DirEntry '4. Python plotting, interpolation, units, 2D arrays.ipynb'> False\n",
      "<class 'posix.DirEntry'> <DirEntry '.ipynb_checkpoints'> True\n",
      "<class 'posix.DirEntry'> <DirEntry 'Labs'> True\n",
      "<class 'posix.DirEntry'> <DirEntry '1. Command line interface - Linux, Unix, GNU.ipynb'> False\n"
     ]
    }
   ],
   "source": [
    "with os.scandir('.') as it:\n",
    "    for entry in it:\n",
    "        print(type(entry), entry, entry.is_dir())"
   ]
  },
  {
   "cell_type": "code",
   "execution_count": 27,
   "metadata": {},
   "outputs": [
    {
     "name": "stdout",
     "output_type": "stream",
     "text": [
      "<class 'str'> 3. Introduction to Python programming.ipynb\n",
      "<class 'str'> examples\n",
      "<class 'str'> 2. Intro Git.ipynb\n",
      "<class 'str'> README.md\n",
      "<class 'str'> images\n",
      "<class 'str'> 5. Numerical integration and differentiation.ipynb\n",
      "<class 'str'> .git\n",
      "<class 'str'> Quizzes_Assignments_Exams\n",
      "<class 'str'> 6. Files and OS.ipynb\n",
      "<class 'str'> 0. Introduction.ipynb\n",
      "<class 'str'> 4. Python plotting, interpolation, units, 2D arrays.ipynb\n",
      "<class 'str'> .ipynb_checkpoints\n",
      "<class 'str'> Labs\n",
      "<class 'str'> 1. Command line interface - Linux, Unix, GNU.ipynb\n"
     ]
    }
   ],
   "source": [
    "for x in os.listdir():\n",
    "    print(type(x), x)"
   ]
  },
  {
   "cell_type": "code",
   "execution_count": 32,
   "metadata": {},
   "outputs": [
    {
     "name": "stdout",
     "output_type": "stream",
     "text": [
      "Dir:  .\n",
      " 3. Introduction to Python programming.ipynb\n",
      " 2. Intro Git.ipynb\n",
      " README.md\n",
      " 5. Numerical integration and differentiation.ipynb\n",
      " 6. Files and OS.ipynb\n",
      " 0. Introduction.ipynb\n",
      " 4. Python plotting, interpolation, units, 2D arrays.ipynb\n",
      " 1. Command line interface - Linux, Unix, GNU.ipynb\n",
      "Dir:  ./examples\n",
      "  mymod.py\n",
      "  example.sh\n",
      "  example_markdown_notebook_essentials.ipynb\n",
      "  example_intro.ipynb\n",
      "Dir:  ./images\n",
      "  quarter.png\n",
      "  firstplot.png\n",
      "  fig_circle_pi.jpg\n",
      "  ResistorCircuit.jpg\n",
      "  secondplot.png\n",
      "Dir:  ./.git\n",
      "  HEAD\n",
      "  packed-refs\n",
      "  ORIG_HEAD\n",
      "  index\n",
      "  config\n",
      "  description\n",
      "  FETCH_HEAD\n",
      "Dir:  ./.git/info\n",
      "   exclude\n",
      "Dir:  ./.git/hooks\n",
      "   pre-push.sample\n",
      "   prepare-commit-msg.sample\n",
      "   commit-msg.sample\n",
      "   pre-commit.sample\n",
      "   pre-rebase.sample\n",
      "   pre-receive.sample\n",
      "   pre-applypatch.sample\n",
      "   applypatch-msg.sample\n",
      "   update.sample\n",
      "   fsmonitor-watchman.sample\n",
      "   post-update.sample\n",
      "Dir:  ./.git/logs\n",
      "   HEAD\n",
      "Dir:  ./.git/logs/refs\n",
      "Dir:  ./.git/logs/refs/remotes\n",
      "Dir:  ./.git/logs/refs/remotes/origin\n",
      "      HEAD\n",
      "Dir:  ./.git/logs/refs/heads\n",
      "     master\n",
      "Dir:  ./.git/branches\n",
      "Dir:  ./.git/refs\n",
      "Dir:  ./.git/refs/remotes\n",
      "Dir:  ./.git/refs/remotes/origin\n",
      "     HEAD\n",
      "Dir:  ./.git/refs/tags\n",
      "Dir:  ./.git/refs/heads\n",
      "    master\n",
      "Dir:  ./.git/objects\n",
      "Dir:  ./.git/objects/info\n",
      "Dir:  ./.git/objects/pack\n",
      "    pack-fbb49676949c4dae12e20256285912c637e4758f.pack\n",
      "    pack-fbb49676949c4dae12e20256285912c637e4758f.idx\n",
      "Dir:  ./Quizzes_Assignments_Exams\n",
      "  README.md\n",
      "  Assignment.1.ipynb\n",
      "  grading_key.ipynb\n",
      "  Quiz.1.ipynb\n",
      "Dir:  ./.ipynb_checkpoints\n",
      "  6. Files and OS-checkpoint.ipynb\n",
      "Dir:  ./Labs\n",
      "  Lab.3a.ipynb\n",
      "  Lab.4a.ipynb\n",
      "  Lab.1a.ipynb\n",
      "  Lab.4b.ipynb\n",
      "  Lab5a.ipynb\n",
      "  Lab.2a.ipynb\n"
     ]
    }
   ],
   "source": [
    "## use os.walk\n",
    "\n",
    "for dirName, subdirList, fileList in os.walk('.'):\n",
    "    print(\"Dir: \", dirName)\n",
    "    pad = (\" \"*dirName.count('/'))\n",
    "    for fname in fileList:\n",
    "        print(pad, fname)\n",
    "    #print(\"Subdirs: \", subdirList)"
   ]
  },
  {
   "cell_type": "code",
   "execution_count": 33,
   "metadata": {},
   "outputs": [
    {
     "name": "stdout",
     "output_type": "stream",
     "text": [
      "blahblahblah\n"
     ]
    }
   ],
   "source": [
    "print(\"blah\"*3)"
   ]
  },
  {
   "cell_type": "code",
   "execution_count": 34,
   "metadata": {},
   "outputs": [
    {
     "ename": "KeyError",
     "evalue": "1",
     "output_type": "error",
     "traceback": [
      "\u001b[0;31m---------------------------------------------------------------------------\u001b[0m",
      "\u001b[0;31mKeyError\u001b[0m                                  Traceback (most recent call last)",
      "\u001b[0;32m<ipython-input-34-b48a1c035859>\u001b[0m in \u001b[0;36m<module>\u001b[0;34m\u001b[0m\n\u001b[1;32m      7\u001b[0m \u001b[0;34m\u001b[0m\u001b[0m\n\u001b[1;32m      8\u001b[0m \u001b[0mscount\u001b[0m \u001b[0;34m=\u001b[0m \u001b[0mdict\u001b[0m\u001b[0;34m(\u001b[0m\u001b[0;34m[\u001b[0m\u001b[0;34m]\u001b[0m\u001b[0;34m)\u001b[0m\u001b[0;34m\u001b[0m\u001b[0;34m\u001b[0m\u001b[0m\n\u001b[0;32m----> 9\u001b[0;31m \u001b[0mscount\u001b[0m\u001b[0;34m[\u001b[0m\u001b[0;36m1\u001b[0m\u001b[0;34m]\u001b[0m \u001b[0;34m+=\u001b[0m \u001b[0;36m1\u001b[0m\u001b[0;34m\u001b[0m\u001b[0;34m\u001b[0m\u001b[0m\n\u001b[0m",
      "\u001b[0;31mKeyError\u001b[0m: 1"
     ]
    }
   ],
   "source": [
    "## let's build some code keep track of all different file sizes\n",
    "## in a directory tree\n",
    "\n",
    "## write a procedure that will comb through a directory tree, \n",
    "## and count files by their size. The return value will be a \n",
    "## dictionary (file size in kb, number of files of that type)\n",
    "\n",
    "scount = dict([])\n",
    "scount[1] += 1"
   ]
  },
  {
   "cell_type": "code",
   "execution_count": 35,
   "metadata": {},
   "outputs": [],
   "source": [
    "scount[1] = 0\n",
    "scount[1] += 1"
   ]
  },
  {
   "cell_type": "code",
   "execution_count": 36,
   "metadata": {},
   "outputs": [
    {
     "name": "stdout",
     "output_type": "stream",
     "text": [
      "{1: 1}\n"
     ]
    }
   ],
   "source": [
    "print(scount)"
   ]
  },
  {
   "cell_type": "code",
   "execution_count": 38,
   "metadata": {},
   "outputs": [],
   "source": [
    "## a cute variant of the dictionary called the defaultdict\n",
    "\n",
    "import collections as co\n",
    "scount = co.defaultdict(int)"
   ]
  },
  {
   "cell_type": "code",
   "execution_count": 39,
   "metadata": {},
   "outputs": [
    {
     "name": "stdout",
     "output_type": "stream",
     "text": [
      "defaultdict(<class 'int'>, {})\n"
     ]
    }
   ],
   "source": [
    "print(scount)"
   ]
  },
  {
   "cell_type": "code",
   "execution_count": 40,
   "metadata": {},
   "outputs": [
    {
     "name": "stdout",
     "output_type": "stream",
     "text": [
      "defaultdict(<class 'int'>, {1: 1})\n"
     ]
    }
   ],
   "source": [
    "scount[1]+=1\n",
    "print(scount)"
   ]
  },
  {
   "cell_type": "code",
   "execution_count": 54,
   "metadata": {},
   "outputs": [],
   "source": [
    "## run through directory tree, and count files by size. \n",
    "for dirName, subdirList, fileList in os.walk('/'):\n",
    "    for fname in fileList:\n",
    "        ## gives us the fully-qualified filename\n",
    "        fn = os.path.join(dirName, fname)\n",
    "        if dirName == '/proc':\n",
    "            subdirList[:] = []\n",
    "            continue\n",
    "        if os.path.islink(fn)==False:\n",
    "            scount[os.stat(fn).st_size // 1024] += 1"
   ]
  },
  {
   "cell_type": "code",
   "execution_count": 55,
   "metadata": {},
   "outputs": [
    {
     "name": "stdout",
     "output_type": "stream",
     "text": [
      "defaultdict(<class 'int'>, {1: 42734, 36: 392, 14: 2349, 0: 114818, 13: 2380, 15: 2067, 325: 11, 2: 24027, 9: 4756, 31: 676, 41: 298, 4: 1493019, 3: 16511, 430: 4, 7: 6123, 11: 3118, 37: 377, 6: 8383, 28: 594, 80: 92, 639: 6, 20: 1113, 5: 9841, 10: 4492, 17: 1576, 106: 66, 22: 1072, 35: 464, 24: 804, 16: 1940, 8: 5279, 362: 7, 21: 1006, 81: 96, 34: 606, 19: 1226, 53: 170, 48: 251, 130: 46, 12: 2747, 140: 33, 149: 13, 66: 110, 23: 861, 308: 9, 25: 721, 72: 95, 94: 72, 147: 20, 65: 131, 113: 41, 122: 44, 481: 3, 261: 12, 111: 47, 47: 244, 227: 9, 151: 35, 363: 5, 323: 9, 40: 301, 56: 156, 159: 19, 45: 255, 27: 667, 191: 11, 26: 761, 43: 264, 32: 527, 356: 7, 54: 195, 89: 60, 73: 104, 33: 517, 177: 15, 57: 131, 30: 715, 38: 412, 196: 11, 212: 15, 69: 118, 117: 62, 124: 36, 263: 11, 120: 38, 60: 156, 463: 5, 85: 106, 146: 30, 29: 571, 61: 142, 218: 15, 224: 7, 87: 77, 213: 12, 152: 15, 250: 19, 158: 21, 55: 144, 232: 13, 178: 13, 270: 11, 226: 15, 277: 19, 161: 71, 143: 25, 247: 9, 268: 9, 280: 7, 88: 74, 219: 11, 266: 32, 211: 26, 103: 59, 239: 24, 139: 44, 258: 7, 185: 19, 142: 29, 184: 7, 162: 29, 228: 19, 195: 11, 82: 73, 95: 85, 144: 19, 283: 17, 183: 16, 318: 7, 317: 3, 164: 17, 333: 9, 2193: 3, 2364: 3, 379: 6, 707: 6, 328: 7, 378: 9, 296: 5, 1317: 6, 1112: 6, 123: 33, 885: 3, 613: 7, 83: 69, 51: 176, 285: 7, 62: 152, 449: 3, 133: 35, 64: 179, 32768: 6, 256: 13, 18: 1504, 166: 34, 746: 3, 6679: 4, 52006: 4, 118: 52, 986: 14, 44: 294, 2608: 9, 98: 54, 74: 115, 240: 22, 710: 4, 119: 39, 16470: 3, 114: 51, 42: 377, 17939: 3, 131: 51, 540: 3, 202: 11, 141: 22, 46: 267, 304: 4, 150: 26, 186: 16, 407: 8, 1660: 4, 121: 44, 70: 99, 524: 4, 453: 8, 274: 14, 1128: 4, 1982: 4, 684: 3, 316: 6, 332: 10, 137: 26, 287: 18, 78: 97, 198: 32, 306: 17, 58: 209, 138: 29, 99: 60, 207: 10, 101: 48, 466: 6, 67: 147, 109: 71, 59: 155, 49: 208, 167: 24, 39: 406, 157: 30, 156: 16, 181: 16, 71: 102, 252: 24, 132: 28, 84: 56, 371: 12, 155: 18, 223: 10, 269: 8, 52: 191, 204: 16, 267: 20, 79: 68, 153: 18, 390: 2, 235: 10, 154: 24, 509: 2, 90: 75, 217: 18, 3370: 2, 935: 2, 387: 6, 701: 2, 2187: 2, 75: 104, 91: 48, 1078: 2, 96: 45, 1425: 2, 125: 46, 174: 41, 68: 108, 200: 12, 1473: 4, 1124: 2, 1282: 12, 1465: 2, 1624: 2, 1261: 2, 86: 82, 172: 2, 93: 78, 129: 44, 128: 31, 135: 40, 505: 2, 1330: 2, 180: 20, 301: 8, 127: 30, 97: 54, 50: 264, 107: 62, 112: 48, 126: 47, 349: 18, 468: 2, 110: 58, 116: 49, 76: 74, 1694: 2, 105: 53, 92: 80, 342: 6, 357: 4, 845: 2, 182: 2, 201: 10, 472: 2, 214: 7, 319: 14, 346: 4, 507: 2, 63: 189, 1023: 2, 193: 16, 165: 30, 221: 10, 77: 89, 220: 8, 394: 8, 236: 22, 259: 25, 100: 44, 275: 8, 206: 10, 208: 8, 168: 20, 136: 16, 148: 8, 248: 4, 311: 12, 555: 2, 581: 6, 145: 26, 1182: 4, 104: 52, 2483: 6, 2481: 2, 2488: 4, 2233: 2, 238: 6, 230: 16, 400: 2, 2871: 2, 3068: 2, 169: 22, 187: 16, 115: 34, 222: 12, 160: 14, 134: 36, 102: 82, 292: 20, 310: 12, 309: 26, 299: 6, 293: 12, 294: 10, 290: 10, 291: 6, 302: 10, 298: 12, 348: 6, 345: 5, 360: 4, 347: 8, 343: 4, 339: 4, 370: 8, 260: 10, 372: 2, 385: 2, 353: 4, 340: 2, 338: 6, 412: 2, 331: 4, 350: 2, 336: 14, 389: 8, 414: 6, 402: 2, 108: 32, 515: 6, 582: 4, 587: 4, 519: 6, 512: 2, 716: 2, 272: 4, 508: 4, 254: 15, 879: 4, 273: 6, 698: 2, 216: 21, 774: 2, 673: 2, 648: 4, 812: 2, 797: 2, 781: 2, 3119: 2, 739: 2, 324: 8, 689: 2, 642: 2, 617: 2, 670: 2, 660: 2, 614: 4, 676: 4, 680: 2, 697: 2, 692: 2, 646: 4, 681: 2, 667: 4, 645: 2, 606: 6, 632: 2, 572: 2, 3938: 2, 233: 8, 237: 20, 691: 2, 604: 2, 583: 6, 607: 2, 344: 6, 376: 2, 171: 14, 563: 4, 424: 2, 289: 2, 658: 4, 668: 2, 173: 10, 175: 26, 215: 8, 170: 18, 210: 10, 558: 6, 205: 14, 559: 2, 1168: 2, 203: 10, 249: 6, 1176: 2, 303: 4, 403: 6, 163: 10, 429: 2, 197: 14, 526: 2, 176: 10, 209: 14, 231: 6, 506: 2, 447: 8, 401: 4, 562: 6, 1821: 2, 501: 2, 192: 8, 569: 2, 2195: 2, 354: 4, 780: 2, 2647: 2, 190: 14, 243: 14, 445: 4, 2204: 2, 1734: 2, 1565: 2, 245: 10, 721: 2, 960: 2, 246: 10, 2933: 2, 355: 6, 23046: 2, 1988: 2, 4667: 2, 792: 2, 20797: 2, 2856: 2, 665: 2, 556: 2, 872: 2, 21730: 2, 847: 2, 564: 4, 3649: 2, 22496: 2, 413: 3, 428: 6, 1557: 2, 514: 14, 1526: 2, 1763: 2, 1423: 2, 1699: 2, 1208: 2, 489: 2, 16031: 2, 1291: 2, 1728: 2, 482: 4, 2638: 2, 33333: 2, 486: 2, 179: 8, 460: 4, 1580: 2, 2823: 2, 1383: 2, 322: 8, 320: 2, 2694: 2, 554: 2, 59649: 2, 1914: 2, 416: 2, 511: 4, 630: 2, 1247: 2, 462: 2, 4616: 2, 856: 2, 970: 2, 423: 2, 498: 2, 1134: 2, 26273: 2, 1107: 2, 255: 8, 3486: 2, 1167: 2, 557: 2, 1750: 2, 941: 2, 1559: 2, 718: 2, 415: 4, 1369: 4, 2302: 2, 560: 2, 2054: 2, 2690: 2, 1791: 2, 314: 6, 194: 8, 2034: 2, 334: 2, 234: 14, 7174: 2, 1057: 2, 722: 2, 1697: 2, 337: 12, 305: 2, 474: 4, 410: 10, 704: 4, 4577: 2, 3430: 2, 1028: 2, 461: 2, 1651: 2, 2695: 2, 598: 4, 1046: 2, 1132: 2, 980: 2, 5349: 2, 1327: 2, 6102: 2, 396: 2, 2515: 2, 321: 2, 457: 6, 531: 6, 949: 4, 1398: 2, 2354: 2, 358: 2, 2682: 2, 1974: 2, 2042: 2, 533: 4, 341: 2, 265: 14, 189: 12, 565: 4, 542: 4, 264: 18, 9063: 10, 11111: 16, 1481: 2, 377: 4, 20221: 2, 19683: 2, 262: 8, 659: 2, 1274: 10, 1334: 4, 1294: 2, 1314: 2, 1286: 2, 2288: 4, 1322: 2, 1331: 2, 36305: 2, 37091: 2, 628: 2, 391: 2, 426: 2, 768: 2, 2924: 4, 2380: 4, 1038: 8, 827: 8, 8833: 4, 7307: 4, 513: 12, 2308: 4, 890: 4, 1071: 4, 9675: 4, 2954: 4, 11252: 4, 433: 18, 388: 4, 4242: 4, 1849: 8, 1865: 4, 329: 6, 537: 4, 397: 4, 276: 22, 3821: 4, 7122: 4, 7140: 4, 5162: 4, 6700: 8, 677: 4, 1558: 4, 327: 4, 442: 6, 375: 6, 188: 8, 610: 6, 626: 8, 948: 4, 1265: 4, 427: 8, 253: 8, 744: 4, 386: 4, 861: 4, 257: 12, 719: 6, 1065: 4, 229: 5, 527: 8, 365: 4, 1054: 4, 419: 4, 929: 4, 518: 4, 286: 18, 251: 22, 242: 4, 241: 20, 408: 10, 724: 4, 1935: 4, 1904: 2, 405: 2, 497: 4, 597: 2, 690: 2, 655: 2, 766: 2, 494: 2, 1229: 2, 544: 4, 1133: 2, 3958: 2, 536: 2, 7277: 2, 1332: 2, 1161: 2, 529: 2, 380: 4, 3770: 2, 2200: 2, 1776: 2, 3506: 2, 359: 6, 467: 4, 361: 4, 2873: 2, 13257: 2, 2836: 2, 16423: 2, 4605: 2, 800: 2, 465: 2, 470: 2, 271: 4, 420: 2, 404: 4, 2758: 2, 16518: 2, 3780: 2, 300: 6, 3815: 2, 366: 2, 3667: 2, 9384: 2, 2532: 2, 897: 2, 711: 2, 813: 2, 13141: 2, 4565: 2, 422: 2, 580: 2, 1459: 2, 3509: 2, 1948: 2, 1283: 2, 485: 4, 1033: 6, 225: 6, 640: 2, 3790: 2, 185212: 2, 441: 4, 437: 6, 28145: 2, 1439: 2, 699: 2, 625: 2, 2432: 4, 773: 2, 2048: 14, 1119: 4, 629: 2, 976: 2, 455: 2, 972: 2, 313: 4, 364: 6, 568: 2, 288: 6, 425: 3, 762: 2, 621: 2, 1224: 2, 566: 4, 602: 2, 713: 2, 1472: 2, 889: 2, 635: 4, 1707: 2, 759: 2, 3164: 2, 809: 2, 406: 2, 440: 2, 3329: 2, 383: 2, 351: 4, 279: 4, 38526: 4, 999: 4, 1544: 2, 4029: 2, 1006: 2, 3079: 2, 1741: 2, 1409: 2, 1527: 2, 2069: 2, 1514: 2, 1197: 2, 244: 2, 2228: 2, 532: 2, 488: 4, 1443: 2, 330: 4, 500: 2, 1684: 2, 983: 2, 443: 4, 654: 2, 552: 4, 438: 2, 1103: 2, 1125: 2, 1850: 2, 444: 2, 1007: 2, 1519: 2, 595: 2, 1427: 2, 966: 2, 521: 2, 452: 2, 971: 2, 1081: 2, 637: 2, 1164: 2, 571: 2, 1445: 2, 1281: 2, 1272: 2, 3156: 2, 753: 2, 877: 2, 504: 2, 431: 2, 1547: 2, 436: 4, 312: 2, 1356: 2, 3109: 2, 551: 2, 609: 2, 612: 2, 1447: 2, 326: 4, 1402: 2, 945: 2, 702: 2, 578: 2, 2197: 2, 741: 2, 2153: 2, 382: 2, 384: 4, 14890: 2, 16376: 2, 2332: 2, 2501: 2, 2738: 2, 520: 2, 393: 2, 796: 2, 2218: 2, 2544: 2, 1187: 2, 1374: 2, 1249: 2, 1448: 2, 886: 2, 1431: 2, 1659: 2, 2025: 2, 1737: 4, 947: 2, 873: 2, 373: 2, 459: 2, 738: 2, 618: 2, 687: 2, 2860: 2, 1298: 2, 10849: 2, 3062: 2, 3612: 2, 315: 2, 1927: 2, 791: 2, 6111: 2, 806: 2, 664: 2, 50644: 2, 307: 2, 4503: 2, 787: 2, 549: 2, 6215: 2, 490: 2, 483: 2, 199: 2, 795: 4, 751: 2, 2843: 2, 3584: 2, 487: 2, 4416: 4, 479: 2, 3063: 2, 503: 2, 895: 2, 608: 2, 1001: 1, 335: 1, 984: 1, 1087: 1, 284: 1, 1091: 1})\n"
     ]
    }
   ],
   "source": [
    "print(scount)"
   ]
  },
  {
   "cell_type": "code",
   "execution_count": 44,
   "metadata": {},
   "outputs": [
    {
     "data": {
      "text/plain": [
       "dict_items([(1, 4), (36, 1), (14, 1), (0, 22), (13, 2), (15, 3), (325, 1), (2, 6), (9, 3), (31, 1), (41, 1), (4, 1), (3, 4), (430, 1), (7, 1), (11, 1), (37, 1), (6, 1)])"
      ]
     },
     "execution_count": 44,
     "metadata": {},
     "output_type": "execute_result"
    }
   ],
   "source": [
    "scount.items()"
   ]
  },
  {
   "cell_type": "code",
   "execution_count": 56,
   "metadata": {},
   "outputs": [],
   "source": [
    "import operator as op\n",
    "## how do you sort dict    print(pad, fileList)\n",
    "ionaries? \n",
    "## convert dict to a list with items() command\n",
    "sortcount = sorted( scount.items(), key=op.itemgetter(1) )"
   ]
  },
  {
   "cell_type": "code",
   "execution_count": 59,
   "metadata": {},
   "outputs": [
    {
     "name": "stdout",
     "output_type": "stream",
     "text": [
      "[(9, 4756), (8, 5279), (7, 6123), (6, 8383), (5, 9841), (3, 16511), (2, 24027), (1, 42734), (0, 114818), (4, 1493019)]\n"
     ]
    }
   ],
   "source": [
    "print(sortcount[-10:])"
   ]
  },
  {
   "cell_type": "code",
   "execution_count": 60,
   "metadata": {},
   "outputs": [],
   "source": [
    "import matplotlib.pyplot as plt\n",
    "%matplotlib inline"
   ]
  },
  {
   "cell_type": "code",
   "execution_count": 66,
   "metadata": {},
   "outputs": [
    {
     "data": {
      "text/plain": [
       "[<matplotlib.lines.Line2D at 0x7ff6349341d0>]"
      ]
     },
     "execution_count": 66,
     "metadata": {},
     "output_type": "execute_result"
    },
    {
     "data": {
      "image/png": "[encoded data removed]",
      "text/plain": [
       "<Figure size 432x288 with 1 Axes>"
      ]
     },
     "metadata": {
      "needs_background": "light"
     },
     "output_type": "display_data"
    }
   ],
   "source": [
    "X = [a[0] for a in sortcount]\n",
    "## list comprehension\n",
    "Y = [a[1] for a in sortcount]\n",
    "plt.plot(X,Y, 'bo')"
   ]
  },
  {
   "cell_type": "markdown",
   "metadata": {},
   "source": [
    "## Experiment:\n",
    "\n",
    "Use dictionaries to compares works of literature. \n",
    "\n",
    "Project Gutenberg webpage w/works of Shakespere. \n",
    "\n",
    "Build dictionaries that keep track of words used in texts. \n",
    "\n",
    "Can compare two books, for novel word usage. \n",
    "\n",
    "Count word usage, how often is a word used? "
   ]
  },
  {
   "cell_type": "code",
   "execution_count": 3,
   "metadata": {},
   "outputs": [],
   "source": [
    "import requests as req\n",
    "hamstr = req.get('https://www.gutenberg.org/ebooks/2265.txt.utf-8').content\n",
    "romstr = req.get('https://www.gutenberg.org/ebooks/1777.txt.utf-8').content\n",
    "S = hamstr.decode(\"utf-8\")\n",
    "R = romstr.decode(\"utf-8\")"
   ]
  },
  {
   "cell_type": "code",
   "execution_count": 14,
   "metadata": {},
   "outputs": [
    {
     "name": "stdout",
     "output_type": "stream",
     "text": [
      "5345 4149\n"
     ]
    }
   ],
   "source": [
    "import string\n",
    "rpun = string.punctuation.replace(\"'\",'')\n",
    "## sets are like lists but have two main differences:\n",
    "## (1) they are unordered\n",
    "## (2) an object can be contained only once \n",
    "def setOfWords(strname):\n",
    "    ## empty set\n",
    "    bset = set()\n",
    "    ## will be a list of every object in strname\n",
    "    ## once split along the spaces\n",
    "    strname = strname.replace('\\r\\n', ' ')\n",
    "    strname = strname.lower()\n",
    "    for c in rpun:\n",
    "        strname = strname.replace(c, ' ')\n",
    "    ln = strname.split(' ')\n",
    "    for w in ln:\n",
    "        bset.add(w)\n",
    "    return(bset)\n",
    "\n",
    "hamwords = setOfWords(S)\n",
    "romwords = setOfWords(R)\n",
    "print(len(hamwords),len(romwords))\n",
    "\n",
    "## TODO: deal with the \\r\\n issue.  deal with contractions"
   ]
  },
  {
   "cell_type": "code",
   "execution_count": 18,
   "metadata": {},
   "outputs": [
    {
     "name": "stdout",
     "output_type": "stream",
     "text": [
      "3714 2518\n"
     ]
    }
   ],
   "source": [
    "hamnov=hamwords.difference(romwords)\n",
    "romnov=romwords.difference(hamwords)\n",
    "print(len(hamnov),len(romnov))"
   ]
  },
  {
   "cell_type": "code",
   "execution_count": 24,
   "metadata": {},
   "outputs": [],
   "source": [
    "## Building a function to count word frequency.\n",
    "def countwords(strname):\n",
    "     ## empty default dict\n",
    "    ct = co.defaultdict(int)\n",
    "    ## will be a list of every object in strname\n",
    "    ## once split along the spaces\n",
    "    strname = strname.replace('\\r\\n', ' ')\n",
    "    strname = strname.lower()\n",
    "    for c in rpun:\n",
    "        strname = strname.replace(c, ' ')\n",
    "    ln = strname.split(' ')\n",
    "    for w in ln:\n",
    "        if w!='':\n",
    "            ct[w]+=1\n",
    "    return(ct)"
   ]
  },
  {
   "cell_type": "code",
   "execution_count": 26,
   "metadata": {},
   "outputs": [],
   "source": [
    "import collections as co\n",
    "import operator as op\n",
    "romct=countwords(R)\n",
    "hamct=countwords(S)\n",
    "romsort=sorted( romct.items() , key=op.itemgetter(1) )\n",
    "hamsort=sorted( romct.items() , key=op.itemgetter(1) )"
   ]
  },
  {
   "cell_type": "code",
   "execution_count": 36,
   "metadata": {},
   "outputs": [
    {
     "name": "stdout",
     "output_type": "stream",
     "text": [
      "least common [('\\ufeff', 1), ('presented', 1), ('cooperation', 1), ('cdroms', 1), ('releases', 1), ('placed', 1), ('has', 1), ('implications', 1), ('cooperate', 1), ('reading', 1)]\n",
      "\n",
      "most common [('in', 329), ('my', 359), ('that', 365), ('is', 384), ('of', 474), ('a', 478), ('i', 575), ('to', 612), ('the', 748), ('and', 780)]\n"
     ]
    }
   ],
   "source": [
    "# print('least common',romsort[0:10],end='\\n\\n')\n",
    "# print('most common',romsort[-10:])"
   ]
  },
  {
   "cell_type": "code",
   "execution_count": null,
   "metadata": {},
   "outputs": [],
   "source": [
    "# print(hamwords)"
   ]
  },
  {
   "cell_type": "markdown",
   "metadata": {},
   "source": [
    "# Part 2: 31/01/2019\n",
    "## Recall:\n",
    "* Dictionaries are pretty dope\n",
    "    * They're useful for storing and calling individual items\n",
    "    * However, they have some limitations, like incrementing an empty dictionary...\n",
    "        * This was resolved with collections.defaultdict\n",
    "* OS module is pretty powerful for going through system data\n",
    "    * You can use it with dictionaries to store the count of file types file sizes, etc.\n",
    "* pulling some books we could compare unique words and the likes"
   ]
  },
  {
   "cell_type": "code",
   "execution_count": null,
   "metadata": {},
   "outputs": [],
   "source": [
    "## Making a stand-alone python program \n",
    "## executable from a command prompt\n",
    "## code will output the 10 most common words from a book given by a http address\n",
    "\n",
    "## python3 wordcount [address]\n",
    "import requests as req\n",
    "import collections as co\n",
    "import operators as op\n",
    "import sys \n",
    "import string\n",
    "def countwords(strname):\n",
    "     ## empty default dict\n",
    "    ct = co.defaultdict(int)\n",
    "    ## will be a list of every object in strname\n",
    "    ## once split along the spaces\n",
    "    strname = strname.replace('\\r\\n', ' ')\n",
    "    strname = strname.lower()\n",
    "    for c in rpun:\n",
    "        strname = strname.replace(c, ' ')\n",
    "    ln = strname.split(' ')\n",
    "    for w in ln:\n",
    "        if w!='':\n",
    "            ct[w]+=1\n",
    "    return(ct)\n",
    "\n",
    "def countWPW(wpstring):\n",
    "    romstr=req.get(wpstring).decode(\"utf-8\")\n",
    "    return(countwords(romstr))\n",
    "\n",
    "## argv variable\n",
    "print(countWPW(sys.argv[1])\n",
    "    \n"
   ]
  }
 ],
 "metadata": {
  "kernelspec": {
   "display_name": "Python 3",
   "language": "python",
   "name": "python3"
  },
  "language_info": {
   "codemirror_mode": {
    "name": "ipython",
    "version": 3
   },
   "file_extension": ".py",
   "mimetype": "text/x-python",
   "name": "python",
   "nbconvert_exporter": "python",
   "pygments_lexer": "ipython3",
   "version": "3.6.7"
  }
 },
 "nbformat": 4,
 "nbformat_minor": 2
}
