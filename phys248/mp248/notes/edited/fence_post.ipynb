{
 "cells": [
  {
   "cell_type": "markdown",
   "metadata": {},
   "source": [
    "# The python fence post problem...\n",
    "\n",
    "Given a set of elements li=\\[a,b,c,d,e,...,n\\]\n",
    "\n",
    "Using a for loop to add them together will leave a nasty surprise at the end..."
   ]
  },
  {
   "cell_type": "code",
   "execution_count": 2,
   "metadata": {},
   "outputs": [
    {
     "name": "stdout",
     "output_type": "stream",
     "text": [
      "55 and 50 and 34 and 63 and 11 and 70 and 2 and 69 and 11 and 33 and "
     ]
    }
   ],
   "source": [
    "import random as r\n",
    "import numpy as np\n",
    "li=[]\n",
    "abc=''\n",
    "for _ in range(10):\n",
    "    li.append(str(r.randint(1,100)))\n",
    "for e in li:\n",
    "    print(e+' and',end=' ')"
   ]
  },
  {
   "cell_type": "markdown",
   "metadata": {},
   "source": [
    "Notice how it trails with an 'and'\n",
    "This can be fixed by using the 'join' method."
   ]
  },
  {
   "cell_type": "code",
   "execution_count": 3,
   "metadata": {},
   "outputs": [
    {
     "data": {
      "text/plain": [
       "'55 and 50 and 34 and 63 and 11 and 70 and 2 and 69 and 11 and 33'"
      ]
     },
     "execution_count": 3,
     "metadata": {},
     "output_type": "execute_result"
    }
   ],
   "source": [
    "' and '.join(li)"
   ]
  },
  {
   "cell_type": "markdown",
   "metadata": {},
   "source": [
    "This does not leave a trailing 'and' as we wanted.\n",
    "\n",
    "Fencepost problem solved."
   ]
  }
 ],
 "metadata": {
  "kernelspec": {
   "display_name": "Python 3",
   "language": "python",
   "name": "python3"
  },
  "language_info": {
   "codemirror_mode": {
    "name": "ipython",
    "version": 3
   },
   "file_extension": ".py",
   "mimetype": "text/x-python",
   "name": "python",
   "nbconvert_exporter": "python",
   "pygments_lexer": "ipython3",
   "version": "3.6.7"
  }
 },
 "nbformat": 4,
 "nbformat_minor": 2
}
